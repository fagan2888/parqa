{
 "cells": [
  {
   "cell_type": "markdown",
   "metadata": {},
   "source": [
    "# Exploring park Inspections"
   ]
  },
  {
   "cell_type": "markdown",
   "metadata": {
    "collapsed": true
   },
   "source": [
    "## Requirements\n",
    "\n",
    "[required python libraries](libraries_list.md)"
   ]
  },
  {
   "cell_type": "markdown",
   "metadata": {},
   "source": [
    "## Data\n",
    "\n",
    "- DPR PIP Inspections aggregated dataset"
   ]
  },
  {
   "cell_type": "markdown",
   "metadata": {},
   "source": [
    "## I. Investigating Inspections time\n",
    "\n",
    "- [Notebook](1_Inspections_time.ipynb)\n",
    "\n",
    "First, we investigated the correlation between inspection result and how much time inspectors spent.\n",
    "\n",
    "- Time attributes happened to be very noisy, so we had to remove every record reporting more than 8 hours of inspection time.\n",
    "- There is a significant difference in time spent for inspections resulted with \"Acceptable\" conditions and \"Unacceptable\" ones. The significance of this was checked with KS2 test and passed it.\n",
    "\n",
    "![status_time](img/inspection_time.png)\n",
    "\n",
    "- Same time, Neither season, nor year, nor borough do not play any significant role in inspection time\n",
    "- Among *failed* inspections, there is positive correlation between time spent and amount of failed features"
   ]
  },
  {
   "cell_type": "markdown",
   "metadata": {},
   "source": [
    "## II. Inspection distribution\n",
    "\n",
    "[Notebook](2_Inspections_Parks_Distribution.ipynb)\n",
    "\n",
    "in this notebook, we continued to explore inspections dataset.\n",
    "- First, we checked the overall distribution of inspections per property for all the boroughs\n",
    "![distr](img/fails_per_park_boro.png)\n",
    "- Second, we checked if there is any correlation between a number of failed inspections and number of complaints - it looks like there is no strict correlation, though (here we used ontology from *311 exploration part* to count calls per park property).\n",
    "![calls](img/inspections_calls.png)\n",
    "- In the end, we decided to check the relation between a number of inspections in total and percentage of failed ones (points were randomly jittered to understand density) which reveals some negative correlation between two parameters.\n",
    "![jitter](img/inspections_total_vs_failed.png)"
   ]
  },
  {
   "cell_type": "markdown",
   "metadata": {
    "collapsed": true
   },
   "source": [
    "## III. Inspection date vs Call date\n",
    "[Notebook](TimeDistribution.ipynb)\n",
    "\n",
    "In this notebook, we checked if there is any relation between calls and inspections made. As there is no pattern find, we can make an assumption that those processes are totally unrelated."
   ]
  },
  {
   "cell_type": "markdown",
   "metadata": {},
   "source": [
    "![general_scatterplot](img/days_before_after_scatter.png)\n",
    "As general scatterplot shows nothing but park calls  periodicity, we created a subplot with inspections whose closest call is within 180 days before or after (half a year)\n",
    "\n",
    "![histagrams](img/days_before_after_histogram.png)\n",
    "![scatterplot](img/days_before_after_scatter2.png)"
   ]
  },
  {
   "cell_type": "markdown",
   "metadata": {},
   "source": [
    "## IV. Calls window"
   ]
  },
  {
   "cell_type": "markdown",
   "metadata": {},
   "source": [
    "[Notebook](4_Inspections_generate_call_windows.ipynb)\n",
    "\n",
    "Attempt was made to collect number of complaints for specific property within the time period prior to inspection\n",
    "Those numbers were then aggregated (summed) to districts, to compare with the total amount of failed inspections per District. However, this didn't help us in our search for patterns.\n",
    "\n",
    "![windows](img/litter_time_window.png)"
   ]
  },
  {
   "cell_type": "markdown",
   "metadata": {},
   "source": [
    "## Notes\n",
    "\n",
    "At the moment, while we failed to find any significant correlation between inspections and calls, we find an interesting pattern of time spent on failing parks. Being significant on it's own, this may lead us to the question, why is that, was it the result of the rigorous inspection for places where something was wrong at the first place, or, for example. what we see is the result of a larger area of the parks, which bring us back to the propensity in quality measurements."
   ]
  },
  {
   "cell_type": "markdown",
   "metadata": {},
   "source": [
    "All this might bring us to new questions, some of them I listed below:\n",
    "- Do the difference in time distribution for park inspections have strong correlation with property area\n",
    "- Why there is specific pattern of inspections per park distribution for Brooklyn and Staten Island\n",
    "- Why we can see negative correlation between number of inspections and percentage of failed ones and can we interpret that as inefficiency in selection of parks to inspect\n",
    "- Can we improve inspection efficiency by reacting to number of calls for the park overpassing specific threshold (might be different for each park)?"
   ]
  },
  {
   "cell_type": "code",
   "execution_count": null,
   "metadata": {
    "collapsed": true
   },
   "outputs": [],
   "source": []
  }
 ],
 "metadata": {
  "kernelspec": {
   "display_name": "Python 2",
   "language": "python",
   "name": "python2"
  },
  "language_info": {
   "codemirror_mode": {
    "name": "ipython",
    "version": 2
   },
   "file_extension": ".py",
   "mimetype": "text/x-python",
   "name": "python",
   "nbconvert_exporter": "python",
   "pygments_lexer": "ipython2",
   "version": "2.7.11"
  }
 },
 "nbformat": 4,
 "nbformat_minor": 0
}
