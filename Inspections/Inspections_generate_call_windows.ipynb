{
 "cells": [
  {
   "cell_type": "markdown",
   "metadata": {},
   "source": [
    "This notebook intended to calculate the correlation between percentage of inspections in the Park District, failed for specific feature, for example, litter, and number of litter-related 311 complains made in the window of N days before inspection for the related park"
   ]
  },
  {
   "cell_type": "code",
   "execution_count": 1,
   "metadata": {
    "collapsed": false
   },
   "outputs": [
    {
     "name": "stdout",
     "output_type": "stream",
     "text": [
      "Populating the interactive namespace from numpy and matplotlib\n"
     ]
    },
    {
     "name": "stderr",
     "output_type": "stream",
     "text": [
      "/Users/casy/anaconda/lib/python2.7/site-packages/matplotlib/__init__.py:855: UserWarning: svg.embed_char_paths is deprecated and replaced with svg.fonttype; please use the latter.\n",
      "  warnings.warn(self.msg_depr % (key, alt_key))\n"
     ]
    }
   ],
   "source": [
    "__author__ = \"me\"\n",
    "__date__ = \"2015_10_13\"\n",
    "\n",
    "%pylab inline\n",
    "import pandas as pd\n",
    "import numpy as np\n",
    "import geopandas as gp\n",
    "\n",
    "import pylab as plt\n",
    "import os\n",
    "\n",
    "import requests\n",
    "s = requests.get(\"https://raw.githubusercontent.com/Casyfill/CUSP_templates/master/Py/fbMatplotlibrc.json\").json()\n",
    "plt.rcParams.update(s)\n"
   ]
  },
  {
   "cell_type": "code",
   "execution_count": 35,
   "metadata": {
    "collapsed": true
   },
   "outputs": [],
   "source": [
    "PARQA = os.getenv('PARQA')\n",
    "path = PARQA + \"data/Input/Parks_Data/PIP_InspectionMain.xlsx\""
   ]
  },
  {
   "cell_type": "markdown",
   "metadata": {},
   "source": [
    "## Reading Data"
   ]
  },
  {
   "cell_type": "code",
   "execution_count": 36,
   "metadata": {
    "collapsed": false
   },
   "outputs": [],
   "source": [
    "df = pd.read_excel(path)"
   ]
  },
  {
   "cell_type": "code",
   "execution_count": 37,
   "metadata": {
    "collapsed": false
   },
   "outputs": [],
   "source": [
    "df = df[(pd.notnull(df.BeginInspection) ) &  (pd.notnull(df.EndInspection))]"
   ]
  },
  {
   "cell_type": "markdown",
   "metadata": {},
   "source": [
    "## Parsing dates"
   ]
  },
  {
   "cell_type": "code",
   "execution_count": 38,
   "metadata": {
    "collapsed": false
   },
   "outputs": [
    {
     "data": {
      "text/html": [
       "<div>\n",
       "<table border=\"1\" class=\"dataframe\">\n",
       "  <thead>\n",
       "    <tr style=\"text-align: right;\">\n",
       "      <th></th>\n",
       "      <th>Prop ID</th>\n",
       "      <th>Season</th>\n",
       "      <th>Round</th>\n",
       "      <th>Date</th>\n",
       "      <th>BeginInspection</th>\n",
       "      <th>EndInspection</th>\n",
       "      <th>Inspection Year</th>\n",
       "      <th>Overall Condition</th>\n",
       "      <th>Cleanliness</th>\n",
       "      <th>VisitorCount</th>\n",
       "      <th>Unacceptable Features</th>\n",
       "      <th>Inspection ID</th>\n",
       "    </tr>\n",
       "  </thead>\n",
       "  <tbody>\n",
       "    <tr>\n",
       "      <th>0</th>\n",
       "      <td>M010-ZN08</td>\n",
       "      <td>Summer</td>\n",
       "      <td>2</td>\n",
       "      <td>2015-06-30</td>\n",
       "      <td>12:29:00</td>\n",
       "      <td>13:24:00</td>\n",
       "      <td>2015</td>\n",
       "      <td>A</td>\n",
       "      <td>A</td>\n",
       "      <td>60</td>\n",
       "      <td>SW</td>\n",
       "      <td>97371</td>\n",
       "    </tr>\n",
       "    <tr>\n",
       "      <th>1</th>\n",
       "      <td>M010-143</td>\n",
       "      <td>Summer</td>\n",
       "      <td>2</td>\n",
       "      <td>2015-06-30</td>\n",
       "      <td>13:40:00</td>\n",
       "      <td>13:57:00</td>\n",
       "      <td>2015</td>\n",
       "      <td>A</td>\n",
       "      <td>A</td>\n",
       "      <td>7</td>\n",
       "      <td>NaN</td>\n",
       "      <td>97370</td>\n",
       "    </tr>\n",
       "  </tbody>\n",
       "</table>\n",
       "</div>"
      ],
      "text/plain": [
       "     Prop ID  Season  Round       Date BeginInspection EndInspection  \\\n",
       "0  M010-ZN08  Summer      2 2015-06-30        12:29:00      13:24:00   \n",
       "1   M010-143  Summer      2 2015-06-30        13:40:00      13:57:00   \n",
       "\n",
       "   Inspection Year Overall Condition Cleanliness  VisitorCount  \\\n",
       "0             2015                 A           A            60   \n",
       "1             2015                 A           A             7   \n",
       "\n",
       "  Unacceptable Features  Inspection ID  \n",
       "0                    SW          97371  \n",
       "1                   NaN          97370  "
      ]
     },
     "execution_count": 38,
     "metadata": {},
     "output_type": "execute_result"
    }
   ],
   "source": [
    "df.head(2)"
   ]
  },
  {
   "cell_type": "code",
   "execution_count": 39,
   "metadata": {
    "collapsed": false
   },
   "outputs": [],
   "source": [
    "df.Date = pd.to_datetime(df.Date, format='%Y-%m-%d')"
   ]
  },
  {
   "cell_type": "code",
   "execution_count": 40,
   "metadata": {
    "collapsed": false
   },
   "outputs": [
    {
     "data": {
      "text/html": [
       "<div>\n",
       "<table border=\"1\" class=\"dataframe\">\n",
       "  <thead>\n",
       "    <tr style=\"text-align: right;\">\n",
       "      <th></th>\n",
       "      <th>Prop ID</th>\n",
       "      <th>Season</th>\n",
       "      <th>Round</th>\n",
       "      <th>Date</th>\n",
       "      <th>BeginInspection</th>\n",
       "      <th>EndInspection</th>\n",
       "      <th>Inspection Year</th>\n",
       "      <th>Overall Condition</th>\n",
       "      <th>Cleanliness</th>\n",
       "      <th>VisitorCount</th>\n",
       "      <th>Unacceptable Features</th>\n",
       "      <th>Inspection ID</th>\n",
       "    </tr>\n",
       "  </thead>\n",
       "  <tbody>\n",
       "    <tr>\n",
       "      <th>0</th>\n",
       "      <td>M010-ZN08</td>\n",
       "      <td>Summer</td>\n",
       "      <td>2</td>\n",
       "      <td>2015-06-30</td>\n",
       "      <td>12:29:00</td>\n",
       "      <td>13:24:00</td>\n",
       "      <td>2015</td>\n",
       "      <td>A</td>\n",
       "      <td>A</td>\n",
       "      <td>60</td>\n",
       "      <td>SW</td>\n",
       "      <td>97371</td>\n",
       "    </tr>\n",
       "    <tr>\n",
       "      <th>1</th>\n",
       "      <td>M010-143</td>\n",
       "      <td>Summer</td>\n",
       "      <td>2</td>\n",
       "      <td>2015-06-30</td>\n",
       "      <td>13:40:00</td>\n",
       "      <td>13:57:00</td>\n",
       "      <td>2015</td>\n",
       "      <td>A</td>\n",
       "      <td>A</td>\n",
       "      <td>7</td>\n",
       "      <td>NaN</td>\n",
       "      <td>97370</td>\n",
       "    </tr>\n",
       "    <tr>\n",
       "      <th>2</th>\n",
       "      <td>B065-ZN10</td>\n",
       "      <td>Summer</td>\n",
       "      <td>2</td>\n",
       "      <td>2015-06-30</td>\n",
       "      <td>11:45:00</td>\n",
       "      <td>12:25:00</td>\n",
       "      <td>2015</td>\n",
       "      <td>U</td>\n",
       "      <td>U</td>\n",
       "      <td>29</td>\n",
       "      <td>LI, WD</td>\n",
       "      <td>97369</td>\n",
       "    </tr>\n",
       "    <tr>\n",
       "      <th>3</th>\n",
       "      <td>B169-ZN05B</td>\n",
       "      <td>Summer</td>\n",
       "      <td>2</td>\n",
       "      <td>2015-06-30</td>\n",
       "      <td>10:45:00</td>\n",
       "      <td>11:30:00</td>\n",
       "      <td>2015</td>\n",
       "      <td>A</td>\n",
       "      <td>A</td>\n",
       "      <td>233</td>\n",
       "      <td>NaN</td>\n",
       "      <td>97368</td>\n",
       "    </tr>\n",
       "    <tr>\n",
       "      <th>4</th>\n",
       "      <td>M010-ZN10&amp;11</td>\n",
       "      <td>Summer</td>\n",
       "      <td>2</td>\n",
       "      <td>2015-06-30</td>\n",
       "      <td>11:00:00</td>\n",
       "      <td>12:23:00</td>\n",
       "      <td>2015</td>\n",
       "      <td>A</td>\n",
       "      <td>A</td>\n",
       "      <td>55</td>\n",
       "      <td>LW</td>\n",
       "      <td>97367</td>\n",
       "    </tr>\n",
       "  </tbody>\n",
       "</table>\n",
       "</div>"
      ],
      "text/plain": [
       "        Prop ID  Season  Round       Date BeginInspection EndInspection  \\\n",
       "0     M010-ZN08  Summer      2 2015-06-30        12:29:00      13:24:00   \n",
       "1      M010-143  Summer      2 2015-06-30        13:40:00      13:57:00   \n",
       "2     B065-ZN10  Summer      2 2015-06-30        11:45:00      12:25:00   \n",
       "3    B169-ZN05B  Summer      2 2015-06-30        10:45:00      11:30:00   \n",
       "4  M010-ZN10&11  Summer      2 2015-06-30        11:00:00      12:23:00   \n",
       "\n",
       "   Inspection Year Overall Condition Cleanliness  VisitorCount  \\\n",
       "0             2015                 A           A            60   \n",
       "1             2015                 A           A             7   \n",
       "2             2015                 U           U            29   \n",
       "3             2015                 A           A           233   \n",
       "4             2015                 A           A            55   \n",
       "\n",
       "  Unacceptable Features  Inspection ID  \n",
       "0                    SW          97371  \n",
       "1                   NaN          97370  \n",
       "2                LI, WD          97369  \n",
       "3                   NaN          97368  \n",
       "4                    LW          97367  "
      ]
     },
     "execution_count": 40,
     "metadata": {},
     "output_type": "execute_result"
    }
   ],
   "source": []
  },
  {
   "cell_type": "code",
   "execution_count": 9,
   "metadata": {
    "collapsed": false
   },
   "outputs": [],
   "source": [
    "# g = df[['Date','Prop ID','Overall Condition']].groupby('Prop ID').agg(lambda x: x.tolist()).reset_index()\n",
    "# g.head(2)"
   ]
  },
  {
   "cell_type": "code",
   "execution_count": 10,
   "metadata": {
    "collapsed": true
   },
   "outputs": [],
   "source": [
    "def inRange(d, inspection, marginDays=7):\n",
    "    '''tells if date is withing margin before the inspection'''\n",
    "    return inspection - datetime.timedelta(days = marginDays) <=  d <= inspection"
   ]
  },
  {
   "cell_type": "code",
   "execution_count": 11,
   "metadata": {
    "collapsed": true
   },
   "outputs": [],
   "source": [
    "### ADD PROP ID to each call trhough calls\n",
    "### aggregate Calls to Those ratings"
   ]
  },
  {
   "cell_type": "code",
   "execution_count": 43,
   "metadata": {
    "collapsed": false
   },
   "outputs": [],
   "source": [
    "inspections = df[['Prop ID','Date', 'Overall Condition', 'Cleanliness','Unacceptable Features']]\n"
   ]
  },
  {
   "cell_type": "markdown",
   "metadata": {},
   "source": [
    "## Read matched Calls"
   ]
  },
  {
   "cell_type": "code",
   "execution_count": 15,
   "metadata": {
    "collapsed": true
   },
   "outputs": [],
   "source": [
    "lcalls = pd.read_csv(PARQA + 'data/311/311_rPID_litter.csv',index_col=0)[['rParkID','Created Date',]]"
   ]
  },
  {
   "cell_type": "code",
   "execution_count": 17,
   "metadata": {
    "collapsed": true
   },
   "outputs": [],
   "source": [
    "lcalls['Created Date'] = pd.to_datetime(lcalls['Created Date'])"
   ]
  },
  {
   "cell_type": "code",
   "execution_count": 18,
   "metadata": {
    "collapsed": false
   },
   "outputs": [
    {
     "data": {
      "text/html": [
       "<div>\n",
       "<table border=\"1\" class=\"dataframe\">\n",
       "  <thead>\n",
       "    <tr style=\"text-align: right;\">\n",
       "      <th></th>\n",
       "      <th>rParkID</th>\n",
       "      <th>Created Date</th>\n",
       "    </tr>\n",
       "  </thead>\n",
       "  <tbody>\n",
       "    <tr>\n",
       "      <th>163</th>\n",
       "      <td>M219</td>\n",
       "      <td>2010-12-25 01:47:32</td>\n",
       "    </tr>\n",
       "    <tr>\n",
       "      <th>170</th>\n",
       "      <td>M042-ZN06</td>\n",
       "      <td>2010-12-23 15:30:49</td>\n",
       "    </tr>\n",
       "    <tr>\n",
       "      <th>228</th>\n",
       "      <td>M219</td>\n",
       "      <td>2010-12-20 11:08:40</td>\n",
       "    </tr>\n",
       "    <tr>\n",
       "      <th>229</th>\n",
       "      <td>X104-03</td>\n",
       "      <td>2010-12-20 10:36:16</td>\n",
       "    </tr>\n",
       "    <tr>\n",
       "      <th>230</th>\n",
       "      <td>X104-02</td>\n",
       "      <td>2010-12-20 10:36:16</td>\n",
       "    </tr>\n",
       "  </tbody>\n",
       "</table>\n",
       "</div>"
      ],
      "text/plain": [
       "       rParkID        Created Date\n",
       "163       M219 2010-12-25 01:47:32\n",
       "170  M042-ZN06 2010-12-23 15:30:49\n",
       "228       M219 2010-12-20 11:08:40\n",
       "229    X104-03 2010-12-20 10:36:16\n",
       "230    X104-02 2010-12-20 10:36:16"
      ]
     },
     "execution_count": 18,
     "metadata": {},
     "output_type": "execute_result"
    }
   ],
   "source": [
    "lcalls.head()"
   ]
  },
  {
   "cell_type": "code",
   "execution_count": 113,
   "metadata": {
    "collapsed": false
   },
   "outputs": [],
   "source": [
    "def countCalls(z, d = 7):\n",
    "    acalls = lcalls[lcalls.rParkID==z['Prop ID']]\n",
    "\n",
    "    inD = lcalls['Created Date'].apply(lambda x: inRange(x,z.Date, marginDays=d))\n",
    "#     print '!'\n",
    "    return len(acalls[inD])"
   ]
  },
  {
   "cell_type": "code",
   "execution_count": null,
   "metadata": {
    "collapsed": true
   },
   "outputs": [],
   "source": [
    "#### THIS TAKES TONS OF TIME: BEWARE!!  ########\n",
    "cl_inspections = inspections[inspections['Cleanliness']=='U']"
   ]
  },
  {
   "cell_type": "code",
   "execution_count": 114,
   "metadata": {
    "collapsed": false
   },
   "outputs": [
    {
     "name": "stderr",
     "output_type": "stream",
     "text": [
      "/Users/casy/anaconda/lib/python2.7/site-packages/ipykernel/__main__.py:3: SettingWithCopyWarning: \n",
      "A value is trying to be set on a copy of a slice from a DataFrame.\n",
      "Try using .loc[row_indexer,col_indexer] = value instead\n",
      "\n",
      "See the caveats in the documentation: http://pandas.pydata.org/pandas-docs/stable/indexing.html#indexing-view-versus-copy\n",
      "  app.launch_new_instance()\n"
     ]
    }
   ],
   "source": [
    "cl_inspections['weekCalls'] = cl_inspections.apply(countCalls, axis=1)"
   ]
  },
  {
   "cell_type": "code",
   "execution_count": 115,
   "metadata": {
    "collapsed": false
   },
   "outputs": [
    {
     "name": "stderr",
     "output_type": "stream",
     "text": [
      "/Users/casy/anaconda/lib/python2.7/site-packages/ipykernel/__main__.py:2: SettingWithCopyWarning: \n",
      "A value is trying to be set on a copy of a slice from a DataFrame.\n",
      "Try using .loc[row_indexer,col_indexer] = value instead\n",
      "\n",
      "See the caveats in the documentation: http://pandas.pydata.org/pandas-docs/stable/indexing.html#indexing-view-versus-copy\n",
      "  from ipykernel import kernelapp as app\n"
     ]
    }
   ],
   "source": [
    "#### THIS TAKES TONS OF TIME: BEWARE!!  ########\n",
    "cl_inspections['monthCalls'] = cl_inspections.apply(lambda x: countCalls(x,d=30), axis=1)"
   ]
  },
  {
   "cell_type": "markdown",
   "metadata": {},
   "source": [
    "## Aggregating to Districts"
   ]
  },
  {
   "cell_type": "code",
   "execution_count": 70,
   "metadata": {
    "collapsed": false
   },
   "outputs": [],
   "source": [
    "# inspections['l_calls'] = inspections.apply(countCalls, axis=1)"
   ]
  },
  {
   "cell_type": "code",
   "execution_count": 117,
   "metadata": {
    "collapsed": false
   },
   "outputs": [],
   "source": [
    "distrs = pd.read_csv(PARQA + '/data/PID_PDistr.csv', index_col=0)"
   ]
  },
  {
   "cell_type": "code",
   "execution_count": 118,
   "metadata": {
    "collapsed": false
   },
   "outputs": [
    {
     "data": {
      "text/html": [
       "<div>\n",
       "<table border=\"1\" class=\"dataframe\">\n",
       "  <thead>\n",
       "    <tr style=\"text-align: right;\">\n",
       "      <th></th>\n",
       "      <th>Prop ID</th>\n",
       "      <th>distr</th>\n",
       "    </tr>\n",
       "  </thead>\n",
       "  <tbody>\n",
       "    <tr>\n",
       "      <th>0</th>\n",
       "      <td>B001</td>\n",
       "      <td>B-01</td>\n",
       "    </tr>\n",
       "    <tr>\n",
       "      <th>20</th>\n",
       "      <td>B002</td>\n",
       "      <td>B-18</td>\n",
       "    </tr>\n",
       "    <tr>\n",
       "      <th>45</th>\n",
       "      <td>B003</td>\n",
       "      <td>B-19</td>\n",
       "    </tr>\n",
       "    <tr>\n",
       "      <th>67</th>\n",
       "      <td>B006</td>\n",
       "      <td>B-03</td>\n",
       "    </tr>\n",
       "    <tr>\n",
       "      <th>78</th>\n",
       "      <td>B007</td>\n",
       "      <td>B-11</td>\n",
       "    </tr>\n",
       "  </tbody>\n",
       "</table>\n",
       "</div>"
      ],
      "text/plain": [
       "   Prop ID distr\n",
       "0     B001  B-01\n",
       "20    B002  B-18\n",
       "45    B003  B-19\n",
       "67    B006  B-03\n",
       "78    B007  B-11"
      ]
     },
     "execution_count": 118,
     "metadata": {},
     "output_type": "execute_result"
    }
   ],
   "source": [
    "distrs.head()"
   ]
  },
  {
   "cell_type": "code",
   "execution_count": 129,
   "metadata": {
    "collapsed": false
   },
   "outputs": [],
   "source": [
    "inspPerDistrict = pd.DataFrame(inspections.merge(distrs, how='left', on= 'Prop ID').distr.value_counts())\n",
    "fInspPerDistrict = pd.DataFrame(cl_inspections.merge(distrs, how='left', on= 'Prop ID').distr.value_counts())"
   ]
  },
  {
   "cell_type": "code",
   "execution_count": 122,
   "metadata": {
    "collapsed": false
   },
   "outputs": [],
   "source": [
    "callsPerDistrict = cl_inspections.merge(distrs, how='left', on='Prop ID')[['distr','monthCalls','weekCalls']].groupby('distr').agg(sum)"
   ]
  },
  {
   "cell_type": "code",
   "execution_count": 125,
   "metadata": {
    "collapsed": true
   },
   "outputs": [],
   "source": [
    "r = pd.concat([cl_inspections, inspPerDistrict, fInspPerDistrict ],axis=1)"
   ]
  },
  {
   "cell_type": "code",
   "execution_count": 132,
   "metadata": {
    "collapsed": false
   },
   "outputs": [],
   "source": [
    "r.columns = ['monthCalls','weekCalls','total','failed']\n",
    "r['percent'] = 100.0*r.failed/r.total"
   ]
  },
  {
   "cell_type": "code",
   "execution_count": 137,
   "metadata": {
    "collapsed": false
   },
   "outputs": [
    {
     "data": {
      "image/png": "[encoded data removed]",
      "text/plain": [
       "<matplotlib.figure.Figure at 0x113b90c50>"
      ]
     },
     "metadata": {},
     "output_type": "display_data"
    }
   ],
   "source": [
    "fig, axes = plt.subplots(1,2, figsize=(18,8))\n",
    "\n",
    "r.plot(kind='scatter', x='percent',y='weekCalls',ax=axes[0],title='week', s=60);\n",
    "r.plot(kind='scatter', x='percent',y='monthCalls',ax=axes[1],title='month', s=60);"
   ]
  },
  {
   "cell_type": "markdown",
   "metadata": {},
   "source": [
    "## Litter specificly"
   ]
  },
  {
   "cell_type": "code",
   "execution_count": 146,
   "metadata": {
    "collapsed": true
   },
   "outputs": [],
   "source": [
    "litter = pd.read_csv(PARQA + \"data/All_Inspections.csv\",index_col=0)\n",
    "litter = litter[litter.Litter==1]\n",
    "litter.Date = pd.to_datetime(litter.Date, format='%Y-%m-%d')\n"
   ]
  },
  {
   "cell_type": "code",
   "execution_count": 147,
   "metadata": {
    "collapsed": false
   },
   "outputs": [
    {
     "data": {
      "text/plain": [
       "Index([u'Prop ID', u'PropNum', u'Boro', u'GISBoro', u'District', u'Prop Name',\n",
       "       u'Site Name', u'Prop Location', u'Site Location', u'ACRES', u'Category',\n",
       "       u'Sub-Category', u'Comments', u'Rated', u'Reason Not Rated',\n",
       "       u'Sub-Properties Rated', u'Sub-Property', u'COMMUNITYBOARD',\n",
       "       u'TypeCategory', u'Season', u'Round', u'Date', u'BeginInspection',\n",
       "       u'EndInspection', u'Inspection Year', u'Overall Condition',\n",
       "       u'Cleanliness', u'VisitorCount', u'Unacceptable Features',\n",
       "       u'Inspection ID', u'PID_base', u'Athletic Fields', u'Benches',\n",
       "       u'Fences', u'Glass', u'Graffiti', u'Horticultural Areas', u'Ice',\n",
       "       u'Lawns', u'Litter', u'Paved Surfaces', u'Play Equipment',\n",
       "       u'Safety Surface', u'Sidewalks', u'Trails', u'Trees', u'Water Bodies',\n",
       "       u'Weeds', u'Adjusted Acres', u'ZIPCODE'],\n",
       "      dtype='object')"
      ]
     },
     "execution_count": 147,
     "metadata": {},
     "output_type": "execute_result"
    }
   ],
   "source": [
    "litter.columns"
   ]
  },
  {
   "cell_type": "code",
   "execution_count": null,
   "metadata": {
    "collapsed": false
   },
   "outputs": [],
   "source": [
    "litter['lweekCalls'] = litter.apply(countCalls, axis=1)\n",
    "litter['monthCalls'] = litter.apply(lambda x: countCalls(x,d=30), axis=1)"
   ]
  },
  {
   "cell_type": "code",
   "execution_count": null,
   "metadata": {
    "collapsed": true
   },
   "outputs": [],
   "source": []
  }
 ],
 "metadata": {
  "kernelspec": {
   "display_name": "Python 2",
   "language": "python",
   "name": "python2"
  },
  "language_info": {
   "codemirror_mode": {
    "name": "ipython",
    "version": 2
   },
   "file_extension": ".py",
   "mimetype": "text/x-python",
   "name": "python",
   "nbconvert_exporter": "python",
   "pygments_lexer": "ipython2",
   "version": "2.7.10"
  }
 },
 "nbformat": 4,
 "nbformat_minor": 0
}
