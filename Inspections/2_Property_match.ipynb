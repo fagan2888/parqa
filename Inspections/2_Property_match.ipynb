{
 "cells": [
  {
   "cell_type": "code",
   "execution_count": 1,
   "metadata": {
    "collapsed": false
   },
   "outputs": [
    {
     "name": "stdout",
     "output_type": "stream",
     "text": [
      "Populating the interactive namespace from numpy and matplotlib\n"
     ]
    },
    {
     "name": "stderr",
     "output_type": "stream",
     "text": [
      "/Users/casy/anaconda/lib/python2.7/site-packages/matplotlib/__init__.py:855: UserWarning: svg.embed_char_paths is deprecated and replaced with svg.fonttype; please use the latter.\n",
      "  warnings.warn(self.msg_depr % (key, alt_key))\n"
     ]
    }
   ],
   "source": [
    "__author__ = \"me\"\n",
    "__date__ = \"2015_10_13\"\n",
    "\n",
    "%pylab inline\n",
    "import pandas as pd\n",
    "import numpy as np\n",
    "import geopandas as gp\n",
    "\n",
    "import pylab as plt\n",
    "import os\n",
    "\n",
    "import requests\n",
    "s = requests.get(\"https://raw.githubusercontent.com/Casyfill/CUSP_templates/master/Py/fbMatplotlibrc.json\").json()\n",
    "plt.rcParams.update(s)\n"
   ]
  },
  {
   "cell_type": "markdown",
   "metadata": {},
   "source": [
    "## PropID"
   ]
  },
  {
   "cell_type": "code",
   "execution_count": 2,
   "metadata": {
    "collapsed": true
   },
   "outputs": [],
   "source": [
    "PARQA = os.getenv('PARQA')"
   ]
  },
  {
   "cell_type": "code",
   "execution_count": 21,
   "metadata": {
    "collapsed": true
   },
   "outputs": [],
   "source": [
    "prop = pd.read_excel(PARQA + 'data/Input/Parks_Data/CUSP_Adjusted_Spatial_Data.xlsx')[['ParkID','Name']]"
   ]
  },
  {
   "cell_type": "code",
   "execution_count": 24,
   "metadata": {
    "collapsed": false
   },
   "outputs": [],
   "source": [
    "prop = prop.dropna()"
   ]
  },
  {
   "cell_type": "code",
   "execution_count": 30,
   "metadata": {
    "collapsed": true
   },
   "outputs": [],
   "source": [
    "def trySplit(x, spl='-'):\n",
    "    if spl in x:\n",
    "        return x.split(spl)[0].strip()\n",
    "    else:\n",
    "        return x"
   ]
  },
  {
   "cell_type": "code",
   "execution_count": 31,
   "metadata": {
    "collapsed": false
   },
   "outputs": [],
   "source": [
    "prop.ParkID = prop.ParkID.apply(trySplit)\n",
    "prop.Name = prop.Name.apply(lambda x: trySplit(x, spl='Zone'))"
   ]
  },
  {
   "cell_type": "code",
   "execution_count": 45,
   "metadata": {
    "collapsed": false
   },
   "outputs": [],
   "source": [
    "prop = prop.drop_duplicates().rename(columns={'Name':'NAME'})\n",
    "prop.NAME = prop.NAME.str.lower()"
   ]
  },
  {
   "cell_type": "code",
   "execution_count": 56,
   "metadata": {
    "collapsed": false
   },
   "outputs": [
    {
     "data": {
      "text/html": [
       "<div>\n",
       "<table border=\"1\" class=\"dataframe\">\n",
       "  <thead>\n",
       "    <tr style=\"text-align: right;\">\n",
       "      <th></th>\n",
       "      <th>ParkID</th>\n",
       "      <th>NAME</th>\n",
       "    </tr>\n",
       "  </thead>\n",
       "  <tbody>\n",
       "    <tr>\n",
       "      <th>28</th>\n",
       "      <td>B159</td>\n",
       "      <td>mt prospect park</td>\n",
       "    </tr>\n",
       "    <tr>\n",
       "      <th>181</th>\n",
       "      <td>X010</td>\n",
       "      <td>prospect park (2)</td>\n",
       "    </tr>\n",
       "    <tr>\n",
       "      <th>347</th>\n",
       "      <td>B073</td>\n",
       "      <td>prospect park west</td>\n",
       "    </tr>\n",
       "    <tr>\n",
       "      <th>350</th>\n",
       "      <td>B073</td>\n",
       "      <td>prospect park southwest upper</td>\n",
       "    </tr>\n",
       "    <tr>\n",
       "      <th>351</th>\n",
       "      <td>B073</td>\n",
       "      <td>prospect park southwest lower</td>\n",
       "    </tr>\n",
       "    <tr>\n",
       "      <th>370</th>\n",
       "      <td>B073</td>\n",
       "      <td>prospect lake near duck island</td>\n",
       "    </tr>\n",
       "    <tr>\n",
       "      <th>371</th>\n",
       "      <td>B073</td>\n",
       "      <td>prospect lake near west island</td>\n",
       "    </tr>\n",
       "    <tr>\n",
       "      <th>1277</th>\n",
       "      <td>B159</td>\n",
       "      <td>mount prospect park</td>\n",
       "    </tr>\n",
       "    <tr>\n",
       "      <th>2066</th>\n",
       "      <td>X148H1</td>\n",
       "      <td>prospect playground</td>\n",
       "    </tr>\n",
       "  </tbody>\n",
       "</table>\n",
       "</div>"
      ],
      "text/plain": [
       "      ParkID                            NAME\n",
       "28      B159                mt prospect park\n",
       "181     X010               prospect park (2)\n",
       "347     B073              prospect park west\n",
       "350     B073   prospect park southwest upper\n",
       "351     B073   prospect park southwest lower\n",
       "370     B073  prospect lake near duck island\n",
       "371     B073  prospect lake near west island\n",
       "1277    B159             mount prospect park\n",
       "2066  X148H1             prospect playground"
      ]
     },
     "execution_count": 56,
     "metadata": {},
     "output_type": "execute_result"
    }
   ],
   "source": [
    "prop[prop.NAME.str.contains('prospect')]"
   ]
  },
  {
   "cell_type": "code",
   "execution_count": null,
   "metadata": {
    "collapsed": true
   },
   "outputs": [],
   "source": [
    "## AGGREGATION"
   ]
  },
  {
   "cell_type": "markdown",
   "metadata": {},
   "source": [
    "## 311 Property Names"
   ]
  },
  {
   "cell_type": "code",
   "execution_count": 40,
   "metadata": {
    "collapsed": true
   },
   "outputs": [],
   "source": [
    "onto = pd.read_csv(PARQA + 'parqa/311/ONTOLOGY/onto_data/Ontology_matched.csv', index_col=0)"
   ]
  },
  {
   "cell_type": "code",
   "execution_count": 47,
   "metadata": {
    "collapsed": false
   },
   "outputs": [],
   "source": [
    "onto1 = onto.merge(prop, on='NAME', how='left')"
   ]
  },
  {
   "cell_type": "code",
   "execution_count": 51,
   "metadata": {
    "collapsed": false
   },
   "outputs": [
    {
     "name": "stdout",
     "output_type": "stream",
     "text": [
      "1793\n"
     ]
    }
   ],
   "source": [
    "print len(onto)"
   ]
  },
  {
   "cell_type": "code",
   "execution_count": 50,
   "metadata": {
    "collapsed": false
   },
   "outputs": [
    {
     "name": "stdout",
     "output_type": "stream",
     "text": [
      "616\n"
     ]
    }
   ],
   "source": [
    "print len(onto1[pd.isnull(onto1.ParkID)])"
   ]
  },
  {
   "cell_type": "code",
   "execution_count": 57,
   "metadata": {
    "collapsed": false
   },
   "outputs": [
    {
     "data": {
      "text/html": [
       "<div>\n",
       "<table border=\"1\" class=\"dataframe\">\n",
       "  <thead>\n",
       "    <tr style=\"text-align: right;\">\n",
       "      <th></th>\n",
       "      <th>cleanName</th>\n",
       "      <th>NAME</th>\n",
       "      <th>Type</th>\n",
       "      <th>valid</th>\n",
       "      <th>parkDistrict</th>\n",
       "      <th>lat</th>\n",
       "      <th>lon</th>\n",
       "      <th>ParkID</th>\n",
       "    </tr>\n",
       "  </thead>\n",
       "  <tbody>\n",
       "    <tr>\n",
       "      <th>9</th>\n",
       "      <td>prospect park - east parade grounds</td>\n",
       "      <td>prospect park</td>\n",
       "      <td>empiric</td>\n",
       "      <td>av</td>\n",
       "      <td>B-19</td>\n",
       "      <td>-73.969682</td>\n",
       "      <td>40.661353</td>\n",
       "      <td>NaN</td>\n",
       "    </tr>\n",
       "    <tr>\n",
       "      <th>10</th>\n",
       "      <td>central park - east 96th street playground</td>\n",
       "      <td>central park</td>\n",
       "      <td>empiric</td>\n",
       "      <td>av</td>\n",
       "      <td>M-13</td>\n",
       "      <td>-73.965558</td>\n",
       "      <td>40.782484</td>\n",
       "      <td>NaN</td>\n",
       "    </tr>\n",
       "    <tr>\n",
       "      <th>14</th>\n",
       "      <td>col david marcus playground</td>\n",
       "      <td>col david marcus mem playground</td>\n",
       "      <td>pgs</td>\n",
       "      <td>av</td>\n",
       "      <td>B-12</td>\n",
       "      <td>-73.969600</td>\n",
       "      <td>40.609700</td>\n",
       "      <td>NaN</td>\n",
       "    </tr>\n",
       "    <tr>\n",
       "      <th>18</th>\n",
       "      <td>mccarren park - vincent v abate playground</td>\n",
       "      <td>vincent v abate playground</td>\n",
       "      <td>pgs</td>\n",
       "      <td>av</td>\n",
       "      <td>B-01</td>\n",
       "      <td>-73.949800</td>\n",
       "      <td>40.721300</td>\n",
       "      <td>NaN</td>\n",
       "    </tr>\n",
       "    <tr>\n",
       "      <th>21</th>\n",
       "      <td>forest park - giovannelli playground</td>\n",
       "      <td>forest park</td>\n",
       "      <td>empiric</td>\n",
       "      <td>av</td>\n",
       "      <td>Q-16</td>\n",
       "      <td>-73.853003</td>\n",
       "      <td>40.702053</td>\n",
       "      <td>NaN</td>\n",
       "    </tr>\n",
       "  </tbody>\n",
       "</table>\n",
       "</div>"
      ],
      "text/plain": [
       "                                     cleanName  \\\n",
       "9          prospect park - east parade grounds   \n",
       "10  central park - east 96th street playground   \n",
       "14                 col david marcus playground   \n",
       "18  mccarren park - vincent v abate playground   \n",
       "21        forest park - giovannelli playground   \n",
       "\n",
       "                               NAME     Type valid parkDistrict        lat  \\\n",
       "9                     prospect park  empiric    av         B-19 -73.969682   \n",
       "10                     central park  empiric    av         M-13 -73.965558   \n",
       "14  col david marcus mem playground      pgs    av         B-12 -73.969600   \n",
       "18       vincent v abate playground      pgs    av         B-01 -73.949800   \n",
       "21                      forest park  empiric    av         Q-16 -73.853003   \n",
       "\n",
       "          lon ParkID  \n",
       "9   40.661353    NaN  \n",
       "10  40.782484    NaN  \n",
       "14  40.609700    NaN  \n",
       "18  40.721300    NaN  \n",
       "21  40.702053    NaN  "
      ]
     },
     "execution_count": 57,
     "metadata": {},
     "output_type": "execute_result"
    }
   ],
   "source": [
    "onto1[pd.isnull(onto1.ParkID)].head()"
   ]
  },
  {
   "cell_type": "code",
   "execution_count": 61,
   "metadata": {
    "collapsed": true
   },
   "outputs": [],
   "source": [
    "onto_r = onto1[pd.notnull(onto1.ParkID)]"
   ]
  },
  {
   "cell_type": "markdown",
   "metadata": {},
   "source": [
    "## Matching calls"
   ]
  },
  {
   "cell_type": "code",
   "execution_count": 60,
   "metadata": {
    "collapsed": false
   },
   "outputs": [
    {
     "name": "stderr",
     "output_type": "stream",
     "text": [
      "/Users/casy/anaconda/lib/python2.7/site-packages/ipykernel/__main__.py:4: SettingWithCopyWarning: \n",
      "A value is trying to be set on a copy of a slice from a DataFrame.\n",
      "Try using .loc[row_indexer,col_indexer] = value instead\n",
      "\n",
      "See the caveats in the documentation: http://pandas.pydata.org/pandas-docs/stable/indexing.html#indexing-view-versus-copy\n"
     ]
    }
   ],
   "source": [
    "calls = pd.read_csv(PARQA + 'data/311/311DPR.csv', encoding='utf8', na_values='Unspecified')\n",
    "\n",
    "myCalls = calls[['Park Facility Name','Descriptor','Created Date','Closed Date','Longitude','Latitude','Location Type', 'Complaint Type']]\n",
    "myCalls['Park Facility Name'] = myCalls['Park Facility Name'].str.lower()\n",
    "myCalls['Park Facility Name'].head()\n",
    "\n",
    "namedCalls = myCalls[pd.notnull(myCalls['Park Facility Name'])]"
   ]
  },
  {
   "cell_type": "code",
   "execution_count": 62,
   "metadata": {
    "collapsed": false
   },
   "outputs": [
    {
     "data": {
      "text/html": [
       "<div>\n",
       "<table border=\"1\" class=\"dataframe\">\n",
       "  <thead>\n",
       "    <tr style=\"text-align: right;\">\n",
       "      <th></th>\n",
       "      <th>Park Facility Name</th>\n",
       "      <th>Descriptor</th>\n",
       "      <th>Created Date</th>\n",
       "      <th>Closed Date</th>\n",
       "      <th>Longitude</th>\n",
       "      <th>Latitude</th>\n",
       "      <th>Location Type</th>\n",
       "      <th>Complaint Type</th>\n",
       "      <th>cleanName</th>\n",
       "      <th>NAME</th>\n",
       "      <th>Type</th>\n",
       "      <th>valid</th>\n",
       "      <th>parkDistrict</th>\n",
       "      <th>lat</th>\n",
       "      <th>lon</th>\n",
       "      <th>ParkID</th>\n",
       "    </tr>\n",
       "  </thead>\n",
       "  <tbody>\n",
       "    <tr>\n",
       "      <th>0</th>\n",
       "      <td>geo soilan park - battery park city</td>\n",
       "      <td>Graffiti or Vandalism</td>\n",
       "      <td>12/31/2010 04:31:52 PM</td>\n",
       "      <td>12/31/2010 05:36:58 PM</td>\n",
       "      <td>NaN</td>\n",
       "      <td>NaN</td>\n",
       "      <td>Park</td>\n",
       "      <td>Maintenance or Facility</td>\n",
       "      <td>geo soilan park - battery park city</td>\n",
       "      <td>battery park city</td>\n",
       "      <td>other</td>\n",
       "      <td>av</td>\n",
       "      <td>M-01</td>\n",
       "      <td>-74.016893</td>\n",
       "      <td>40.711882</td>\n",
       "      <td>M283</td>\n",
       "    </tr>\n",
       "  </tbody>\n",
       "</table>\n",
       "</div>"
      ],
      "text/plain": [
       "                    Park Facility Name             Descriptor  \\\n",
       "0  geo soilan park - battery park city  Graffiti or Vandalism   \n",
       "\n",
       "             Created Date             Closed Date  Longitude  Latitude  \\\n",
       "0  12/31/2010 04:31:52 PM  12/31/2010 05:36:58 PM        NaN       NaN   \n",
       "\n",
       "  Location Type           Complaint Type                            cleanName  \\\n",
       "0          Park  Maintenance or Facility  geo soilan park - battery park city   \n",
       "\n",
       "                NAME   Type valid parkDistrict        lat        lon ParkID  \n",
       "0  battery park city  other    av         M-01 -74.016893  40.711882   M283  "
      ]
     },
     "execution_count": 62,
     "metadata": {},
     "output_type": "execute_result"
    }
   ],
   "source": [
    "ncMatched = namedCalls.merge(onto_r, how='left',left_on='Park Facility Name', right_on='cleanName')\n",
    "ncMatched.head(1)"
   ]
  },
  {
   "cell_type": "code",
   "execution_count": 63,
   "metadata": {
    "collapsed": true
   },
   "outputs": [],
   "source": [
    "ncMatched[['Created Date', 'ParkID','Descriptor','Complaint Type']].to_csv(PARQA + '/data/311/calls_matched_property.csv')"
   ]
  },
  {
   "cell_type": "code",
   "execution_count": null,
   "metadata": {
    "collapsed": true
   },
   "outputs": [],
   "source": []
  }
 ],
 "metadata": {
  "kernelspec": {
   "display_name": "Python 2",
   "language": "python",
   "name": "python2"
  },
  "language_info": {
   "codemirror_mode": {
    "name": "ipython",
    "version": 2
   },
   "file_extension": ".py",
   "mimetype": "text/x-python",
   "name": "python",
   "nbconvert_exporter": "python",
   "pygments_lexer": "ipython2",
   "version": "2.7.10"
  }
 },
 "nbformat": 4,
 "nbformat_minor": 0
}
