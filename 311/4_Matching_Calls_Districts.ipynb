{
 "cells": [
  {
   "cell_type": "code",
   "execution_count": 1,
   "metadata": {
    "collapsed": false
   },
   "outputs": [
    {
     "name": "stdout",
     "output_type": "stream",
     "text": [
      "Populating the interactive namespace from numpy and matplotlib\n"
     ]
    }
   ],
   "source": [
    "# __author__ = \"Philipp Kats\"\n",
    "# __date__ = \"2015_11_05\"\n",
    "%pylab inline\n",
    "import pandas as pd\n",
    "import geopandas as gp\n",
    "import numpy as np\n",
    "\n",
    "from geopandas.tools import sjoin\n",
    "from shapely.geometry import Point\n",
    "\n",
    "import os\n",
    "\n",
    "\n",
    "PARQA = os.getenv('PARQA') #basic path"
   ]
  },
  {
   "cell_type": "code",
   "execution_count": 2,
   "metadata": {
    "collapsed": false
   },
   "outputs": [
    {
     "name": "stderr",
     "output_type": "stream",
     "text": [
      "/Users/casy/anaconda/lib/python2.7/site-packages/IPython/core/interactiveshell.py:2902: DtypeWarning: Columns (18) have mixed types. Specify dtype option on import or set low_memory=False.\n",
      "  interactivity=interactivity, compiler=compiler, result=result)\n"
     ]
    }
   ],
   "source": [
    "calls = pd.read_csv(PARQA + 'data/311/311DPR.csv', encoding='utf8', na_values='Unspecified')\n",
    "# calls = calls.rename(columns={'Longitude':'lon','Latitude':'lat'})"
   ]
  },
  {
   "cell_type": "code",
   "execution_count": 3,
   "metadata": {
    "collapsed": false
   },
   "outputs": [
    {
     "data": {
      "text/plain": [
       "(82590, 54)"
      ]
     },
     "execution_count": 3,
     "metadata": {},
     "output_type": "execute_result"
    }
   ],
   "source": [
    "calls.shape"
   ]
  },
  {
   "cell_type": "code",
   "execution_count": 4,
   "metadata": {
    "collapsed": false
   },
   "outputs": [
    {
     "data": {
      "text/plain": [
       "Index([                    u'Unnamed: 0',                     u'Unique Key',\n",
       "                         u'Created Date',                    u'Closed Date',\n",
       "                               u'Agency',                    u'Agency Name',\n",
       "                       u'Complaint Type',                     u'Descriptor',\n",
       "                        u'Location Type',                   u'Incident Zip',\n",
       "                     u'Incident Address',                    u'Street Name',\n",
       "                       u'Cross Street 1',                 u'Cross Street 2',\n",
       "                u'Intersection Street 1',          u'Intersection Street 2',\n",
       "                         u'Address Type',                           u'City',\n",
       "                             u'Landmark',                  u'Facility Type',\n",
       "                               u'Status',                       u'Due Date',\n",
       "               u'Resolution Description', u'Resolution Action Updated Date',\n",
       "                      u'Community Board',                        u'Borough',\n",
       "           u'X Coordinate (State Plane)',     u'Y Coordinate (State Plane)',\n",
       "                   u'Park Facility Name',                   u'Park Borough',\n",
       "                          u'School Name',                  u'School Number',\n",
       "                        u'School Region',                    u'School Code',\n",
       "                  u'School Phone Number',                 u'School Address',\n",
       "                          u'School City',                   u'School State',\n",
       "                           u'School Zip',               u'School Not Found',\n",
       "         u'School or Citywide Complaint',                   u'Vehicle Type',\n",
       "                 u'Taxi Company Borough',          u'Taxi Pick Up Location',\n",
       "                  u'Bridge Highway Name',       u'Bridge Highway Direction',\n",
       "                            u'Road Ramp',         u'Bridge Highway Segment',\n",
       "                      u'Garage Lot Name',                u'Ferry Direction',\n",
       "                  u'Ferry Terminal Name',                       u'Latitude',\n",
       "                            u'Longitude',                       u'Location'],\n",
       "      dtype='object')"
      ]
     },
     "execution_count": 4,
     "metadata": {},
     "output_type": "execute_result"
    }
   ],
   "source": [
    "calls.columns"
   ]
  },
  {
   "cell_type": "code",
   "execution_count": 5,
   "metadata": {
    "collapsed": false
   },
   "outputs": [
    {
     "name": "stderr",
     "output_type": "stream",
     "text": [
      "/Users/casy/anaconda/lib/python2.7/site-packages/ipykernel/__main__.py:2: SettingWithCopyWarning: \n",
      "A value is trying to be set on a copy of a slice from a DataFrame.\n",
      "Try using .loc[row_indexer,col_indexer] = value instead\n",
      "\n",
      "See the caveats in the documentation: http://pandas.pydata.org/pandas-docs/stable/indexing.html#indexing-view-versus-copy\n",
      "  from ipykernel import kernelapp as app\n"
     ]
    },
    {
     "data": {
      "text/plain": [
       "0                                    NaN\n",
       "1    geo soilan park - battery park city\n",
       "2                        brookville park\n",
       "3                                    NaN\n",
       "4                                    NaN\n",
       "Name: Park Facility Name, dtype: object"
      ]
     },
     "execution_count": 5,
     "metadata": {},
     "output_type": "execute_result"
    }
   ],
   "source": [
    "myCalls = calls[['Park Facility Name','Descriptor','Created Date','Closed Date','Longitude','Latitude','Location Type']]\n",
    "myCalls['Park Facility Name'] = myCalls['Park Facility Name'].str.lower()\n",
    "myCalls['Park Facility Name'].head()"
   ]
  },
  {
   "cell_type": "code",
   "execution_count": 6,
   "metadata": {
    "collapsed": false
   },
   "outputs": [
    {
     "data": {
      "text/html": [
       "<div>\n",
       "<table border=\"1\" class=\"dataframe\">\n",
       "  <thead>\n",
       "    <tr style=\"text-align: right;\">\n",
       "      <th></th>\n",
       "      <th>Park Facility Name</th>\n",
       "      <th>Descriptor</th>\n",
       "      <th>Created Date</th>\n",
       "      <th>Closed Date</th>\n",
       "      <th>Longitude</th>\n",
       "      <th>Latitude</th>\n",
       "      <th>Location Type</th>\n",
       "    </tr>\n",
       "  </thead>\n",
       "  <tbody>\n",
       "    <tr>\n",
       "      <th>0</th>\n",
       "      <td>NaN</td>\n",
       "      <td>Snow or Ice</td>\n",
       "      <td>12/31/2010 09:04:48 PM</td>\n",
       "      <td>01/03/2011 12:03:59 PM</td>\n",
       "      <td>-73.931120</td>\n",
       "      <td>40.668798</td>\n",
       "      <td>Park</td>\n",
       "    </tr>\n",
       "    <tr>\n",
       "      <th>3</th>\n",
       "      <td>NaN</td>\n",
       "      <td>Snow or Ice</td>\n",
       "      <td>12/31/2010 03:36:37 PM</td>\n",
       "      <td>01/03/2011 09:41:24 AM</td>\n",
       "      <td>-73.962835</td>\n",
       "      <td>40.688556</td>\n",
       "      <td>Park</td>\n",
       "    </tr>\n",
       "    <tr>\n",
       "      <th>4</th>\n",
       "      <td>NaN</td>\n",
       "      <td>Snow or Ice</td>\n",
       "      <td>12/31/2010 03:03:16 PM</td>\n",
       "      <td>01/03/2011 12:15:38 PM</td>\n",
       "      <td>-73.999809</td>\n",
       "      <td>40.636935</td>\n",
       "      <td>Park</td>\n",
       "    </tr>\n",
       "    <tr>\n",
       "      <th>6</th>\n",
       "      <td>NaN</td>\n",
       "      <td>Snow or Ice</td>\n",
       "      <td>12/31/2010 12:59:59 PM</td>\n",
       "      <td>01/03/2011 12:23:04 PM</td>\n",
       "      <td>-73.999456</td>\n",
       "      <td>40.609951</td>\n",
       "      <td>Park</td>\n",
       "    </tr>\n",
       "    <tr>\n",
       "      <th>7</th>\n",
       "      <td>NaN</td>\n",
       "      <td>Snow or Ice</td>\n",
       "      <td>12/31/2010 12:12:02 PM</td>\n",
       "      <td>01/03/2011 12:19:51 PM</td>\n",
       "      <td>-73.977616</td>\n",
       "      <td>40.633153</td>\n",
       "      <td>Park</td>\n",
       "    </tr>\n",
       "  </tbody>\n",
       "</table>\n",
       "</div>"
      ],
      "text/plain": [
       "  Park Facility Name   Descriptor            Created Date  \\\n",
       "0                NaN  Snow or Ice  12/31/2010 09:04:48 PM   \n",
       "3                NaN  Snow or Ice  12/31/2010 03:36:37 PM   \n",
       "4                NaN  Snow or Ice  12/31/2010 03:03:16 PM   \n",
       "6                NaN  Snow or Ice  12/31/2010 12:59:59 PM   \n",
       "7                NaN  Snow or Ice  12/31/2010 12:12:02 PM   \n",
       "\n",
       "              Closed Date  Longitude   Latitude Location Type  \n",
       "0  01/03/2011 12:03:59 PM -73.931120  40.668798          Park  \n",
       "3  01/03/2011 09:41:24 AM -73.962835  40.688556          Park  \n",
       "4  01/03/2011 12:15:38 PM -73.999809  40.636935          Park  \n",
       "6  01/03/2011 12:23:04 PM -73.999456  40.609951          Park  \n",
       "7  01/03/2011 12:19:51 PM -73.977616  40.633153          Park  "
      ]
     },
     "execution_count": 6,
     "metadata": {},
     "output_type": "execute_result"
    }
   ],
   "source": [
    "myCalls[pd.isnull(myCalls['Park Facility Name'])].head()"
   ]
  },
  {
   "cell_type": "code",
   "execution_count": 7,
   "metadata": {
    "collapsed": false
   },
   "outputs": [
    {
     "data": {
      "text/plain": [
       "Structure - Outdoors              6437\n",
       "Garbage or Litter                 3160\n",
       "Rodent Sighting                   1554\n",
       "New Tree Complaint                1368\n",
       "Grass/Weeds                       1085\n",
       "Structure - Indoors                975\n",
       "Tree Alive - in Poor Condition     962\n",
       "Unsecured Facility                 903\n",
       "Snow or Ice                        897\n",
       "Hours of Operation                 764\n",
       "Name: Descriptor, dtype: int64"
      ]
     },
     "execution_count": 7,
     "metadata": {},
     "output_type": "execute_result"
    }
   ],
   "source": [
    "## -------  Descriptor for complains without Park Facility Name\n",
    "myCalls[pd.isnull(myCalls['Park Facility Name'])].Descriptor.value_counts().head(10)"
   ]
  },
  {
   "cell_type": "code",
   "execution_count": 8,
   "metadata": {
    "collapsed": false
   },
   "outputs": [
    {
     "data": {
      "text/plain": [
       "Structure - Outdoors      15303\n",
       "Garbage or Litter          6140\n",
       "Structure - Indoors        3227\n",
       "Obstructing Public Use     2806\n",
       "Dog Off Leash              2366\n",
       "Rodent Sighting            2220\n",
       "Grass/Weeds                1922\n",
       "Aided/Injury               1893\n",
       "Unsecured Facility         1866\n",
       "Unlicensed Vendors         1660\n",
       "Name: Descriptor, dtype: int64"
      ]
     },
     "execution_count": 8,
     "metadata": {},
     "output_type": "execute_result"
    }
   ],
   "source": [
    "## -------- Descriptor for complains with Park Facility Name \n",
    "myCalls[pd.notnull(myCalls['Park Facility Name'])].Descriptor.value_counts().head(10)"
   ]
  },
  {
   "cell_type": "code",
   "execution_count": 9,
   "metadata": {
    "collapsed": false
   },
   "outputs": [
    {
     "name": "stdout",
     "output_type": "stream",
     "text": [
      "33.9060418937 %\n"
     ]
    }
   ],
   "source": [
    "## we might need to check the closest park and if distance is small, attach to it. \n",
    "##for now - using spatial joint to match to Disricts\n",
    "print 100.0*len(myCalls[pd.isnull(myCalls['Park Facility Name'])])/len(myCalls), '%'"
   ]
  },
  {
   "cell_type": "code",
   "execution_count": 10,
   "metadata": {
    "collapsed": false
   },
   "outputs": [
    {
     "name": "stdout",
     "output_type": "stream",
     "text": [
      "(28003, 7)\n",
      "(54587, 7)\n"
     ]
    }
   ],
   "source": [
    "notNamedCalls = myCalls[pd.isnull(myCalls['Park Facility Name'])]\n",
    "namedCalls = myCalls[pd.notnull(myCalls['Park Facility Name'])]\n",
    "print notNamedCalls.shape\n",
    "print namedCalls.shape"
   ]
  },
  {
   "cell_type": "markdown",
   "metadata": {},
   "source": [
    "## I. Ontology"
   ]
  },
  {
   "cell_type": "code",
   "execution_count": 11,
   "metadata": {
    "collapsed": false
   },
   "outputs": [],
   "source": [
    "onto = pd.read_csv(PARQA + 'parqa/311/ONTOLOGY/onto_data/Ontology_matched.csv', index_col=0)"
   ]
  },
  {
   "cell_type": "code",
   "execution_count": 12,
   "metadata": {
    "collapsed": false
   },
   "outputs": [
    {
     "data": {
      "text/html": [
       "<div>\n",
       "<table border=\"1\" class=\"dataframe\">\n",
       "  <thead>\n",
       "    <tr style=\"text-align: right;\">\n",
       "      <th></th>\n",
       "      <th>cleanName</th>\n",
       "      <th>NAME</th>\n",
       "      <th>Type</th>\n",
       "      <th>valid</th>\n",
       "      <th>parkDistrict</th>\n",
       "      <th>lat</th>\n",
       "      <th>lon</th>\n",
       "    </tr>\n",
       "  </thead>\n",
       "  <tbody>\n",
       "    <tr>\n",
       "      <th>0</th>\n",
       "      <td>geo soilan park - battery park city</td>\n",
       "      <td>battery park city</td>\n",
       "      <td>other</td>\n",
       "      <td>av</td>\n",
       "      <td>M-01</td>\n",
       "      <td>-74.016893</td>\n",
       "      <td>40.711882</td>\n",
       "    </tr>\n",
       "    <tr>\n",
       "      <th>1</th>\n",
       "      <td>geo soilan park - battery park city</td>\n",
       "      <td>battery park city</td>\n",
       "      <td>other</td>\n",
       "      <td>av</td>\n",
       "      <td>M-01</td>\n",
       "      <td>-74.016890</td>\n",
       "      <td>40.712719</td>\n",
       "    </tr>\n",
       "  </tbody>\n",
       "</table>\n",
       "</div>"
      ],
      "text/plain": [
       "                             cleanName               NAME   Type valid  \\\n",
       "0  geo soilan park - battery park city  battery park city  other    av   \n",
       "1  geo soilan park - battery park city  battery park city  other    av   \n",
       "\n",
       "  parkDistrict        lat        lon  \n",
       "0         M-01 -74.016893  40.711882  \n",
       "1         M-01 -74.016890  40.712719  "
      ]
     },
     "execution_count": 12,
     "metadata": {},
     "output_type": "execute_result"
    }
   ],
   "source": [
    "onto.head(2)"
   ]
  },
  {
   "cell_type": "code",
   "execution_count": 13,
   "metadata": {
    "collapsed": false
   },
   "outputs": [
    {
     "data": {
      "text/html": [
       "<div>\n",
       "<table border=\"1\" class=\"dataframe\">\n",
       "  <thead>\n",
       "    <tr style=\"text-align: right;\">\n",
       "      <th></th>\n",
       "      <th>Park Facility Name</th>\n",
       "      <th>Descriptor</th>\n",
       "      <th>Created Date</th>\n",
       "      <th>Closed Date</th>\n",
       "      <th>Longitude</th>\n",
       "      <th>Latitude</th>\n",
       "      <th>Location Type</th>\n",
       "      <th>cleanName</th>\n",
       "      <th>NAME</th>\n",
       "      <th>Type</th>\n",
       "      <th>valid</th>\n",
       "      <th>parkDistrict</th>\n",
       "      <th>lat</th>\n",
       "      <th>lon</th>\n",
       "    </tr>\n",
       "  </thead>\n",
       "  <tbody>\n",
       "    <tr>\n",
       "      <th>0</th>\n",
       "      <td>geo soilan park - battery park city</td>\n",
       "      <td>Graffiti or Vandalism</td>\n",
       "      <td>12/31/2010 04:31:52 PM</td>\n",
       "      <td>12/31/2010 05:36:58 PM</td>\n",
       "      <td>NaN</td>\n",
       "      <td>NaN</td>\n",
       "      <td>Park</td>\n",
       "      <td>geo soilan park - battery park city</td>\n",
       "      <td>battery park city</td>\n",
       "      <td>other</td>\n",
       "      <td>av</td>\n",
       "      <td>M-01</td>\n",
       "      <td>-74.016893</td>\n",
       "      <td>40.711882</td>\n",
       "    </tr>\n",
       "  </tbody>\n",
       "</table>\n",
       "</div>"
      ],
      "text/plain": [
       "                    Park Facility Name             Descriptor  \\\n",
       "0  geo soilan park - battery park city  Graffiti or Vandalism   \n",
       "\n",
       "             Created Date             Closed Date  Longitude  Latitude  \\\n",
       "0  12/31/2010 04:31:52 PM  12/31/2010 05:36:58 PM        NaN       NaN   \n",
       "\n",
       "  Location Type                            cleanName               NAME  \\\n",
       "0          Park  geo soilan park - battery park city  battery park city   \n",
       "\n",
       "    Type valid parkDistrict        lat        lon  \n",
       "0  other    av         M-01 -74.016893  40.711882  "
      ]
     },
     "execution_count": 13,
     "metadata": {},
     "output_type": "execute_result"
    }
   ],
   "source": [
    "ncMatched = namedCalls.merge(onto, how='left',left_on='Park Facility Name', right_on='cleanName')\n",
    "ncMatched.head(1)"
   ]
  },
  {
   "cell_type": "code",
   "execution_count": 14,
   "metadata": {
    "collapsed": false
   },
   "outputs": [],
   "source": [
    "# ncMatched[pd.isnull(ncMatched.NAME)] # those i coldn't recognize"
   ]
  },
  {
   "cell_type": "markdown",
   "metadata": {},
   "source": [
    "## II. Geolocated"
   ]
  },
  {
   "cell_type": "code",
   "execution_count": 15,
   "metadata": {
    "collapsed": true
   },
   "outputs": [],
   "source": [
    "pDistricts = gp.read_file(PARQA + 'data/SHP/Park_Districts/ParkDistrict.shp')\n",
    "pD = pDistricts[['SYSTEM','geometry']]"
   ]
  },
  {
   "cell_type": "code",
   "execution_count": 16,
   "metadata": {
    "collapsed": true
   },
   "outputs": [],
   "source": [
    "def toGeoDataFrame(df, lat='Latitude',lon='Longitude'):\n",
    "    '''dataframe to geodataframe'''\n",
    "    df['geometry'] = df.apply(lambda z: Point(z[lon], z[lat]), axis=1)\n",
    "    df = gp.GeoDataFrame(df)\n",
    "    df.crs = {'init': 'epsg:4326', 'no_defs': True}\n",
    "    return df "
   ]
  },
  {
   "cell_type": "code",
   "execution_count": 17,
   "metadata": {
    "collapsed": false
   },
   "outputs": [
    {
     "name": "stderr",
     "output_type": "stream",
     "text": [
      "/Users/casy/anaconda/lib/python2.7/site-packages/ipykernel/__main__.py:3: SettingWithCopyWarning: \n",
      "A value is trying to be set on a copy of a slice from a DataFrame.\n",
      "Try using .loc[row_indexer,col_indexer] = value instead\n",
      "\n",
      "See the caveats in the documentation: http://pandas.pydata.org/pandas-docs/stable/indexing.html#indexing-view-versus-copy\n",
      "  app.launch_new_instance()\n"
     ]
    }
   ],
   "source": [
    "nn = toGeoDataFrame(notNamedCalls[pd.notnull(notNamedCalls.Longitude)])"
   ]
  },
  {
   "cell_type": "code",
   "execution_count": 18,
   "metadata": {
    "collapsed": false
   },
   "outputs": [],
   "source": [
    "# nn.plot()"
   ]
  },
  {
   "cell_type": "code",
   "execution_count": 19,
   "metadata": {
    "collapsed": false
   },
   "outputs": [],
   "source": [
    "nn = nn.to_crs(pD.crs)\n",
    "nn = sjoin(nn, pD, how=\"left\").rename(columns={'SYSTEM':'parkDistrict'}).to_crs(epsg=4326)\n",
    "# nn.head(2)"
   ]
  },
  {
   "cell_type": "code",
   "execution_count": 20,
   "metadata": {
    "collapsed": false
   },
   "outputs": [],
   "source": [
    "nn = nn[pd.notnull(nn['parkDistrict'])]"
   ]
  },
  {
   "cell_type": "code",
   "execution_count": 21,
   "metadata": {
    "collapsed": false
   },
   "outputs": [
    {
     "data": {
      "text/html": [
       "<div>\n",
       "<table border=\"1\" class=\"dataframe\">\n",
       "  <thead>\n",
       "    <tr style=\"text-align: right;\">\n",
       "      <th></th>\n",
       "      <th>Park Facility Name</th>\n",
       "      <th>Descriptor</th>\n",
       "      <th>Created Date</th>\n",
       "      <th>Closed Date</th>\n",
       "      <th>Longitude</th>\n",
       "      <th>Latitude</th>\n",
       "      <th>Location Type</th>\n",
       "      <th>geometry</th>\n",
       "      <th>index_right</th>\n",
       "      <th>parkDistrict</th>\n",
       "    </tr>\n",
       "  </thead>\n",
       "  <tbody>\n",
       "    <tr>\n",
       "      <th>0</th>\n",
       "      <td>NaN</td>\n",
       "      <td>Snow or Ice</td>\n",
       "      <td>12/31/2010 09:04:48 PM</td>\n",
       "      <td>01/03/2011 12:03:59 PM</td>\n",
       "      <td>-73.931120</td>\n",
       "      <td>40.668798</td>\n",
       "      <td>Park</td>\n",
       "      <td>POINT (-73.9311201453 40.66879788259987)</td>\n",
       "      <td>29</td>\n",
       "      <td>B-09</td>\n",
       "    </tr>\n",
       "    <tr>\n",
       "      <th>3</th>\n",
       "      <td>NaN</td>\n",
       "      <td>Snow or Ice</td>\n",
       "      <td>12/31/2010 03:36:37 PM</td>\n",
       "      <td>01/03/2011 09:41:24 AM</td>\n",
       "      <td>-73.962835</td>\n",
       "      <td>40.688556</td>\n",
       "      <td>Park</td>\n",
       "      <td>POINT (-73.96283467790001 40.68855565819985)</td>\n",
       "      <td>22</td>\n",
       "      <td>B-02</td>\n",
       "    </tr>\n",
       "    <tr>\n",
       "      <th>4</th>\n",
       "      <td>NaN</td>\n",
       "      <td>Snow or Ice</td>\n",
       "      <td>12/31/2010 03:03:16 PM</td>\n",
       "      <td>01/03/2011 12:15:38 PM</td>\n",
       "      <td>-73.999809</td>\n",
       "      <td>40.636935</td>\n",
       "      <td>Park</td>\n",
       "      <td>POINT (-73.99980903869999 40.63693511549985)</td>\n",
       "      <td>32</td>\n",
       "      <td>B-12</td>\n",
       "    </tr>\n",
       "    <tr>\n",
       "      <th>6</th>\n",
       "      <td>NaN</td>\n",
       "      <td>Snow or Ice</td>\n",
       "      <td>12/31/2010 12:59:59 PM</td>\n",
       "      <td>01/03/2011 12:23:04 PM</td>\n",
       "      <td>-73.999456</td>\n",
       "      <td>40.609951</td>\n",
       "      <td>Park</td>\n",
       "      <td>POINT (-73.9994561603 40.60995107579983)</td>\n",
       "      <td>31</td>\n",
       "      <td>B-11</td>\n",
       "    </tr>\n",
       "    <tr>\n",
       "      <th>7</th>\n",
       "      <td>NaN</td>\n",
       "      <td>Snow or Ice</td>\n",
       "      <td>12/31/2010 12:12:02 PM</td>\n",
       "      <td>01/03/2011 12:19:51 PM</td>\n",
       "      <td>-73.977616</td>\n",
       "      <td>40.633153</td>\n",
       "      <td>Park</td>\n",
       "      <td>POINT (-73.97761555779999 40.63315336439984)</td>\n",
       "      <td>34</td>\n",
       "      <td>B-14</td>\n",
       "    </tr>\n",
       "  </tbody>\n",
       "</table>\n",
       "</div>"
      ],
      "text/plain": [
       "  Park Facility Name   Descriptor            Created Date  \\\n",
       "0                NaN  Snow or Ice  12/31/2010 09:04:48 PM   \n",
       "3                NaN  Snow or Ice  12/31/2010 03:36:37 PM   \n",
       "4                NaN  Snow or Ice  12/31/2010 03:03:16 PM   \n",
       "6                NaN  Snow or Ice  12/31/2010 12:59:59 PM   \n",
       "7                NaN  Snow or Ice  12/31/2010 12:12:02 PM   \n",
       "\n",
       "              Closed Date  Longitude   Latitude Location Type  \\\n",
       "0  01/03/2011 12:03:59 PM -73.931120  40.668798          Park   \n",
       "3  01/03/2011 09:41:24 AM -73.962835  40.688556          Park   \n",
       "4  01/03/2011 12:15:38 PM -73.999809  40.636935          Park   \n",
       "6  01/03/2011 12:23:04 PM -73.999456  40.609951          Park   \n",
       "7  01/03/2011 12:19:51 PM -73.977616  40.633153          Park   \n",
       "\n",
       "                                       geometry  index_right parkDistrict  \n",
       "0      POINT (-73.9311201453 40.66879788259987)           29         B-09  \n",
       "3  POINT (-73.96283467790001 40.68855565819985)           22         B-02  \n",
       "4  POINT (-73.99980903869999 40.63693511549985)           32         B-12  \n",
       "6      POINT (-73.9994561603 40.60995107579983)           31         B-11  \n",
       "7  POINT (-73.97761555779999 40.63315336439984)           34         B-14  "
      ]
     },
     "execution_count": 21,
     "metadata": {},
     "output_type": "execute_result"
    }
   ],
   "source": [
    "nn.head()"
   ]
  },
  {
   "cell_type": "markdown",
   "metadata": {},
   "source": [
    "## NOW SAVING DATA"
   ]
  },
  {
   "cell_type": "code",
   "execution_count": 22,
   "metadata": {
    "collapsed": true
   },
   "outputs": [],
   "source": [
    "def gdfToCsv(p):    \n",
    "    p['lat'] = p.geometry.apply(lambda x: x.coords[0][0])\n",
    "    p['lon'] = p.geometry.apply(lambda x: x.coords[0][1])\n",
    "    return p.drop('geometry',1)"
   ]
  },
  {
   "cell_type": "code",
   "execution_count": 23,
   "metadata": {
    "collapsed": true
   },
   "outputs": [],
   "source": [
    "nn = gdfToCsv(nn)"
   ]
  },
  {
   "cell_type": "code",
   "execution_count": 24,
   "metadata": {
    "collapsed": false
   },
   "outputs": [
    {
     "data": {
      "text/plain": [
       "Index([u'Park Facility Name',         u'Descriptor',       u'Created Date',\n",
       "              u'Closed Date',          u'Longitude',           u'Latitude',\n",
       "            u'Location Type',        u'index_right',       u'parkDistrict',\n",
       "                      u'lat',                u'lon'],\n",
       "      dtype='object')"
      ]
     },
     "execution_count": 24,
     "metadata": {},
     "output_type": "execute_result"
    }
   ],
   "source": [
    "# nn.drop(['index_right'], axis=1, inplace=1)\n",
    "# nn.drop(['Latitude','Longitude'], axis=1, inplace=1)\n",
    "nn.columns"
   ]
  },
  {
   "cell_type": "code",
   "execution_count": 25,
   "metadata": {
    "collapsed": false
   },
   "outputs": [
    {
     "data": {
      "text/plain": [
       "Index([u'Park Facility Name',         u'Descriptor',       u'Created Date',\n",
       "              u'Closed Date',          u'Longitude',           u'Latitude',\n",
       "            u'Location Type',          u'cleanName',               u'NAME',\n",
       "                     u'Type',              u'valid',       u'parkDistrict',\n",
       "                      u'lat',                u'lon'],\n",
       "      dtype='object')"
      ]
     },
     "execution_count": 25,
     "metadata": {},
     "output_type": "execute_result"
    }
   ],
   "source": [
    "ncMatched.columns"
   ]
  },
  {
   "cell_type": "code",
   "execution_count": 26,
   "metadata": {
    "collapsed": true
   },
   "outputs": [],
   "source": [
    "MatchedCalls = pd.concat([nn,ncMatched])"
   ]
  },
  {
   "cell_type": "code",
   "execution_count": 27,
   "metadata": {
    "collapsed": false
   },
   "outputs": [
    {
     "data": {
      "text/plain": [
       "(88974, 15)"
      ]
     },
     "execution_count": 27,
     "metadata": {},
     "output_type": "execute_result"
    }
   ],
   "source": [
    "MatchedCalls.shape"
   ]
  },
  {
   "cell_type": "code",
   "execution_count": 28,
   "metadata": {
    "collapsed": false
   },
   "outputs": [
    {
     "data": {
      "text/html": [
       "<div>\n",
       "<table border=\"1\" class=\"dataframe\">\n",
       "  <thead>\n",
       "    <tr style=\"text-align: right;\">\n",
       "      <th></th>\n",
       "      <th>Closed Date</th>\n",
       "      <th>Created Date</th>\n",
       "      <th>Descriptor</th>\n",
       "      <th>Latitude</th>\n",
       "      <th>Location Type</th>\n",
       "      <th>Longitude</th>\n",
       "      <th>NAME</th>\n",
       "      <th>Park Facility Name</th>\n",
       "      <th>Type</th>\n",
       "      <th>cleanName</th>\n",
       "      <th>index_right</th>\n",
       "      <th>lat</th>\n",
       "      <th>lon</th>\n",
       "      <th>parkDistrict</th>\n",
       "      <th>valid</th>\n",
       "    </tr>\n",
       "  </thead>\n",
       "  <tbody>\n",
       "    <tr>\n",
       "      <th>0</th>\n",
       "      <td>01/03/2011 12:03:59 PM</td>\n",
       "      <td>12/31/2010 09:04:48 PM</td>\n",
       "      <td>Snow or Ice</td>\n",
       "      <td>40.668798</td>\n",
       "      <td>Park</td>\n",
       "      <td>-73.931120</td>\n",
       "      <td>NaN</td>\n",
       "      <td>NaN</td>\n",
       "      <td>NaN</td>\n",
       "      <td>NaN</td>\n",
       "      <td>29</td>\n",
       "      <td>-73.931120</td>\n",
       "      <td>40.668798</td>\n",
       "      <td>B-09</td>\n",
       "      <td>NaN</td>\n",
       "    </tr>\n",
       "    <tr>\n",
       "      <th>3</th>\n",
       "      <td>01/03/2011 09:41:24 AM</td>\n",
       "      <td>12/31/2010 03:36:37 PM</td>\n",
       "      <td>Snow or Ice</td>\n",
       "      <td>40.688556</td>\n",
       "      <td>Park</td>\n",
       "      <td>-73.962835</td>\n",
       "      <td>NaN</td>\n",
       "      <td>NaN</td>\n",
       "      <td>NaN</td>\n",
       "      <td>NaN</td>\n",
       "      <td>22</td>\n",
       "      <td>-73.962835</td>\n",
       "      <td>40.688556</td>\n",
       "      <td>B-02</td>\n",
       "      <td>NaN</td>\n",
       "    </tr>\n",
       "  </tbody>\n",
       "</table>\n",
       "</div>"
      ],
      "text/plain": [
       "              Closed Date            Created Date   Descriptor   Latitude  \\\n",
       "0  01/03/2011 12:03:59 PM  12/31/2010 09:04:48 PM  Snow or Ice  40.668798   \n",
       "3  01/03/2011 09:41:24 AM  12/31/2010 03:36:37 PM  Snow or Ice  40.688556   \n",
       "\n",
       "  Location Type  Longitude NAME Park Facility Name Type cleanName  \\\n",
       "0          Park -73.931120  NaN                NaN  NaN       NaN   \n",
       "3          Park -73.962835  NaN                NaN  NaN       NaN   \n",
       "\n",
       "   index_right        lat        lon parkDistrict valid  \n",
       "0           29 -73.931120  40.668798         B-09   NaN  \n",
       "3           22 -73.962835  40.688556         B-02   NaN  "
      ]
     },
     "execution_count": 28,
     "metadata": {},
     "output_type": "execute_result"
    }
   ],
   "source": [
    "MatchedCalls.head(2)"
   ]
  },
  {
   "cell_type": "code",
   "execution_count": 32,
   "metadata": {
    "collapsed": false
   },
   "outputs": [
    {
     "data": {
      "text/plain": [
       "24"
      ]
     },
     "execution_count": 32,
     "metadata": {},
     "output_type": "execute_result"
    }
   ],
   "source": [
    "len(MatchedCalls[pd.isnull(MatchedCalls.parkDistrict)])"
   ]
  },
  {
   "cell_type": "code",
   "execution_count": 33,
   "metadata": {
    "collapsed": false
   },
   "outputs": [],
   "source": [
    "MatchedCalls[['Closed Date',\n",
    "              'Created Date',\n",
    "              'Location Type',\n",
    "              'NAME',\n",
    "              'lat',\n",
    "              'lon',\n",
    "              'parkDistrict']].to_csv(PARQA + 'data/311/MatchedCalls.cav')"
   ]
  },
  {
   "cell_type": "code",
   "execution_count": null,
   "metadata": {
    "collapsed": true
   },
   "outputs": [],
   "source": []
  }
 ],
 "metadata": {
  "kernelspec": {
   "display_name": "Python 2",
   "language": "python",
   "name": "python2"
  },
  "language_info": {
   "codemirror_mode": {
    "name": "ipython",
    "version": 2
   },
   "file_extension": ".py",
   "mimetype": "text/x-python",
   "name": "python",
   "nbconvert_exporter": "python",
   "pygments_lexer": "ipython2",
   "version": "2.7.10"
  }
 },
 "nbformat": 4,
 "nbformat_minor": 0
}
