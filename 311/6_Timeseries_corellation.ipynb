{
 "cells": [
  {
   "cell_type": "code",
   "execution_count": 49,
   "metadata": {
    "collapsed": false
   },
   "outputs": [
    {
     "name": "stdout",
     "output_type": "stream",
     "text": [
      "Populating the interactive namespace from numpy and matplotlib\n"
     ]
    },
    {
     "name": "stderr",
     "output_type": "stream",
     "text": [
      "WARNING: pylab import has clobbered these variables: ['plt']\n",
      "`%matplotlib` prevents importing * from pylab and numpy\n"
     ]
    }
   ],
   "source": [
    "__author__ = \"me\"\n",
    "__date__ = \"2015_10_13\"\n",
    "%pylab inline\n",
    "\n",
    "import pandas as pd\n",
    "# import numpy as np\n",
    "# import geopandas as gp\n",
    "\n",
    "import pylab as plt\n",
    "import os\n",
    "\n",
    "import requests\n",
    "s = requests.get(\"https://raw.githubusercontent.com/Casyfill/CUSP_templates/master/Py/fbMatplotlibrc.json\").json()\n",
    "plt.rcParams.update(s)\n",
    "\n",
    "\n",
    "\n",
    "PARQA = os.getenv('PARQA')"
   ]
  },
  {
   "cell_type": "code",
   "execution_count": 50,
   "metadata": {
    "collapsed": false
   },
   "outputs": [],
   "source": [
    "calls = pd.read_csv(PARQA +'/parqa/311/TIMESERIES/311_timeseries.csv').set_index('parkDistrict')"
   ]
  },
  {
   "cell_type": "code",
   "execution_count": 51,
   "metadata": {
    "collapsed": true
   },
   "outputs": [],
   "source": [
    "pip = pd.read_csv(PARQA + '/parqa/311/TIMESERIES/PIP_score_timeseries.csv', index_col=0)\n"
   ]
  },
  {
   "cell_type": "code",
   "execution_count": 52,
   "metadata": {
    "collapsed": false
   },
   "outputs": [
    {
     "data": {
      "text/html": [
       "<div>\n",
       "<table border=\"1\" class=\"dataframe\">\n",
       "  <thead>\n",
       "    <tr style=\"text-align: right;\">\n",
       "      <th></th>\n",
       "      <th>2010</th>\n",
       "      <th>2011</th>\n",
       "      <th>2012</th>\n",
       "      <th>2013</th>\n",
       "      <th>2014</th>\n",
       "      <th>2015</th>\n",
       "    </tr>\n",
       "    <tr>\n",
       "      <th>parkDistrict</th>\n",
       "      <th></th>\n",
       "      <th></th>\n",
       "      <th></th>\n",
       "      <th></th>\n",
       "      <th></th>\n",
       "      <th></th>\n",
       "    </tr>\n",
       "  </thead>\n",
       "  <tbody>\n",
       "    <tr>\n",
       "      <th>B-01</th>\n",
       "      <td>363</td>\n",
       "      <td>353</td>\n",
       "      <td>374</td>\n",
       "      <td>397</td>\n",
       "      <td>564</td>\n",
       "      <td>619</td>\n",
       "    </tr>\n",
       "    <tr>\n",
       "      <th>B-02</th>\n",
       "      <td>339</td>\n",
       "      <td>396</td>\n",
       "      <td>282</td>\n",
       "      <td>463</td>\n",
       "      <td>566</td>\n",
       "      <td>614</td>\n",
       "    </tr>\n",
       "  </tbody>\n",
       "</table>\n",
       "</div>"
      ],
      "text/plain": [
       "              2010  2011  2012  2013  2014  2015\n",
       "parkDistrict                                    \n",
       "B-01           363   353   374   397   564   619\n",
       "B-02           339   396   282   463   566   614"
      ]
     },
     "execution_count": 52,
     "metadata": {},
     "output_type": "execute_result"
    }
   ],
   "source": [
    "calls.head(2)"
   ]
  },
  {
   "cell_type": "code",
   "execution_count": 53,
   "metadata": {
    "collapsed": false
   },
   "outputs": [
    {
     "data": {
      "text/html": [
       "<div>\n",
       "<table border=\"1\" class=\"dataframe\">\n",
       "  <thead>\n",
       "    <tr style=\"text-align: right;\">\n",
       "      <th></th>\n",
       "      <th>District</th>\n",
       "      <th>score_type</th>\n",
       "      <th>2004</th>\n",
       "      <th>2005</th>\n",
       "      <th>2006</th>\n",
       "      <th>2007</th>\n",
       "      <th>2008</th>\n",
       "      <th>2009</th>\n",
       "      <th>2010</th>\n",
       "      <th>2011</th>\n",
       "      <th>2012</th>\n",
       "      <th>2013</th>\n",
       "      <th>2014</th>\n",
       "      <th>2015</th>\n",
       "    </tr>\n",
       "  </thead>\n",
       "  <tbody>\n",
       "    <tr>\n",
       "      <th>0</th>\n",
       "      <td>B-01</td>\n",
       "      <td>Naive Normalized Score</td>\n",
       "      <td>0.849094</td>\n",
       "      <td>0.894602</td>\n",
       "      <td>0.897871</td>\n",
       "      <td>0.887889</td>\n",
       "      <td>0.915921</td>\n",
       "      <td>0.910679</td>\n",
       "      <td>0.870868</td>\n",
       "      <td>0.892876</td>\n",
       "      <td>0.879027</td>\n",
       "      <td>0.898363</td>\n",
       "      <td>0.886752</td>\n",
       "      <td>0.845868</td>\n",
       "    </tr>\n",
       "    <tr>\n",
       "      <th>1</th>\n",
       "      <td>B-01</td>\n",
       "      <td>Area Normalized Score</td>\n",
       "      <td>0.826137</td>\n",
       "      <td>0.855885</td>\n",
       "      <td>0.884228</td>\n",
       "      <td>0.864969</td>\n",
       "      <td>0.904682</td>\n",
       "      <td>0.869999</td>\n",
       "      <td>0.828230</td>\n",
       "      <td>0.845600</td>\n",
       "      <td>0.831587</td>\n",
       "      <td>0.857619</td>\n",
       "      <td>0.869625</td>\n",
       "      <td>0.819506</td>\n",
       "    </tr>\n",
       "    <tr>\n",
       "      <th>2</th>\n",
       "      <td>B-01</td>\n",
       "      <td>Amenities &amp; Area Normalized Score</td>\n",
       "      <td>0.811959</td>\n",
       "      <td>0.823517</td>\n",
       "      <td>0.893130</td>\n",
       "      <td>0.858930</td>\n",
       "      <td>0.907962</td>\n",
       "      <td>0.857665</td>\n",
       "      <td>0.809202</td>\n",
       "      <td>0.825962</td>\n",
       "      <td>0.831345</td>\n",
       "      <td>0.823218</td>\n",
       "      <td>0.854233</td>\n",
       "      <td>0.824545</td>\n",
       "    </tr>\n",
       "  </tbody>\n",
       "</table>\n",
       "</div>"
      ],
      "text/plain": [
       "  District                         score_type      2004      2005      2006  \\\n",
       "0     B-01             Naive Normalized Score  0.849094  0.894602  0.897871   \n",
       "1     B-01              Area Normalized Score  0.826137  0.855885  0.884228   \n",
       "2     B-01  Amenities & Area Normalized Score  0.811959  0.823517  0.893130   \n",
       "\n",
       "       2007      2008      2009      2010      2011      2012      2013  \\\n",
       "0  0.887889  0.915921  0.910679  0.870868  0.892876  0.879027  0.898363   \n",
       "1  0.864969  0.904682  0.869999  0.828230  0.845600  0.831587  0.857619   \n",
       "2  0.858930  0.907962  0.857665  0.809202  0.825962  0.831345  0.823218   \n",
       "\n",
       "       2014      2015  \n",
       "0  0.886752  0.845868  \n",
       "1  0.869625  0.819506  \n",
       "2  0.854233  0.824545  "
      ]
     },
     "execution_count": 53,
     "metadata": {},
     "output_type": "execute_result"
    }
   ],
   "source": [
    "pip.head(3)"
   ]
  },
  {
   "cell_type": "code",
   "execution_count": 58,
   "metadata": {
    "collapsed": false
   },
   "outputs": [
    {
     "data": {
      "text/html": [
       "<div>\n",
       "<table border=\"1\" class=\"dataframe\">\n",
       "  <thead>\n",
       "    <tr style=\"text-align: right;\">\n",
       "      <th></th>\n",
       "      <th>2010</th>\n",
       "      <th>2011</th>\n",
       "      <th>2012</th>\n",
       "      <th>2013</th>\n",
       "      <th>2014</th>\n",
       "      <th>2015</th>\n",
       "    </tr>\n",
       "    <tr>\n",
       "      <th>parkDistrict</th>\n",
       "      <th></th>\n",
       "      <th></th>\n",
       "      <th></th>\n",
       "      <th></th>\n",
       "      <th></th>\n",
       "      <th></th>\n",
       "    </tr>\n",
       "  </thead>\n",
       "  <tbody>\n",
       "    <tr>\n",
       "      <th>B-01</th>\n",
       "      <td>0.809202</td>\n",
       "      <td>0.825962</td>\n",
       "      <td>0.831345</td>\n",
       "      <td>0.823218</td>\n",
       "      <td>0.854233</td>\n",
       "      <td>0.824545</td>\n",
       "    </tr>\n",
       "    <tr>\n",
       "      <th>B-02</th>\n",
       "      <td>0.839114</td>\n",
       "      <td>0.879936</td>\n",
       "      <td>0.895369</td>\n",
       "      <td>0.888944</td>\n",
       "      <td>0.887673</td>\n",
       "      <td>0.873778</td>\n",
       "    </tr>\n",
       "    <tr>\n",
       "      <th>B-03</th>\n",
       "      <td>0.828191</td>\n",
       "      <td>0.793455</td>\n",
       "      <td>0.781544</td>\n",
       "      <td>0.780935</td>\n",
       "      <td>0.843759</td>\n",
       "      <td>0.793568</td>\n",
       "    </tr>\n",
       "    <tr>\n",
       "      <th>B-04</th>\n",
       "      <td>0.863949</td>\n",
       "      <td>0.879248</td>\n",
       "      <td>0.906519</td>\n",
       "      <td>0.811015</td>\n",
       "      <td>0.838412</td>\n",
       "      <td>0.844664</td>\n",
       "    </tr>\n",
       "    <tr>\n",
       "      <th>B-05</th>\n",
       "      <td>0.932864</td>\n",
       "      <td>0.854458</td>\n",
       "      <td>0.774530</td>\n",
       "      <td>0.836229</td>\n",
       "      <td>0.773768</td>\n",
       "      <td>0.888699</td>\n",
       "    </tr>\n",
       "  </tbody>\n",
       "</table>\n",
       "</div>"
      ],
      "text/plain": [
       "                  2010      2011      2012      2013      2014      2015\n",
       "parkDistrict                                                            \n",
       "B-01          0.809202  0.825962  0.831345  0.823218  0.854233  0.824545\n",
       "B-02          0.839114  0.879936  0.895369  0.888944  0.887673  0.873778\n",
       "B-03          0.828191  0.793455  0.781544  0.780935  0.843759  0.793568\n",
       "B-04          0.863949  0.879248  0.906519  0.811015  0.838412  0.844664\n",
       "B-05          0.932864  0.854458  0.774530  0.836229  0.773768  0.888699"
      ]
     },
     "execution_count": 58,
     "metadata": {},
     "output_type": "execute_result"
    }
   ],
   "source": [
    "pip = pip[pip.score_type == 'Amenities & Area Normalized Score'][['District']+ [str(x) for x in xrange(2010,2016)]]\n",
    "pip = pip.rename(columns={'District':'parkDistrict'}).set_index('parkDistrict')\n",
    "\n",
    "pip.head()"
   ]
  },
  {
   "cell_type": "code",
   "execution_count": 59,
   "metadata": {
    "collapsed": false
   },
   "outputs": [],
   "source": [
    "def normalise_timeseries(df, label='parkDistrict', ax=1):\n",
    "    '''normalise timeseries by row seeing everything \n",
    "       but label as part of it'''\n",
    "    \n",
    "    cols_to_norm = [x for x in df.columns if x!=label ]\n",
    "    df[cols_to_norm] = df[cols_to_norm].apply(lambda x: (x - x.mean()) / (x.std()), axis=ax)\n",
    "\n",
    "    return df\n",
    "    "
   ]
  },
  {
   "cell_type": "code",
   "execution_count": 60,
   "metadata": {
    "collapsed": false
   },
   "outputs": [],
   "source": [
    "pip_n = normalise_timeseries(pip)\n",
    "calls_n = normalise_timeseries(calls)"
   ]
  },
  {
   "cell_type": "code",
   "execution_count": 61,
   "metadata": {
    "collapsed": false
   },
   "outputs": [
    {
     "data": {
      "text/html": [
       "<div>\n",
       "<table border=\"1\" class=\"dataframe\">\n",
       "  <thead>\n",
       "    <tr style=\"text-align: right;\">\n",
       "      <th></th>\n",
       "      <th>2010</th>\n",
       "      <th>2011</th>\n",
       "      <th>2012</th>\n",
       "      <th>2013</th>\n",
       "      <th>2014</th>\n",
       "      <th>2015</th>\n",
       "    </tr>\n",
       "    <tr>\n",
       "      <th>parkDistrict</th>\n",
       "      <th></th>\n",
       "      <th></th>\n",
       "      <th></th>\n",
       "      <th></th>\n",
       "      <th></th>\n",
       "      <th></th>\n",
       "    </tr>\n",
       "  </thead>\n",
       "  <tbody>\n",
       "    <tr>\n",
       "      <th>B-01</th>\n",
       "      <td>-0.708531</td>\n",
       "      <td>-0.794937</td>\n",
       "      <td>-0.613484</td>\n",
       "      <td>-0.414750</td>\n",
       "      <td>1.028234</td>\n",
       "      <td>1.503468</td>\n",
       "    </tr>\n",
       "    <tr>\n",
       "      <th>B-02</th>\n",
       "      <td>-0.806317</td>\n",
       "      <td>-0.365805</td>\n",
       "      <td>-1.246828</td>\n",
       "      <td>0.151989</td>\n",
       "      <td>0.948002</td>\n",
       "      <td>1.318959</td>\n",
       "    </tr>\n",
       "  </tbody>\n",
       "</table>\n",
       "</div>"
      ],
      "text/plain": [
       "                  2010      2011      2012      2013      2014      2015\n",
       "parkDistrict                                                            \n",
       "B-01         -0.708531 -0.794937 -0.613484 -0.414750  1.028234  1.503468\n",
       "B-02         -0.806317 -0.365805 -1.246828  0.151989  0.948002  1.318959"
      ]
     },
     "execution_count": 61,
     "metadata": {},
     "output_type": "execute_result"
    }
   ],
   "source": [
    "calls_n.head(2)"
   ]
  },
  {
   "cell_type": "code",
   "execution_count": 63,
   "metadata": {
    "collapsed": false
   },
   "outputs": [
    {
     "data": {
      "text/html": [
       "<div>\n",
       "<table border=\"1\" class=\"dataframe\">\n",
       "  <thead>\n",
       "    <tr style=\"text-align: right;\">\n",
       "      <th></th>\n",
       "      <th>2010</th>\n",
       "      <th>2011</th>\n",
       "      <th>2012</th>\n",
       "      <th>2013</th>\n",
       "      <th>2014</th>\n",
       "      <th>2015</th>\n",
       "    </tr>\n",
       "    <tr>\n",
       "      <th>parkDistrict</th>\n",
       "      <th></th>\n",
       "      <th></th>\n",
       "      <th></th>\n",
       "      <th></th>\n",
       "      <th></th>\n",
       "      <th></th>\n",
       "    </tr>\n",
       "  </thead>\n",
       "  <tbody>\n",
       "    <tr>\n",
       "      <th>B-01</th>\n",
       "      <td>-1.277902</td>\n",
       "      <td>-0.143619</td>\n",
       "      <td>0.220666</td>\n",
       "      <td>-0.329300</td>\n",
       "      <td>1.769697</td>\n",
       "      <td>-0.239543</td>\n",
       "    </tr>\n",
       "    <tr>\n",
       "      <th>B-02</th>\n",
       "      <td>-1.895588</td>\n",
       "      <td>0.121915</td>\n",
       "      <td>0.884665</td>\n",
       "      <td>0.567136</td>\n",
       "      <td>0.504305</td>\n",
       "      <td>-0.182434</td>\n",
       "    </tr>\n",
       "  </tbody>\n",
       "</table>\n",
       "</div>"
      ],
      "text/plain": [
       "                  2010      2011      2012      2013      2014      2015\n",
       "parkDistrict                                                            \n",
       "B-01         -1.277902 -0.143619  0.220666 -0.329300  1.769697 -0.239543\n",
       "B-02         -1.895588  0.121915  0.884665  0.567136  0.504305 -0.182434"
      ]
     },
     "execution_count": 63,
     "metadata": {},
     "output_type": "execute_result"
    }
   ],
   "source": [
    "pip_n.head(2)"
   ]
  },
  {
   "cell_type": "code",
   "execution_count": null,
   "metadata": {
    "collapsed": true
   },
   "outputs": [],
   "source": []
  }
 ],
 "metadata": {
  "kernelspec": {
   "display_name": "Python 2",
   "language": "python",
   "name": "python2"
  },
  "language_info": {
   "codemirror_mode": {
    "name": "ipython",
    "version": 2
   },
   "file_extension": ".py",
   "mimetype": "text/x-python",
   "name": "python",
   "nbconvert_exporter": "python",
   "pygments_lexer": "ipython2",
   "version": "2.7.10"
  }
 },
 "nbformat": 4,
 "nbformat_minor": 0
}
