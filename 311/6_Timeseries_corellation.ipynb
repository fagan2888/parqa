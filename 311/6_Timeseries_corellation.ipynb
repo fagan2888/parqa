{
 "cells": [
  {
   "cell_type": "code",
   "execution_count": 4,
   "metadata": {
    "collapsed": false
   },
   "outputs": [
    {
     "name": "stdout",
     "output_type": "stream",
     "text": [
      "Populating the interactive namespace from numpy and matplotlib\n"
     ]
    }
   ],
   "source": [
    "__author__ = \"me\"\n",
    "__date__ = \"2015_10_13\"\n",
    "%pylab inline\n",
    "\n",
    "import pandas as pd\n",
    "# import numpy as np\n",
    "# import geopandas as gp\n",
    "\n",
    "import pylab as plt\n",
    "import os\n",
    "\n",
    "import requests\n",
    "s = requests.get(\"https://raw.githubusercontent.com/Casyfill/CUSP_templates/master/Py/fbMatplotlibrc.json\").json()\n",
    "plt.rcParams.update(s)\n",
    "\n",
    "\n",
    "\n",
    "PARQA = os.getenv('PARQA')"
   ]
  },
  {
   "cell_type": "code",
   "execution_count": 5,
   "metadata": {
    "collapsed": true
   },
   "outputs": [],
   "source": [
    "calls = pd.read_csv(PARQA +'/parqa/311/TIMESERIES/311_timeseries.csv')"
   ]
  },
  {
   "cell_type": "code",
   "execution_count": 20,
   "metadata": {
    "collapsed": true
   },
   "outputs": [],
   "source": [
    "pip = pd.read_csv(PARQA + '/parqa/311/TIMESERIES/PIP_score_timeseries.csv', index_col=0)\n"
   ]
  },
  {
   "cell_type": "code",
   "execution_count": 21,
   "metadata": {
    "collapsed": false
   },
   "outputs": [
    {
     "data": {
      "text/html": [
       "<div>\n",
       "<table border=\"1\" class=\"dataframe\">\n",
       "  <thead>\n",
       "    <tr style=\"text-align: right;\">\n",
       "      <th></th>\n",
       "      <th>parkDistrict</th>\n",
       "      <th>2010</th>\n",
       "      <th>2011</th>\n",
       "      <th>2012</th>\n",
       "      <th>2013</th>\n",
       "      <th>2014</th>\n",
       "      <th>2015</th>\n",
       "    </tr>\n",
       "  </thead>\n",
       "  <tbody>\n",
       "    <tr>\n",
       "      <th>0</th>\n",
       "      <td>B-01</td>\n",
       "      <td>363</td>\n",
       "      <td>353</td>\n",
       "      <td>374</td>\n",
       "      <td>397</td>\n",
       "      <td>564</td>\n",
       "      <td>619</td>\n",
       "    </tr>\n",
       "    <tr>\n",
       "      <th>1</th>\n",
       "      <td>B-02</td>\n",
       "      <td>339</td>\n",
       "      <td>396</td>\n",
       "      <td>282</td>\n",
       "      <td>463</td>\n",
       "      <td>566</td>\n",
       "      <td>614</td>\n",
       "    </tr>\n",
       "  </tbody>\n",
       "</table>\n",
       "</div>"
      ],
      "text/plain": [
       "  parkDistrict  2010  2011  2012  2013  2014  2015\n",
       "0         B-01   363   353   374   397   564   619\n",
       "1         B-02   339   396   282   463   566   614"
      ]
     },
     "execution_count": 21,
     "metadata": {},
     "output_type": "execute_result"
    }
   ],
   "source": [
    "calls.head(2)"
   ]
  },
  {
   "cell_type": "code",
   "execution_count": 22,
   "metadata": {
    "collapsed": false
   },
   "outputs": [
    {
     "data": {
      "text/html": [
       "<div>\n",
       "<table border=\"1\" class=\"dataframe\">\n",
       "  <thead>\n",
       "    <tr style=\"text-align: right;\">\n",
       "      <th></th>\n",
       "      <th>District</th>\n",
       "      <th>score_type</th>\n",
       "      <th>2004</th>\n",
       "      <th>2005</th>\n",
       "      <th>2006</th>\n",
       "      <th>2007</th>\n",
       "      <th>2008</th>\n",
       "      <th>2009</th>\n",
       "      <th>2010</th>\n",
       "      <th>2011</th>\n",
       "      <th>2012</th>\n",
       "      <th>2013</th>\n",
       "      <th>2014</th>\n",
       "      <th>2015</th>\n",
       "    </tr>\n",
       "  </thead>\n",
       "  <tbody>\n",
       "    <tr>\n",
       "      <th>0</th>\n",
       "      <td>B-01</td>\n",
       "      <td>Naive Normalized Score</td>\n",
       "      <td>0.849094</td>\n",
       "      <td>0.894602</td>\n",
       "      <td>0.897871</td>\n",
       "      <td>0.887889</td>\n",
       "      <td>0.915921</td>\n",
       "      <td>0.910679</td>\n",
       "      <td>0.870868</td>\n",
       "      <td>0.892876</td>\n",
       "      <td>0.879027</td>\n",
       "      <td>0.898363</td>\n",
       "      <td>0.886752</td>\n",
       "      <td>0.845868</td>\n",
       "    </tr>\n",
       "    <tr>\n",
       "      <th>1</th>\n",
       "      <td>B-01</td>\n",
       "      <td>Area Normalized Score</td>\n",
       "      <td>0.826137</td>\n",
       "      <td>0.855885</td>\n",
       "      <td>0.884228</td>\n",
       "      <td>0.864969</td>\n",
       "      <td>0.904682</td>\n",
       "      <td>0.869999</td>\n",
       "      <td>0.828230</td>\n",
       "      <td>0.845600</td>\n",
       "      <td>0.831587</td>\n",
       "      <td>0.857619</td>\n",
       "      <td>0.869625</td>\n",
       "      <td>0.819506</td>\n",
       "    </tr>\n",
       "    <tr>\n",
       "      <th>2</th>\n",
       "      <td>B-01</td>\n",
       "      <td>Amenities &amp; Area Normalized Score</td>\n",
       "      <td>0.811959</td>\n",
       "      <td>0.823517</td>\n",
       "      <td>0.893130</td>\n",
       "      <td>0.858930</td>\n",
       "      <td>0.907962</td>\n",
       "      <td>0.857665</td>\n",
       "      <td>0.809202</td>\n",
       "      <td>0.825962</td>\n",
       "      <td>0.831345</td>\n",
       "      <td>0.823218</td>\n",
       "      <td>0.854233</td>\n",
       "      <td>0.824545</td>\n",
       "    </tr>\n",
       "  </tbody>\n",
       "</table>\n",
       "</div>"
      ],
      "text/plain": [
       "  District                         score_type      2004      2005      2006  \\\n",
       "0     B-01             Naive Normalized Score  0.849094  0.894602  0.897871   \n",
       "1     B-01              Area Normalized Score  0.826137  0.855885  0.884228   \n",
       "2     B-01  Amenities & Area Normalized Score  0.811959  0.823517  0.893130   \n",
       "\n",
       "       2007      2008      2009      2010      2011      2012      2013  \\\n",
       "0  0.887889  0.915921  0.910679  0.870868  0.892876  0.879027  0.898363   \n",
       "1  0.864969  0.904682  0.869999  0.828230  0.845600  0.831587  0.857619   \n",
       "2  0.858930  0.907962  0.857665  0.809202  0.825962  0.831345  0.823218   \n",
       "\n",
       "       2014      2015  \n",
       "0  0.886752  0.845868  \n",
       "1  0.869625  0.819506  \n",
       "2  0.854233  0.824545  "
      ]
     },
     "execution_count": 22,
     "metadata": {},
     "output_type": "execute_result"
    }
   ],
   "source": [
    "pip.head(3)"
   ]
  },
  {
   "cell_type": "code",
   "execution_count": 23,
   "metadata": {
    "collapsed": false
   },
   "outputs": [
    {
     "data": {
      "text/html": [
       "<div>\n",
       "<table border=\"1\" class=\"dataframe\">\n",
       "  <thead>\n",
       "    <tr style=\"text-align: right;\">\n",
       "      <th></th>\n",
       "      <th>parkDistrict</th>\n",
       "      <th>2004</th>\n",
       "      <th>2005</th>\n",
       "      <th>2006</th>\n",
       "      <th>2007</th>\n",
       "      <th>2008</th>\n",
       "      <th>2009</th>\n",
       "      <th>2010</th>\n",
       "      <th>2011</th>\n",
       "      <th>2012</th>\n",
       "      <th>2013</th>\n",
       "      <th>2014</th>\n",
       "      <th>2015</th>\n",
       "    </tr>\n",
       "  </thead>\n",
       "  <tbody>\n",
       "    <tr>\n",
       "      <th>2</th>\n",
       "      <td>B-01</td>\n",
       "      <td>0.811959</td>\n",
       "      <td>0.823517</td>\n",
       "      <td>0.893130</td>\n",
       "      <td>0.858930</td>\n",
       "      <td>0.907962</td>\n",
       "      <td>0.857665</td>\n",
       "      <td>0.809202</td>\n",
       "      <td>0.825962</td>\n",
       "      <td>0.831345</td>\n",
       "      <td>0.823218</td>\n",
       "      <td>0.854233</td>\n",
       "      <td>0.824545</td>\n",
       "    </tr>\n",
       "    <tr>\n",
       "      <th>5</th>\n",
       "      <td>B-02</td>\n",
       "      <td>0.823093</td>\n",
       "      <td>0.887942</td>\n",
       "      <td>0.856790</td>\n",
       "      <td>0.885776</td>\n",
       "      <td>0.904120</td>\n",
       "      <td>0.882588</td>\n",
       "      <td>0.839114</td>\n",
       "      <td>0.879936</td>\n",
       "      <td>0.895369</td>\n",
       "      <td>0.888944</td>\n",
       "      <td>0.887673</td>\n",
       "      <td>0.873778</td>\n",
       "    </tr>\n",
       "    <tr>\n",
       "      <th>8</th>\n",
       "      <td>B-03</td>\n",
       "      <td>0.772929</td>\n",
       "      <td>0.769932</td>\n",
       "      <td>0.839572</td>\n",
       "      <td>0.873796</td>\n",
       "      <td>0.883658</td>\n",
       "      <td>0.866582</td>\n",
       "      <td>0.828191</td>\n",
       "      <td>0.793455</td>\n",
       "      <td>0.781544</td>\n",
       "      <td>0.780935</td>\n",
       "      <td>0.843759</td>\n",
       "      <td>0.793568</td>\n",
       "    </tr>\n",
       "    <tr>\n",
       "      <th>11</th>\n",
       "      <td>B-04</td>\n",
       "      <td>0.724969</td>\n",
       "      <td>0.902122</td>\n",
       "      <td>0.759681</td>\n",
       "      <td>0.846704</td>\n",
       "      <td>0.887488</td>\n",
       "      <td>0.835833</td>\n",
       "      <td>0.863949</td>\n",
       "      <td>0.879248</td>\n",
       "      <td>0.906519</td>\n",
       "      <td>0.811015</td>\n",
       "      <td>0.838412</td>\n",
       "      <td>0.844664</td>\n",
       "    </tr>\n",
       "    <tr>\n",
       "      <th>14</th>\n",
       "      <td>B-05</td>\n",
       "      <td>0.838465</td>\n",
       "      <td>0.802311</td>\n",
       "      <td>0.770706</td>\n",
       "      <td>0.843047</td>\n",
       "      <td>0.819823</td>\n",
       "      <td>0.687486</td>\n",
       "      <td>0.932864</td>\n",
       "      <td>0.854458</td>\n",
       "      <td>0.774530</td>\n",
       "      <td>0.836229</td>\n",
       "      <td>0.773768</td>\n",
       "      <td>0.888699</td>\n",
       "    </tr>\n",
       "  </tbody>\n",
       "</table>\n",
       "</div>"
      ],
      "text/plain": [
       "   parkDistrict      2004      2005      2006      2007      2008      2009  \\\n",
       "2          B-01  0.811959  0.823517  0.893130  0.858930  0.907962  0.857665   \n",
       "5          B-02  0.823093  0.887942  0.856790  0.885776  0.904120  0.882588   \n",
       "8          B-03  0.772929  0.769932  0.839572  0.873796  0.883658  0.866582   \n",
       "11         B-04  0.724969  0.902122  0.759681  0.846704  0.887488  0.835833   \n",
       "14         B-05  0.838465  0.802311  0.770706  0.843047  0.819823  0.687486   \n",
       "\n",
       "        2010      2011      2012      2013      2014      2015  \n",
       "2   0.809202  0.825962  0.831345  0.823218  0.854233  0.824545  \n",
       "5   0.839114  0.879936  0.895369  0.888944  0.887673  0.873778  \n",
       "8   0.828191  0.793455  0.781544  0.780935  0.843759  0.793568  \n",
       "11  0.863949  0.879248  0.906519  0.811015  0.838412  0.844664  \n",
       "14  0.932864  0.854458  0.774530  0.836229  0.773768  0.888699  "
      ]
     },
     "execution_count": 23,
     "metadata": {},
     "output_type": "execute_result"
    }
   ],
   "source": [
    "pip = pip[pip.score_type == 'Amenities & Area Normalized Score'][['District']+ [str(x) for x in xrange(2004,2016)]]\n",
    "pip = pip.rename(columns={'District':'parkDistrict'})\n",
    "pip.head()"
   ]
  },
  {
   "cell_type": "code",
   "execution_count": 61,
   "metadata": {
    "collapsed": false
   },
   "outputs": [],
   "source": [
    "def normalise_timeseries(df, label='parkDistrict'):\n",
    "    '''normalise timeseries seeing everything \n",
    "       but label as part of it'''\n",
    "    \n",
    "    cols_to_norm = [x for x in row.index if x!=label ]\n",
    "    survey_data[cols_to_norm] = survey_data[cols_to_norm].apply(lambda x: (x - x.mean()) / (x.max() - x.min()))\n",
    "#     print cols_to_norm\n",
    "#     print cols_to_norm\n",
    "#     \n",
    "    "
   ]
  },
  {
   "cell_type": "code",
   "execution_count": 62,
   "metadata": {
    "collapsed": false
   },
   "outputs": [
    {
     "name": "stdout",
     "output_type": "stream",
     "text": [
      "['2004', '2005', '2006', '2007', '2008', '2009', '2010', '2011', '2012', '2013', '2014', '2015']\n",
      "['2004', '2005', '2006', '2007', '2008', '2009', '2010', '2011', '2012', '2013', '2014', '2015']\n"
     ]
    },
    {
     "data": {
      "text/plain": [
       "2    None\n",
       "5    None\n",
       "dtype: object"
      ]
     },
     "execution_count": 62,
     "metadata": {},
     "output_type": "execute_result"
    }
   ],
   "source": [
    "pip.head(2).apply(normalise_timeseries, axis=1)"
   ]
  },
  {
   "cell_type": "code",
   "execution_count": null,
   "metadata": {
    "collapsed": true
   },
   "outputs": [],
   "source": []
  }
 ],
 "metadata": {
  "kernelspec": {
   "display_name": "Python 2",
   "language": "python",
   "name": "python2"
  },
  "language_info": {
   "codemirror_mode": {
    "name": "ipython",
    "version": 2
   },
   "file_extension": ".py",
   "mimetype": "text/x-python",
   "name": "python",
   "nbconvert_exporter": "python",
   "pygments_lexer": "ipython2",
   "version": "2.7.10"
  }
 },
 "nbformat": 4,
 "nbformat_minor": 0
}
