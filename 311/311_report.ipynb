{
 "cells": [
  {
   "cell_type": "markdown",
   "metadata": {},
   "source": [
    "# Investigating 311 Calls"
   ]
  },
  {
   "cell_type": "markdown",
   "metadata": {
    "collapsed": true
   },
   "source": [
    "## Requirements\n",
    "\n",
    "[required python libraries](libraries_list.md)"
   ]
  },
  {
   "cell_type": "markdown",
   "metadata": {},
   "source": [
    "## Data\n",
    "\n",
    "- [NYC_311_open_data](https://nycopendata.socrata.com/Social-Services/311-Service-Requests-from-2010-to-Present/erm2-nwe9)\n",
    "- parks shape file\n",
    "- multiple park property shapefiles\n",
    "- Park district boundaries\n",
    "- DPR PIP Inspections aggregated dataset\n",
    "\n",
    "\n",
    "[list of open park-related data sources](PARKS_OPEN_DATA.md)"
   ]
  },
  {
   "cell_type": "markdown",
   "metadata": {},
   "source": [
    "## I. collecting parks-related 311 Calls\n",
    "[Notebook](1_Raw_311_to_dataset.ipynb)\n",
    "\n",
    "- First, all data available on [NYC_311_open_data](https://nycopendata.socrata.com/Social-Services/311-Service-Requests-from-2010-to-Present/erm2-nwe9) was collected as raw csv files, one per year.\n",
    "- All data was merged into single file, and saved as a csv file\n",
    "- Then, we subsetted the data by **Agency**, keeping only DPR-related calls. this dataset was saved separately and is used as main 311 dataset."
   ]
  },
  {
   "cell_type": "markdown",
   "metadata": {},
   "source": [
    "## II. exploring 311 data"
   ]
  },
  {
   "cell_type": "markdown",
   "metadata": {},
   "source": [
    "[Notebook](2_311_exploration.ipynb)\n",
    "\n",
    "### plotted timeline of general 311 data\n",
    "![tline1](img/exploration1.png)\n",
    "### plotted timeline of DPR_311 data\n",
    "![tline2](img/exploration2.png)\n",
    "### plotted timeline of DPR_311 data, by park borough\n",
    "![tline3](img/exploration3.png)\n"
   ]
  },
  {
   "cell_type": "markdown",
   "metadata": {},
   "source": [
    "## III. Park naming Ontology"
   ]
  },
  {
   "cell_type": "markdown",
   "metadata": {},
   "source": [
    "all calls in 311_DPR dataset are geocoded either by longitude and latitude, or by the park property name (few calls were not geocoded or geocoded in an other way, so we didn't use them). While coordinates are easy to spatially join,\n",
    "**Park Facility Name** keeps all different names: from 1678 unique park names in 311 dataset, only 923 were recognized directly (1-1 match with DPR park signnames). All the others: \n",
    "\n",
    "- had slight differencies (or typos) in naming, abbreviations, \n",
    "- used old (expired) name of the park\n",
    "- property was converted\n",
    "- (mostly) property wasn't named by park name, but either by specific location (Grand Army Plaza) or visa versa, larger park unit (Central park)\n"
   ]
  },
  {
   "cell_type": "markdown",
   "metadata": {},
   "source": [
    "To match entities we developed an ontology, presented in key-value (wrong_name - clean_name or wrong_name - district ) dataframe. To do so, we used **fuzzywuzzy** library, which provides fuzzy match functional, and processed data in several \"cascades\", trying to match data to multiple DPR properties datasets. Still, a lot of the work was manual and empirical. We failed to find matchFew (6) calls. \n",
    "\n",
    "However, It seems that the final ontology can be used not only on this particular dataset, but for the newly collected data as well.\n",
    "\n",
    "- [Notebook](ONTOLOGY/Ontology2.0.ipynb)\n",
    "- [Onto_District_file](ONTOLOGY/onto_data/Ontology_verified2.csv)"
   ]
  },
  {
   "cell_type": "markdown",
   "metadata": {},
   "source": [
    "## IV. Computing park area for park districts\n",
    "\n",
    "For normalisation purposes, we aggregated park area per district by:\n",
    "\n",
    "- reading two shp files (park boundaries and park districts boundaries)\n",
    "\n",
    "- use spatial join on park centroids, getting **park district id** for each park\n",
    "- collect park area and number of parks for each district\n",
    "- collect park id's as array for each district\n",
    "- calculate percent of park area vs total area for each district\n",
    "\n",
    "- save districts with new data  as csv and geojson (**data/park_Districts_computed.csv**, **data/park_Districts_computed.geojson**)\n",
    "- save parks with area and **park district id** attribute (**data/parks_computed.geojson**)"
   ]
  },
  {
   "cell_type": "markdown",
   "metadata": {},
   "source": [
    "## V. Park_District Top Complains\n",
    "\n",
    "Using created Ontology, we were able to categorise most (all but 6) complains to the park District. By Grouping calls by park District, we were able to create top-complain type tables for each park, for the whole time. \n",
    "\n",
    "[Tables](district_complain_tables/)"
   ]
  },
  {
   "cell_type": "markdown",
   "metadata": {},
   "source": [
    "## VI. 311 TimeSeries\n",
    "\n",
    "Using created Ontology, we were able to categorise most (all but 6) complains to the park District. With that, we were able to aggregate 311 calls per District and look at park_district timeseries, year based, from 2010 to 2015.\n",
    "\n",
    "[Notebook](5_Calls_TImeseries.ipynb)"
   ]
  },
  {
   "cell_type": "markdown",
   "metadata": {},
   "source": [
    "## VII. Timeseries of Park Inspections \n",
    "\n",
    "Timeseries of Park Inspections  scores per District were computed using modification of previously created script (script was also updated to compute scores per park district)\n",
    "\n",
    "- [PIP_Timeseries_script](PIP_ts.py)\n",
    "- [PIP_analysis](PIP_analysis.py)"
   ]
  },
  {
   "cell_type": "markdown",
   "metadata": {},
   "source": [
    "## VIII. Correlation\n",
    "\n",
    "Unfortunately, we did not discover only weak negative correlation between two timeseries\n",
    "[Notebook](6_Timeseries_corellation.ipynb)\n",
    "![ts](img/calls_scores.png)\n",
    "![corr](img/corr311_naive.png)"
   ]
  },
  {
   "cell_type": "markdown",
   "metadata": {},
   "source": [
    "## IIX. Mapping complains\n",
    "\n",
    "![map](img/map1.png)\n",
    "![map](img/map2.png)"
   ]
  },
  {
   "cell_type": "code",
   "execution_count": null,
   "metadata": {
    "collapsed": true
   },
   "outputs": [],
   "source": []
  }
 ],
 "metadata": {
  "kernelspec": {
   "display_name": "Python 2",
   "language": "python",
   "name": "python2"
  },
  "language_info": {
   "codemirror_mode": {
    "name": "ipython",
    "version": 2
   },
   "file_extension": ".py",
   "mimetype": "text/x-python",
   "name": "python",
   "nbconvert_exporter": "python",
   "pygments_lexer": "ipython2",
   "version": "2.7.10"
  }
 },
 "nbformat": 4,
 "nbformat_minor": 0
}
