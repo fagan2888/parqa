{
 "cells": [
  {
   "cell_type": "code",
   "execution_count": 18,
   "metadata": {
    "collapsed": false
   },
   "outputs": [
    {
     "name": "stdout",
     "output_type": "stream",
     "text": [
      "Populating the interactive namespace from numpy and matplotlib\n"
     ]
    },
    {
     "name": "stderr",
     "output_type": "stream",
     "text": [
      "WARNING: pylab import has clobbered these variables: ['random', 'plt']\n",
      "`%matplotlib` prevents importing * from pylab and numpy\n"
     ]
    }
   ],
   "source": [
    "__author__ = \"me\"\n",
    "__date__ = \"2015_10_13\"\n",
    "\n",
    "%pylab inline\n",
    "import pandas as pd\n",
    "import geopandas as gp\n",
    "import numpy as np\n",
    "import random\n",
    "\n",
    "import pylab as plt\n",
    "import os\n",
    "\n",
    "from geopandas.tools import sjoin\n",
    "from shapely.geometry import Point\n",
    "\n",
    "from fuzzywuzzy import process\n",
    "\n",
    "import requests\n",
    "s = requests.get(\"https://raw.githubusercontent.com/Casyfill/CUSP_templates/master/Py/fbMatplotlibrc.json\").json()\n",
    "plt.rcParams.update(s)\n",
    "\n",
    "numpy.random.seed(2015)\n",
    "\n",
    "PARQA = os.getenv('PARQA')"
   ]
  },
  {
   "cell_type": "markdown",
   "metadata": {},
   "source": [
    "## Split calls to named and geolocated"
   ]
  },
  {
   "cell_type": "code",
   "execution_count": 34,
   "metadata": {
    "collapsed": false
   },
   "outputs": [],
   "source": [
    "calls = pd.read_csv(PARQA + 'data/311/311DPR.csv', encoding='utf8', na_values='Unspecified')"
   ]
  },
  {
   "cell_type": "code",
   "execution_count": 35,
   "metadata": {
    "collapsed": false
   },
   "outputs": [
    {
     "name": "stderr",
     "output_type": "stream",
     "text": [
      "/Users/casy/anaconda/lib/python2.7/site-packages/ipykernel/__main__.py:2: SettingWithCopyWarning: \n",
      "A value is trying to be set on a copy of a slice from a DataFrame.\n",
      "Try using .loc[row_indexer,col_indexer] = value instead\n",
      "\n",
      "See the caveats in the documentation: http://pandas.pydata.org/pandas-docs/stable/indexing.html#indexing-view-versus-copy\n",
      "  from ipykernel import kernelapp as app\n"
     ]
    }
   ],
   "source": [
    "myCalls = calls[['Park Facility Name','Descriptor','Created Date','Closed Date','Longitude','Latitude','Location Type', 'Complaint Type']]\n",
    "myCalls['Park Facility Name'] = myCalls['Park Facility Name'].str.lower()\n",
    "myCalls['Park Facility Name'].head()\n",
    "\n",
    "\n",
    "namedCalls = myCalls[pd.notnull(myCalls['Park Facility Name'])]\n",
    "geoCalls = myCalls[(pd.isnull(myCalls['Park Facility Name'])) & (pd.notnull(myCalls.Latitude))]"
   ]
  },
  {
   "cell_type": "code",
   "execution_count": 36,
   "metadata": {
    "collapsed": false
   },
   "outputs": [
    {
     "data": {
      "text/html": [
       "<div>\n",
       "<table border=\"1\" class=\"dataframe\">\n",
       "  <thead>\n",
       "    <tr style=\"text-align: right;\">\n",
       "      <th></th>\n",
       "      <th>Park Facility Name</th>\n",
       "      <th>Descriptor</th>\n",
       "      <th>Created Date</th>\n",
       "      <th>Closed Date</th>\n",
       "      <th>Longitude</th>\n",
       "      <th>Latitude</th>\n",
       "      <th>Location Type</th>\n",
       "      <th>Complaint Type</th>\n",
       "    </tr>\n",
       "  </thead>\n",
       "  <tbody>\n",
       "    <tr>\n",
       "      <th>0</th>\n",
       "      <td>NaN</td>\n",
       "      <td>Snow or Ice</td>\n",
       "      <td>12/31/2010 09:04:48 PM</td>\n",
       "      <td>01/03/2011 12:03:59 PM</td>\n",
       "      <td>-73.931120</td>\n",
       "      <td>40.668798</td>\n",
       "      <td>Park</td>\n",
       "      <td>Maintenance or Facility</td>\n",
       "    </tr>\n",
       "    <tr>\n",
       "      <th>3</th>\n",
       "      <td>NaN</td>\n",
       "      <td>Snow or Ice</td>\n",
       "      <td>12/31/2010 03:36:37 PM</td>\n",
       "      <td>01/03/2011 09:41:24 AM</td>\n",
       "      <td>-73.962835</td>\n",
       "      <td>40.688556</td>\n",
       "      <td>Park</td>\n",
       "      <td>Maintenance or Facility</td>\n",
       "    </tr>\n",
       "    <tr>\n",
       "      <th>4</th>\n",
       "      <td>NaN</td>\n",
       "      <td>Snow or Ice</td>\n",
       "      <td>12/31/2010 03:03:16 PM</td>\n",
       "      <td>01/03/2011 12:15:38 PM</td>\n",
       "      <td>-73.999809</td>\n",
       "      <td>40.636935</td>\n",
       "      <td>Park</td>\n",
       "      <td>Maintenance or Facility</td>\n",
       "    </tr>\n",
       "    <tr>\n",
       "      <th>6</th>\n",
       "      <td>NaN</td>\n",
       "      <td>Snow or Ice</td>\n",
       "      <td>12/31/2010 12:59:59 PM</td>\n",
       "      <td>01/03/2011 12:23:04 PM</td>\n",
       "      <td>-73.999456</td>\n",
       "      <td>40.609951</td>\n",
       "      <td>Park</td>\n",
       "      <td>Maintenance or Facility</td>\n",
       "    </tr>\n",
       "    <tr>\n",
       "      <th>7</th>\n",
       "      <td>NaN</td>\n",
       "      <td>Snow or Ice</td>\n",
       "      <td>12/31/2010 12:12:02 PM</td>\n",
       "      <td>01/03/2011 12:19:51 PM</td>\n",
       "      <td>-73.977616</td>\n",
       "      <td>40.633153</td>\n",
       "      <td>Park</td>\n",
       "      <td>Maintenance or Facility</td>\n",
       "    </tr>\n",
       "  </tbody>\n",
       "</table>\n",
       "</div>"
      ],
      "text/plain": [
       "  Park Facility Name   Descriptor            Created Date  \\\n",
       "0                NaN  Snow or Ice  12/31/2010 09:04:48 PM   \n",
       "3                NaN  Snow or Ice  12/31/2010 03:36:37 PM   \n",
       "4                NaN  Snow or Ice  12/31/2010 03:03:16 PM   \n",
       "6                NaN  Snow or Ice  12/31/2010 12:59:59 PM   \n",
       "7                NaN  Snow or Ice  12/31/2010 12:12:02 PM   \n",
       "\n",
       "              Closed Date  Longitude   Latitude Location Type  \\\n",
       "0  01/03/2011 12:03:59 PM -73.931120  40.668798          Park   \n",
       "3  01/03/2011 09:41:24 AM -73.962835  40.688556          Park   \n",
       "4  01/03/2011 12:15:38 PM -73.999809  40.636935          Park   \n",
       "6  01/03/2011 12:23:04 PM -73.999456  40.609951          Park   \n",
       "7  01/03/2011 12:19:51 PM -73.977616  40.633153          Park   \n",
       "\n",
       "            Complaint Type  \n",
       "0  Maintenance or Facility  \n",
       "3  Maintenance or Facility  \n",
       "4  Maintenance or Facility  \n",
       "6  Maintenance or Facility  \n",
       "7  Maintenance or Facility  "
      ]
     },
     "execution_count": 36,
     "metadata": {},
     "output_type": "execute_result"
    }
   ],
   "source": [
    "geoCalls.head()"
   ]
  },
  {
   "cell_type": "markdown",
   "metadata": {},
   "source": [
    "## GeoCalls: spatial join with parks to get parkName"
   ]
  },
  {
   "cell_type": "code",
   "execution_count": 37,
   "metadata": {
    "collapsed": true
   },
   "outputs": [],
   "source": [
    "parks = gp.read_file(PARQA + 'data/SHP/DPR_ParksProperties_001/DPR_ParksProperties_001.shp')[['geometry','SIGNNAME']]"
   ]
  },
  {
   "cell_type": "code",
   "execution_count": 38,
   "metadata": {
    "collapsed": false
   },
   "outputs": [
    {
     "data": {
      "text/plain": [
       "Index([u'geometry', u'SIGNNAME'], dtype='object')"
      ]
     },
     "execution_count": 38,
     "metadata": {},
     "output_type": "execute_result"
    }
   ],
   "source": [
    "parks.columns"
   ]
  },
  {
   "cell_type": "code",
   "execution_count": 39,
   "metadata": {
    "collapsed": true
   },
   "outputs": [],
   "source": [
    "def toGeoDataFrame(df, lat='Latitude',lon='Longitude'):\n",
    "    '''dataframe to geodataframe'''\n",
    "    df['geometry'] = df.apply(lambda z: Point(z[lon], z[lat]), axis=1)\n",
    "    df = gp.GeoDataFrame(df)\n",
    "    df.crs = {'init': 'epsg:4326', 'no_defs': True}\n",
    "    return df "
   ]
  },
  {
   "cell_type": "code",
   "execution_count": 40,
   "metadata": {
    "collapsed": false
   },
   "outputs": [
    {
     "name": "stderr",
     "output_type": "stream",
     "text": [
      "/Users/casy/anaconda/lib/python2.7/site-packages/ipykernel/__main__.py:3: SettingWithCopyWarning: \n",
      "A value is trying to be set on a copy of a slice from a DataFrame.\n",
      "Try using .loc[row_indexer,col_indexer] = value instead\n",
      "\n",
      "See the caveats in the documentation: http://pandas.pydata.org/pandas-docs/stable/indexing.html#indexing-view-versus-copy\n",
      "  app.launch_new_instance()\n"
     ]
    }
   ],
   "source": [
    "geoCalls = toGeoDataFrame(geoCalls).to_crs(parks.crs)"
   ]
  },
  {
   "cell_type": "code",
   "execution_count": 41,
   "metadata": {
    "collapsed": false
   },
   "outputs": [],
   "source": [
    "geoCalls = sjoin(geoCalls, parks, how=\"left\").to_crs(epsg=4326)"
   ]
  },
  {
   "cell_type": "code",
   "execution_count": 48,
   "metadata": {
    "collapsed": false
   },
   "outputs": [],
   "source": [
    "geoCalls = geoCalls[pd.notnull(geoCalls.SIGNNAME)]\n",
    "geoCalls['Park Facility Name'] = geoCalls['SIGNNAME']\n",
    "geoCalls = geoCalls[['Park Facility Name','Descriptor','Created Date','Closed Date','Longitude','Latitude','Location Type', 'Complaint Type']]"
   ]
  },
  {
   "cell_type": "code",
   "execution_count": 49,
   "metadata": {
    "collapsed": false
   },
   "outputs": [
    {
     "data": {
      "text/html": [
       "<div>\n",
       "<table border=\"1\" class=\"dataframe\">\n",
       "  <thead>\n",
       "    <tr style=\"text-align: right;\">\n",
       "      <th></th>\n",
       "      <th>Park Facility Name</th>\n",
       "      <th>Descriptor</th>\n",
       "      <th>Created Date</th>\n",
       "      <th>Closed Date</th>\n",
       "      <th>Longitude</th>\n",
       "      <th>Latitude</th>\n",
       "      <th>Location Type</th>\n",
       "      <th>Complaint Type</th>\n",
       "    </tr>\n",
       "  </thead>\n",
       "  <tbody>\n",
       "    <tr>\n",
       "      <th>398</th>\n",
       "      <td>Grand Army Plaza</td>\n",
       "      <td>Rodent Sighting</td>\n",
       "      <td>12/02/2010 10:45:42 AM</td>\n",
       "      <td>12/06/2010 09:34:00 AM</td>\n",
       "      <td>-73.968730</td>\n",
       "      <td>40.673928</td>\n",
       "      <td>Park</td>\n",
       "      <td>Maintenance or Facility</td>\n",
       "    </tr>\n",
       "    <tr>\n",
       "      <th>744</th>\n",
       "      <td>Grand Army Plaza</td>\n",
       "      <td>Rodent Sighting</td>\n",
       "      <td>11/11/2010 03:08:10 PM</td>\n",
       "      <td>11/15/2010 09:52:24 AM</td>\n",
       "      <td>-73.969000</td>\n",
       "      <td>40.674713</td>\n",
       "      <td>Park</td>\n",
       "      <td>Maintenance or Facility</td>\n",
       "    </tr>\n",
       "    <tr>\n",
       "      <th>1543</th>\n",
       "      <td>Grand Army Plaza</td>\n",
       "      <td>Rodent Sighting</td>\n",
       "      <td>10/03/2010 07:15:35 PM</td>\n",
       "      <td>10/05/2010 09:06:58 AM</td>\n",
       "      <td>-73.970749</td>\n",
       "      <td>40.672638</td>\n",
       "      <td>Park</td>\n",
       "      <td>Maintenance or Facility</td>\n",
       "    </tr>\n",
       "    <tr>\n",
       "      <th>2235</th>\n",
       "      <td>Grand Army Plaza</td>\n",
       "      <td>Rodent Sighting</td>\n",
       "      <td>09/11/2010 10:14:20 PM</td>\n",
       "      <td>09/15/2010 10:35:05 AM</td>\n",
       "      <td>-73.968730</td>\n",
       "      <td>40.673928</td>\n",
       "      <td>Park</td>\n",
       "      <td>Maintenance or Facility</td>\n",
       "    </tr>\n",
       "    <tr>\n",
       "      <th>2705</th>\n",
       "      <td>Grand Army Plaza</td>\n",
       "      <td>Rodent Sighting</td>\n",
       "      <td>08/31/2010 10:18:33 AM</td>\n",
       "      <td>09/01/2010 04:18:46 PM</td>\n",
       "      <td>-73.968925</td>\n",
       "      <td>40.672937</td>\n",
       "      <td>Park</td>\n",
       "      <td>Maintenance or Facility</td>\n",
       "    </tr>\n",
       "  </tbody>\n",
       "</table>\n",
       "</div>"
      ],
      "text/plain": [
       "     Park Facility Name       Descriptor            Created Date  \\\n",
       "398    Grand Army Plaza  Rodent Sighting  12/02/2010 10:45:42 AM   \n",
       "744    Grand Army Plaza  Rodent Sighting  11/11/2010 03:08:10 PM   \n",
       "1543   Grand Army Plaza  Rodent Sighting  10/03/2010 07:15:35 PM   \n",
       "2235   Grand Army Plaza  Rodent Sighting  09/11/2010 10:14:20 PM   \n",
       "2705   Grand Army Plaza  Rodent Sighting  08/31/2010 10:18:33 AM   \n",
       "\n",
       "                 Closed Date  Longitude   Latitude Location Type  \\\n",
       "398   12/06/2010 09:34:00 AM -73.968730  40.673928          Park   \n",
       "744   11/15/2010 09:52:24 AM -73.969000  40.674713          Park   \n",
       "1543  10/05/2010 09:06:58 AM -73.970749  40.672638          Park   \n",
       "2235  09/15/2010 10:35:05 AM -73.968730  40.673928          Park   \n",
       "2705  09/01/2010 04:18:46 PM -73.968925  40.672937          Park   \n",
       "\n",
       "               Complaint Type  \n",
       "398   Maintenance or Facility  \n",
       "744   Maintenance or Facility  \n",
       "1543  Maintenance or Facility  \n",
       "2235  Maintenance or Facility  \n",
       "2705  Maintenance or Facility  "
      ]
     },
     "execution_count": 49,
     "metadata": {},
     "output_type": "execute_result"
    }
   ],
   "source": [
    "geoCalls.head()"
   ]
  },
  {
   "cell_type": "code",
   "execution_count": 51,
   "metadata": {
    "collapsed": false
   },
   "outputs": [],
   "source": [
    "calls2 = pd.concat([namedCalls, geoCalls])"
   ]
  },
  {
   "cell_type": "code",
   "execution_count": 52,
   "metadata": {
    "collapsed": false
   },
   "outputs": [
    {
     "data": {
      "text/html": [
       "<div>\n",
       "<table border=\"1\" class=\"dataframe\">\n",
       "  <thead>\n",
       "    <tr style=\"text-align: right;\">\n",
       "      <th></th>\n",
       "      <th>Park Facility Name</th>\n",
       "      <th>Descriptor</th>\n",
       "      <th>Created Date</th>\n",
       "      <th>Closed Date</th>\n",
       "      <th>Longitude</th>\n",
       "      <th>Latitude</th>\n",
       "      <th>Location Type</th>\n",
       "      <th>Complaint Type</th>\n",
       "    </tr>\n",
       "  </thead>\n",
       "  <tbody>\n",
       "    <tr>\n",
       "      <th>1</th>\n",
       "      <td>geo soilan park - battery park city</td>\n",
       "      <td>Graffiti or Vandalism</td>\n",
       "      <td>12/31/2010 04:31:52 PM</td>\n",
       "      <td>12/31/2010 05:36:58 PM</td>\n",
       "      <td>NaN</td>\n",
       "      <td>NaN</td>\n",
       "      <td>Park</td>\n",
       "      <td>Maintenance or Facility</td>\n",
       "    </tr>\n",
       "    <tr>\n",
       "      <th>2</th>\n",
       "      <td>brookville park</td>\n",
       "      <td>Snow or Ice</td>\n",
       "      <td>12/31/2010 04:17:22 PM</td>\n",
       "      <td>01/06/2011 08:58:30 AM</td>\n",
       "      <td>NaN</td>\n",
       "      <td>NaN</td>\n",
       "      <td>Park</td>\n",
       "      <td>Maintenance or Facility</td>\n",
       "    </tr>\n",
       "    <tr>\n",
       "      <th>5</th>\n",
       "      <td>highland park</td>\n",
       "      <td>Snow or Ice</td>\n",
       "      <td>12/31/2010 02:57:34 PM</td>\n",
       "      <td>01/03/2011 11:31:26 AM</td>\n",
       "      <td>NaN</td>\n",
       "      <td>NaN</td>\n",
       "      <td>Park</td>\n",
       "      <td>Maintenance or Facility</td>\n",
       "    </tr>\n",
       "    <tr>\n",
       "      <th>10</th>\n",
       "      <td>prospect park - east parade grounds</td>\n",
       "      <td>Dead Animal</td>\n",
       "      <td>12/31/2010 11:26:34 AM</td>\n",
       "      <td>01/03/2011 11:12:37 AM</td>\n",
       "      <td>NaN</td>\n",
       "      <td>NaN</td>\n",
       "      <td>Park</td>\n",
       "      <td>Animal in a Park</td>\n",
       "    </tr>\n",
       "    <tr>\n",
       "      <th>11</th>\n",
       "      <td>central park - east 96th street playground</td>\n",
       "      <td>Snow or Ice</td>\n",
       "      <td>12/31/2010 11:18:31 AM</td>\n",
       "      <td>01/04/2011 12:11:02 PM</td>\n",
       "      <td>NaN</td>\n",
       "      <td>NaN</td>\n",
       "      <td>Park</td>\n",
       "      <td>Maintenance or Facility</td>\n",
       "    </tr>\n",
       "  </tbody>\n",
       "</table>\n",
       "</div>"
      ],
      "text/plain": [
       "                            Park Facility Name             Descriptor  \\\n",
       "1          geo soilan park - battery park city  Graffiti or Vandalism   \n",
       "2                              brookville park            Snow or Ice   \n",
       "5                                highland park            Snow or Ice   \n",
       "10         prospect park - east parade grounds            Dead Animal   \n",
       "11  central park - east 96th street playground            Snow or Ice   \n",
       "\n",
       "              Created Date             Closed Date  Longitude  Latitude  \\\n",
       "1   12/31/2010 04:31:52 PM  12/31/2010 05:36:58 PM        NaN       NaN   \n",
       "2   12/31/2010 04:17:22 PM  01/06/2011 08:58:30 AM        NaN       NaN   \n",
       "5   12/31/2010 02:57:34 PM  01/03/2011 11:31:26 AM        NaN       NaN   \n",
       "10  12/31/2010 11:26:34 AM  01/03/2011 11:12:37 AM        NaN       NaN   \n",
       "11  12/31/2010 11:18:31 AM  01/04/2011 12:11:02 PM        NaN       NaN   \n",
       "\n",
       "   Location Type           Complaint Type  \n",
       "1           Park  Maintenance or Facility  \n",
       "2           Park  Maintenance or Facility  \n",
       "5           Park  Maintenance or Facility  \n",
       "10          Park         Animal in a Park  \n",
       "11          Park  Maintenance or Facility  "
      ]
     },
     "execution_count": 52,
     "metadata": {},
     "output_type": "execute_result"
    }
   ],
   "source": [
    "calls2.head()"
   ]
  },
  {
   "cell_type": "code",
   "execution_count": 53,
   "metadata": {
    "collapsed": false
   },
   "outputs": [
    {
     "data": {
      "text/plain": [
       "(55095, 8)"
      ]
     },
     "execution_count": 53,
     "metadata": {},
     "output_type": "execute_result"
    }
   ],
   "source": [
    "calls2.shape"
   ]
  },
  {
   "cell_type": "code",
   "execution_count": null,
   "metadata": {
    "collapsed": true
   },
   "outputs": [],
   "source": []
  }
 ],
 "metadata": {
  "kernelspec": {
   "display_name": "Python 2",
   "language": "python",
   "name": "python2"
  },
  "language_info": {
   "codemirror_mode": {
    "name": "ipython",
    "version": 2
   },
   "file_extension": ".py",
   "mimetype": "text/x-python",
   "name": "python",
   "nbconvert_exporter": "python",
   "pygments_lexer": "ipython2",
   "version": "2.7.10"
  }
 },
 "nbformat": 4,
 "nbformat_minor": 0
}
