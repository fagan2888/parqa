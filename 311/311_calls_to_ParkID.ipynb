{
 "cells": [
  {
   "cell_type": "code",
   "execution_count": 1,
   "metadata": {
    "collapsed": false
   },
   "outputs": [
    {
     "name": "stdout",
     "output_type": "stream",
     "text": [
      "Populating the interactive namespace from numpy and matplotlib\n"
     ]
    },
    {
     "name": "stderr",
     "output_type": "stream",
     "text": [
      "/Users/casy/anaconda/lib/python2.7/site-packages/matplotlib/__init__.py:855: UserWarning: svg.embed_char_paths is deprecated and replaced with svg.fonttype; please use the latter.\n",
      "  warnings.warn(self.msg_depr % (key, alt_key))\n"
     ]
    }
   ],
   "source": [
    "__author__ = \"me\"\n",
    "__date__ = \"2015_10_13\"\n",
    "\n",
    "%pylab inline\n",
    "import pandas as pd\n",
    "import geopandas as gp\n",
    "import numpy as np\n",
    "import random\n",
    "\n",
    "import pylab as plt\n",
    "import os\n",
    "\n",
    "from geopandas.tools import sjoin\n",
    "from shapely.geometry import Point\n",
    "\n",
    "from fuzzywuzzy import process\n",
    "\n",
    "import requests\n",
    "s = requests.get(\"https://raw.githubusercontent.com/Casyfill/CUSP_templates/master/Py/fbMatplotlibrc.json\").json()\n",
    "plt.rcParams.update(s)\n",
    "\n",
    "numpy.random.seed(2015)\n",
    "\n",
    "PARQA = os.getenv('PARQA')"
   ]
  },
  {
   "cell_type": "markdown",
   "metadata": {},
   "source": [
    "## Split calls to named and geolocated"
   ]
  },
  {
   "cell_type": "code",
   "execution_count": 2,
   "metadata": {
    "collapsed": false
   },
   "outputs": [
    {
     "name": "stderr",
     "output_type": "stream",
     "text": [
      "/Users/casy/anaconda/lib/python2.7/site-packages/IPython/core/interactiveshell.py:2902: DtypeWarning: Columns (18) have mixed types. Specify dtype option on import or set low_memory=False.\n",
      "  interactivity=interactivity, compiler=compiler, result=result)\n"
     ]
    }
   ],
   "source": [
    "calls = pd.read_csv(PARQA + 'data/311/311DPR.csv', encoding='utf8', na_values='Unspecified')"
   ]
  },
  {
   "cell_type": "code",
   "execution_count": 3,
   "metadata": {
    "collapsed": false
   },
   "outputs": [
    {
     "name": "stderr",
     "output_type": "stream",
     "text": [
      "/Users/casy/anaconda/lib/python2.7/site-packages/ipykernel/__main__.py:2: SettingWithCopyWarning: \n",
      "A value is trying to be set on a copy of a slice from a DataFrame.\n",
      "Try using .loc[row_indexer,col_indexer] = value instead\n",
      "\n",
      "See the caveats in the documentation: http://pandas.pydata.org/pandas-docs/stable/indexing.html#indexing-view-versus-copy\n",
      "  from ipykernel import kernelapp as app\n"
     ]
    }
   ],
   "source": [
    "myCalls = calls[['Park Facility Name','Descriptor','Created Date','Closed Date','Longitude','Latitude','Location Type', 'Complaint Type']]\n",
    "myCalls['Park Facility Name'] = myCalls['Park Facility Name'].str.lower()\n",
    "myCalls['Park Facility Name'].head()\n",
    "\n",
    "\n",
    "namedCalls = myCalls[pd.notnull(myCalls['Park Facility Name'])]\n",
    "geoCalls = myCalls[(pd.isnull(myCalls['Park Facility Name'])) & (pd.notnull(myCalls.Latitude))]"
   ]
  },
  {
   "cell_type": "code",
   "execution_count": 4,
   "metadata": {
    "collapsed": false
   },
   "outputs": [
    {
     "data": {
      "text/html": [
       "<div>\n",
       "<table border=\"1\" class=\"dataframe\">\n",
       "  <thead>\n",
       "    <tr style=\"text-align: right;\">\n",
       "      <th></th>\n",
       "      <th>Park Facility Name</th>\n",
       "      <th>Descriptor</th>\n",
       "      <th>Created Date</th>\n",
       "      <th>Closed Date</th>\n",
       "      <th>Longitude</th>\n",
       "      <th>Latitude</th>\n",
       "      <th>Location Type</th>\n",
       "      <th>Complaint Type</th>\n",
       "    </tr>\n",
       "  </thead>\n",
       "  <tbody>\n",
       "    <tr>\n",
       "      <th>0</th>\n",
       "      <td>NaN</td>\n",
       "      <td>Snow or Ice</td>\n",
       "      <td>12/31/2010 09:04:48 PM</td>\n",
       "      <td>01/03/2011 12:03:59 PM</td>\n",
       "      <td>-73.931120</td>\n",
       "      <td>40.668798</td>\n",
       "      <td>Park</td>\n",
       "      <td>Maintenance or Facility</td>\n",
       "    </tr>\n",
       "    <tr>\n",
       "      <th>3</th>\n",
       "      <td>NaN</td>\n",
       "      <td>Snow or Ice</td>\n",
       "      <td>12/31/2010 03:36:37 PM</td>\n",
       "      <td>01/03/2011 09:41:24 AM</td>\n",
       "      <td>-73.962835</td>\n",
       "      <td>40.688556</td>\n",
       "      <td>Park</td>\n",
       "      <td>Maintenance or Facility</td>\n",
       "    </tr>\n",
       "    <tr>\n",
       "      <th>4</th>\n",
       "      <td>NaN</td>\n",
       "      <td>Snow or Ice</td>\n",
       "      <td>12/31/2010 03:03:16 PM</td>\n",
       "      <td>01/03/2011 12:15:38 PM</td>\n",
       "      <td>-73.999809</td>\n",
       "      <td>40.636935</td>\n",
       "      <td>Park</td>\n",
       "      <td>Maintenance or Facility</td>\n",
       "    </tr>\n",
       "    <tr>\n",
       "      <th>6</th>\n",
       "      <td>NaN</td>\n",
       "      <td>Snow or Ice</td>\n",
       "      <td>12/31/2010 12:59:59 PM</td>\n",
       "      <td>01/03/2011 12:23:04 PM</td>\n",
       "      <td>-73.999456</td>\n",
       "      <td>40.609951</td>\n",
       "      <td>Park</td>\n",
       "      <td>Maintenance or Facility</td>\n",
       "    </tr>\n",
       "    <tr>\n",
       "      <th>7</th>\n",
       "      <td>NaN</td>\n",
       "      <td>Snow or Ice</td>\n",
       "      <td>12/31/2010 12:12:02 PM</td>\n",
       "      <td>01/03/2011 12:19:51 PM</td>\n",
       "      <td>-73.977616</td>\n",
       "      <td>40.633153</td>\n",
       "      <td>Park</td>\n",
       "      <td>Maintenance or Facility</td>\n",
       "    </tr>\n",
       "  </tbody>\n",
       "</table>\n",
       "</div>"
      ],
      "text/plain": [
       "  Park Facility Name   Descriptor            Created Date  \\\n",
       "0                NaN  Snow or Ice  12/31/2010 09:04:48 PM   \n",
       "3                NaN  Snow or Ice  12/31/2010 03:36:37 PM   \n",
       "4                NaN  Snow or Ice  12/31/2010 03:03:16 PM   \n",
       "6                NaN  Snow or Ice  12/31/2010 12:59:59 PM   \n",
       "7                NaN  Snow or Ice  12/31/2010 12:12:02 PM   \n",
       "\n",
       "              Closed Date  Longitude   Latitude Location Type  \\\n",
       "0  01/03/2011 12:03:59 PM -73.931120  40.668798          Park   \n",
       "3  01/03/2011 09:41:24 AM -73.962835  40.688556          Park   \n",
       "4  01/03/2011 12:15:38 PM -73.999809  40.636935          Park   \n",
       "6  01/03/2011 12:23:04 PM -73.999456  40.609951          Park   \n",
       "7  01/03/2011 12:19:51 PM -73.977616  40.633153          Park   \n",
       "\n",
       "            Complaint Type  \n",
       "0  Maintenance or Facility  \n",
       "3  Maintenance or Facility  \n",
       "4  Maintenance or Facility  \n",
       "6  Maintenance or Facility  \n",
       "7  Maintenance or Facility  "
      ]
     },
     "execution_count": 4,
     "metadata": {},
     "output_type": "execute_result"
    }
   ],
   "source": [
    "geoCalls.head()"
   ]
  },
  {
   "cell_type": "markdown",
   "metadata": {},
   "source": [
    "## GeoCalls: spatial join with parks to get parkName"
   ]
  },
  {
   "cell_type": "code",
   "execution_count": 5,
   "metadata": {
    "collapsed": true
   },
   "outputs": [],
   "source": [
    "parks = gp.read_file(PARQA + 'data/SHP/DPR_ParksProperties_001/DPR_ParksProperties_001.shp')[['geometry','SIGNNAME']]"
   ]
  },
  {
   "cell_type": "code",
   "execution_count": 6,
   "metadata": {
    "collapsed": false
   },
   "outputs": [
    {
     "data": {
      "text/plain": [
       "Index([u'geometry', u'SIGNNAME'], dtype='object')"
      ]
     },
     "execution_count": 6,
     "metadata": {},
     "output_type": "execute_result"
    }
   ],
   "source": [
    "parks.columns"
   ]
  },
  {
   "cell_type": "code",
   "execution_count": 7,
   "metadata": {
    "collapsed": true
   },
   "outputs": [],
   "source": [
    "def toGeoDataFrame(df, lat='Latitude',lon='Longitude'):\n",
    "    '''dataframe to geodataframe'''\n",
    "    df['geometry'] = df.apply(lambda z: Point(z[lon], z[lat]), axis=1)\n",
    "    df = gp.GeoDataFrame(df)\n",
    "    df.crs = {'init': 'epsg:4326', 'no_defs': True}\n",
    "    return df "
   ]
  },
  {
   "cell_type": "code",
   "execution_count": 8,
   "metadata": {
    "collapsed": false
   },
   "outputs": [
    {
     "name": "stderr",
     "output_type": "stream",
     "text": [
      "/Users/casy/anaconda/lib/python2.7/site-packages/ipykernel/__main__.py:3: SettingWithCopyWarning: \n",
      "A value is trying to be set on a copy of a slice from a DataFrame.\n",
      "Try using .loc[row_indexer,col_indexer] = value instead\n",
      "\n",
      "See the caveats in the documentation: http://pandas.pydata.org/pandas-docs/stable/indexing.html#indexing-view-versus-copy\n",
      "  app.launch_new_instance()\n"
     ]
    }
   ],
   "source": [
    "geoCalls = toGeoDataFrame(geoCalls).to_crs(parks.crs)"
   ]
  },
  {
   "cell_type": "code",
   "execution_count": 9,
   "metadata": {
    "collapsed": false
   },
   "outputs": [],
   "source": [
    "geoCalls = sjoin(geoCalls, parks, how=\"left\").to_crs(epsg=4326)"
   ]
  },
  {
   "cell_type": "code",
   "execution_count": 10,
   "metadata": {
    "collapsed": false
   },
   "outputs": [],
   "source": [
    "geoCalls = geoCalls[pd.notnull(geoCalls.SIGNNAME)]\n",
    "geoCalls['Park Facility Name'] = geoCalls['SIGNNAME']\n",
    "geoCalls = geoCalls[['Park Facility Name','Descriptor','Created Date','Closed Date','Longitude','Latitude','Location Type', 'Complaint Type']]"
   ]
  },
  {
   "cell_type": "code",
   "execution_count": 19,
   "metadata": {
    "collapsed": false
   },
   "outputs": [
    {
     "data": {
      "text/html": [
       "<div>\n",
       "<table border=\"1\" class=\"dataframe\">\n",
       "  <thead>\n",
       "    <tr style=\"text-align: right;\">\n",
       "      <th></th>\n",
       "      <th>Park Facility Name</th>\n",
       "      <th>Descriptor</th>\n",
       "      <th>Created Date</th>\n",
       "      <th>Closed Date</th>\n",
       "      <th>Longitude</th>\n",
       "      <th>Latitude</th>\n",
       "      <th>Location Type</th>\n",
       "      <th>Complaint Type</th>\n",
       "    </tr>\n",
       "  </thead>\n",
       "  <tbody>\n",
       "    <tr>\n",
       "      <th>398</th>\n",
       "      <td>Grand Army Plaza</td>\n",
       "      <td>Rodent Sighting</td>\n",
       "      <td>12/02/2010 10:45:42 AM</td>\n",
       "      <td>12/06/2010 09:34:00 AM</td>\n",
       "      <td>-73.968730</td>\n",
       "      <td>40.673928</td>\n",
       "      <td>Park</td>\n",
       "      <td>Maintenance or Facility</td>\n",
       "    </tr>\n",
       "    <tr>\n",
       "      <th>744</th>\n",
       "      <td>Grand Army Plaza</td>\n",
       "      <td>Rodent Sighting</td>\n",
       "      <td>11/11/2010 03:08:10 PM</td>\n",
       "      <td>11/15/2010 09:52:24 AM</td>\n",
       "      <td>-73.969000</td>\n",
       "      <td>40.674713</td>\n",
       "      <td>Park</td>\n",
       "      <td>Maintenance or Facility</td>\n",
       "    </tr>\n",
       "    <tr>\n",
       "      <th>1543</th>\n",
       "      <td>Grand Army Plaza</td>\n",
       "      <td>Rodent Sighting</td>\n",
       "      <td>10/03/2010 07:15:35 PM</td>\n",
       "      <td>10/05/2010 09:06:58 AM</td>\n",
       "      <td>-73.970749</td>\n",
       "      <td>40.672638</td>\n",
       "      <td>Park</td>\n",
       "      <td>Maintenance or Facility</td>\n",
       "    </tr>\n",
       "    <tr>\n",
       "      <th>2235</th>\n",
       "      <td>Grand Army Plaza</td>\n",
       "      <td>Rodent Sighting</td>\n",
       "      <td>09/11/2010 10:14:20 PM</td>\n",
       "      <td>09/15/2010 10:35:05 AM</td>\n",
       "      <td>-73.968730</td>\n",
       "      <td>40.673928</td>\n",
       "      <td>Park</td>\n",
       "      <td>Maintenance or Facility</td>\n",
       "    </tr>\n",
       "    <tr>\n",
       "      <th>2705</th>\n",
       "      <td>Grand Army Plaza</td>\n",
       "      <td>Rodent Sighting</td>\n",
       "      <td>08/31/2010 10:18:33 AM</td>\n",
       "      <td>09/01/2010 04:18:46 PM</td>\n",
       "      <td>-73.968925</td>\n",
       "      <td>40.672937</td>\n",
       "      <td>Park</td>\n",
       "      <td>Maintenance or Facility</td>\n",
       "    </tr>\n",
       "  </tbody>\n",
       "</table>\n",
       "</div>"
      ],
      "text/plain": [
       "     Park Facility Name       Descriptor            Created Date  \\\n",
       "398    Grand Army Plaza  Rodent Sighting  12/02/2010 10:45:42 AM   \n",
       "744    Grand Army Plaza  Rodent Sighting  11/11/2010 03:08:10 PM   \n",
       "1543   Grand Army Plaza  Rodent Sighting  10/03/2010 07:15:35 PM   \n",
       "2235   Grand Army Plaza  Rodent Sighting  09/11/2010 10:14:20 PM   \n",
       "2705   Grand Army Plaza  Rodent Sighting  08/31/2010 10:18:33 AM   \n",
       "\n",
       "                 Closed Date  Longitude   Latitude Location Type  \\\n",
       "398   12/06/2010 09:34:00 AM -73.968730  40.673928          Park   \n",
       "744   11/15/2010 09:52:24 AM -73.969000  40.674713          Park   \n",
       "1543  10/05/2010 09:06:58 AM -73.970749  40.672638          Park   \n",
       "2235  09/15/2010 10:35:05 AM -73.968730  40.673928          Park   \n",
       "2705  09/01/2010 04:18:46 PM -73.968925  40.672937          Park   \n",
       "\n",
       "               Complaint Type  \n",
       "398   Maintenance or Facility  \n",
       "744   Maintenance or Facility  \n",
       "1543  Maintenance or Facility  \n",
       "2235  Maintenance or Facility  \n",
       "2705  Maintenance or Facility  "
      ]
     },
     "execution_count": 19,
     "metadata": {},
     "output_type": "execute_result"
    }
   ],
   "source": [
    "geoCalls.head()"
   ]
  },
  {
   "cell_type": "code",
   "execution_count": 20,
   "metadata": {
    "collapsed": false
   },
   "outputs": [],
   "source": [
    "calls2 = pd.concat([namedCalls, geoCalls])"
   ]
  },
  {
   "cell_type": "code",
   "execution_count": 21,
   "metadata": {
    "collapsed": false
   },
   "outputs": [
    {
     "data": {
      "text/html": [
       "<div>\n",
       "<table border=\"1\" class=\"dataframe\">\n",
       "  <thead>\n",
       "    <tr style=\"text-align: right;\">\n",
       "      <th></th>\n",
       "      <th>Park Facility Name</th>\n",
       "      <th>Descriptor</th>\n",
       "      <th>Created Date</th>\n",
       "      <th>Closed Date</th>\n",
       "      <th>Longitude</th>\n",
       "      <th>Latitude</th>\n",
       "      <th>Location Type</th>\n",
       "      <th>Complaint Type</th>\n",
       "    </tr>\n",
       "  </thead>\n",
       "  <tbody>\n",
       "    <tr>\n",
       "      <th>1</th>\n",
       "      <td>geo soilan park - battery park city</td>\n",
       "      <td>Graffiti or Vandalism</td>\n",
       "      <td>12/31/2010 04:31:52 PM</td>\n",
       "      <td>12/31/2010 05:36:58 PM</td>\n",
       "      <td>NaN</td>\n",
       "      <td>NaN</td>\n",
       "      <td>Park</td>\n",
       "      <td>Maintenance or Facility</td>\n",
       "    </tr>\n",
       "    <tr>\n",
       "      <th>2</th>\n",
       "      <td>brookville park</td>\n",
       "      <td>Snow or Ice</td>\n",
       "      <td>12/31/2010 04:17:22 PM</td>\n",
       "      <td>01/06/2011 08:58:30 AM</td>\n",
       "      <td>NaN</td>\n",
       "      <td>NaN</td>\n",
       "      <td>Park</td>\n",
       "      <td>Maintenance or Facility</td>\n",
       "    </tr>\n",
       "    <tr>\n",
       "      <th>5</th>\n",
       "      <td>highland park</td>\n",
       "      <td>Snow or Ice</td>\n",
       "      <td>12/31/2010 02:57:34 PM</td>\n",
       "      <td>01/03/2011 11:31:26 AM</td>\n",
       "      <td>NaN</td>\n",
       "      <td>NaN</td>\n",
       "      <td>Park</td>\n",
       "      <td>Maintenance or Facility</td>\n",
       "    </tr>\n",
       "    <tr>\n",
       "      <th>10</th>\n",
       "      <td>prospect park - east parade grounds</td>\n",
       "      <td>Dead Animal</td>\n",
       "      <td>12/31/2010 11:26:34 AM</td>\n",
       "      <td>01/03/2011 11:12:37 AM</td>\n",
       "      <td>NaN</td>\n",
       "      <td>NaN</td>\n",
       "      <td>Park</td>\n",
       "      <td>Animal in a Park</td>\n",
       "    </tr>\n",
       "    <tr>\n",
       "      <th>11</th>\n",
       "      <td>central park - east 96th street playground</td>\n",
       "      <td>Snow or Ice</td>\n",
       "      <td>12/31/2010 11:18:31 AM</td>\n",
       "      <td>01/04/2011 12:11:02 PM</td>\n",
       "      <td>NaN</td>\n",
       "      <td>NaN</td>\n",
       "      <td>Park</td>\n",
       "      <td>Maintenance or Facility</td>\n",
       "    </tr>\n",
       "  </tbody>\n",
       "</table>\n",
       "</div>"
      ],
      "text/plain": [
       "                            Park Facility Name             Descriptor  \\\n",
       "1          geo soilan park - battery park city  Graffiti or Vandalism   \n",
       "2                              brookville park            Snow or Ice   \n",
       "5                                highland park            Snow or Ice   \n",
       "10         prospect park - east parade grounds            Dead Animal   \n",
       "11  central park - east 96th street playground            Snow or Ice   \n",
       "\n",
       "              Created Date             Closed Date  Longitude  Latitude  \\\n",
       "1   12/31/2010 04:31:52 PM  12/31/2010 05:36:58 PM        NaN       NaN   \n",
       "2   12/31/2010 04:17:22 PM  01/06/2011 08:58:30 AM        NaN       NaN   \n",
       "5   12/31/2010 02:57:34 PM  01/03/2011 11:31:26 AM        NaN       NaN   \n",
       "10  12/31/2010 11:26:34 AM  01/03/2011 11:12:37 AM        NaN       NaN   \n",
       "11  12/31/2010 11:18:31 AM  01/04/2011 12:11:02 PM        NaN       NaN   \n",
       "\n",
       "   Location Type           Complaint Type  \n",
       "1           Park  Maintenance or Facility  \n",
       "2           Park  Maintenance or Facility  \n",
       "5           Park  Maintenance or Facility  \n",
       "10          Park         Animal in a Park  \n",
       "11          Park  Maintenance or Facility  "
      ]
     },
     "execution_count": 21,
     "metadata": {},
     "output_type": "execute_result"
    }
   ],
   "source": [
    "calls2.head()"
   ]
  },
  {
   "cell_type": "code",
   "execution_count": 22,
   "metadata": {
    "collapsed": false
   },
   "outputs": [
    {
     "data": {
      "text/plain": [
       "(55095, 8)"
      ]
     },
     "execution_count": 22,
     "metadata": {},
     "output_type": "execute_result"
    }
   ],
   "source": [
    "calls2.shape"
   ]
  },
  {
   "cell_type": "markdown",
   "metadata": {},
   "source": [
    "## Now match those names"
   ]
  },
  {
   "cell_type": "code",
   "execution_count": 23,
   "metadata": {
    "collapsed": false
   },
   "outputs": [
    {
     "data": {
      "text/plain": [
       "central park                                  2554\n",
       "riverside park                                1208\n",
       "prospect park                                  961\n",
       "rockaway beach boardwalk                       761\n",
       "flushing meadows corona park                   755\n",
       "beach - brighton                               593\n",
       "hudson river park                              485\n",
       "morningside park                               439\n",
       "tompkins square park                           417\n",
       "marine park                                    410\n",
       "forest park                                    409\n",
       "van cortlandt park                             375\n",
       "washington square park                         373\n",
       "mccarren park                                  352\n",
       "astoria park                                   350\n",
       "east river park                                325\n",
       "sunset park                                    324\n",
       "inwood hill park                               300\n",
       "inwood hill park - nature center               300\n",
       "fort tryon park                                293\n",
       "union square park                              290\n",
       "st nicholas park                               275\n",
       "juniper valley park                            268\n",
       "pelham bay park                                268\n",
       "battery park                                   267\n",
       "fort greene park                               266\n",
       "alley pond park                                226\n",
       "ferry point park                               225\n",
       "crotona park                                   217\n",
       "isham park                                     210\n",
       "                                              ... \n",
       "westbourne playground                            1\n",
       "central park - wallach walk and east green       1\n",
       "mosholu parkway                                  1\n",
       "tot lot park                                     1\n",
       "neptune playground                               1\n",
       "kelly park                                       1\n",
       "parkside playground                              1\n",
       "pool - marie curie park                          1\n",
       "allison pond park                                1\n",
       "kings plaza marina                               1\n",
       "el puente - earth spirit garden                  1\n",
       "clove's tail                                     1\n",
       "triborough bridge playground e                   1\n",
       "triborough bridge playground c                   1\n",
       "jamaica playground                               1\n",
       "prospect playground                              1\n",
       "havemeyer playground                             1\n",
       "nellie bly park                                  1\n",
       "dante park                                       1\n",
       "lie playground - real good park                  1\n",
       "brooklyn botanic garden 1 - expire               1\n",
       "firemen's memorial garden                        1\n",
       "recreation center - kingsbridge heights          1\n",
       "hunts point riverside park                       1\n",
       "the creative little garden                       1\n",
       "battery park city                                1\n",
       "fruit street sitting area                        1\n",
       "torsney playground                               1\n",
       "adam clayton powell jr. malls                    1\n",
       "great kills park                                 1\n",
       "Name: Park Facility Name, dtype: int64"
      ]
     },
     "execution_count": 23,
     "metadata": {},
     "output_type": "execute_result"
    }
   ],
   "source": [
    "calls2['Park Facility Name'] = calls2['Park Facility Name'].str.lower()\n",
    "calls2['Park Facility Name'].value_counts()"
   ]
  },
  {
   "cell_type": "code",
   "execution_count": null,
   "metadata": {
    "collapsed": false
   },
   "outputs": [],
   "source": [
    "onto = pd.DataFrame(calls2['Park Facility Name'].unique())"
   ]
  },
  {
   "cell_type": "markdown",
   "metadata": {},
   "source": [
    "## ParkID"
   ]
  },
  {
   "cell_type": "code",
   "execution_count": 24,
   "metadata": {
    "collapsed": true
   },
   "outputs": [],
   "source": [
    "prop = pd.read_excel(PARQA + 'data/Input/Parks_Data/CUSP_Adjusted_Spatial_Data.xlsx')[['ParkID','Name']]\n",
    "prop = prop.dropna()\n",
    "prop.Name = prop.Name.str.lower()\n",
    "prop['type']='pid'"
   ]
  },
  {
   "cell_type": "code",
   "execution_count": 25,
   "metadata": {
    "collapsed": true
   },
   "outputs": [],
   "source": [
    "def trySplit(x, spl='-'):\n",
    "    '''get rid of addons'''\n",
    "    if spl in x:\n",
    "        return x.split(spl)[0].strip()\n",
    "    else:\n",
    "        return x"
   ]
  },
  {
   "cell_type": "code",
   "execution_count": 26,
   "metadata": {
    "collapsed": true
   },
   "outputs": [],
   "source": [
    "# prop.ParkID = prop.ParkID.apply(trySplit)\n",
    "# prop.Name = prop.Name.apply(lambda x: trySplit(x, spl='Zone'))"
   ]
  },
  {
   "cell_type": "code",
   "execution_count": 27,
   "metadata": {
    "collapsed": false
   },
   "outputs": [],
   "source": [
    "# prop.head()"
   ]
  },
  {
   "cell_type": "code",
   "execution_count": 28,
   "metadata": {
    "collapsed": false
   },
   "outputs": [
    {
     "data": {
      "text/html": [
       "<div>\n",
       "<table border=\"1\" class=\"dataframe\">\n",
       "  <thead>\n",
       "    <tr style=\"text-align: right;\">\n",
       "      <th></th>\n",
       "      <th>ParkID</th>\n",
       "      <th>Name</th>\n",
       "      <th>type</th>\n",
       "    </tr>\n",
       "  </thead>\n",
       "  <tbody>\n",
       "    <tr>\n",
       "      <th>47</th>\n",
       "      <td>X039-99</td>\n",
       "      <td>orchard beach plgd</td>\n",
       "      <td>pid</td>\n",
       "    </tr>\n",
       "    <tr>\n",
       "      <th>788</th>\n",
       "      <td>X039-ZN11</td>\n",
       "      <td>orchard beach parking lot</td>\n",
       "      <td>pid</td>\n",
       "    </tr>\n",
       "    <tr>\n",
       "      <th>793</th>\n",
       "      <td>X039-ZN16</td>\n",
       "      <td>orchard beach north</td>\n",
       "      <td>pid</td>\n",
       "    </tr>\n",
       "    <tr>\n",
       "      <th>795</th>\n",
       "      <td>X039-ZN18</td>\n",
       "      <td>orchard bch. pavilion</td>\n",
       "      <td>pid</td>\n",
       "    </tr>\n",
       "    <tr>\n",
       "      <th>796</th>\n",
       "      <td>X039-ZN19</td>\n",
       "      <td>orchard beach south</td>\n",
       "      <td>pid</td>\n",
       "    </tr>\n",
       "  </tbody>\n",
       "</table>\n",
       "</div>"
      ],
      "text/plain": [
       "        ParkID                       Name type\n",
       "47     X039-99         orchard beach plgd  pid\n",
       "788  X039-ZN11  orchard beach parking lot  pid\n",
       "793  X039-ZN16        orchard beach north  pid\n",
       "795  X039-ZN18      orchard bch. pavilion  pid\n",
       "796  X039-ZN19        orchard beach south  pid"
      ]
     },
     "execution_count": 28,
     "metadata": {},
     "output_type": "execute_result"
    }
   ],
   "source": [
    "prop[prop.Name.str.contains('orchard')] #tony dapolito pool\n",
    "# prop[prop.ParkID.str.contains('B371')]"
   ]
  },
  {
   "cell_type": "code",
   "execution_count": 29,
   "metadata": {
    "collapsed": false
   },
   "outputs": [],
   "source": [
    "d = [\n",
    "    {'ParkID':'B073','type':'abstr','Name': 'prospect park'},\n",
    "    {'ParkID':'M010','type':'abstr','Name': 'central park'},\n",
    "    {'ParkID':'Q004','type':'abstr','Name': 'astoria park'},\n",
    "    {'ParkID':'X010','type':'abstr','Name': 'crotona park'},\n",
    "    {'ParkID':'Q162','type':'abstr', 'Name': 'rockaway beach boardwalk'},\n",
    "    {'ParkID':'M014','type':'abstr', 'Name': 'jackie robinson park'},\n",
    "    {'ParkID':'M028','type':'abstr', 'Name': 'fort washington park'},\n",
    "    {'ParkID':'M037','type':'abstr', 'Name': 'highbridge park'},\n",
    "    {'ParkID':'M098','type':'abstr', 'Name': 'washington square park'},\n",
    "    {'ParkID':'M105','type':'abstr', 'Name': 'sara d. roosevelt park'},\n",
    "    {'ParkID':'M107','type':'abstr', 'Name': \"hell's kitchen park\"},\n",
    "    {'ParkID':'M283','type':'abstr', 'Name': 'battery park city'},\n",
    "    {'ParkID':'Q001','type':'abstr', 'Name': 'alley pond park'},\n",
    "    {'ParkID':'Q005','type':'abstr', 'Name': 'baisley pond park'},\n",
    "    {'ParkID':'Q009','type':'abstr', 'Name': 'macneil park'},\n",
    "    {'ParkID':'Q012','type':'abstr', 'Name': 'crocheron park'},\n",
    "    {'ParkID':'Q020','type':'abstr', 'Name': 'highland park'},\n",
    "    {'ParkID':'Q021','type':'abstr', 'Name': 'cunningham park'},\n",
    "    {'ParkID':'Q024','type':'abstr', 'Name': 'kissena park'},\n",
    "    {'ParkID':'Q102','type':'abstr', 'Name': 'juniper valley park'},\n",
    "    {'ParkID':'R129','type':'abstr', 'Name': 'greenbelt native plant center'},\n",
    "    {'ParkID':'B058','type':'abstr', 'Name': 'mccarren park'},\n",
    "    {'ParkID':'M071','type':'abstr', 'Name': 'riverside park'},\n",
    "    {'ParkID':'M360','type':'abstr', 'Name': 'the high line'},\n",
    "    {'ParkID':'X001','type':'abstr', 'Name': 'aqueduct walk'},\n",
    "    {'ParkID':'X092','type':'abstr', 'Name': 'van cortlandt park'},\n",
    "    {'ParkID':'Q099','type':'abstr', 'Name': 'flushing meadows corona park'},\n",
    "    {'ParkID':'X039','type':'abstr', 'Name': 'pelham bay park'},\n",
    "    {'ParkID':'Q015','type':'abstr', 'Name': 'forest park'},\n",
    "    {'ParkID':'M042','type':'abstr', 'Name': 'inwood hill park'},\n",
    "    {'ParkID':'B057','type':'abstr', 'Name': 'marine park'},\n",
    "    {'ParkID':'B126','type':'abstr', 'Name': 'red hook park'},\n",
    "    {'ParkID':'Q300','type':'abstr', 'Name': 'kissena corridor park'},\n",
    "    {'ParkID':'X045','type':'abstr', 'Name': \"st mary's playground\"},\n",
    "    {'ParkID':'X002','type':'abstr', 'Name': \"bronx park\"},\n",
    "    {'ParkID':'M058','type':'abstr', 'Name': \"marcus garvey park\"},\n",
    "    {'ParkID':'B371','type':'abstr', 'Name': \"spring creek park\"},\n",
    "    {'ParkID':'B371','type':'abstr', 'Name': \"spring creek park\"},\n",
    "    {'ParkID':'X039','type':'abstr', 'Name': \"orchard beach and promenade\"}\n",
    "    \n",
    "] "
   ]
  },
  {
   "cell_type": "code",
   "execution_count": 30,
   "metadata": {
    "collapsed": true
   },
   "outputs": [],
   "source": [
    "# prop = prop.append(pd.DataFrame(d), ignore_index=1)\n",
    "abstr = pd.DataFrame(d)"
   ]
  },
  {
   "cell_type": "code",
   "execution_count": 31,
   "metadata": {
    "collapsed": false
   },
   "outputs": [],
   "source": [
    "# prop[prop.type=='abstr']\n",
    "\n",
    "def getIDList(ID):\n",
    "    '''get list of pID for this general structure'''\n",
    "    return prop.ParkID[prop.ParkID.str.startswith(ID)].tolist()"
   ]
  },
  {
   "cell_type": "code",
   "execution_count": 32,
   "metadata": {
    "collapsed": true
   },
   "outputs": [],
   "source": [
    "abstr.ParkID = abstr.ParkID.apply(getIDList)"
   ]
  },
  {
   "cell_type": "code",
   "execution_count": 33,
   "metadata": {
    "collapsed": false
   },
   "outputs": [
    {
     "data": {
      "text/html": [
       "<div>\n",
       "<table border=\"1\" class=\"dataframe\">\n",
       "  <thead>\n",
       "    <tr style=\"text-align: right;\">\n",
       "      <th></th>\n",
       "      <th>Name</th>\n",
       "      <th>ParkID</th>\n",
       "      <th>type</th>\n",
       "    </tr>\n",
       "  </thead>\n",
       "  <tbody>\n",
       "    <tr>\n",
       "      <th>0</th>\n",
       "      <td>prospect park</td>\n",
       "      <td>[B073-02D, B073-02, B073-10, B073-20, B073-09,...</td>\n",
       "      <td>abstr</td>\n",
       "    </tr>\n",
       "    <tr>\n",
       "      <th>1</th>\n",
       "      <td>central park</td>\n",
       "      <td>[M010-151, M010-089, M010-090, M010-143, M010-...</td>\n",
       "      <td>abstr</td>\n",
       "    </tr>\n",
       "    <tr>\n",
       "      <th>2</th>\n",
       "      <td>astoria park</td>\n",
       "      <td>[Q004-01, Q004-ZN01, Q004-ZN02, Q004-ZN03, Q004A]</td>\n",
       "      <td>abstr</td>\n",
       "    </tr>\n",
       "    <tr>\n",
       "      <th>3</th>\n",
       "      <td>crotona park</td>\n",
       "      <td>[X010-10, X010-05, X010-12, X010-08, X010-03, ...</td>\n",
       "      <td>abstr</td>\n",
       "    </tr>\n",
       "    <tr>\n",
       "      <th>4</th>\n",
       "      <td>rockaway beach boardwalk</td>\n",
       "      <td>[Q162-ZN01A, Q162-ZN01B, Q162-ZN02A, Q162-ZN02...</td>\n",
       "      <td>abstr</td>\n",
       "    </tr>\n",
       "  </tbody>\n",
       "</table>\n",
       "</div>"
      ],
      "text/plain": [
       "                       Name  \\\n",
       "0             prospect park   \n",
       "1              central park   \n",
       "2              astoria park   \n",
       "3              crotona park   \n",
       "4  rockaway beach boardwalk   \n",
       "\n",
       "                                              ParkID   type  \n",
       "0  [B073-02D, B073-02, B073-10, B073-20, B073-09,...  abstr  \n",
       "1  [M010-151, M010-089, M010-090, M010-143, M010-...  abstr  \n",
       "2  [Q004-01, Q004-ZN01, Q004-ZN02, Q004-ZN03, Q004A]  abstr  \n",
       "3  [X010-10, X010-05, X010-12, X010-08, X010-03, ...  abstr  \n",
       "4  [Q162-ZN01A, Q162-ZN01B, Q162-ZN02A, Q162-ZN02...  abstr  "
      ]
     },
     "execution_count": 33,
     "metadata": {},
     "output_type": "execute_result"
    }
   ],
   "source": [
    "abstr.head()"
   ]
  },
  {
   "cell_type": "code",
   "execution_count": 34,
   "metadata": {
    "collapsed": false
   },
   "outputs": [],
   "source": [
    "# prop.groupby('ParkID').agg(lambda x: x.tolist())\n",
    "prop.ParkID = prop.ParkID.apply(lambda x: [x])"
   ]
  },
  {
   "cell_type": "code",
   "execution_count": 35,
   "metadata": {
    "collapsed": false
   },
   "outputs": [
    {
     "data": {
      "text/html": [
       "<div>\n",
       "<table border=\"1\" class=\"dataframe\">\n",
       "  <thead>\n",
       "    <tr style=\"text-align: right;\">\n",
       "      <th></th>\n",
       "      <th>ParkID</th>\n",
       "      <th>Name</th>\n",
       "      <th>type</th>\n",
       "    </tr>\n",
       "  </thead>\n",
       "  <tbody>\n",
       "    <tr>\n",
       "      <th>0</th>\n",
       "      <td>[M058-07]</td>\n",
       "      <td>marcus garvey memorial park</td>\n",
       "      <td>pid</td>\n",
       "    </tr>\n",
       "    <tr>\n",
       "      <th>1</th>\n",
       "      <td>[M058-06]</td>\n",
       "      <td>marcus garvey memorial park</td>\n",
       "      <td>pid</td>\n",
       "    </tr>\n",
       "    <tr>\n",
       "      <th>2</th>\n",
       "      <td>[M058-01]</td>\n",
       "      <td>mt. morris east</td>\n",
       "      <td>pid</td>\n",
       "    </tr>\n",
       "    <tr>\n",
       "      <th>3</th>\n",
       "      <td>[M047-03]</td>\n",
       "      <td>thomas jefferson park</td>\n",
       "      <td>pid</td>\n",
       "    </tr>\n",
       "    <tr>\n",
       "      <th>4</th>\n",
       "      <td>[M273-01]</td>\n",
       "      <td>othmar ammann playground</td>\n",
       "      <td>pid</td>\n",
       "    </tr>\n",
       "  </tbody>\n",
       "</table>\n",
       "</div>"
      ],
      "text/plain": [
       "      ParkID                         Name type\n",
       "0  [M058-07]  marcus garvey memorial park  pid\n",
       "1  [M058-06]  marcus garvey memorial park  pid\n",
       "2  [M058-01]              mt. morris east  pid\n",
       "3  [M047-03]        thomas jefferson park  pid\n",
       "4  [M273-01]     othmar ammann playground  pid"
      ]
     },
     "execution_count": 35,
     "metadata": {},
     "output_type": "execute_result"
    }
   ],
   "source": [
    "prop.head()"
   ]
  },
  {
   "cell_type": "code",
   "execution_count": 36,
   "metadata": {
    "collapsed": true
   },
   "outputs": [],
   "source": [
    "prop2 = pd.concat((prop, abstr))"
   ]
  },
  {
   "cell_type": "markdown",
   "metadata": {},
   "source": [
    "## Check how ontology works"
   ]
  },
  {
   "cell_type": "code",
   "execution_count": 37,
   "metadata": {
    "collapsed": false
   },
   "outputs": [
    {
     "data": {
      "text/html": [
       "<div>\n",
       "<table border=\"1\" class=\"dataframe\">\n",
       "  <thead>\n",
       "    <tr style=\"text-align: right;\">\n",
       "      <th></th>\n",
       "      <th>Name</th>\n",
       "      <th>newName</th>\n",
       "    </tr>\n",
       "  </thead>\n",
       "  <tbody>\n",
       "    <tr>\n",
       "      <th>0</th>\n",
       "      <td>geo soilan park - battery park city</td>\n",
       "      <td>battery park city</td>\n",
       "    </tr>\n",
       "    <tr>\n",
       "      <th>1</th>\n",
       "      <td>geo soilan park - battery park city</td>\n",
       "      <td>battery park city</td>\n",
       "    </tr>\n",
       "    <tr>\n",
       "      <th>2</th>\n",
       "      <td>brookville park</td>\n",
       "      <td>brookville park</td>\n",
       "    </tr>\n",
       "    <tr>\n",
       "      <th>3</th>\n",
       "      <td>highland park</td>\n",
       "      <td>highland park</td>\n",
       "    </tr>\n",
       "    <tr>\n",
       "      <th>4</th>\n",
       "      <td>highland park</td>\n",
       "      <td>highland park</td>\n",
       "    </tr>\n",
       "  </tbody>\n",
       "</table>\n",
       "</div>"
      ],
      "text/plain": [
       "                                  Name            newName\n",
       "0  geo soilan park - battery park city  battery park city\n",
       "1  geo soilan park - battery park city  battery park city\n",
       "2                      brookville park    brookville park\n",
       "3                        highland park      highland park\n",
       "4                        highland park      highland park"
      ]
     },
     "execution_count": 37,
     "metadata": {},
     "output_type": "execute_result"
    }
   ],
   "source": [
    "onto = pd.read_csv(PARQA + 'parqa/311/ONTOLOGY/onto_data/Ontology_matched.csv', index_col=0)[['cleanName','NAME']]\n",
    "onto.rename(columns={'NAME':'newName','cleanName':'Name'}, inplace=1)\n",
    "onto.head()"
   ]
  },
  {
   "cell_type": "code",
   "execution_count": 38,
   "metadata": {
    "collapsed": false
   },
   "outputs": [
    {
     "ename": "NameError",
     "evalue": "name 'onto1' is not defined",
     "output_type": "error",
     "traceback": [
      "\u001b[0;31m---------------------------------------------------------------------------\u001b[0m",
      "\u001b[0;31mNameError\u001b[0m                                 Traceback (most recent call last)",
      "\u001b[0;32m<ipython-input-38-3a63db29a040>\u001b[0m in \u001b[0;36m<module>\u001b[0;34m()\u001b[0m\n\u001b[0;32m----> 1\u001b[0;31m \u001b[0monto2\u001b[0m \u001b[0;34m=\u001b[0m \u001b[0monto1\u001b[0m\u001b[0;34m.\u001b[0m\u001b[0mmerge\u001b[0m\u001b[0;34m(\u001b[0m\u001b[0monto\u001b[0m\u001b[0;34m,\u001b[0m \u001b[0mon\u001b[0m\u001b[0;34m=\u001b[0m\u001b[0;34m'Name'\u001b[0m\u001b[0;34m,\u001b[0m \u001b[0mhow\u001b[0m\u001b[0;34m=\u001b[0m\u001b[0;34m'left'\u001b[0m\u001b[0;34m)\u001b[0m\u001b[0;34m\u001b[0m\u001b[0m\n\u001b[0m\u001b[1;32m      2\u001b[0m \u001b[0monto2\u001b[0m\u001b[0;34m.\u001b[0m\u001b[0mnewName\u001b[0m\u001b[0;34m[\u001b[0m\u001b[0mpd\u001b[0m\u001b[0;34m.\u001b[0m\u001b[0misnull\u001b[0m\u001b[0;34m(\u001b[0m\u001b[0monto2\u001b[0m\u001b[0;34m.\u001b[0m\u001b[0mnewName\u001b[0m\u001b[0;34m)\u001b[0m\u001b[0;34m]\u001b[0m \u001b[0;34m=\u001b[0m \u001b[0monto2\u001b[0m\u001b[0;34m.\u001b[0m\u001b[0mName\u001b[0m\u001b[0;34m[\u001b[0m\u001b[0mpd\u001b[0m\u001b[0;34m.\u001b[0m\u001b[0misnull\u001b[0m\u001b[0;34m(\u001b[0m\u001b[0monto2\u001b[0m\u001b[0;34m.\u001b[0m\u001b[0mnewName\u001b[0m\u001b[0;34m)\u001b[0m\u001b[0;34m]\u001b[0m\u001b[0;34m\u001b[0m\u001b[0m\n",
      "\u001b[0;31mNameError\u001b[0m: name 'onto1' is not defined"
     ]
    }
   ],
   "source": [
    "onto2 = onto1.merge(onto, on='Name', how='left')\n",
    "onto2.newName[pd.isnull(onto2.newName)] = onto2.Name[pd.isnull(onto2.newName)]"
   ]
  },
  {
   "cell_type": "code",
   "execution_count": 504,
   "metadata": {
    "collapsed": false
   },
   "outputs": [],
   "source": [
    "### edit Onto\n",
    "onto2.newName[onto2.Name.str.contains('mccarren park')] = 'mccarren park'\n",
    "onto2.newName[onto2.newName.str.contains('hunt')] = 'hunts point riverside park'\n",
    "onto2.newName[onto2.newName.str.contains('waring')] = 'waring plgd'\n",
    "onto2.newName[onto2.newName.str.contains('red hook')] = 'red hook park'\n",
    "onto2.newName[onto2.newName.str.contains('rockaway beach and boardwalk')] = 'rockaway beach boardwalk'\n"
   ]
  },
  {
   "cell_type": "code",
   "execution_count": 506,
   "metadata": {
    "collapsed": false
   },
   "outputs": [],
   "source": [
    "##### CHecking quality of the recognition\n",
    "\n",
    "# print len(onto1)\n",
    "# x = onto2.merge(prop2[['Name','type','ParkID']], how='left', left_on='newName', right_on='Name')\n",
    "\n",
    "# print len(x[pd.isnull(x['type'])])\n",
    "# x[pd.isnull(x['type'])].newName.value_counts()"
   ]
  },
  {
   "cell_type": "code",
   "execution_count": 508,
   "metadata": {
    "collapsed": false
   },
   "outputs": [],
   "source": [
    "onto2.rename(inplace=1, columns={'Name':'Park Facility Name','newName':'Name'})"
   ]
  },
  {
   "cell_type": "markdown",
   "metadata": {},
   "source": [
    "## get Pid for Calls"
   ]
  },
  {
   "cell_type": "code",
   "execution_count": 512,
   "metadata": {
    "collapsed": false
   },
   "outputs": [
    {
     "data": {
      "text/html": [
       "<div>\n",
       "<table border=\"1\" class=\"dataframe\">\n",
       "  <thead>\n",
       "    <tr style=\"text-align: right;\">\n",
       "      <th></th>\n",
       "      <th>Park Facility Name</th>\n",
       "      <th>Name</th>\n",
       "      <th>type</th>\n",
       "      <th>ParkID</th>\n",
       "    </tr>\n",
       "  </thead>\n",
       "  <tbody>\n",
       "    <tr>\n",
       "      <th>0</th>\n",
       "      <td>geo soilan park - battery park city</td>\n",
       "      <td>battery park city</td>\n",
       "      <td>pid</td>\n",
       "      <td>[M283A]</td>\n",
       "    </tr>\n",
       "    <tr>\n",
       "      <th>1</th>\n",
       "      <td>geo soilan park - battery park city</td>\n",
       "      <td>battery park city</td>\n",
       "      <td>abstr</td>\n",
       "      <td>[M283-03, M283-02, M283-01, M283-ZN01, M283A]</td>\n",
       "    </tr>\n",
       "    <tr>\n",
       "      <th>2</th>\n",
       "      <td>geo soilan park - battery park city</td>\n",
       "      <td>battery park city</td>\n",
       "      <td>pid</td>\n",
       "      <td>[M283A]</td>\n",
       "    </tr>\n",
       "    <tr>\n",
       "      <th>3</th>\n",
       "      <td>geo soilan park - battery park city</td>\n",
       "      <td>battery park city</td>\n",
       "      <td>abstr</td>\n",
       "      <td>[M283-03, M283-02, M283-01, M283-ZN01, M283A]</td>\n",
       "    </tr>\n",
       "    <tr>\n",
       "      <th>4</th>\n",
       "      <td>brookville park</td>\n",
       "      <td>brookville park</td>\n",
       "      <td>pid</td>\n",
       "      <td>[Q008-02]</td>\n",
       "    </tr>\n",
       "  </tbody>\n",
       "</table>\n",
       "</div>"
      ],
      "text/plain": [
       "                    Park Facility Name               Name   type  \\\n",
       "0  geo soilan park - battery park city  battery park city    pid   \n",
       "1  geo soilan park - battery park city  battery park city  abstr   \n",
       "2  geo soilan park - battery park city  battery park city    pid   \n",
       "3  geo soilan park - battery park city  battery park city  abstr   \n",
       "4                      brookville park    brookville park    pid   \n",
       "\n",
       "                                          ParkID  \n",
       "0                                        [M283A]  \n",
       "1  [M283-03, M283-02, M283-01, M283-ZN01, M283A]  \n",
       "2                                        [M283A]  \n",
       "3  [M283-03, M283-02, M283-01, M283-ZN01, M283A]  \n",
       "4                                      [Q008-02]  "
      ]
     },
     "execution_count": 512,
     "metadata": {},
     "output_type": "execute_result"
    }
   ],
   "source": [
    "pids = onto2.merge(prop2[['Name','type','ParkID']], how='left', on='Name')\n",
    "pids = pids[pd.notnull(pids['type'])]\n",
    "pids.head()"
   ]
  },
  {
   "cell_type": "code",
   "execution_count": 515,
   "metadata": {
    "collapsed": true
   },
   "outputs": [],
   "source": [
    "calls3 = calls2.merge(pids[['Park Facility Name','ParkID']], on='Park Facility Name', how='left')\n",
    "calls3 = calls3[pd.notnull(calls3.ParkID)]"
   ]
  },
  {
   "cell_type": "code",
   "execution_count": 516,
   "metadata": {
    "collapsed": false
   },
   "outputs": [],
   "source": [
    "### randomly chosen ParkID in the list\n",
    "\n",
    "calls3['rParkID'] = calls3['ParkID'].apply(lambda x: random.choice(x))"
   ]
  },
  {
   "cell_type": "code",
   "execution_count": 517,
   "metadata": {
    "collapsed": false
   },
   "outputs": [
    {
     "data": {
      "text/html": [
       "<div>\n",
       "<table border=\"1\" class=\"dataframe\">\n",
       "  <thead>\n",
       "    <tr style=\"text-align: right;\">\n",
       "      <th></th>\n",
       "      <th>Park Facility Name</th>\n",
       "      <th>Descriptor</th>\n",
       "      <th>Created Date</th>\n",
       "      <th>Closed Date</th>\n",
       "      <th>Longitude</th>\n",
       "      <th>Latitude</th>\n",
       "      <th>Location Type</th>\n",
       "      <th>Complaint Type</th>\n",
       "      <th>ParkID</th>\n",
       "      <th>rParkID</th>\n",
       "    </tr>\n",
       "  </thead>\n",
       "  <tbody>\n",
       "    <tr>\n",
       "      <th>0</th>\n",
       "      <td>geo soilan park - battery park city</td>\n",
       "      <td>Graffiti or Vandalism</td>\n",
       "      <td>12/31/2010 04:31:52 PM</td>\n",
       "      <td>12/31/2010 05:36:58 PM</td>\n",
       "      <td>NaN</td>\n",
       "      <td>NaN</td>\n",
       "      <td>Park</td>\n",
       "      <td>Maintenance or Facility</td>\n",
       "      <td>[M283A]</td>\n",
       "      <td>M283A</td>\n",
       "    </tr>\n",
       "    <tr>\n",
       "      <th>1</th>\n",
       "      <td>geo soilan park - battery park city</td>\n",
       "      <td>Graffiti or Vandalism</td>\n",
       "      <td>12/31/2010 04:31:52 PM</td>\n",
       "      <td>12/31/2010 05:36:58 PM</td>\n",
       "      <td>NaN</td>\n",
       "      <td>NaN</td>\n",
       "      <td>Park</td>\n",
       "      <td>Maintenance or Facility</td>\n",
       "      <td>[M283-03, M283-02, M283-01, M283-ZN01, M283A]</td>\n",
       "      <td>M283-ZN01</td>\n",
       "    </tr>\n",
       "    <tr>\n",
       "      <th>2</th>\n",
       "      <td>geo soilan park - battery park city</td>\n",
       "      <td>Graffiti or Vandalism</td>\n",
       "      <td>12/31/2010 04:31:52 PM</td>\n",
       "      <td>12/31/2010 05:36:58 PM</td>\n",
       "      <td>NaN</td>\n",
       "      <td>NaN</td>\n",
       "      <td>Park</td>\n",
       "      <td>Maintenance or Facility</td>\n",
       "      <td>[M283A]</td>\n",
       "      <td>M283A</td>\n",
       "    </tr>\n",
       "    <tr>\n",
       "      <th>3</th>\n",
       "      <td>geo soilan park - battery park city</td>\n",
       "      <td>Graffiti or Vandalism</td>\n",
       "      <td>12/31/2010 04:31:52 PM</td>\n",
       "      <td>12/31/2010 05:36:58 PM</td>\n",
       "      <td>NaN</td>\n",
       "      <td>NaN</td>\n",
       "      <td>Park</td>\n",
       "      <td>Maintenance or Facility</td>\n",
       "      <td>[M283-03, M283-02, M283-01, M283-ZN01, M283A]</td>\n",
       "      <td>M283-02</td>\n",
       "    </tr>\n",
       "    <tr>\n",
       "      <th>4</th>\n",
       "      <td>brookville park</td>\n",
       "      <td>Snow or Ice</td>\n",
       "      <td>12/31/2010 04:17:22 PM</td>\n",
       "      <td>01/06/2011 08:58:30 AM</td>\n",
       "      <td>NaN</td>\n",
       "      <td>NaN</td>\n",
       "      <td>Park</td>\n",
       "      <td>Maintenance or Facility</td>\n",
       "      <td>[Q008-02]</td>\n",
       "      <td>Q008-02</td>\n",
       "    </tr>\n",
       "  </tbody>\n",
       "</table>\n",
       "</div>"
      ],
      "text/plain": [
       "                    Park Facility Name             Descriptor  \\\n",
       "0  geo soilan park - battery park city  Graffiti or Vandalism   \n",
       "1  geo soilan park - battery park city  Graffiti or Vandalism   \n",
       "2  geo soilan park - battery park city  Graffiti or Vandalism   \n",
       "3  geo soilan park - battery park city  Graffiti or Vandalism   \n",
       "4                      brookville park            Snow or Ice   \n",
       "\n",
       "             Created Date             Closed Date  Longitude  Latitude  \\\n",
       "0  12/31/2010 04:31:52 PM  12/31/2010 05:36:58 PM        NaN       NaN   \n",
       "1  12/31/2010 04:31:52 PM  12/31/2010 05:36:58 PM        NaN       NaN   \n",
       "2  12/31/2010 04:31:52 PM  12/31/2010 05:36:58 PM        NaN       NaN   \n",
       "3  12/31/2010 04:31:52 PM  12/31/2010 05:36:58 PM        NaN       NaN   \n",
       "4  12/31/2010 04:17:22 PM  01/06/2011 08:58:30 AM        NaN       NaN   \n",
       "\n",
       "  Location Type           Complaint Type  \\\n",
       "0          Park  Maintenance or Facility   \n",
       "1          Park  Maintenance or Facility   \n",
       "2          Park  Maintenance or Facility   \n",
       "3          Park  Maintenance or Facility   \n",
       "4          Park  Maintenance or Facility   \n",
       "\n",
       "                                          ParkID    rParkID  \n",
       "0                                        [M283A]      M283A  \n",
       "1  [M283-03, M283-02, M283-01, M283-ZN01, M283A]  M283-ZN01  \n",
       "2                                        [M283A]      M283A  \n",
       "3  [M283-03, M283-02, M283-01, M283-ZN01, M283A]    M283-02  \n",
       "4                                      [Q008-02]    Q008-02  "
      ]
     },
     "execution_count": 517,
     "metadata": {},
     "output_type": "execute_result"
    }
   ],
   "source": [
    "calls3.head()"
   ]
  },
  {
   "cell_type": "code",
   "execution_count": 1,
   "metadata": {
    "collapsed": false
   },
   "outputs": [
    {
     "ename": "NameError",
     "evalue": "name 'calls3' is not defined",
     "output_type": "error",
     "traceback": [
      "\u001b[0;31m---------------------------------------------------------------------------\u001b[0m",
      "\u001b[0;31mNameError\u001b[0m                                 Traceback (most recent call last)",
      "\u001b[0;32m<ipython-input-1-c4072f961ef1>\u001b[0m in \u001b[0;36m<module>\u001b[0;34m()\u001b[0m\n\u001b[1;32m      1\u001b[0m \u001b[0;31m# calls3.Descriptor.value_counts()\u001b[0m\u001b[0;34m\u001b[0m\u001b[0;34m\u001b[0m\u001b[0m\n\u001b[0;32m----> 2\u001b[0;31m \u001b[0mcalls3\u001b[0m\u001b[0;34m[\u001b[0m\u001b[0;34m[\u001b[0m\u001b[0;34m'Created Date'\u001b[0m\u001b[0;34m,\u001b[0m\u001b[0;34m'rParkID'\u001b[0m\u001b[0;34m]\u001b[0m\u001b[0;34m]\u001b[0m\u001b[0;34m[\u001b[0m\u001b[0mcalls3\u001b[0m\u001b[0;34m.\u001b[0m\u001b[0mDescriptor\u001b[0m \u001b[0;34m==\u001b[0m \u001b[0;34m'Garbage or Litter'\u001b[0m\u001b[0;34m]\u001b[0m\u001b[0;34m.\u001b[0m\u001b[0mto_csv\u001b[0m\u001b[0;34m(\u001b[0m\u001b[0mPARQA\u001b[0m \u001b[0;34m+\u001b[0m \u001b[0;34m'data/311/311_rPID_litter.csv'\u001b[0m\u001b[0;34m)\u001b[0m\u001b[0;34m\u001b[0m\u001b[0m\n\u001b[0m\u001b[1;32m      3\u001b[0m \u001b[0mcalls3\u001b[0m\u001b[0;34m[\u001b[0m\u001b[0;34m[\u001b[0m\u001b[0;34m'Created Date'\u001b[0m\u001b[0;34m,\u001b[0m\u001b[0;34m'rParkID'\u001b[0m\u001b[0;34m]\u001b[0m\u001b[0;34m]\u001b[0m\u001b[0;34m.\u001b[0m\u001b[0mto_csv\u001b[0m\u001b[0;34m(\u001b[0m\u001b[0mPARQA\u001b[0m \u001b[0;34m+\u001b[0m \u001b[0;34m'data/311/311_rPID_all.csv'\u001b[0m\u001b[0;34m)\u001b[0m\u001b[0;34m\u001b[0m\u001b[0m\n",
      "\u001b[0;31mNameError\u001b[0m: name 'calls3' is not defined"
     ]
    }
   ],
   "source": [
    "# calls3.Descriptor.value_counts()\n",
    "calls3[['Created Date','rParkID']][calls3.Descriptor == 'Garbage or Litter'].to_csv(PARQA + 'data/311/311_rPID_litter.csv')\n",
    "calls3[['Created Date','rParkID']].to_csv(PARQA + 'data/311/311_rPID_all.csv')"
   ]
  },
  {
   "cell_type": "code",
   "execution_count": null,
   "metadata": {
    "collapsed": true
   },
   "outputs": [],
   "source": []
  }
 ],
 "metadata": {
  "kernelspec": {
   "display_name": "Python 2",
   "language": "python",
   "name": "python2"
  },
  "language_info": {
   "codemirror_mode": {
    "name": "ipython",
    "version": 2
   },
   "file_extension": ".py",
   "mimetype": "text/x-python",
   "name": "python",
   "nbconvert_exporter": "python",
   "pygments_lexer": "ipython2",
   "version": "2.7.10"
  }
 },
 "nbformat": 4,
 "nbformat_minor": 0
}
