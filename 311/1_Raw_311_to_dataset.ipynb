{
 "cells": [
  {
   "cell_type": "code",
   "execution_count": 3,
   "metadata": {
    "collapsed": false
   },
   "outputs": [],
   "source": [
    "import pandas as pd\n",
    "import os\n",
    "import sys\n",
    "\n",
    "PARQA= os.getenv('PARQA')"
   ]
  },
  {
   "cell_type": "code",
   "execution_count": 4,
   "metadata": {
    "collapsed": false
   },
   "outputs": [],
   "source": [
    "def getAllFiles(path, frmt=None, full=False):\n",
    "    '''return all files in the folder,\n",
    "    filtered by format, if it was provided'''\n",
    "    \n",
    "    fs = []\n",
    "    for (dirpath, dirnames, filenames) in os.walk(path):\n",
    "        if frmt!=None:\n",
    "            fsTmp = [fl for fl in filenames if fl.endswith(frmt)]\n",
    "            fs.extend(fsTmp)\n",
    "        else:\n",
    "            fsTmp = filenames\n",
    "            fs.extend(fsTmp)\n",
    "    if full:\n",
    "        return [path+f for f in fs]\n",
    "    else:\n",
    "        return fs\n",
    "    "
   ]
  },
  {
   "cell_type": "code",
   "execution_count": 6,
   "metadata": {
    "collapsed": false
   },
   "outputs": [
    {
     "name": "stderr",
     "output_type": "stream",
     "text": [
      "/Users/casy/anaconda/lib/python2.7/site-packages/ipykernel/__main__.py:2: DtypeWarning: Columns (8,13,14,17,18,20,38,39,40,41,42,43,44,45,46,47,48,49) have mixed types. Specify dtype option on import or set low_memory=False.\n",
      "  from ipykernel import kernelapp as app\n",
      "/Users/casy/anaconda/lib/python2.7/site-packages/ipykernel/__main__.py:2: DtypeWarning: Columns (8,39,47,48) have mixed types. Specify dtype option on import or set low_memory=False.\n",
      "  from ipykernel import kernelapp as app\n",
      "/Users/casy/anaconda/lib/python2.7/site-packages/ipykernel/__main__.py:2: DtypeWarning: Columns (8,17,39,47,48) have mixed types. Specify dtype option on import or set low_memory=False.\n",
      "  from ipykernel import kernelapp as app\n",
      "/Users/casy/anaconda/lib/python2.7/site-packages/ipykernel/__main__.py:2: DtypeWarning: Columns (8,17,47,48) have mixed types. Specify dtype option on import or set low_memory=False.\n",
      "  from ipykernel import kernelapp as app\n",
      "/Users/casy/anaconda/lib/python2.7/site-packages/ipykernel/__main__.py:2: DtypeWarning: Columns (8,17,40,47,48) have mixed types. Specify dtype option on import or set low_memory=False.\n",
      "  from ipykernel import kernelapp as app\n"
     ]
    }
   ],
   "source": [
    "path = PARQA + 'data/RAW/raw_download/'\n",
    "df = pd.concat((pd.read_csv(x) for x in getAllFiles(path,'.csv', full=True))).drop_duplicates()"
   ]
  },
  {
   "cell_type": "code",
   "execution_count": 7,
   "metadata": {
    "collapsed": false
   },
   "outputs": [
    {
     "data": {
      "text/plain": [
       "Index([u'Unique Key', u'Created Date', u'Closed Date', u'Agency',\n",
       "       u'Agency Name', u'Complaint Type', u'Descriptor', u'Location Type',\n",
       "       u'Incident Zip', u'Incident Address', u'Street Name', u'Cross Street 1',\n",
       "       u'Cross Street 2', u'Intersection Street 1', u'Intersection Street 2',\n",
       "       u'Address Type', u'City', u'Landmark', u'Facility Type', u'Status',\n",
       "       u'Due Date', u'Resolution Description',\n",
       "       u'Resolution Action Updated Date', u'Community Board', u'Borough',\n",
       "       u'X Coordinate (State Plane)', u'Y Coordinate (State Plane)',\n",
       "       u'Park Facility Name', u'Park Borough', u'School Name',\n",
       "       u'School Number', u'School Region', u'School Code',\n",
       "       u'School Phone Number', u'School Address', u'School City',\n",
       "       u'School State', u'School Zip', u'School Not Found',\n",
       "       u'School or Citywide Complaint', u'Vehicle Type',\n",
       "       u'Taxi Company Borough', u'Taxi Pick Up Location',\n",
       "       u'Bridge Highway Name', u'Bridge Highway Direction', u'Road Ramp',\n",
       "       u'Bridge Highway Segment', u'Garage Lot Name', u'Ferry Direction',\n",
       "       u'Ferry Terminal Name', u'Latitude', u'Longitude', u'Location'],\n",
       "      dtype='object')"
      ]
     },
     "execution_count": 7,
     "metadata": {},
     "output_type": "execute_result"
    }
   ],
   "source": [
    "df.columns"
   ]
  },
  {
   "cell_type": "code",
   "execution_count": 8,
   "metadata": {
    "collapsed": false
   },
   "outputs": [
    {
     "data": {
      "text/plain": [
       "0    12/31/2010 11:59:12 PM\n",
       "1    12/31/2010 11:57:30 PM\n",
       "2    12/31/2010 11:54:59 PM\n",
       "3    12/31/2010 11:54:00 PM\n",
       "4    12/31/2010 11:52:00 PM\n",
       "Name: Created Date, dtype: object"
      ]
     },
     "execution_count": 8,
     "metadata": {},
     "output_type": "execute_result"
    }
   ],
   "source": [
    "df['Created Date'].head()"
   ]
  },
  {
   "cell_type": "code",
   "execution_count": 9,
   "metadata": {
    "collapsed": false
   },
   "outputs": [
    {
     "name": "stdout",
     "output_type": "stream",
     "text": [
      "10140668\n",
      "463533\n"
     ]
    }
   ],
   "source": [
    "parks = df[(df.Agency == 'DPR')]\n",
    "print len(df)\n",
    "print len(parks)"
   ]
  },
  {
   "cell_type": "code",
   "execution_count": 10,
   "metadata": {
    "collapsed": false
   },
   "outputs": [
    {
     "data": {
      "text/plain": [
       "Street               376928\n",
       "Park                  70387\n",
       "Street/Curbside        4015\n",
       "Beach                  2136\n",
       "Recreation Center      1465\n",
       "Pool                   1328\n",
       "Golf                     83\n",
       "Name: Location Type, dtype: int64"
      ]
     },
     "execution_count": 10,
     "metadata": {},
     "output_type": "execute_result"
    }
   ],
   "source": [
    "parks['Location Type'].value_counts()"
   ]
  },
  {
   "cell_type": "code",
   "execution_count": 11,
   "metadata": {
    "collapsed": false
   },
   "outputs": [
    {
     "data": {
      "text/plain": [
       "Branch or Limb Has Fallen Down    68230\n",
       "Dead/Dying Tree                   55637\n",
       "Trees and Sidewalks Program       43567\n",
       "Branch Cracked and Will Fall      38142\n",
       "Entire Tree Has Fallen Down       36328\n",
       "Hitting Building                  27635\n",
       "Hitting Power/Phone Lines         20226\n",
       "Tree Leaning/Uprooted             18236\n",
       "Blocking Street                   15745\n",
       "Dead Branches in Tree             14919\n",
       "Sidewalk Consultation              7298\n",
       "Tree Alive - in Poor Condition     7077\n",
       "Unauthorized Tree Removal          4986\n",
       "Clear Street Light                 3777\n",
       "Traffic Sign or Signal Blocked     3339\n",
       "Affecting Sewer or Foundation      3264\n",
       "Tree Trunk Split                   3234\n",
       "Trunk Damaged                      1552\n",
       "Branches Damaged                   1100\n",
       "Bicycle Chained to Tree            1074\n",
       "Roots Damaged                       972\n",
       "Unauthorized Tree Pruning           590\n",
       "Name: Descriptor, dtype: int64"
      ]
     },
     "execution_count": 11,
     "metadata": {},
     "output_type": "execute_result"
    }
   ],
   "source": [
    "parks[parks['Location Type']=='Street'].Descriptor.value_counts()"
   ]
  },
  {
   "cell_type": "code",
   "execution_count": 12,
   "metadata": {
    "collapsed": false
   },
   "outputs": [
    {
     "data": {
      "text/plain": [
       "Structure - Outdoors              20255\n",
       "Garbage or Litter                  8650\n",
       "Rodent Sighting                    3576\n",
       "Obstructing Public Use             3112\n",
       "Structure - Indoors                3094\n",
       "Dog Off Leash                      2976\n",
       "Grass/Weeds                        2881\n",
       "Snow or Ice                        2488\n",
       "Unsecured Facility                 2339\n",
       "Hours of Operation                 2103\n",
       "Graffiti or Vandalism              2009\n",
       "Unlicensed Vendors                 1877\n",
       "BBQ Outside Authorized Area        1765\n",
       "Aided/Injury                       1709\n",
       "Dead Animal                        1663\n",
       "Injured Wildlife                   1357\n",
       "Domestic Strays                     988\n",
       "Smoking                             761\n",
       "Wildlife Sighting                   760\n",
       "Unsafe Use of Playground            754\n",
       "Animal Waste                        721\n",
       "Broken Glass                        658\n",
       "Removing Wildlife                   599\n",
       "Dead/Dying Tree                     478\n",
       "Biking/Rollerblading off Path       375\n",
       "Property                            303\n",
       "Entire Tree Has Fallen Down         291\n",
       "Branch Cracked and Will Fall        236\n",
       "Hitting Building                    219\n",
       "Dead Branches in Tree               207\n",
       "Branch or Limb Has Fallen Down      202\n",
       "Unauthorized Tree Removal           148\n",
       "Unauthorized Posting of Signs       112\n",
       "Blocking Street                      89\n",
       "Lost/Missing Person                  71\n",
       "Tree Leaning/Uprooted                63\n",
       "Hitting Power/Phone Lines            57\n",
       "Unauthorized Climbing                46\n",
       "Tree Alive - in Poor Condition       43\n",
       "Removing Flowers/Plants              42\n",
       "Branches Damaged                     39\n",
       "Use of Newly Seeded Lawn             33\n",
       "Illegal Dumping                      33\n",
       "Trunk Damaged                        29\n",
       "Unauthorized Film Shoot              29\n",
       "Unauthorized Tree Pruning            24\n",
       "Clear Street Light                   21\n",
       "Roots Damaged                        18\n",
       "Bicycle Chained to Tree              16\n",
       "Tree Trunk Split                     15\n",
       "Traffic Sign or Signal Blocked       14\n",
       "Trees and Sidewalks Program          13\n",
       "Sidewalk Consultation                11\n",
       "Locker Break-in/Incident              9\n",
       "Affecting Sewer or Foundation         6\n",
       "Name: Descriptor, dtype: int64"
      ]
     },
     "execution_count": 12,
     "metadata": {},
     "output_type": "execute_result"
    }
   ],
   "source": [
    "parks[parks['Location Type']=='Park'].Descriptor.value_counts()"
   ]
  },
  {
   "cell_type": "code",
   "execution_count": 13,
   "metadata": {
    "collapsed": false
   },
   "outputs": [
    {
     "data": {
      "text/plain": [
       "Structure - Outdoors             822\n",
       "Garbage or Litter                428\n",
       "Aided/Injury                     145\n",
       "Structure - Indoors              100\n",
       "Unsecured Facility                89\n",
       "Smoking                           81\n",
       "Obstructing Public Use            70\n",
       "Hours of Operation                57\n",
       "Broken Glass                      53\n",
       "Injured Wildlife                  46\n",
       "Dead Animal                       31\n",
       "Property                          27\n",
       "Removing Wildlife                 26\n",
       "Domestic Strays                   22\n",
       "Graffiti or Vandalism             22\n",
       "Dog Off Leash                     18\n",
       "Wildlife Sighting                 17\n",
       "Grass/Weeds                       14\n",
       "Unlicensed Vendors                14\n",
       "Rodent Sighting                   13\n",
       "Lost/Missing Person               10\n",
       "Animal Waste                       8\n",
       "Snow or Ice                        7\n",
       "BBQ Outside Authorized Area        6\n",
       "Biking/Rollerblading off Path      3\n",
       "Unauthorized Climbing              2\n",
       "Unsafe Use of Playground           2\n",
       "Illegal Dumping                    1\n",
       "Removing Flowers/Plants            1\n",
       "Unauthorized Posting of Signs      1\n",
       "Name: Descriptor, dtype: int64"
      ]
     },
     "execution_count": 13,
     "metadata": {},
     "output_type": "execute_result"
    }
   ],
   "source": [
    "parks[parks['Location Type']=='Beach'].Descriptor.value_counts()"
   ]
  },
  {
   "cell_type": "code",
   "execution_count": 16,
   "metadata": {
    "collapsed": false
   },
   "outputs": [
    {
     "data": {
      "text/plain": [
       "Park                 70387\n",
       "Beach                 2136\n",
       "Recreation Center     1465\n",
       "Pool                  1328\n",
       "Golf                    83\n",
       "Name: Location Type, dtype: int64"
      ]
     },
     "execution_count": 16,
     "metadata": {},
     "output_type": "execute_result"
    }
   ],
   "source": [
    "result = df[(df.Agency == 'DPR')& (~df['Location Type'].isin(['Street/Curbside','Street']))]\n",
    "result['Location Type'].value_counts()"
   ]
  },
  {
   "cell_type": "code",
   "execution_count": 17,
   "metadata": {
    "collapsed": true
   },
   "outputs": [],
   "source": [
    "result.to_csv(PARQA + '/data/311DPR.csv', encoding='utf8')"
   ]
  },
  {
   "cell_type": "code",
   "execution_count": null,
   "metadata": {
    "collapsed": true
   },
   "outputs": [],
   "source": []
  }
 ],
 "metadata": {
  "kernelspec": {
   "display_name": "Python 2",
   "language": "python",
   "name": "python2"
  },
  "language_info": {
   "codemirror_mode": {
    "name": "ipython",
    "version": 2
   },
   "file_extension": ".py",
   "mimetype": "text/x-python",
   "name": "python",
   "nbconvert_exporter": "python",
   "pygments_lexer": "ipython2",
   "version": "2.7.10"
  }
 },
 "nbformat": 4,
 "nbformat_minor": 0
}
