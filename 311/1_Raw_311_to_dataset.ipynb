{
 "cells": [
  {
   "cell_type": "code",
   "execution_count": 3,
   "metadata": {
    "collapsed": false
   },
   "outputs": [],
   "source": [
    "import pandas as pd\n",
    "import os\n",
    "import sys\n",
    "\n",
    "PARQA= os.getenv('PARQA')"
   ]
  },
  {
   "cell_type": "code",
   "execution_count": 4,
   "metadata": {
    "collapsed": false
   },
   "outputs": [],
   "source": [
    "def getAllFiles(path, frmt=None, full=False):\n",
    "    '''return all files in the folder,\n",
    "    filtered by format, if it was provided'''\n",
    "    \n",
    "    fs = []\n",
    "    for (dirpath, dirnames, filenames) in os.walk(path):\n",
    "        if frmt!=None:\n",
    "            fsTmp = [fl for fl in filenames if fl.endswith(frmt)]\n",
    "            fs.extend(fsTmp)\n",
    "        else:\n",
    "            fsTmp = filenames\n",
    "            fs.extend(fsTmp)\n",
    "    if full:\n",
    "        return [path+f for f in fs]\n",
    "    else:\n",
    "        return fs\n",
    "    "
   ]
  },
  {
   "cell_type": "code",
   "execution_count": 6,
   "metadata": {
    "collapsed": false
   },
   "outputs": [
    {
     "name": "stderr",
     "output_type": "stream",
     "text": [
      "/Users/casy/anaconda/lib/python2.7/site-packages/ipykernel/__main__.py:2: DtypeWarning: Columns (8,13,14,17,18,20,38,39,40,41,42,43,44,45,46,47,48,49) have mixed types. Specify dtype option on import or set low_memory=False.\n",
      "  from ipykernel import kernelapp as app\n",
      "/Users/casy/anaconda/lib/python2.7/site-packages/ipykernel/__main__.py:2: DtypeWarning: Columns (8,39,47,48) have mixed types. Specify dtype option on import or set low_memory=False.\n",
      "  from ipykernel import kernelapp as app\n",
      "/Users/casy/anaconda/lib/python2.7/site-packages/ipykernel/__main__.py:2: DtypeWarning: Columns (8,17,39,47,48) have mixed types. Specify dtype option on import or set low_memory=False.\n",
      "  from ipykernel import kernelapp as app\n",
      "/Users/casy/anaconda/lib/python2.7/site-packages/ipykernel/__main__.py:2: DtypeWarning: Columns (8,17,47,48) have mixed types. Specify dtype option on import or set low_memory=False.\n",
      "  from ipykernel import kernelapp as app\n",
      "/Users/casy/anaconda/lib/python2.7/site-packages/ipykernel/__main__.py:2: DtypeWarning: Columns (8,17,40,47,48) have mixed types. Specify dtype option on import or set low_memory=False.\n",
      "  from ipykernel import kernelapp as app\n"
     ]
    }
   ],
   "source": [
    "path = PARQA + 'data/RAW/raw_download/'\n",
    "df = pd.concat((pd.read_csv(x) for x in getAllFiles(path,'.csv', full=True))).drop_duplicates()"
   ]
  },
  {
   "cell_type": "code",
   "execution_count": 7,
   "metadata": {
    "collapsed": false
   },
   "outputs": [
    {
     "data": {
      "text/plain": [
       "Index([u'Unique Key', u'Created Date', u'Closed Date', u'Agency',\n",
       "       u'Agency Name', u'Complaint Type', u'Descriptor', u'Location Type',\n",
       "       u'Incident Zip', u'Incident Address', u'Street Name', u'Cross Street 1',\n",
       "       u'Cross Street 2', u'Intersection Street 1', u'Intersection Street 2',\n",
       "       u'Address Type', u'City', u'Landmark', u'Facility Type', u'Status',\n",
       "       u'Due Date', u'Resolution Description',\n",
       "       u'Resolution Action Updated Date', u'Community Board', u'Borough',\n",
       "       u'X Coordinate (State Plane)', u'Y Coordinate (State Plane)',\n",
       "       u'Park Facility Name', u'Park Borough', u'School Name',\n",
       "       u'School Number', u'School Region', u'School Code',\n",
       "       u'School Phone Number', u'School Address', u'School City',\n",
       "       u'School State', u'School Zip', u'School Not Found',\n",
       "       u'School or Citywide Complaint', u'Vehicle Type',\n",
       "       u'Taxi Company Borough', u'Taxi Pick Up Location',\n",
       "       u'Bridge Highway Name', u'Bridge Highway Direction', u'Road Ramp',\n",
       "       u'Bridge Highway Segment', u'Garage Lot Name', u'Ferry Direction',\n",
       "       u'Ferry Terminal Name', u'Latitude', u'Longitude', u'Location'],\n",
       "      dtype='object')"
      ]
     },
     "execution_count": 7,
     "metadata": {},
     "output_type": "execute_result"
    }
   ],
   "source": [
    "df.columns"
   ]
  },
  {
   "cell_type": "code",
   "execution_count": null,
   "metadata": {
    "collapsed": true
   },
   "outputs": [],
   "source": [
    "# parsing times (for pickles)\n",
    "df['Created Date'] = pd.to_datetime(df['Created Date'], format = '%m/%d/%Y %I:%M:%S %p')"
   ]
  },
  {
   "cell_type": "markdown",
   "metadata": {},
   "source": [
    "Data then is saved in: \n",
    "    - two formats (csv and pkl), \n",
    "    - two attributes sets: full and \"light\" (only essentual columns, read below)\n",
    "    - three record sets: full (all calls), DPR-related, and park-related (without streets and curbs complains"
   ]
  },
  {
   "cell_type": "markdown",
   "metadata": {},
   "source": [
    "## Saving full DF"
   ]
  },
  {
   "cell_type": "code",
   "execution_count": 9,
   "metadata": {
    "collapsed": false
   },
   "outputs": [
    {
     "name": "stdout",
     "output_type": "stream",
     "text": [
      "10140668\n",
      "463533\n"
     ]
    }
   ],
   "source": [
    "df.to_csv(PARQA + '/data/311/311_all_full.csv', encoding='utf8')\n",
    "df.to_pickle(PARQA + '/data/311/311_all_full.pkl', encoding='utf8')\n",
    "\n",
    "df[(df.Agency == 'DPR')].to_csv(PARQA + '/data/311/311_DPR_full.csv', encoding='utf8')\n",
    "df[(df.Agency == 'DPR')].to_pickle(PARQA + '/data/311/311_DPR_full.pkl', encoding='utf8')\n",
    "\n",
    "df[(df.Agency == 'DPR')& (~df['Location Type'].isin(['Street/Curbside','Street']))].to_csv(PARQA + '/data/311/311_parks_full.csv', encoding='utf8')\n",
    "df[(df.Agency == 'DPR')& (~df['Location Type'].isin(['Street/Curbside','Street']))].to_pickle(PARQA + '/data/311/311_parks_full.pkl', encoding='utf8')"
   ]
  },
  {
   "cell_type": "markdown",
   "metadata": {},
   "source": [
    "## Saving light DF (only essential attributes)"
   ]
  },
  {
   "cell_type": "code",
   "execution_count": null,
   "metadata": {
    "collapsed": true
   },
   "outputs": [],
   "source": [
    "## printing essential columns\n",
    "# for x in [df.columns.tolist()[i] for i in [0,1, 3, 5,6,7,18,51,52,29,27,52]] : print x"
   ]
  },
  {
   "cell_type": "markdown",
   "metadata": {},
   "source": [
    "Unique Key, Created Date, Agency, Complaint Type, Descriptor, Location Type, Facility Type, Longitude, Location, School Name, Park Facility Name, Location"
   ]
  },
  {
   "cell_type": "code",
   "execution_count": null,
   "metadata": {
    "collapsed": true
   },
   "outputs": [],
   "source": [
    "## only essential columns\n",
    "dfl = df[[0,1, 3, 5,6,7,18,51,52,29,27,52]]"
   ]
  },
  {
   "cell_type": "code",
   "execution_count": 17,
   "metadata": {
    "collapsed": true
   },
   "outputs": [],
   "source": [
    "result.to_csv(PARQA + '/data/311/311DPR.csv', encoding='utf8')"
   ]
  },
  {
   "cell_type": "code",
   "execution_count": null,
   "metadata": {
    "collapsed": true
   },
   "outputs": [],
   "source": [
    "dfl.to_csv(PARQA + '/data/311/311_all_light.csv', encoding='utf8')\n",
    "dfl.to_pickle(PARQA + '/data/311/311_all_light.pkl', encoding='utf8')\n",
    "\n",
    "dfl[(df.Agency == 'DPR')].to_csv(PARQA + '/data/311/311_DPR_light.csv', encoding='utf8')\n",
    "dfl[(df.Agency == 'DPR')].to_pickle(PARQA + '/data/311/311_DPR_light.pkl', encoding='utf8')\n",
    "\n",
    "dfl[(df.Agency == 'DPR')& (~df['Location Type'].isin(['Street/Curbside','Street']))].to_csv(PARQA + '/data/311/311_parks_light.csv', encoding='utf8')\n",
    "dfl[(df.Agency == 'DPR')& (~df['Location Type'].isin(['Street/Curbside','Street']))].to_pickle(PARQA + '/data/311/311_parks_light.pkl', encoding='utf8')"
   ]
  }
 ],
 "metadata": {
  "kernelspec": {
   "display_name": "Python 2",
   "language": "python",
   "name": "python2"
  },
  "language_info": {
   "codemirror_mode": {
    "name": "ipython",
    "version": 2
   },
   "file_extension": ".py",
   "mimetype": "text/x-python",
   "name": "python",
   "nbconvert_exporter": "python",
   "pygments_lexer": "ipython2",
   "version": "2.7.10"
  }
 },
 "nbformat": 4,
 "nbformat_minor": 0
}
