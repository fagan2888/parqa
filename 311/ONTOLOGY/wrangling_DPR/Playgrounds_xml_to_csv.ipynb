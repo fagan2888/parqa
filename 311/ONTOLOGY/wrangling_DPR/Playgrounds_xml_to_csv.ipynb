{
 "cells": [
  {
   "cell_type": "code",
   "execution_count": 2,
   "metadata": {
    "collapsed": true
   },
   "outputs": [],
   "source": [
    "import pandas as pd\n",
    "import xmltodict\n",
    "# from xml.dom import minidom\n",
    "import os\n",
    "\n",
    "\n",
    "PARQA = os.getenv('PARQA') #basic path"
   ]
  },
  {
   "cell_type": "code",
   "execution_count": 3,
   "metadata": {
    "collapsed": false
   },
   "outputs": [],
   "source": [
    "with open(PARQA + 'data/RAW/playgrounds_copy.xml', 'r') as xmlfile:\n",
    "    x = xmltodict.parse(xmlfile)['playgrounds']['facility']\n",
    "    df = pd.DataFrame(x)"
   ]
  },
  {
   "cell_type": "code",
   "execution_count": 37,
   "metadata": {
    "collapsed": false
   },
   "outputs": [
    {
     "data": {
      "text/html": [
       "<div>\n",
       "<table border=\"1\" class=\"dataframe\">\n",
       "  <thead>\n",
       "    <tr style=\"text-align: right;\">\n",
       "      <th></th>\n",
       "      <th>Accessible</th>\n",
       "      <th>Adaptive_Swing</th>\n",
       "      <th>Level</th>\n",
       "      <th>Location</th>\n",
       "      <th>Name</th>\n",
       "      <th>Playground_ID</th>\n",
       "      <th>Prop_ID</th>\n",
       "      <th>School_ID</th>\n",
       "      <th>Status</th>\n",
       "      <th>lat</th>\n",
       "      <th>lon</th>\n",
       "    </tr>\n",
       "  </thead>\n",
       "  <tbody>\n",
       "    <tr>\n",
       "      <th>1252</th>\n",
       "      <td>None</td>\n",
       "      <td>None</td>\n",
       "      <td>None</td>\n",
       "      <td>Pier 6 - at Atlantic Avenue and Furman Street</td>\n",
       "      <td>Swing Valley</td>\n",
       "      <td>None</td>\n",
       "      <td>B431</td>\n",
       "      <td>None</td>\n",
       "      <td>None</td>\n",
       "      <td>40.6931</td>\n",
       "      <td>-74.0013</td>\n",
       "    </tr>\n",
       "    <tr>\n",
       "      <th>1253</th>\n",
       "      <td>None</td>\n",
       "      <td>None</td>\n",
       "      <td>None</td>\n",
       "      <td>Pier 6 - between Atlantic Avenue and Joralemon...</td>\n",
       "      <td>Sandbox Village</td>\n",
       "      <td>None</td>\n",
       "      <td>B431</td>\n",
       "      <td>None</td>\n",
       "      <td>None</td>\n",
       "      <td>40.6931</td>\n",
       "      <td>-74.0013</td>\n",
       "    </tr>\n",
       "    <tr>\n",
       "      <th>1254</th>\n",
       "      <td>None</td>\n",
       "      <td>None</td>\n",
       "      <td>None</td>\n",
       "      <td>Pier 6 - between Atlantic Avenue and Joralemon...</td>\n",
       "      <td>Slide Mountain</td>\n",
       "      <td>None</td>\n",
       "      <td>B431</td>\n",
       "      <td>None</td>\n",
       "      <td>None</td>\n",
       "      <td>0</td>\n",
       "      <td>-74.0009</td>\n",
       "    </tr>\n",
       "    <tr>\n",
       "      <th>1255</th>\n",
       "      <td>None</td>\n",
       "      <td>None</td>\n",
       "      <td>None</td>\n",
       "      <td>Pier 2</td>\n",
       "      <td>Pier 2 Swings</td>\n",
       "      <td>None</td>\n",
       "      <td>B431</td>\n",
       "      <td>None</td>\n",
       "      <td>None</td>\n",
       "      <td>40.6931</td>\n",
       "      <td>-74.0013</td>\n",
       "    </tr>\n",
       "    <tr>\n",
       "      <th>1256</th>\n",
       "      <td>None</td>\n",
       "      <td>None</td>\n",
       "      <td>None</td>\n",
       "      <td>Pier 6 - between Atlantic Avenue and Joralemon...</td>\n",
       "      <td>Marsh Garden</td>\n",
       "      <td>None</td>\n",
       "      <td>B431</td>\n",
       "      <td>None</td>\n",
       "      <td>None</td>\n",
       "      <td>40.6931</td>\n",
       "      <td>-74.0013</td>\n",
       "    </tr>\n",
       "  </tbody>\n",
       "</table>\n",
       "</div>"
      ],
      "text/plain": [
       "     Accessible Adaptive_Swing Level  \\\n",
       "1252       None           None  None   \n",
       "1253       None           None  None   \n",
       "1254       None           None  None   \n",
       "1255       None           None  None   \n",
       "1256       None           None  None   \n",
       "\n",
       "                                               Location             Name  \\\n",
       "1252      Pier 6 - at Atlantic Avenue and Furman Street     Swing Valley   \n",
       "1253  Pier 6 - between Atlantic Avenue and Joralemon...  Sandbox Village   \n",
       "1254  Pier 6 - between Atlantic Avenue and Joralemon...   Slide Mountain   \n",
       "1255                                             Pier 2    Pier 2 Swings   \n",
       "1256  Pier 6 - between Atlantic Avenue and Joralemon...     Marsh Garden   \n",
       "\n",
       "     Playground_ID Prop_ID School_ID Status      lat       lon  \n",
       "1252          None    B431      None   None  40.6931  -74.0013  \n",
       "1253          None    B431      None   None  40.6931  -74.0013  \n",
       "1254          None    B431      None   None        0  -74.0009  \n",
       "1255          None    B431      None   None  40.6931  -74.0013  \n",
       "1256          None    B431      None   None  40.6931  -74.0013  "
      ]
     },
     "execution_count": 37,
     "metadata": {},
     "output_type": "execute_result"
    }
   ],
   "source": [
    "df.tail()"
   ]
  },
  {
   "cell_type": "code",
   "execution_count": 38,
   "metadata": {
    "collapsed": true
   },
   "outputs": [],
   "source": [
    "df.to_csv(PARQA + 'data/DPR_property/playgrounds.csv')"
   ]
  },
  {
   "cell_type": "code",
   "execution_count": null,
   "metadata": {
    "collapsed": true
   },
   "outputs": [],
   "source": []
  }
 ],
 "metadata": {
  "kernelspec": {
   "display_name": "Python 2",
   "language": "python",
   "name": "python2"
  },
  "language_info": {
   "codemirror_mode": {
    "name": "ipython",
    "version": 2
   },
   "file_extension": ".py",
   "mimetype": "text/x-python",
   "name": "python",
   "nbconvert_exporter": "python",
   "pygments_lexer": "ipython2",
   "version": "2.7.10"
  }
 },
 "nbformat": 4,
 "nbformat_minor": 0
}
