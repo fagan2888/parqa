{
 "cells": [
  {
   "cell_type": "code",
   "execution_count": 1,
   "metadata": {
    "collapsed": true
   },
   "outputs": [],
   "source": [
    "%matplotlib inline\n",
    "import pandas as pd\n",
    "import geopandas as gp\n",
    "import numpy as np\n",
    "import os\n",
    "import json\n",
    "\n",
    "PARQA = os.getenv('PARQA')"
   ]
  },
  {
   "cell_type": "code",
   "execution_count": 2,
   "metadata": {
    "collapsed": false
   },
   "outputs": [],
   "source": [
    "pg = gp.read_file(PARQA + 'data/DPR_SchoolyardsToPlaygrounds_001/DPR_SchoolyardsToPlaygrounds_001.shp')"
   ]
  },
  {
   "cell_type": "code",
   "execution_count": 3,
   "metadata": {
    "collapsed": false
   },
   "outputs": [
    {
     "name": "stderr",
     "output_type": "stream",
     "text": [
      "/Users/casy/anaconda/lib/python2.7/site-packages/ipykernel/__main__.py:2: SettingWithCopyWarning: \n",
      "A value is trying to be set on a copy of a slice from a DataFrame.\n",
      "Try using .loc[row_indexer,col_indexer] = value instead\n",
      "\n",
      "See the caveats in the documentation: http://pandas.pydata.org/pandas-docs/stable/indexing.html#indexing-view-versus-copy\n",
      "  from ipykernel import kernelapp as app\n"
     ]
    },
    {
     "data": {
      "image/png": "[encoded data removed]",
      "text/plain": [
       "<matplotlib.figure.Figure at 0x107134190>"
      ]
     },
     "metadata": {},
     "output_type": "display_data"
    }
   ],
   "source": [
    "pg2 = pg[['BOROUGH','LOCATION','EAPPLY','GISPROPNUM','geometry']]\n",
    "pg2['geometry'] = pg2.geometry.centroid\n",
    "pg2.plot(figsize=(12,12));"
   ]
  },
  {
   "cell_type": "code",
   "execution_count": 4,
   "metadata": {
    "collapsed": false
   },
   "outputs": [],
   "source": [
    "with open(PARQA + 'data/school_playgrounds.json', 'w') as rfile:\n",
    "    json.dump(pg2.to_json(), rfile)\n"
   ]
  },
  {
   "cell_type": "code",
   "execution_count": 5,
   "metadata": {
    "collapsed": false
   },
   "outputs": [],
   "source": [
    "pg2 = pg2.replace('Null', np.nan)"
   ]
  },
  {
   "cell_type": "code",
   "execution_count": 6,
   "metadata": {
    "collapsed": false
   },
   "outputs": [],
   "source": [
    "pg3 = pg2[pd.notnull(pg2['EAPPLY'])].rename(columns={'EAPPLY':'PSID'})\n",
    "pg3[['BOROUGH', 'LOCATION','PSID', 'GISPROPNUM']].to_csv(PARQA + 'data/sch_playground_names.csv')"
   ]
  },
  {
   "cell_type": "code",
   "execution_count": 11,
   "metadata": {
    "collapsed": false
   },
   "outputs": [
    {
     "data": {
      "text/html": [
       "<div>\n",
       "<table border=\"1\" class=\"dataframe\">\n",
       "  <thead>\n",
       "    <tr style=\"text-align: right;\">\n",
       "      <th></th>\n",
       "      <th>BOROUGH</th>\n",
       "      <th>LOCATION</th>\n",
       "      <th>PSID</th>\n",
       "      <th>GISPROPNUM</th>\n",
       "      <th>lon</th>\n",
       "      <th>lat</th>\n",
       "    </tr>\n",
       "  </thead>\n",
       "  <tbody>\n",
       "    <tr>\n",
       "      <th>0</th>\n",
       "      <td>Q</td>\n",
       "      <td>Francis Lewis Blvd. bet.ween 192 St. and 35 Ave.</td>\n",
       "      <td>I.S. 25</td>\n",
       "      <td>QS09</td>\n",
       "      <td>-73.789308</td>\n",
       "      <td>40.765013</td>\n",
       "    </tr>\n",
       "    <tr>\n",
       "      <th>1</th>\n",
       "      <td>Q</td>\n",
       "      <td>117 St. bet.ween Jamaica Ave. and 89 Ave.</td>\n",
       "      <td>P.S. 51</td>\n",
       "      <td>QS10</td>\n",
       "      <td>-73.831557</td>\n",
       "      <td>40.698129</td>\n",
       "    </tr>\n",
       "    <tr>\n",
       "      <th>2</th>\n",
       "      <td>B</td>\n",
       "      <td>E. 2 St. bet.ween Ave. S and Ave. R</td>\n",
       "      <td>P.S. 215</td>\n",
       "      <td>BS30</td>\n",
       "      <td>-73.970225</td>\n",
       "      <td>40.602868</td>\n",
       "    </tr>\n",
       "    <tr>\n",
       "      <th>3</th>\n",
       "      <td>B</td>\n",
       "      <td>60 St. bet.ween Bay Pkwy. and 23 Ave.</td>\n",
       "      <td>P.S. 226</td>\n",
       "      <td>BS31</td>\n",
       "      <td>-73.977325</td>\n",
       "      <td>40.615567</td>\n",
       "    </tr>\n",
       "    <tr>\n",
       "      <th>4</th>\n",
       "      <td>B</td>\n",
       "      <td>Bergen St. bet.ween Troy Ave. and Schenectady ...</td>\n",
       "      <td>P.S. 243</td>\n",
       "      <td>BS32</td>\n",
       "      <td>-73.934851</td>\n",
       "      <td>40.675514</td>\n",
       "    </tr>\n",
       "  </tbody>\n",
       "</table>\n",
       "</div>"
      ],
      "text/plain": [
       "  BOROUGH                                           LOCATION      PSID  \\\n",
       "0       Q   Francis Lewis Blvd. bet.ween 192 St. and 35 Ave.   I.S. 25   \n",
       "1       Q          117 St. bet.ween Jamaica Ave. and 89 Ave.   P.S. 51   \n",
       "2       B                E. 2 St. bet.ween Ave. S and Ave. R  P.S. 215   \n",
       "3       B              60 St. bet.ween Bay Pkwy. and 23 Ave.  P.S. 226   \n",
       "4       B  Bergen St. bet.ween Troy Ave. and Schenectady ...  P.S. 243   \n",
       "\n",
       "  GISPROPNUM        lon        lat  \n",
       "0       QS09 -73.789308  40.765013  \n",
       "1       QS10 -73.831557  40.698129  \n",
       "2       BS30 -73.970225  40.602868  \n",
       "3       BS31 -73.977325  40.615567  \n",
       "4       BS32 -73.934851  40.675514  "
      ]
     },
     "execution_count": 11,
     "metadata": {},
     "output_type": "execute_result"
    }
   ],
   "source": [
    "p = pg3.to_crs(epsg=4326)\n",
    "\n",
    "p['lon'] = p.geometry.apply(lambda x: x.coords[0][0])\n",
    "p['lat'] = p.geometry.apply(lambda x: x.coords[0][1])\n",
    "p = p.drop(['geometry'],1)\n",
    "p.head()"
   ]
  },
  {
   "cell_type": "code",
   "execution_count": 12,
   "metadata": {
    "collapsed": true
   },
   "outputs": [],
   "source": [
    "p.to_csv(PARQA + 'data/DPR_property/school_playgrounds.csv', encoding='utf8')"
   ]
  },
  {
   "cell_type": "code",
   "execution_count": null,
   "metadata": {
    "collapsed": true
   },
   "outputs": [],
   "source": []
  }
 ],
 "metadata": {
  "kernelspec": {
   "display_name": "Python 2",
   "language": "python",
   "name": "python2"
  },
  "language_info": {
   "codemirror_mode": {
    "name": "ipython",
    "version": 2
   },
   "file_extension": ".py",
   "mimetype": "text/x-python",
   "name": "python",
   "nbconvert_exporter": "python",
   "pygments_lexer": "ipython2",
   "version": "2.7.10"
  }
 },
 "nbformat": 4,
 "nbformat_minor": 0
}
