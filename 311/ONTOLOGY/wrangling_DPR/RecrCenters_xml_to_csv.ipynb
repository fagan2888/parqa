{
 "cells": [
  {
   "cell_type": "code",
   "execution_count": 1,
   "metadata": {
    "collapsed": true
   },
   "outputs": [],
   "source": [
    "import pandas as pd\n",
    "import xmltodict\n",
    "# from xml.dom import minidom\n",
    "import os\n",
    "\n",
    "\n",
    "PARQA = os.getenv('PARQA') #basic path"
   ]
  },
  {
   "cell_type": "code",
   "execution_count": 7,
   "metadata": {
    "collapsed": false
   },
   "outputs": [],
   "source": [
    "with open(PARQA + 'data/DPR_property/DPR_RecreationCenter_001.xml', 'r') as xmlfile:\n",
    "    xdict = xmltodict.parse(xmlfile)\n",
    "    x = xdict[xdict.keys()[0]]['facility']\n",
    "    df = pd.DataFrame(x)"
   ]
  },
  {
   "cell_type": "code",
   "execution_count": 8,
   "metadata": {
    "collapsed": false
   },
   "outputs": [
    {
     "data": {
      "text/html": [
       "<div>\n",
       "<table border=\"1\" class=\"dataframe\">\n",
       "  <thead>\n",
       "    <tr style=\"text-align: right;\">\n",
       "      <th></th>\n",
       "      <th>ADDRESS</th>\n",
       "      <th>BOROUGH</th>\n",
       "      <th>CENTER_MANAGER</th>\n",
       "      <th>CITY</th>\n",
       "      <th>DEPUTY_MANAGER</th>\n",
       "      <th>FAX</th>\n",
       "      <th>NAME</th>\n",
       "      <th>PHONE</th>\n",
       "      <th>PHONE_B</th>\n",
       "      <th>STATE</th>\n",
       "      <th>ZIP</th>\n",
       "      <th>cost_description</th>\n",
       "      <th>cost_free</th>\n",
       "      <th>description</th>\n",
       "      <th>message</th>\n",
       "    </tr>\n",
       "  </thead>\n",
       "  <tbody>\n",
       "    <tr>\n",
       "      <th>56</th>\n",
       "      <td>Ely &amp; Hammersly Avenues</td>\n",
       "      <td>None</td>\n",
       "      <td>None</td>\n",
       "      <td>Bronx</td>\n",
       "      <td>None</td>\n",
       "      <td>None</td>\n",
       "      <td>Haffen Park Field House</td>\n",
       "      <td>(718) 379-8347</td>\n",
       "      <td>None</td>\n",
       "      <td>NY</td>\n",
       "      <td>10469</td>\n",
       "      <td>None</td>\n",
       "      <td>0</td>\n",
       "      <td>None</td>\n",
       "      <td>None</td>\n",
       "    </tr>\n",
       "    <tr>\n",
       "      <th>57</th>\n",
       "      <td>3101 Kingsbridge Terrace</td>\n",
       "      <td>None</td>\n",
       "      <td>Lori Spector</td>\n",
       "      <td>Bronx</td>\n",
       "      <td>None</td>\n",
       "      <td>(718) 884-0858</td>\n",
       "      <td>Kingsbridge Heights Community Center</td>\n",
       "      <td>(718) 884-0700</td>\n",
       "      <td>None</td>\n",
       "      <td>NY</td>\n",
       "      <td>10463</td>\n",
       "      <td>None</td>\n",
       "      <td>0</td>\n",
       "      <td>None</td>\n",
       "      <td>None</td>\n",
       "    </tr>\n",
       "    <tr>\n",
       "      <th>58</th>\n",
       "      <td>East 166th Street</td>\n",
       "      <td>None</td>\n",
       "      <td>None</td>\n",
       "      <td>Bronx</td>\n",
       "      <td>None</td>\n",
       "      <td>None</td>\n",
       "      <td>Basil Behagen Field House</td>\n",
       "      <td>None</td>\n",
       "      <td>None</td>\n",
       "      <td>New York</td>\n",
       "      <td>10452</td>\n",
       "      <td>None</td>\n",
       "      <td>0</td>\n",
       "      <td>None</td>\n",
       "      <td>None</td>\n",
       "    </tr>\n",
       "    <tr>\n",
       "      <th>59</th>\n",
       "      <td>765 Manida Street</td>\n",
       "      <td>None</td>\n",
       "      <td>Fernando Rosa</td>\n",
       "      <td>Bronx</td>\n",
       "      <td>Cathy Mitchell</td>\n",
       "      <td>(718) 860-5885</td>\n",
       "      <td>Hunts Point Recreation Center</td>\n",
       "      <td>(718) 860-5544</td>\n",
       "      <td>None</td>\n",
       "      <td>New York</td>\n",
       "      <td>10474</td>\n",
       "      <td>None</td>\n",
       "      <td>0</td>\n",
       "      <td>&lt;p class=\"alert alert-success\"&gt;Did you know ma...</td>\n",
       "      <td>None</td>\n",
       "    </tr>\n",
       "    <tr>\n",
       "      <th>60</th>\n",
       "      <td>1527 Jesup Avenue</td>\n",
       "      <td>None</td>\n",
       "      <td>Cory Shaw</td>\n",
       "      <td>Bronx</td>\n",
       "      <td>Ashanta Smith</td>\n",
       "      <td>(718) 293-2485</td>\n",
       "      <td>West Bronx CYO</td>\n",
       "      <td>(718) 293-5934</td>\n",
       "      <td>None</td>\n",
       "      <td>New York</td>\n",
       "      <td>10452</td>\n",
       "      <td>None</td>\n",
       "      <td>0</td>\n",
       "      <td>&lt;p class=\"alert alert-success\"&gt;Did you know ma...</td>\n",
       "      <td>None</td>\n",
       "    </tr>\n",
       "  </tbody>\n",
       "</table>\n",
       "</div>"
      ],
      "text/plain": [
       "                     ADDRESS BOROUGH CENTER_MANAGER   CITY  DEPUTY_MANAGER  \\\n",
       "56   Ely & Hammersly Avenues    None           None  Bronx            None   \n",
       "57  3101 Kingsbridge Terrace    None   Lori Spector  Bronx            None   \n",
       "58         East 166th Street    None           None  Bronx            None   \n",
       "59         765 Manida Street    None  Fernando Rosa  Bronx  Cathy Mitchell   \n",
       "60         1527 Jesup Avenue    None      Cory Shaw  Bronx   Ashanta Smith   \n",
       "\n",
       "               FAX                                  NAME           PHONE  \\\n",
       "56            None               Haffen Park Field House  (718) 379-8347   \n",
       "57  (718) 884-0858  Kingsbridge Heights Community Center  (718) 884-0700   \n",
       "58            None             Basil Behagen Field House            None   \n",
       "59  (718) 860-5885         Hunts Point Recreation Center  (718) 860-5544   \n",
       "60  (718) 293-2485                        West Bronx CYO  (718) 293-5934   \n",
       "\n",
       "   PHONE_B     STATE    ZIP cost_description cost_free  \\\n",
       "56    None        NY  10469             None         0   \n",
       "57    None        NY  10463             None         0   \n",
       "58    None  New York  10452             None         0   \n",
       "59    None  New York  10474             None         0   \n",
       "60    None  New York  10452             None         0   \n",
       "\n",
       "                                          description message  \n",
       "56                                               None    None  \n",
       "57                                               None    None  \n",
       "58                                               None    None  \n",
       "59  <p class=\"alert alert-success\">Did you know ma...    None  \n",
       "60  <p class=\"alert alert-success\">Did you know ma...    None  "
      ]
     },
     "execution_count": 8,
     "metadata": {},
     "output_type": "execute_result"
    }
   ],
   "source": [
    "df.tail()"
   ]
  },
  {
   "cell_type": "code",
   "execution_count": 6,
   "metadata": {
    "collapsed": true
   },
   "outputs": [],
   "source": [
    "df.to_csv(PARQA + 'data/DPR_property/recr_centers.csv', encoding='utf8')"
   ]
  },
  {
   "cell_type": "code",
   "execution_count": null,
   "metadata": {
    "collapsed": true
   },
   "outputs": [],
   "source": []
  }
 ],
 "metadata": {
  "kernelspec": {
   "display_name": "Python 2",
   "language": "python",
   "name": "python2"
  },
  "language_info": {
   "codemirror_mode": {
    "name": "ipython",
    "version": 2
   },
   "file_extension": ".py",
   "mimetype": "text/x-python",
   "name": "python",
   "nbconvert_exporter": "python",
   "pygments_lexer": "ipython2",
   "version": "2.7.10"
  }
 },
 "nbformat": 4,
 "nbformat_minor": 0
}
