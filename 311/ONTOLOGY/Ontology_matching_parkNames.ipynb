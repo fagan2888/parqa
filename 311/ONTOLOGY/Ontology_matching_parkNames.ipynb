{
 "cells": [
  {
   "cell_type": "markdown",
   "metadata": {},
   "source": [
    "# Creating Ontology of 311 Park Names -> official park names"
   ]
  },
  {
   "cell_type": "markdown",
   "metadata": {},
   "source": [
    "This notebook creates a match dictionary between park names in 311 data and in NYC Parks official dataset. \n",
    "Using this dictionary we can match each park-related call to specific park or park District"
   ]
  },
  {
   "cell_type": "markdown",
   "metadata": {},
   "source": [
    "Here I am using [fuzzywuzzy module](https://github.com/seatgeek/fuzzywuzzy)"
   ]
  },
  {
   "cell_type": "code",
   "execution_count": 50,
   "metadata": {
    "collapsed": false
   },
   "outputs": [
    {
     "name": "stdout",
     "output_type": "stream",
     "text": [
      "Populating the interactive namespace from numpy and matplotlib\n"
     ]
    },
    {
     "name": "stderr",
     "output_type": "stream",
     "text": [
      "WARNING: pylab import has clobbered these variables: ['plt']\n",
      "`%matplotlib` prevents importing * from pylab and numpy\n"
     ]
    }
   ],
   "source": [
    "__author__ = \"Philipp Kats\"\n",
    "__date__ = \"2015_10_15\"\n",
    "\n",
    "import pandas as pd\n",
    "import geopandas as gp\n",
    "import pylab as plt\n",
    "import os\n",
    "from fuzzywuzzy import process  ## fuzzy string match in python\n",
    "\n",
    "# import json\n",
    "# import numpy as np\n",
    "\n",
    "# from geopandas.tools import sjoin\n",
    "# from shapely.geometry import Point\n",
    "\n",
    "import requests\n",
    "s = requests.get(\"https://raw.githubusercontent.com/Casyfill/CUSP_templates/master/Py/fbMatplotlibrc.json\").json()\n",
    "plt.rcParams.update(s)\n",
    "\n",
    "%pylab inline"
   ]
  },
  {
   "cell_type": "code",
   "execution_count": 51,
   "metadata": {
    "collapsed": true
   },
   "outputs": [],
   "source": [
    "PARQA = os.getenv('PARQA') #basic path"
   ]
  },
  {
   "cell_type": "markdown",
   "metadata": {},
   "source": [
    "## Getting Data: both 311 Calls names and Park official names to match"
   ]
  },
  {
   "cell_type": "code",
   "execution_count": 52,
   "metadata": {
    "collapsed": true
   },
   "outputs": [],
   "source": [
    "def clean(x):\n",
    "    return x.lower().replace('pool - ','').replace('playground','').strip()"
   ]
  },
  {
   "cell_type": "code",
   "execution_count": 53,
   "metadata": {
    "collapsed": false
   },
   "outputs": [
    {
     "name": "stdout",
     "output_type": "stream",
     "text": [
      "311_call_names total: 1604\n"
     ]
    },
    {
     "data": {
      "text/html": [
       "<div>\n",
       "<table border=\"1\" class=\"dataframe\">\n",
       "  <thead>\n",
       "    <tr style=\"text-align: right;\">\n",
       "      <th></th>\n",
       "      <th>Park Facility Name</th>\n",
       "      <th>cleanName</th>\n",
       "    </tr>\n",
       "  </thead>\n",
       "  <tbody>\n",
       "    <tr>\n",
       "      <th>0</th>\n",
       "      <td>Ruppert Park</td>\n",
       "      <td>ruppert park</td>\n",
       "    </tr>\n",
       "    <tr>\n",
       "      <th>1</th>\n",
       "      <td>Prospect Park</td>\n",
       "      <td>prospect park</td>\n",
       "    </tr>\n",
       "    <tr>\n",
       "      <th>2</th>\n",
       "      <td>Tappen Park</td>\n",
       "      <td>tappen park</td>\n",
       "    </tr>\n",
       "  </tbody>\n",
       "</table>\n",
       "</div>"
      ],
      "text/plain": [
       "  Park Facility Name      cleanName\n",
       "0       Ruppert Park   ruppert park\n",
       "1      Prospect Park  prospect park\n",
       "2        Tappen Park    tappen park"
      ]
     },
     "execution_count": 53,
     "metadata": {},
     "output_type": "execute_result"
    }
   ],
   "source": [
    "calls = pd.DataFrame(pd.read_csv(PARQA + 'data/311/2015_10_9_311_parks.csv',encoding='utf8'))\n",
    "                     \n",
    "callParks = pd.DataFrame(calls[calls.Agency=='DPR']['Park Facility Name'].drop_duplicates())\n",
    "callParks['cleanName'] = callParks['Park Facility Name'].apply(clean)\n",
    "print '311_call_names total:', len(callParks['Park Facility Name'])\n",
    "callParks.head(3)"
   ]
  },
  {
   "cell_type": "markdown",
   "metadata": {},
   "source": [
    "We will use official park names as a choicelist for each 311_name to choose from"
   ]
  },
  {
   "cell_type": "code",
   "execution_count": 54,
   "metadata": {
    "collapsed": true
   },
   "outputs": [],
   "source": [
    "## using geojson produced of OPEN DATA \n",
    "parkNames = pd.DataFrame(gp.read_file(PARQA + 'data/parks_computed.geojson')['SIGNNAME'].drop_duplicates().str.lower())"
   ]
  },
  {
   "cell_type": "code",
   "execution_count": 55,
   "metadata": {
    "collapsed": false
   },
   "outputs": [
    {
     "name": "stdout",
     "output_type": "stream",
     "text": [
      "Official names total:  1789\n"
     ]
    },
    {
     "data": {
      "text/html": [
       "<div>\n",
       "<table border=\"1\" class=\"dataframe\">\n",
       "  <thead>\n",
       "    <tr style=\"text-align: right;\">\n",
       "      <th></th>\n",
       "      <th>SIGNNAME</th>\n",
       "    </tr>\n",
       "  </thead>\n",
       "  <tbody>\n",
       "    <tr>\n",
       "      <th>0</th>\n",
       "      <td>queensbridge park</td>\n",
       "    </tr>\n",
       "    <tr>\n",
       "      <th>1</th>\n",
       "      <td>ambrosini field</td>\n",
       "    </tr>\n",
       "    <tr>\n",
       "      <th>2</th>\n",
       "      <td>flight 587 memorial park</td>\n",
       "    </tr>\n",
       "  </tbody>\n",
       "</table>\n",
       "</div>"
      ],
      "text/plain": [
       "                   SIGNNAME\n",
       "0         queensbridge park\n",
       "1           ambrosini field\n",
       "2  flight 587 memorial park"
      ]
     },
     "execution_count": 55,
     "metadata": {},
     "output_type": "execute_result"
    }
   ],
   "source": [
    "## TODO Should filter other agencies on the earlier stage\n",
    "\n",
    "ofParks =[unicode(x) for x in parkNames.SIGNNAME.tolist() if type(x)!=float]\n",
    "print 'Official names total: ', len(ofParks) #this list gonna be our candidates reference\n",
    "parkNames.head(3)"
   ]
  },
  {
   "cell_type": "markdown",
   "metadata": {},
   "source": [
    "## Matching "
   ]
  },
  {
   "cell_type": "markdown",
   "metadata": {},
   "source": [
    "As Fuzzy works bit slow, lets first match perfect ones with pd.merge function"
   ]
  },
  {
   "cell_type": "code",
   "execution_count": 56,
   "metadata": {
    "collapsed": false
   },
   "outputs": [],
   "source": [
    "callParks2 = callParks.merge(parkNames, how='left', left_on = 'cleanName', right_on='SIGNNAME', copy=1)"
   ]
  },
  {
   "cell_type": "code",
   "execution_count": 57,
   "metadata": {
    "collapsed": false
   },
   "outputs": [
    {
     "name": "stdout",
     "output_type": "stream",
     "text": [
      "Unmatched:  1240\n"
     ]
    }
   ],
   "source": [
    "Unmatched = callParks2[pd.isnull(callParks2.SIGNNAME)]\n",
    "Matched = callParks2[pd.notnull(callParks2.SIGNNAME)]\n",
    "\n",
    "print 'Unmatched: ', len(Unmatched)"
   ]
  },
  {
   "cell_type": "code",
   "execution_count": 58,
   "metadata": {
    "collapsed": false
   },
   "outputs": [],
   "source": [
    "## function\n",
    "\n",
    "def getBest(x):\n",
    "    global ofParks\n",
    "    return process.extractOne(x, ofParks)"
   ]
  },
  {
   "cell_type": "code",
   "execution_count": 59,
   "metadata": {
    "collapsed": false
   },
   "outputs": [
    {
     "name": "stderr",
     "output_type": "stream",
     "text": [
      "/Users/casy/anaconda/lib/python2.7/site-packages/ipykernel/__main__.py:5: SettingWithCopyWarning: \n",
      "A value is trying to be set on a copy of a slice from a DataFrame.\n",
      "Try using .loc[row_indexer,col_indexer] = value instead\n",
      "\n",
      "See the caveats in the documentation: http://pandas.pydata.org/pandas-docs/stable/indexing.html#indexing-view-versus-copy\n"
     ]
    }
   ],
   "source": [
    "##################### MATCNING PROCESS\n",
    "##################### ATTENTION !!!!!!\n",
    "##################### TAKES 10 MINUTES\n",
    "\n",
    "Unmatched['match'] = Unmatched['Park Facility Name'].apply(getBest)"
   ]
  },
  {
   "cell_type": "code",
   "execution_count": 60,
   "metadata": {
    "collapsed": false
   },
   "outputs": [
    {
     "name": "stderr",
     "output_type": "stream",
     "text": [
      "/Users/casy/anaconda/lib/python2.7/site-packages/ipykernel/__main__.py:1: SettingWithCopyWarning: \n",
      "A value is trying to be set on a copy of a slice from a DataFrame.\n",
      "Try using .loc[row_indexer,col_indexer] = value instead\n",
      "\n",
      "See the caveats in the documentation: http://pandas.pydata.org/pandas-docs/stable/indexing.html#indexing-view-versus-copy\n",
      "  if __name__ == '__main__':\n",
      "/Users/casy/anaconda/lib/python2.7/site-packages/ipykernel/__main__.py:2: SettingWithCopyWarning: \n",
      "A value is trying to be set on a copy of a slice from a DataFrame.\n",
      "Try using .loc[row_indexer,col_indexer] = value instead\n",
      "\n",
      "See the caveats in the documentation: http://pandas.pydata.org/pandas-docs/stable/indexing.html#indexing-view-versus-copy\n",
      "  from ipykernel import kernelapp as app\n"
     ]
    }
   ],
   "source": [
    "Unmatched['SIGNNAME'] = Unmatched['match'].apply(lambda x: x[0])\n",
    "Unmatched['ratio'] = Unmatched['match'].apply(lambda x: x[1])"
   ]
  },
  {
   "cell_type": "code",
   "execution_count": 61,
   "metadata": {
    "collapsed": false
   },
   "outputs": [
    {
     "name": "stdout",
     "output_type": "stream",
     "text": [
      "Average ratio: 92.6911290323\n",
      "ratio stD: 5.88336339401\n"
     ]
    },
    {
     "data": {
      "image/png": "[encoded data removed]",
      "text/plain": [
       "<matplotlib.figure.Figure at 0x10c454f10>"
      ]
     },
     "metadata": {},
     "output_type": "display_data"
    }
   ],
   "source": [
    "print 'Average ratio:', Unmatched['ratio'].mean()\n",
    "print 'ratio stD:', Unmatched['ratio'].std()\n",
    "Unmatched.ratio.hist(color='k', bins=30);"
   ]
  },
  {
   "cell_type": "markdown",
   "metadata": {},
   "source": [
    "Yet the best option to be sure - check all candidates."
   ]
  },
  {
   "cell_type": "code",
   "execution_count": 62,
   "metadata": {
    "collapsed": false
   },
   "outputs": [
    {
     "data": {
      "text/html": [
       "<div>\n",
       "<table border=\"1\" class=\"dataframe\">\n",
       "  <thead>\n",
       "    <tr style=\"text-align: right;\">\n",
       "      <th></th>\n",
       "      <th>Park Facility Name</th>\n",
       "      <th>cleanName</th>\n",
       "      <th>SIGNNAME</th>\n",
       "      <th>match</th>\n",
       "      <th>ratio</th>\n",
       "    </tr>\n",
       "  </thead>\n",
       "  <tbody>\n",
       "    <tr>\n",
       "      <th>553</th>\n",
       "      <td>Reeds Basket Willow's Swamp</td>\n",
       "      <td>reeds basket willow's swamp</td>\n",
       "      <td>reed's basket willow swamp park</td>\n",
       "      <td>(reed's basket willow swamp park, 86)</td>\n",
       "      <td>86</td>\n",
       "    </tr>\n",
       "    <tr>\n",
       "      <th>689</th>\n",
       "      <td>Palmetto Playground</td>\n",
       "      <td>palmetto</td>\n",
       "      <td>pratt playground</td>\n",
       "      <td>(pratt playground, 86)</td>\n",
       "      <td>86</td>\n",
       "    </tr>\n",
       "    <tr>\n",
       "      <th>1311</th>\n",
       "      <td>Gowanus Playground</td>\n",
       "      <td>gowanus</td>\n",
       "      <td>gorman playground</td>\n",
       "      <td>(gorman playground, 86)</td>\n",
       "      <td>86</td>\n",
       "    </tr>\n",
       "    <tr>\n",
       "      <th>108</th>\n",
       "      <td>Kissena Corridor East</td>\n",
       "      <td>kissena corridor east</td>\n",
       "      <td>kissena corridor park</td>\n",
       "      <td>(kissena corridor park, 86)</td>\n",
       "      <td>86</td>\n",
       "    </tr>\n",
       "    <tr>\n",
       "      <th>1574</th>\n",
       "      <td>PS 45 Playground</td>\n",
       "      <td>ps 45</td>\n",
       "      <td>p.s. 155 playground</td>\n",
       "      <td>(p.s. 155 playground, 86)</td>\n",
       "      <td>86</td>\n",
       "    </tr>\n",
       "    <tr>\n",
       "      <th>598</th>\n",
       "      <td>Strong Street Playground</td>\n",
       "      <td>strong street</td>\n",
       "      <td>downing street playground</td>\n",
       "      <td>(downing street playground, 86)</td>\n",
       "      <td>86</td>\n",
       "    </tr>\n",
       "    <tr>\n",
       "      <th>634</th>\n",
       "      <td>Martins Field Playground</td>\n",
       "      <td>martins field</td>\n",
       "      <td>sarsfield playground</td>\n",
       "      <td>(sarsfield playground, 86)</td>\n",
       "      <td>86</td>\n",
       "    </tr>\n",
       "    <tr>\n",
       "      <th>589</th>\n",
       "      <td>Ramirez Playground</td>\n",
       "      <td>ramirez</td>\n",
       "      <td>ampere playground</td>\n",
       "      <td>(ampere playground, 86)</td>\n",
       "      <td>86</td>\n",
       "    </tr>\n",
       "    <tr>\n",
       "      <th>1572</th>\n",
       "      <td>Imagine Playground</td>\n",
       "      <td>imagine</td>\n",
       "      <td>wagner playground</td>\n",
       "      <td>(wagner playground, 86)</td>\n",
       "      <td>86</td>\n",
       "    </tr>\n",
       "    <tr>\n",
       "      <th>976</th>\n",
       "      <td>Recreation Center - St. James</td>\n",
       "      <td>recreation center - st. james</td>\n",
       "      <td>recreation center 54</td>\n",
       "      <td>(recreation center 54, 87)</td>\n",
       "      <td>87</td>\n",
       "    </tr>\n",
       "  </tbody>\n",
       "</table>\n",
       "</div>"
      ],
      "text/plain": [
       "                 Park Facility Name                      cleanName  \\\n",
       "553     Reeds Basket Willow's Swamp    reeds basket willow's swamp   \n",
       "689             Palmetto Playground                       palmetto   \n",
       "1311             Gowanus Playground                        gowanus   \n",
       "108           Kissena Corridor East          kissena corridor east   \n",
       "1574               PS 45 Playground                          ps 45   \n",
       "598        Strong Street Playground                  strong street   \n",
       "634        Martins Field Playground                  martins field   \n",
       "589              Ramirez Playground                        ramirez   \n",
       "1572             Imagine Playground                        imagine   \n",
       "976   Recreation Center - St. James  recreation center - st. james   \n",
       "\n",
       "                             SIGNNAME                                  match  \\\n",
       "553   reed's basket willow swamp park  (reed's basket willow swamp park, 86)   \n",
       "689                  pratt playground                 (pratt playground, 86)   \n",
       "1311                gorman playground                (gorman playground, 86)   \n",
       "108             kissena corridor park            (kissena corridor park, 86)   \n",
       "1574              p.s. 155 playground              (p.s. 155 playground, 86)   \n",
       "598         downing street playground        (downing street playground, 86)   \n",
       "634              sarsfield playground             (sarsfield playground, 86)   \n",
       "589                 ampere playground                (ampere playground, 86)   \n",
       "1572                wagner playground                (wagner playground, 86)   \n",
       "976              recreation center 54             (recreation center 54, 87)   \n",
       "\n",
       "      ratio  \n",
       "553      86  \n",
       "689      86  \n",
       "1311     86  \n",
       "108      86  \n",
       "1574     86  \n",
       "598      86  \n",
       "634      86  \n",
       "589      86  \n",
       "1572     86  \n",
       "976      87  "
      ]
     },
     "execution_count": 62,
     "metadata": {},
     "output_type": "execute_result"
    }
   ],
   "source": [
    "Unmatched[Unmatched.ratio >85].sort_values(by='ratio').head(10)"
   ]
  },
  {
   "cell_type": "code",
   "execution_count": 63,
   "metadata": {
    "collapsed": false
   },
   "outputs": [
    {
     "name": "stderr",
     "output_type": "stream",
     "text": [
      "/Users/casy/anaconda/lib/python2.7/site-packages/ipykernel/__main__.py:1: SettingWithCopyWarning: \n",
      "A value is trying to be set on a copy of a slice from a DataFrame.\n",
      "Try using .loc[row_indexer,col_indexer] = value instead\n",
      "\n",
      "See the caveats in the documentation: http://pandas.pydata.org/pandas-docs/stable/indexing.html#indexing-view-versus-copy\n",
      "  if __name__ == '__main__':\n"
     ]
    }
   ],
   "source": [
    "Matched['ratio'] = 100\n",
    "JoinedD = pd.concat([Matched, Unmatched[['SIGNNAME','Park Facility Name', 'ratio']]]).sort_values(by='ratio')"
   ]
  },
  {
   "cell_type": "code",
   "execution_count": 28,
   "metadata": {
    "collapsed": false
   },
   "outputs": [
    {
     "data": {
      "text/html": [
       "<div>\n",
       "<table border=\"1\" class=\"dataframe\">\n",
       "  <thead>\n",
       "    <tr style=\"text-align: right;\">\n",
       "      <th></th>\n",
       "      <th>Park Facility Name</th>\n",
       "      <th>SIGNNAME</th>\n",
       "      <th>ratio</th>\n",
       "    </tr>\n",
       "  </thead>\n",
       "  <tbody>\n",
       "    <tr>\n",
       "      <th>299</th>\n",
       "      <td>Israel Putnam - PS 44</td>\n",
       "      <td>Luna Park</td>\n",
       "      <td>49</td>\n",
       "    </tr>\n",
       "    <tr>\n",
       "      <th>946</th>\n",
       "      <td>Liberty</td>\n",
       "      <td>Albert J. Parham Playground</td>\n",
       "      <td>63</td>\n",
       "    </tr>\n",
       "    <tr>\n",
       "      <th>561</th>\n",
       "      <td>Glenwood Houses</td>\n",
       "      <td>Glenwood Playground</td>\n",
       "      <td>66</td>\n",
       "    </tr>\n",
       "    <tr>\n",
       "      <th>814</th>\n",
       "      <td>Edenwald Houses</td>\n",
       "      <td>Edenwald Playground</td>\n",
       "      <td>66</td>\n",
       "    </tr>\n",
       "    <tr>\n",
       "      <th>797</th>\n",
       "      <td>Windmuller</td>\n",
       "      <td>Mall</td>\n",
       "      <td>67</td>\n",
       "    </tr>\n",
       "  </tbody>\n",
       "</table>\n",
       "</div>"
      ],
      "text/plain": [
       "        Park Facility Name                     SIGNNAME  ratio\n",
       "299  Israel Putnam - PS 44                    Luna Park     49\n",
       "946                Liberty  Albert J. Parham Playground     63\n",
       "561        Glenwood Houses          Glenwood Playground     66\n",
       "814        Edenwald Houses          Edenwald Playground     66\n",
       "797             Windmuller                         Mall     67"
      ]
     },
     "execution_count": 28,
     "metadata": {},
     "output_type": "execute_result"
    }
   ],
   "source": [
    "JoinedD.head()"
   ]
  },
  {
   "cell_type": "code",
   "execution_count": 35,
   "metadata": {
    "collapsed": false
   },
   "outputs": [
    {
     "data": {
      "text/html": [
       "<div>\n",
       "<table border=\"1\" class=\"dataframe\">\n",
       "  <thead>\n",
       "    <tr style=\"text-align: right;\">\n",
       "      <th></th>\n",
       "      <th>ratio</th>\n",
       "    </tr>\n",
       "  </thead>\n",
       "  <tbody>\n",
       "    <tr>\n",
       "      <th>count</th>\n",
       "      <td>1604.000000</td>\n",
       "    </tr>\n",
       "    <tr>\n",
       "      <th>mean</th>\n",
       "      <td>94.355362</td>\n",
       "    </tr>\n",
       "    <tr>\n",
       "      <th>std</th>\n",
       "      <td>6.029323</td>\n",
       "    </tr>\n",
       "    <tr>\n",
       "      <th>min</th>\n",
       "      <td>49.000000</td>\n",
       "    </tr>\n",
       "    <tr>\n",
       "      <th>25%</th>\n",
       "      <td>90.000000</td>\n",
       "    </tr>\n",
       "    <tr>\n",
       "      <th>50%</th>\n",
       "      <td>95.000000</td>\n",
       "    </tr>\n",
       "    <tr>\n",
       "      <th>75%</th>\n",
       "      <td>100.000000</td>\n",
       "    </tr>\n",
       "    <tr>\n",
       "      <th>max</th>\n",
       "      <td>100.000000</td>\n",
       "    </tr>\n",
       "  </tbody>\n",
       "</table>\n",
       "</div>"
      ],
      "text/plain": [
       "             ratio\n",
       "count  1604.000000\n",
       "mean     94.355362\n",
       "std       6.029323\n",
       "min      49.000000\n",
       "25%      90.000000\n",
       "50%      95.000000\n",
       "75%     100.000000\n",
       "max     100.000000"
      ]
     },
     "execution_count": 35,
     "metadata": {},
     "output_type": "execute_result"
    }
   ],
   "source": [
    "JoinedD.describe()"
   ]
  },
  {
   "cell_type": "code",
   "execution_count": 29,
   "metadata": {
    "collapsed": true
   },
   "outputs": [],
   "source": [
    "JoinedD.to_csv(PARQA + 'data/matched_unmattched2.csv' , encoding='utf8')"
   ]
  },
  {
   "cell_type": "code",
   "execution_count": null,
   "metadata": {
    "collapsed": true
   },
   "outputs": [],
   "source": []
  }
 ],
 "metadata": {
  "kernelspec": {
   "display_name": "Python 2",
   "language": "python",
   "name": "python2"
  },
  "language_info": {
   "codemirror_mode": {
    "name": "ipython",
    "version": 2
   },
   "file_extension": ".py",
   "mimetype": "text/x-python",
   "name": "python",
   "nbconvert_exporter": "python",
   "pygments_lexer": "ipython2",
   "version": "2.7.10"
  }
 },
 "nbformat": 4,
 "nbformat_minor": 0
}
