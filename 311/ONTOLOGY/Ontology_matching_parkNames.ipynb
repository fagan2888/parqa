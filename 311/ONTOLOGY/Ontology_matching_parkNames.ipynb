{
 "cells": [
  {
   "cell_type": "markdown",
   "metadata": {},
   "source": [
    "# Creating Ontology of 311 Park Names -> official park names"
   ]
  },
  {
   "cell_type": "markdown",
   "metadata": {},
   "source": [
    "This notebook creates a match dictionary between park names in 311 data and in NYC Parks official dataset. \n",
    "Using this dictionary we can match each park-related call to specific park or park District"
   ]
  },
  {
   "cell_type": "markdown",
   "metadata": {},
   "source": [
    "Here I am using [fuzzywuzzy module](https://github.com/seatgeek/fuzzywuzzy)"
   ]
  },
  {
   "cell_type": "code",
   "execution_count": 6,
   "metadata": {
    "collapsed": false
   },
   "outputs": [
    {
     "name": "stdout",
     "output_type": "stream",
     "text": [
      "Populating the interactive namespace from numpy and matplotlib\n"
     ]
    }
   ],
   "source": [
    "__author__ = \"Philipp Kats\"\n",
    "__date__ = \"2015_10_15\"\n",
    "\n",
    "import pandas as pd\n",
    "import geopandas as gp\n",
    "import os\n",
    "from fuzzywuzzy import process  ## fuzzy string match in python\n",
    "\n",
    "%pylab inline\n",
    "PARQA = os.getenv('PARQA') #basic path"
   ]
  },
  {
   "cell_type": "markdown",
   "metadata": {},
   "source": [
    "## Getting Data: both 311 Calls names and Park official names to match"
   ]
  },
  {
   "cell_type": "code",
   "execution_count": 7,
   "metadata": {
    "collapsed": true
   },
   "outputs": [],
   "source": [
    "def clean(x):\n",
    "    return x.lower().replace('pool - ','').replace('playground','').strip()"
   ]
  },
  {
   "cell_type": "code",
   "execution_count": 8,
   "metadata": {
    "collapsed": false
   },
   "outputs": [
    {
     "name": "stderr",
     "output_type": "stream",
     "text": [
      "/Users/casy/anaconda/lib/python2.7/site-packages/IPython/core/interactiveshell.py:2902: DtypeWarning: Columns (18) have mixed types. Specify dtype option on import or set low_memory=False.\n",
      "  interactivity=interactivity, compiler=compiler, result=result)\n"
     ]
    }
   ],
   "source": [
    "calls = pd.DataFrame(pd.read_csv(PARQA + '/data/311DPR.csv',encoding='utf8'))\n"
   ]
  },
  {
   "cell_type": "code",
   "execution_count": 9,
   "metadata": {
    "collapsed": false
   },
   "outputs": [
    {
     "name": "stdout",
     "output_type": "stream",
     "text": [
      "311_call_names total: 1672\n"
     ]
    }
   ],
   "source": [
    "callParks = calls[calls.Agency=='DPR'][['Park Facility Name',\n",
    "                                                     'Borough']].drop_duplicates()\n",
    "\n",
    "callParks['cleanName'] = callParks['Park Facility Name'].apply(clean)\n",
    "print '311_call_names total:', len(callParks['Park Facility Name'])\n",
    "\n",
    "\n",
    "callP = calls[(calls.Agency=='DPR') & (calls['Location Type']=='Park')]"
   ]
  },
  {
   "cell_type": "code",
   "execution_count": 10,
   "metadata": {
    "collapsed": false
   },
   "outputs": [
    {
     "data": {
      "text/html": [
       "<div>\n",
       "<table border=\"1\" class=\"dataframe\">\n",
       "  <thead>\n",
       "    <tr style=\"text-align: right;\">\n",
       "      <th></th>\n",
       "      <th>Park Facility Name</th>\n",
       "      <th>Borough</th>\n",
       "      <th>cleanName</th>\n",
       "      <th>code</th>\n",
       "    </tr>\n",
       "  </thead>\n",
       "  <tbody>\n",
       "    <tr>\n",
       "      <th>0</th>\n",
       "      <td>Unspecified</td>\n",
       "      <td>BROOKLYN</td>\n",
       "      <td>unspecified</td>\n",
       "      <td>B</td>\n",
       "    </tr>\n",
       "    <tr>\n",
       "      <th>1</th>\n",
       "      <td>Geo Soilan Park - Battery Park City</td>\n",
       "      <td>MANHATTAN</td>\n",
       "      <td>geo soilan park - battery park city</td>\n",
       "      <td>M</td>\n",
       "    </tr>\n",
       "    <tr>\n",
       "      <th>2</th>\n",
       "      <td>Brookville Park</td>\n",
       "      <td>QUEENS</td>\n",
       "      <td>brookville park</td>\n",
       "      <td>Q</td>\n",
       "    </tr>\n",
       "  </tbody>\n",
       "</table>\n",
       "</div>"
      ],
      "text/plain": [
       "                    Park Facility Name    Borough  \\\n",
       "0                          Unspecified   BROOKLYN   \n",
       "1  Geo Soilan Park - Battery Park City  MANHATTAN   \n",
       "2                      Brookville Park     QUEENS   \n",
       "\n",
       "                             cleanName code  \n",
       "0                          unspecified    B  \n",
       "1  geo soilan park - battery park city    M  \n",
       "2                      brookville park    Q  "
      ]
     },
     "execution_count": 10,
     "metadata": {},
     "output_type": "execute_result"
    }
   ],
   "source": [
    "# rename Borough to BoroughCode\n",
    "\n",
    "borrowCode = pd.DataFrame({'Borough':['BROOKLYN',\n",
    "                                      'QUEENS',\n",
    "                                      'MANHATTAN',\n",
    "                                      'BRONX',\n",
    "                                      'STATEN ISLAND',\n",
    "                                      'Unspecified'],\n",
    "                           'code':['B',\n",
    "                                   'Q',\n",
    "                                   'M',\n",
    "                                   'X',\n",
    "                                   'R',\n",
    "                                   '?']})\n",
    "\n",
    "callParks = callParks.merge(borrowCode, how='left', on='Borough')\n",
    "callParks.head(3)"
   ]
  },
  {
   "cell_type": "markdown",
   "metadata": {},
   "source": [
    "## Official Park Names"
   ]
  },
  {
   "cell_type": "markdown",
   "metadata": {},
   "source": [
    "We will use official park names as a choicelist for each 311_name to choose from"
   ]
  },
  {
   "cell_type": "code",
   "execution_count": 11,
   "metadata": {
    "collapsed": false
   },
   "outputs": [
    {
     "data": {
      "text/plain": [
       "1787"
      ]
     },
     "execution_count": 11,
     "metadata": {},
     "output_type": "execute_result"
    }
   ],
   "source": [
    "## using geojson produced of OPEN DATA \n",
    "parkNames = gp.read_file(PARQA + 'data/parks_computed.geojson')[['SIGNNAME','BOROUGH']].drop_duplicates()\n",
    "parkNames['SIGNNAME'] = parkNames['SIGNNAME'].str.lower()\n",
    "len(parkNames['SIGNNAME'].drop_duplicates())"
   ]
  },
  {
   "cell_type": "code",
   "execution_count": 60,
   "metadata": {
    "collapsed": false
   },
   "outputs": [
    {
     "name": "stdout",
     "output_type": "stream",
     "text": [
      "[u'B', u'M', u'Q', u'R', u'X', '?']\n"
     ]
    }
   ],
   "source": [
    "#create a dictionary of parks for each borough \n",
    "#that will add accuracy and boost spead of search ( I hope)\n",
    "\n",
    "ofParks = {k:[unicode(x) for x in list(v)] for k,v in parkNames.groupby(\"BOROUGH\")[\"SIGNNAME\"]}\n",
    "\n",
    "tmp = []\n",
    "for v in ofParks.values():\n",
    "    tmp.extend(v)\n",
    "ofParks['?'] = tmp   #['???'] ### to mark parks with unspecified Borough\n",
    "\n",
    "print ofParks.keys()"
   ]
  },
  {
   "cell_type": "markdown",
   "metadata": {},
   "source": [
    "## Impirical recognition"
   ]
  },
  {
   "cell_type": "code",
   "execution_count": 21,
   "metadata": {
    "collapsed": false
   },
   "outputs": [],
   "source": [
    "callParksMatched = callParks.merge(parkNames, how='left', left_on = 'cleanName', right_on='SIGNNAME', copy=1)"
   ]
  },
  {
   "cell_type": "code",
   "execution_count": 22,
   "metadata": {
    "collapsed": false
   },
   "outputs": [],
   "source": [
    "#some manual improvisation, based on imirical experience\n",
    "\n",
    "def impiric(x):\n",
    "    'recognition, based on imirical experience'\n",
    "    general = {'flushing meadows':'flushing meadows and corona park',\n",
    "               'central park':'central park', \n",
    "               'prospect park':'prospect park',\n",
    "               'greenbelt': 'greenbelt native plant center',\n",
    "               'red hook park':'red hook recreation area',\n",
    "               'crotona park':'crotona park',\n",
    "               'marine park': 'marine park', \n",
    "               'van cortlandt':'van cortlandt park',\n",
    "               'seravalli': 'corporal john a. seravalli playground',\n",
    "               'inwood hill': 'inwood hill park',\n",
    "               'forest park':'forest park',\n",
    "               'pelham bay park':'pelham bay park',\n",
    "               'kissena park': 'kissena park',\n",
    "               'asser levy': 'asser levy park'\n",
    "\n",
    "                }\n",
    "    \n",
    "    for k in general.keys():\n",
    "        if k in x.cleanName:\n",
    "            return general[k]\n",
    "\n",
    "    return np.nan\n",
    "\n",
    "\n",
    "# Ugly solution - don't know how to update just part of the dataframe\n",
    "Unmatched = callParksMatched[pd.isnull(callParksMatched.SIGNNAME)]\n",
    "Matched = callParksMatched[pd.notnull(callParksMatched.SIGNNAME)]\n",
    "Unmatched.SIGNNAME = Unmatched.apply(impiric, 1)\n",
    "callParksMatched = pd.concat([Matched, Unmatched])"
   ]
  },
  {
   "cell_type": "code",
   "execution_count": 23,
   "metadata": {
    "collapsed": false
   },
   "outputs": [
    {
     "name": "stdout",
     "output_type": "stream",
     "text": [
      "Unmatched:  1086\n",
      "Matched:  603\n"
     ]
    }
   ],
   "source": [
    "Unmatched = callParksMatched[pd.isnull(callParksMatched.SIGNNAME)]\n",
    "Matched = callParksMatched[pd.notnull(callParksMatched.SIGNNAME)]\n",
    "\n",
    "print 'Unmatched: ', len(Unmatched)\n",
    "print 'Matched: ', len(Matched)"
   ]
  },
  {
   "cell_type": "markdown",
   "metadata": {},
   "source": [
    "## School Playgrounds"
   ]
  },
  {
   "cell_type": "code",
   "execution_count": 50,
   "metadata": {
    "collapsed": true
   },
   "outputs": [],
   "source": [
    "sch = pd.read_csv(PARQA + 'data/sch_playground_names.csv', index_col=0)\n",
    "sch['matchName'] = sch.PSID.str.lower().str.replace('.', '')"
   ]
  },
  {
   "cell_type": "code",
   "execution_count": 51,
   "metadata": {
    "collapsed": false
   },
   "outputs": [
    {
     "data": {
      "text/html": [
       "<div>\n",
       "<table border=\"1\" class=\"dataframe\">\n",
       "  <thead>\n",
       "    <tr style=\"text-align: right;\">\n",
       "      <th></th>\n",
       "      <th>BOROUGH</th>\n",
       "      <th>LOCATION</th>\n",
       "      <th>PSID</th>\n",
       "      <th>GISPROPNUM</th>\n",
       "      <th>matchName</th>\n",
       "    </tr>\n",
       "  </thead>\n",
       "  <tbody>\n",
       "    <tr>\n",
       "      <th>196</th>\n",
       "      <td>Q</td>\n",
       "      <td>Christie Ave. bet.ween 99 St. and 98 St.</td>\n",
       "      <td>I.S. 61</td>\n",
       "      <td>QS35</td>\n",
       "      <td>is 61</td>\n",
       "    </tr>\n",
       "    <tr>\n",
       "      <th>198</th>\n",
       "      <td>Q</td>\n",
       "      <td>50 St. bet. 31 Ave. and 30 Ave.</td>\n",
       "      <td>P.S. 151</td>\n",
       "      <td>QS55</td>\n",
       "      <td>ps 151</td>\n",
       "    </tr>\n",
       "    <tr>\n",
       "      <th>199</th>\n",
       "      <td>X</td>\n",
       "      <td>W. 177 St. bet.ween W. Tremont Ave. and Jerome...</td>\n",
       "      <td>P.S. 306</td>\n",
       "      <td>XS11</td>\n",
       "      <td>ps 306</td>\n",
       "    </tr>\n",
       "    <tr>\n",
       "      <th>200</th>\n",
       "      <td>Q</td>\n",
       "      <td>132 Ave., 132 Rd. bet. 218 St. and 220 St.</td>\n",
       "      <td>P.S. 132</td>\n",
       "      <td>QS56</td>\n",
       "      <td>ps 132</td>\n",
       "    </tr>\n",
       "    <tr>\n",
       "      <th>201</th>\n",
       "      <td>B</td>\n",
       "      <td>E. 23 St. bet.ween Campus Rd. and Glenwood Rd.</td>\n",
       "      <td>P.S. 152</td>\n",
       "      <td>BS43</td>\n",
       "      <td>ps 152</td>\n",
       "    </tr>\n",
       "  </tbody>\n",
       "</table>\n",
       "</div>"
      ],
      "text/plain": [
       "    BOROUGH                                           LOCATION      PSID  \\\n",
       "196       Q           Christie Ave. bet.ween 99 St. and 98 St.   I.S. 61   \n",
       "198       Q                    50 St. bet. 31 Ave. and 30 Ave.  P.S. 151   \n",
       "199       X  W. 177 St. bet.ween W. Tremont Ave. and Jerome...  P.S. 306   \n",
       "200       Q         132 Ave., 132 Rd. bet. 218 St. and 220 St.  P.S. 132   \n",
       "201       B     E. 23 St. bet.ween Campus Rd. and Glenwood Rd.  P.S. 152   \n",
       "\n",
       "    GISPROPNUM matchName  \n",
       "196       QS35     is 61  \n",
       "198       QS55    ps 151  \n",
       "199       XS11    ps 306  \n",
       "200       QS56    ps 132  \n",
       "201       BS43    ps 152  "
      ]
     },
     "execution_count": 51,
     "metadata": {},
     "output_type": "execute_result"
    }
   ],
   "source": [
    "sch.tail()"
   ]
  },
  {
   "cell_type": "code",
   "execution_count": 91,
   "metadata": {
    "collapsed": true
   },
   "outputs": [],
   "source": [
    "PS = sch.matchName.tolist()"
   ]
  },
  {
   "cell_type": "code",
   "execution_count": 61,
   "metadata": {
    "collapsed": false
   },
   "outputs": [],
   "source": [
    "PS = {k:[unicode(x) for x in list(v)] for k,v in sch.groupby(\"BOROUGH\")[\"matchName\"]}\n",
    "\n",
    "tmp = []\n",
    "for v in PS.values():\n",
    "    tmp.extend(v)\n",
    "PS['?'] = tmp"
   ]
  },
  {
   "cell_type": "code",
   "execution_count": 79,
   "metadata": {
    "collapsed": false
   },
   "outputs": [],
   "source": [
    "PATTERN = r'ps [0-9]+'\n",
    "p_PS = Unmatched[Unmatched.cleanName.str.contains(pattern)]\n",
    "Unmatched2 = Unmatched[~Unmatched.cleanName.str.contains(pattern)]"
   ]
  },
  {
   "cell_type": "code",
   "execution_count": 80,
   "metadata": {
    "collapsed": false
   },
   "outputs": [
    {
     "data": {
      "text/html": [
       "<div>\n",
       "<table border=\"1\" class=\"dataframe\">\n",
       "  <thead>\n",
       "    <tr style=\"text-align: right;\">\n",
       "      <th></th>\n",
       "      <th>Park Facility Name</th>\n",
       "      <th>Borough</th>\n",
       "      <th>cleanName</th>\n",
       "      <th>code</th>\n",
       "      <th>SIGNNAME</th>\n",
       "      <th>BOROUGH</th>\n",
       "    </tr>\n",
       "  </thead>\n",
       "  <tbody>\n",
       "    <tr>\n",
       "      <th>36</th>\n",
       "      <td>Emerald Playground - PS 200</td>\n",
       "      <td>QUEENS</td>\n",
       "      <td>emerald  - ps 200</td>\n",
       "      <td>Q</td>\n",
       "      <td>NaN</td>\n",
       "      <td>NaN</td>\n",
       "    </tr>\n",
       "    <tr>\n",
       "      <th>58</th>\n",
       "      <td>Jamaica Playground - PS 40</td>\n",
       "      <td>QUEENS</td>\n",
       "      <td>jamaica  - ps 40</td>\n",
       "      <td>Q</td>\n",
       "      <td>NaN</td>\n",
       "      <td>NaN</td>\n",
       "    </tr>\n",
       "    <tr>\n",
       "      <th>80</th>\n",
       "      <td>Queens Valley Playground - PS 164</td>\n",
       "      <td>QUEENS</td>\n",
       "      <td>queens valley  - ps 164</td>\n",
       "      <td>Q</td>\n",
       "      <td>NaN</td>\n",
       "      <td>NaN</td>\n",
       "    </tr>\n",
       "    <tr>\n",
       "      <th>81</th>\n",
       "      <td>Sumner Playground - PS 59</td>\n",
       "      <td>BROOKLYN</td>\n",
       "      <td>sumner  - ps 59</td>\n",
       "      <td>B</td>\n",
       "      <td>NaN</td>\n",
       "      <td>NaN</td>\n",
       "    </tr>\n",
       "    <tr>\n",
       "      <th>100</th>\n",
       "      <td>Mount Playground - PS 174</td>\n",
       "      <td>QUEENS</td>\n",
       "      <td>mount  - ps 174</td>\n",
       "      <td>Q</td>\n",
       "      <td>NaN</td>\n",
       "      <td>NaN</td>\n",
       "    </tr>\n",
       "  </tbody>\n",
       "</table>\n",
       "</div>"
      ],
      "text/plain": [
       "                    Park Facility Name   Borough                cleanName  \\\n",
       "36         Emerald Playground - PS 200    QUEENS        emerald  - ps 200   \n",
       "58          Jamaica Playground - PS 40    QUEENS         jamaica  - ps 40   \n",
       "80   Queens Valley Playground - PS 164    QUEENS  queens valley  - ps 164   \n",
       "81           Sumner Playground - PS 59  BROOKLYN          sumner  - ps 59   \n",
       "100          Mount Playground - PS 174    QUEENS          mount  - ps 174   \n",
       "\n",
       "    code SIGNNAME BOROUGH  \n",
       "36     Q      NaN     NaN  \n",
       "58     Q      NaN     NaN  \n",
       "80     Q      NaN     NaN  \n",
       "81     B      NaN     NaN  \n",
       "100    Q      NaN     NaN  "
      ]
     },
     "execution_count": 80,
     "metadata": {},
     "output_type": "execute_result"
    }
   ],
   "source": [
    "p_PS.head()"
   ]
  },
  {
   "cell_type": "code",
   "execution_count": 89,
   "metadata": {
    "collapsed": true
   },
   "outputs": [],
   "source": [
    "import re\n",
    "\n",
    "def getPS(txt):\n",
    "    try: \n",
    "        return re.search(r'ps [0-9]+', txt).group(0)\n",
    "    except:\n",
    "        return None\n",
    "        "
   ]
  },
  {
   "cell_type": "code",
   "execution_count": 90,
   "metadata": {
    "collapsed": false
   },
   "outputs": [
    {
     "name": "stderr",
     "output_type": "stream",
     "text": [
      "/Users/casy/anaconda/lib/python2.7/site-packages/ipykernel/__main__.py:1: SettingWithCopyWarning: \n",
      "A value is trying to be set on a copy of a slice from a DataFrame.\n",
      "Try using .loc[row_indexer,col_indexer] = value instead\n",
      "\n",
      "See the caveats in the documentation: http://pandas.pydata.org/pandas-docs/stable/indexing.html#indexing-view-versus-copy\n",
      "  if __name__ == '__main__':\n"
     ]
    },
    {
     "data": {
      "text/html": [
       "<div>\n",
       "<table border=\"1\" class=\"dataframe\">\n",
       "  <thead>\n",
       "    <tr style=\"text-align: right;\">\n",
       "      <th></th>\n",
       "      <th>Park Facility Name</th>\n",
       "      <th>Borough</th>\n",
       "      <th>cleanName</th>\n",
       "      <th>code</th>\n",
       "      <th>SIGNNAME</th>\n",
       "      <th>BOROUGH</th>\n",
       "      <th>PSID</th>\n",
       "    </tr>\n",
       "  </thead>\n",
       "  <tbody>\n",
       "    <tr>\n",
       "      <th>36</th>\n",
       "      <td>Emerald Playground - PS 200</td>\n",
       "      <td>QUEENS</td>\n",
       "      <td>emerald  - ps 200</td>\n",
       "      <td>Q</td>\n",
       "      <td>NaN</td>\n",
       "      <td>NaN</td>\n",
       "      <td>ps 200</td>\n",
       "    </tr>\n",
       "    <tr>\n",
       "      <th>58</th>\n",
       "      <td>Jamaica Playground - PS 40</td>\n",
       "      <td>QUEENS</td>\n",
       "      <td>jamaica  - ps 40</td>\n",
       "      <td>Q</td>\n",
       "      <td>NaN</td>\n",
       "      <td>NaN</td>\n",
       "      <td>ps 40</td>\n",
       "    </tr>\n",
       "    <tr>\n",
       "      <th>80</th>\n",
       "      <td>Queens Valley Playground - PS 164</td>\n",
       "      <td>QUEENS</td>\n",
       "      <td>queens valley  - ps 164</td>\n",
       "      <td>Q</td>\n",
       "      <td>NaN</td>\n",
       "      <td>NaN</td>\n",
       "      <td>ps 164</td>\n",
       "    </tr>\n",
       "    <tr>\n",
       "      <th>81</th>\n",
       "      <td>Sumner Playground - PS 59</td>\n",
       "      <td>BROOKLYN</td>\n",
       "      <td>sumner  - ps 59</td>\n",
       "      <td>B</td>\n",
       "      <td>NaN</td>\n",
       "      <td>NaN</td>\n",
       "      <td>ps 59</td>\n",
       "    </tr>\n",
       "    <tr>\n",
       "      <th>100</th>\n",
       "      <td>Mount Playground - PS 174</td>\n",
       "      <td>QUEENS</td>\n",
       "      <td>mount  - ps 174</td>\n",
       "      <td>Q</td>\n",
       "      <td>NaN</td>\n",
       "      <td>NaN</td>\n",
       "      <td>ps 174</td>\n",
       "    </tr>\n",
       "  </tbody>\n",
       "</table>\n",
       "</div>"
      ],
      "text/plain": [
       "                    Park Facility Name   Borough                cleanName  \\\n",
       "36         Emerald Playground - PS 200    QUEENS        emerald  - ps 200   \n",
       "58          Jamaica Playground - PS 40    QUEENS         jamaica  - ps 40   \n",
       "80   Queens Valley Playground - PS 164    QUEENS  queens valley  - ps 164   \n",
       "81           Sumner Playground - PS 59  BROOKLYN          sumner  - ps 59   \n",
       "100          Mount Playground - PS 174    QUEENS          mount  - ps 174   \n",
       "\n",
       "    code SIGNNAME BOROUGH    PSID  \n",
       "36     Q      NaN     NaN  ps 200  \n",
       "58     Q      NaN     NaN   ps 40  \n",
       "80     Q      NaN     NaN  ps 164  \n",
       "81     B      NaN     NaN   ps 59  \n",
       "100    Q      NaN     NaN  ps 174  "
      ]
     },
     "execution_count": 90,
     "metadata": {},
     "output_type": "execute_result"
    }
   ],
   "source": [
    "p_PS['PSID'] = p_PS.cleanName.apply(getPS)\n",
    "p_PS.head()"
   ]
  },
  {
   "cell_type": "code",
   "execution_count": 92,
   "metadata": {
    "collapsed": true
   },
   "outputs": [],
   "source": [
    "def getBestPS(x):\n",
    "    global PS\n",
    "    return process.extractOne(x.PSID, PS)"
   ]
  },
  {
   "cell_type": "code",
   "execution_count": 93,
   "metadata": {
    "collapsed": false
   },
   "outputs": [
    {
     "name": "stderr",
     "output_type": "stream",
     "text": [
      "/Users/casy/anaconda/lib/python2.7/site-packages/ipykernel/__main__.py:1: SettingWithCopyWarning: \n",
      "A value is trying to be set on a copy of a slice from a DataFrame.\n",
      "Try using .loc[row_indexer,col_indexer] = value instead\n",
      "\n",
      "See the caveats in the documentation: http://pandas.pydata.org/pandas-docs/stable/indexing.html#indexing-view-versus-copy\n",
      "  if __name__ == '__main__':\n",
      "/Users/casy/anaconda/lib/python2.7/site-packages/ipykernel/__main__.py:2: SettingWithCopyWarning: \n",
      "A value is trying to be set on a copy of a slice from a DataFrame.\n",
      "Try using .loc[row_indexer,col_indexer] = value instead\n",
      "\n",
      "See the caveats in the documentation: http://pandas.pydata.org/pandas-docs/stable/indexing.html#indexing-view-versus-copy\n",
      "  from ipykernel import kernelapp as app\n",
      "/Users/casy/anaconda/lib/python2.7/site-packages/ipykernel/__main__.py:3: SettingWithCopyWarning: \n",
      "A value is trying to be set on a copy of a slice from a DataFrame.\n",
      "Try using .loc[row_indexer,col_indexer] = value instead\n",
      "\n",
      "See the caveats in the documentation: http://pandas.pydata.org/pandas-docs/stable/indexing.html#indexing-view-versus-copy\n",
      "  app.launch_new_instance()\n"
     ]
    }
   ],
   "source": [
    "p_PS['match'] = p_PS.apply(getBestPS, 1)\n",
    "p_PS['SIGNNAME'] = p_PS['match'].apply(lambda x: x[0])\n",
    "p_PS['ratio'] = p_PS['match'].apply(lambda x: x[1])"
   ]
  },
  {
   "cell_type": "code",
   "execution_count": 94,
   "metadata": {
    "collapsed": false
   },
   "outputs": [
    {
     "data": {
      "text/html": [
       "<div>\n",
       "<table border=\"1\" class=\"dataframe\">\n",
       "  <thead>\n",
       "    <tr style=\"text-align: right;\">\n",
       "      <th></th>\n",
       "      <th>Park Facility Name</th>\n",
       "      <th>Borough</th>\n",
       "      <th>cleanName</th>\n",
       "      <th>code</th>\n",
       "      <th>SIGNNAME</th>\n",
       "      <th>BOROUGH</th>\n",
       "      <th>PSID</th>\n",
       "      <th>match</th>\n",
       "      <th>ratio</th>\n",
       "    </tr>\n",
       "  </thead>\n",
       "  <tbody>\n",
       "    <tr>\n",
       "      <th>36</th>\n",
       "      <td>Emerald Playground - PS 200</td>\n",
       "      <td>QUEENS</td>\n",
       "      <td>emerald  - ps 200</td>\n",
       "      <td>Q</td>\n",
       "      <td>ps/is 187</td>\n",
       "      <td>NaN</td>\n",
       "      <td>ps 200</td>\n",
       "      <td>(ps/is 187, 85)</td>\n",
       "      <td>85</td>\n",
       "    </tr>\n",
       "    <tr>\n",
       "      <th>58</th>\n",
       "      <td>Jamaica Playground - PS 40</td>\n",
       "      <td>QUEENS</td>\n",
       "      <td>jamaica  - ps 40</td>\n",
       "      <td>Q</td>\n",
       "      <td>ps 340</td>\n",
       "      <td>NaN</td>\n",
       "      <td>ps 40</td>\n",
       "      <td>(ps 340, 91)</td>\n",
       "      <td>91</td>\n",
       "    </tr>\n",
       "    <tr>\n",
       "      <th>80</th>\n",
       "      <td>Queens Valley Playground - PS 164</td>\n",
       "      <td>QUEENS</td>\n",
       "      <td>queens valley  - ps 164</td>\n",
       "      <td>Q</td>\n",
       "      <td>ps 164</td>\n",
       "      <td>NaN</td>\n",
       "      <td>ps 164</td>\n",
       "      <td>(ps 164, 100)</td>\n",
       "      <td>100</td>\n",
       "    </tr>\n",
       "    <tr>\n",
       "      <th>81</th>\n",
       "      <td>Sumner Playground - PS 59</td>\n",
       "      <td>BROOKLYN</td>\n",
       "      <td>sumner  - ps 59</td>\n",
       "      <td>B</td>\n",
       "      <td>ps 159</td>\n",
       "      <td>NaN</td>\n",
       "      <td>ps 59</td>\n",
       "      <td>(ps 159, 91)</td>\n",
       "      <td>91</td>\n",
       "    </tr>\n",
       "    <tr>\n",
       "      <th>100</th>\n",
       "      <td>Mount Playground - PS 174</td>\n",
       "      <td>QUEENS</td>\n",
       "      <td>mount  - ps 174</td>\n",
       "      <td>Q</td>\n",
       "      <td>ps/is 187</td>\n",
       "      <td>NaN</td>\n",
       "      <td>ps 174</td>\n",
       "      <td>(ps/is 187, 85)</td>\n",
       "      <td>85</td>\n",
       "    </tr>\n",
       "    <tr>\n",
       "      <th>105</th>\n",
       "      <td>Evergreen Pk - PS 68</td>\n",
       "      <td>QUEENS</td>\n",
       "      <td>evergreen pk - ps 68</td>\n",
       "      <td>Q</td>\n",
       "      <td>ps 68</td>\n",
       "      <td>NaN</td>\n",
       "      <td>ps 68</td>\n",
       "      <td>(ps 68, 100)</td>\n",
       "      <td>100</td>\n",
       "    </tr>\n",
       "    <tr>\n",
       "      <th>134</th>\n",
       "      <td>Pool - PS 186 Playground</td>\n",
       "      <td>QUEENS</td>\n",
       "      <td>ps 186</td>\n",
       "      <td>Q</td>\n",
       "      <td>ps 186</td>\n",
       "      <td>NaN</td>\n",
       "      <td>ps 186</td>\n",
       "      <td>(ps 186, 100)</td>\n",
       "      <td>100</td>\n",
       "    </tr>\n",
       "    <tr>\n",
       "      <th>137</th>\n",
       "      <td>East River Playground - PS 146</td>\n",
       "      <td>MANHATTAN</td>\n",
       "      <td>east river  - ps 146</td>\n",
       "      <td>M</td>\n",
       "      <td>ps/is 187</td>\n",
       "      <td>NaN</td>\n",
       "      <td>ps 146</td>\n",
       "      <td>(ps/is 187, 85)</td>\n",
       "      <td>85</td>\n",
       "    </tr>\n",
       "    <tr>\n",
       "      <th>162</th>\n",
       "      <td>Mosholu Playground - PS 8</td>\n",
       "      <td>BRONX</td>\n",
       "      <td>mosholu  - ps 8</td>\n",
       "      <td>X</td>\n",
       "      <td>is/ps 89</td>\n",
       "      <td>NaN</td>\n",
       "      <td>ps 8</td>\n",
       "      <td>(is/ps 89, 90)</td>\n",
       "      <td>90</td>\n",
       "    </tr>\n",
       "    <tr>\n",
       "      <th>190</th>\n",
       "      <td>Oakland Gardens - PS 203</td>\n",
       "      <td>QUEENS</td>\n",
       "      <td>oakland gardens - ps 203</td>\n",
       "      <td>Q</td>\n",
       "      <td>ps 203</td>\n",
       "      <td>NaN</td>\n",
       "      <td>ps 203</td>\n",
       "      <td>(ps 203, 100)</td>\n",
       "      <td>100</td>\n",
       "    </tr>\n",
       "    <tr>\n",
       "      <th>212</th>\n",
       "      <td>PS 198 Samuel Seabury Playground</td>\n",
       "      <td>MANHATTAN</td>\n",
       "      <td>ps 198 samuel seabury</td>\n",
       "      <td>M</td>\n",
       "      <td>ps 198</td>\n",
       "      <td>NaN</td>\n",
       "      <td>ps 198</td>\n",
       "      <td>(ps 198, 100)</td>\n",
       "      <td>100</td>\n",
       "    </tr>\n",
       "    <tr>\n",
       "      <th>257</th>\n",
       "      <td>Murray Hill Playground - PS 22</td>\n",
       "      <td>QUEENS</td>\n",
       "      <td>murray hill  - ps 22</td>\n",
       "      <td>Q</td>\n",
       "      <td>ps 22</td>\n",
       "      <td>NaN</td>\n",
       "      <td>ps 22</td>\n",
       "      <td>(ps 22, 100)</td>\n",
       "      <td>100</td>\n",
       "    </tr>\n",
       "    <tr>\n",
       "      <th>285</th>\n",
       "      <td>Great Kills Veterans Playground - PS 8</td>\n",
       "      <td>STATEN ISLAND</td>\n",
       "      <td>great kills veterans  - ps 8</td>\n",
       "      <td>R</td>\n",
       "      <td>is/ps 89</td>\n",
       "      <td>NaN</td>\n",
       "      <td>ps 8</td>\n",
       "      <td>(is/ps 89, 90)</td>\n",
       "      <td>90</td>\n",
       "    </tr>\n",
       "    <tr>\n",
       "      <th>293</th>\n",
       "      <td>Spirit Playground - PS 76</td>\n",
       "      <td>QUEENS</td>\n",
       "      <td>spirit  - ps 76</td>\n",
       "      <td>Q</td>\n",
       "      <td>ps 76</td>\n",
       "      <td>NaN</td>\n",
       "      <td>ps 76</td>\n",
       "      <td>(ps 76, 100)</td>\n",
       "      <td>100</td>\n",
       "    </tr>\n",
       "    <tr>\n",
       "      <th>305</th>\n",
       "      <td>Northern Playground - PS 149</td>\n",
       "      <td>QUEENS</td>\n",
       "      <td>northern  - ps 149</td>\n",
       "      <td>Q</td>\n",
       "      <td>ps 19</td>\n",
       "      <td>NaN</td>\n",
       "      <td>ps 149</td>\n",
       "      <td>(ps 19, 91)</td>\n",
       "      <td>91</td>\n",
       "    </tr>\n",
       "    <tr>\n",
       "      <th>345</th>\n",
       "      <td>Clawson Playground Playground - PS 50</td>\n",
       "      <td>STATEN ISLAND</td>\n",
       "      <td>clawson   - ps 50</td>\n",
       "      <td>R</td>\n",
       "      <td>ps 50</td>\n",
       "      <td>NaN</td>\n",
       "      <td>ps 50</td>\n",
       "      <td>(ps 50, 100)</td>\n",
       "      <td>100</td>\n",
       "    </tr>\n",
       "    <tr>\n",
       "      <th>389</th>\n",
       "      <td>100 Percent Playground - PS 242</td>\n",
       "      <td>BRONX</td>\n",
       "      <td>100 percent  - ps 242</td>\n",
       "      <td>X</td>\n",
       "      <td>ps 242</td>\n",
       "      <td>NaN</td>\n",
       "      <td>ps 242</td>\n",
       "      <td>(ps 242, 100)</td>\n",
       "      <td>100</td>\n",
       "    </tr>\n",
       "    <tr>\n",
       "      <th>414</th>\n",
       "      <td>Athens Square - PS 17</td>\n",
       "      <td>QUEENS</td>\n",
       "      <td>athens square - ps 17</td>\n",
       "      <td>Q</td>\n",
       "      <td>ps 173</td>\n",
       "      <td>NaN</td>\n",
       "      <td>ps 17</td>\n",
       "      <td>(ps 173, 91)</td>\n",
       "      <td>91</td>\n",
       "    </tr>\n",
       "    <tr>\n",
       "      <th>455</th>\n",
       "      <td>Samuel Seabury Playground - PS 198</td>\n",
       "      <td>MANHATTAN</td>\n",
       "      <td>samuel seabury  - ps 198</td>\n",
       "      <td>M</td>\n",
       "      <td>ps 198</td>\n",
       "      <td>NaN</td>\n",
       "      <td>ps 198</td>\n",
       "      <td>(ps 198, 100)</td>\n",
       "      <td>100</td>\n",
       "    </tr>\n",
       "    <tr>\n",
       "      <th>469</th>\n",
       "      <td>Alfred Smith - PS 1</td>\n",
       "      <td>MANHATTAN</td>\n",
       "      <td>alfred smith - ps 1</td>\n",
       "      <td>M</td>\n",
       "      <td>ps 121</td>\n",
       "      <td>NaN</td>\n",
       "      <td>ps 1</td>\n",
       "      <td>(ps 121, 90)</td>\n",
       "      <td>90</td>\n",
       "    </tr>\n",
       "  </tbody>\n",
       "</table>\n",
       "</div>"
      ],
      "text/plain": [
       "                         Park Facility Name        Borough  \\\n",
       "36              Emerald Playground - PS 200         QUEENS   \n",
       "58               Jamaica Playground - PS 40         QUEENS   \n",
       "80        Queens Valley Playground - PS 164         QUEENS   \n",
       "81                Sumner Playground - PS 59       BROOKLYN   \n",
       "100               Mount Playground - PS 174         QUEENS   \n",
       "105                    Evergreen Pk - PS 68         QUEENS   \n",
       "134                Pool - PS 186 Playground         QUEENS   \n",
       "137          East River Playground - PS 146      MANHATTAN   \n",
       "162               Mosholu Playground - PS 8          BRONX   \n",
       "190                Oakland Gardens - PS 203         QUEENS   \n",
       "212        PS 198 Samuel Seabury Playground      MANHATTAN   \n",
       "257          Murray Hill Playground - PS 22         QUEENS   \n",
       "285  Great Kills Veterans Playground - PS 8  STATEN ISLAND   \n",
       "293               Spirit Playground - PS 76         QUEENS   \n",
       "305            Northern Playground - PS 149         QUEENS   \n",
       "345   Clawson Playground Playground - PS 50  STATEN ISLAND   \n",
       "389         100 Percent Playground - PS 242          BRONX   \n",
       "414                   Athens Square - PS 17         QUEENS   \n",
       "455      Samuel Seabury Playground - PS 198      MANHATTAN   \n",
       "469                     Alfred Smith - PS 1      MANHATTAN   \n",
       "\n",
       "                        cleanName code   SIGNNAME BOROUGH    PSID  \\\n",
       "36              emerald  - ps 200    Q  ps/is 187     NaN  ps 200   \n",
       "58               jamaica  - ps 40    Q     ps 340     NaN   ps 40   \n",
       "80        queens valley  - ps 164    Q     ps 164     NaN  ps 164   \n",
       "81                sumner  - ps 59    B     ps 159     NaN   ps 59   \n",
       "100               mount  - ps 174    Q  ps/is 187     NaN  ps 174   \n",
       "105          evergreen pk - ps 68    Q      ps 68     NaN   ps 68   \n",
       "134                        ps 186    Q     ps 186     NaN  ps 186   \n",
       "137          east river  - ps 146    M  ps/is 187     NaN  ps 146   \n",
       "162               mosholu  - ps 8    X   is/ps 89     NaN    ps 8   \n",
       "190      oakland gardens - ps 203    Q     ps 203     NaN  ps 203   \n",
       "212         ps 198 samuel seabury    M     ps 198     NaN  ps 198   \n",
       "257          murray hill  - ps 22    Q      ps 22     NaN   ps 22   \n",
       "285  great kills veterans  - ps 8    R   is/ps 89     NaN    ps 8   \n",
       "293               spirit  - ps 76    Q      ps 76     NaN   ps 76   \n",
       "305            northern  - ps 149    Q      ps 19     NaN  ps 149   \n",
       "345             clawson   - ps 50    R      ps 50     NaN   ps 50   \n",
       "389         100 percent  - ps 242    X     ps 242     NaN  ps 242   \n",
       "414         athens square - ps 17    Q     ps 173     NaN   ps 17   \n",
       "455      samuel seabury  - ps 198    M     ps 198     NaN  ps 198   \n",
       "469           alfred smith - ps 1    M     ps 121     NaN    ps 1   \n",
       "\n",
       "               match  ratio  \n",
       "36   (ps/is 187, 85)     85  \n",
       "58      (ps 340, 91)     91  \n",
       "80     (ps 164, 100)    100  \n",
       "81      (ps 159, 91)     91  \n",
       "100  (ps/is 187, 85)     85  \n",
       "105     (ps 68, 100)    100  \n",
       "134    (ps 186, 100)    100  \n",
       "137  (ps/is 187, 85)     85  \n",
       "162   (is/ps 89, 90)     90  \n",
       "190    (ps 203, 100)    100  \n",
       "212    (ps 198, 100)    100  \n",
       "257     (ps 22, 100)    100  \n",
       "285   (is/ps 89, 90)     90  \n",
       "293     (ps 76, 100)    100  \n",
       "305      (ps 19, 91)     91  \n",
       "345     (ps 50, 100)    100  \n",
       "389    (ps 242, 100)    100  \n",
       "414     (ps 173, 91)     91  \n",
       "455    (ps 198, 100)    100  \n",
       "469     (ps 121, 90)     90  "
      ]
     },
     "execution_count": 94,
     "metadata": {},
     "output_type": "execute_result"
    }
   ],
   "source": [
    "p_PS.head(20)"
   ]
  },
  {
   "cell_type": "markdown",
   "metadata": {},
   "source": [
    "## Matching "
   ]
  },
  {
   "cell_type": "code",
   "execution_count": 12,
   "metadata": {
    "collapsed": false
   },
   "outputs": [],
   "source": [
    "## function\n",
    "\n",
    "def getBest(x):\n",
    "    global ofParks\n",
    "    return process.extractOne(x.cleanName, ofParks[x.code])"
   ]
  },
  {
   "cell_type": "code",
   "execution_count": 13,
   "metadata": {
    "collapsed": false
   },
   "outputs": [
    {
     "name": "stderr",
     "output_type": "stream",
     "text": [
      "/Users/casy/anaconda/lib/python2.7/site-packages/ipykernel/__main__.py:5: SettingWithCopyWarning: \n",
      "A value is trying to be set on a copy of a slice from a DataFrame.\n",
      "Try using .loc[row_indexer,col_indexer] = value instead\n",
      "\n",
      "See the caveats in the documentation: http://pandas.pydata.org/pandas-docs/stable/indexing.html#indexing-view-versus-copy\n"
     ]
    }
   ],
   "source": [
    "##################### MATCNING PROCESS\n",
    "##################### ATTENTION !!!!!!\n",
    "##################### TAKES ~3 MINUTES\n",
    "\n",
    "Unmatched['match'] = Unmatched.apply(getBest, 1)"
   ]
  },
  {
   "cell_type": "code",
   "execution_count": 14,
   "metadata": {
    "collapsed": false
   },
   "outputs": [
    {
     "name": "stderr",
     "output_type": "stream",
     "text": [
      "/Users/casy/anaconda/lib/python2.7/site-packages/ipykernel/__main__.py:1: SettingWithCopyWarning: \n",
      "A value is trying to be set on a copy of a slice from a DataFrame.\n",
      "Try using .loc[row_indexer,col_indexer] = value instead\n",
      "\n",
      "See the caveats in the documentation: http://pandas.pydata.org/pandas-docs/stable/indexing.html#indexing-view-versus-copy\n",
      "  if __name__ == '__main__':\n",
      "/Users/casy/anaconda/lib/python2.7/site-packages/ipykernel/__main__.py:2: SettingWithCopyWarning: \n",
      "A value is trying to be set on a copy of a slice from a DataFrame.\n",
      "Try using .loc[row_indexer,col_indexer] = value instead\n",
      "\n",
      "See the caveats in the documentation: http://pandas.pydata.org/pandas-docs/stable/indexing.html#indexing-view-versus-copy\n",
      "  from ipykernel import kernelapp as app\n"
     ]
    }
   ],
   "source": [
    "Unmatched['SIGNNAME'] = Unmatched['match'].apply(lambda x: x[0])\n",
    "Unmatched['ratio'] = Unmatched['match'].apply(lambda x: x[1])"
   ]
  },
  {
   "cell_type": "code",
   "execution_count": 15,
   "metadata": {
    "collapsed": false
   },
   "outputs": [
    {
     "name": "stdout",
     "output_type": "stream",
     "text": [
      "Average ratio: 85.2760849492\n",
      "ratio stD: 11.5362664748\n"
     ]
    },
    {
     "data": {
      "image/png": "[encoded data removed]",
      "text/plain": [
       "<matplotlib.figure.Figure at 0x10e7a3ed0>"
      ]
     },
     "metadata": {},
     "output_type": "display_data"
    }
   ],
   "source": [
    "print 'Average ratio:', Unmatched['ratio'].mean()\n",
    "print 'ratio stD:', Unmatched['ratio'].std()\n",
    "Unmatched.ratio.hist(color='k', bins=30);"
   ]
  },
  {
   "cell_type": "markdown",
   "metadata": {},
   "source": [
    "Yet the best option to be sure - check all candidates."
   ]
  },
  {
   "cell_type": "code",
   "execution_count": 16,
   "metadata": {
    "collapsed": false
   },
   "outputs": [
    {
     "data": {
      "text/html": [
       "<div>\n",
       "<table border=\"1\" class=\"dataframe\">\n",
       "  <thead>\n",
       "    <tr style=\"text-align: right;\">\n",
       "      <th></th>\n",
       "      <th>Park Facility Name</th>\n",
       "      <th>Borough</th>\n",
       "      <th>cleanName</th>\n",
       "      <th>code</th>\n",
       "      <th>SIGNNAME</th>\n",
       "      <th>BOROUGH</th>\n",
       "      <th>match</th>\n",
       "      <th>ratio</th>\n",
       "    </tr>\n",
       "  </thead>\n",
       "  <tbody>\n",
       "    <tr>\n",
       "      <th>560</th>\n",
       "      <td>Reeds Basket Willow's Swamp</td>\n",
       "      <td>STATEN ISLAND</td>\n",
       "      <td>reeds basket willow's swamp</td>\n",
       "      <td>R</td>\n",
       "      <td>reed's basket willow swamp park</td>\n",
       "      <td>NaN</td>\n",
       "      <td>(reed's basket willow swamp park, 86)</td>\n",
       "      <td>86</td>\n",
       "    </tr>\n",
       "    <tr>\n",
       "      <th>109</th>\n",
       "      <td>Kissena Corridor East</td>\n",
       "      <td>QUEENS</td>\n",
       "      <td>kissena corridor east</td>\n",
       "      <td>Q</td>\n",
       "      <td>kissena corridor park</td>\n",
       "      <td>NaN</td>\n",
       "      <td>(kissena corridor park, 86)</td>\n",
       "      <td>86</td>\n",
       "    </tr>\n",
       "    <tr>\n",
       "      <th>229</th>\n",
       "      <td>Ehrenreich-Austin St Playground</td>\n",
       "      <td>QUEENS</td>\n",
       "      <td>ehrenreich-austin st</td>\n",
       "      <td>Q</td>\n",
       "      <td>ehrenreich-austin playground</td>\n",
       "      <td>NaN</td>\n",
       "      <td>(ehrenreich-austin playground, 87)</td>\n",
       "      <td>87</td>\n",
       "    </tr>\n",
       "    <tr>\n",
       "      <th>1667</th>\n",
       "      <td>Highbridge Recreation Center</td>\n",
       "      <td>MANHATTAN</td>\n",
       "      <td>highbridge recreation center</td>\n",
       "      <td>M</td>\n",
       "      <td>recreation center 54</td>\n",
       "      <td>NaN</td>\n",
       "      <td>(recreation center 54, 87)</td>\n",
       "      <td>87</td>\n",
       "    </tr>\n",
       "    <tr>\n",
       "      <th>290</th>\n",
       "      <td>Bealin Square and Seth Low Playground</td>\n",
       "      <td>BROOKLYN</td>\n",
       "      <td>bealin square and seth low</td>\n",
       "      <td>B</td>\n",
       "      <td>seth low playground/ bealin square</td>\n",
       "      <td>NaN</td>\n",
       "      <td>(seth low playground/ bealin square, 87)</td>\n",
       "      <td>87</td>\n",
       "    </tr>\n",
       "    <tr>\n",
       "      <th>857</th>\n",
       "      <td>Floyd Patterson Field</td>\n",
       "      <td>BROOKLYN</td>\n",
       "      <td>floyd patterson field</td>\n",
       "      <td>B</td>\n",
       "      <td>floyd patterson ballfields</td>\n",
       "      <td>NaN</td>\n",
       "      <td>(floyd patterson ballfields, 89)</td>\n",
       "      <td>89</td>\n",
       "    </tr>\n",
       "    <tr>\n",
       "      <th>1493</th>\n",
       "      <td>Dr Ronald E McNair Playground</td>\n",
       "      <td>BROOKLYN</td>\n",
       "      <td>dr ronald e mcnair</td>\n",
       "      <td>B</td>\n",
       "      <td>dr. ronald mcnair park</td>\n",
       "      <td>NaN</td>\n",
       "      <td>(dr. ronald mcnair park, 89)</td>\n",
       "      <td>89</td>\n",
       "    </tr>\n",
       "    <tr>\n",
       "      <th>1032</th>\n",
       "      <td>John Adams  Playground</td>\n",
       "      <td>QUEENS</td>\n",
       "      <td>john adams</td>\n",
       "      <td>Q</td>\n",
       "      <td>john adams playground</td>\n",
       "      <td>NaN</td>\n",
       "      <td>(john adams playground, 90)</td>\n",
       "      <td>90</td>\n",
       "    </tr>\n",
       "    <tr>\n",
       "      <th>1000</th>\n",
       "      <td>Glendale Playground</td>\n",
       "      <td>QUEENS</td>\n",
       "      <td>glendale</td>\n",
       "      <td>Q</td>\n",
       "      <td>\"uncle\" vito e. maranzano glendale playground</td>\n",
       "      <td>NaN</td>\n",
       "      <td>(\"uncle\" vito e. maranzano glendale playground...</td>\n",
       "      <td>90</td>\n",
       "    </tr>\n",
       "    <tr>\n",
       "      <th>1040</th>\n",
       "      <td>Old Town Playground</td>\n",
       "      <td>STATEN ISLAND</td>\n",
       "      <td>old town</td>\n",
       "      <td>R</td>\n",
       "      <td>old town playground</td>\n",
       "      <td>NaN</td>\n",
       "      <td>(old town playground, 90)</td>\n",
       "      <td>90</td>\n",
       "    </tr>\n",
       "  </tbody>\n",
       "</table>\n",
       "</div>"
      ],
      "text/plain": [
       "                         Park Facility Name        Borough  \\\n",
       "560             Reeds Basket Willow's Swamp  STATEN ISLAND   \n",
       "109                   Kissena Corridor East         QUEENS   \n",
       "229         Ehrenreich-Austin St Playground         QUEENS   \n",
       "1667           Highbridge Recreation Center      MANHATTAN   \n",
       "290   Bealin Square and Seth Low Playground       BROOKLYN   \n",
       "857                   Floyd Patterson Field       BROOKLYN   \n",
       "1493          Dr Ronald E McNair Playground       BROOKLYN   \n",
       "1032                 John Adams  Playground         QUEENS   \n",
       "1000                    Glendale Playground         QUEENS   \n",
       "1040                    Old Town Playground  STATEN ISLAND   \n",
       "\n",
       "                         cleanName code  \\\n",
       "560    reeds basket willow's swamp    R   \n",
       "109          kissena corridor east    Q   \n",
       "229           ehrenreich-austin st    Q   \n",
       "1667  highbridge recreation center    M   \n",
       "290     bealin square and seth low    B   \n",
       "857          floyd patterson field    B   \n",
       "1493            dr ronald e mcnair    B   \n",
       "1032                    john adams    Q   \n",
       "1000                      glendale    Q   \n",
       "1040                      old town    R   \n",
       "\n",
       "                                           SIGNNAME BOROUGH  \\\n",
       "560                 reed's basket willow swamp park     NaN   \n",
       "109                           kissena corridor park     NaN   \n",
       "229                    ehrenreich-austin playground     NaN   \n",
       "1667                           recreation center 54     NaN   \n",
       "290              seth low playground/ bealin square     NaN   \n",
       "857                      floyd patterson ballfields     NaN   \n",
       "1493                         dr. ronald mcnair park     NaN   \n",
       "1032                          john adams playground     NaN   \n",
       "1000  \"uncle\" vito e. maranzano glendale playground     NaN   \n",
       "1040                            old town playground     NaN   \n",
       "\n",
       "                                                  match  ratio  \n",
       "560               (reed's basket willow swamp park, 86)     86  \n",
       "109                         (kissena corridor park, 86)     86  \n",
       "229                  (ehrenreich-austin playground, 87)     87  \n",
       "1667                         (recreation center 54, 87)     87  \n",
       "290            (seth low playground/ bealin square, 87)     87  \n",
       "857                    (floyd patterson ballfields, 89)     89  \n",
       "1493                       (dr. ronald mcnair park, 89)     89  \n",
       "1032                        (john adams playground, 90)     90  \n",
       "1000  (\"uncle\" vito e. maranzano glendale playground...     90  \n",
       "1040                          (old town playground, 90)     90  "
      ]
     },
     "execution_count": 16,
     "metadata": {},
     "output_type": "execute_result"
    }
   ],
   "source": [
    "Unmatched[Unmatched.ratio >85].sort_values(by='ratio').head(10)"
   ]
  },
  {
   "cell_type": "code",
   "execution_count": 17,
   "metadata": {
    "collapsed": false
   },
   "outputs": [
    {
     "name": "stderr",
     "output_type": "stream",
     "text": [
      "/Users/casy/anaconda/lib/python2.7/site-packages/ipykernel/__main__.py:1: SettingWithCopyWarning: \n",
      "A value is trying to be set on a copy of a slice from a DataFrame.\n",
      "Try using .loc[row_indexer,col_indexer] = value instead\n",
      "\n",
      "See the caveats in the documentation: http://pandas.pydata.org/pandas-docs/stable/indexing.html#indexing-view-versus-copy\n",
      "  if __name__ == '__main__':\n"
     ]
    }
   ],
   "source": [
    "Matched['ratio'] = 100\n",
    "JoinedD = pd.concat([Matched, Unmatched.drop('match', 1)]).sort_values(by='ratio')"
   ]
  },
  {
   "cell_type": "code",
   "execution_count": 18,
   "metadata": {
    "collapsed": false
   },
   "outputs": [
    {
     "data": {
      "text/html": [
       "<div>\n",
       "<table border=\"1\" class=\"dataframe\">\n",
       "  <thead>\n",
       "    <tr style=\"text-align: right;\">\n",
       "      <th></th>\n",
       "      <th>Park Facility Name</th>\n",
       "      <th>Borough</th>\n",
       "      <th>cleanName</th>\n",
       "      <th>code</th>\n",
       "      <th>SIGNNAME</th>\n",
       "      <th>BOROUGH</th>\n",
       "      <th>ratio</th>\n",
       "    </tr>\n",
       "  </thead>\n",
       "  <tbody>\n",
       "    <tr>\n",
       "      <th>1062</th>\n",
       "      <td>Pool - PS 46 Playground</td>\n",
       "      <td>Unspecified</td>\n",
       "      <td>ps 46</td>\n",
       "      <td>?</td>\n",
       "      <td>???</td>\n",
       "      <td>NaN</td>\n",
       "      <td>0</td>\n",
       "    </tr>\n",
       "    <tr>\n",
       "      <th>1272</th>\n",
       "      <td>Alley Pond Park - Nature Center</td>\n",
       "      <td>Unspecified</td>\n",
       "      <td>alley pond park - nature center</td>\n",
       "      <td>?</td>\n",
       "      <td>???</td>\n",
       "      <td>NaN</td>\n",
       "      <td>0</td>\n",
       "    </tr>\n",
       "    <tr>\n",
       "      <th>1021</th>\n",
       "      <td>Ten Mile River Playground</td>\n",
       "      <td>Unspecified</td>\n",
       "      <td>ten mile river</td>\n",
       "      <td>?</td>\n",
       "      <td>???</td>\n",
       "      <td>NaN</td>\n",
       "      <td>0</td>\n",
       "    </tr>\n",
       "    <tr>\n",
       "      <th>565</th>\n",
       "      <td>Playground 62 - PS 220</td>\n",
       "      <td>QUEENS</td>\n",
       "      <td>62 - ps 220</td>\n",
       "      <td>Q</td>\n",
       "      <td>225 street malls</td>\n",
       "      <td>NaN</td>\n",
       "      <td>38</td>\n",
       "    </tr>\n",
       "    <tr>\n",
       "      <th>1249</th>\n",
       "      <td>Double Nickel Playground - PS 55</td>\n",
       "      <td>STATEN ISLAND</td>\n",
       "      <td>double nickel  - ps 55</td>\n",
       "      <td>R</td>\n",
       "      <td>bunker ponds park</td>\n",
       "      <td>NaN</td>\n",
       "      <td>41</td>\n",
       "    </tr>\n",
       "  </tbody>\n",
       "</table>\n",
       "</div>"
      ],
      "text/plain": [
       "                    Park Facility Name        Borough  \\\n",
       "1062           Pool - PS 46 Playground    Unspecified   \n",
       "1272   Alley Pond Park - Nature Center    Unspecified   \n",
       "1021         Ten Mile River Playground    Unspecified   \n",
       "565             Playground 62 - PS 220         QUEENS   \n",
       "1249  Double Nickel Playground - PS 55  STATEN ISLAND   \n",
       "\n",
       "                            cleanName code           SIGNNAME BOROUGH  ratio  \n",
       "1062                            ps 46    ?                ???     NaN      0  \n",
       "1272  alley pond park - nature center    ?                ???     NaN      0  \n",
       "1021                   ten mile river    ?                ???     NaN      0  \n",
       "565                       62 - ps 220    Q   225 street malls     NaN     38  \n",
       "1249           double nickel  - ps 55    R  bunker ponds park     NaN     41  "
      ]
     },
     "execution_count": 18,
     "metadata": {},
     "output_type": "execute_result"
    }
   ],
   "source": [
    "JoinedD.head()"
   ]
  },
  {
   "cell_type": "code",
   "execution_count": 19,
   "metadata": {
    "collapsed": false
   },
   "outputs": [
    {
     "data": {
      "text/html": [
       "<div>\n",
       "<table border=\"1\" class=\"dataframe\">\n",
       "  <thead>\n",
       "    <tr style=\"text-align: right;\">\n",
       "      <th></th>\n",
       "      <th>ratio</th>\n",
       "    </tr>\n",
       "  </thead>\n",
       "  <tbody>\n",
       "    <tr>\n",
       "      <th>count</th>\n",
       "      <td>1689.000000</td>\n",
       "    </tr>\n",
       "    <tr>\n",
       "      <th>mean</th>\n",
       "      <td>90.558911</td>\n",
       "    </tr>\n",
       "    <tr>\n",
       "      <th>std</th>\n",
       "      <td>11.628083</td>\n",
       "    </tr>\n",
       "    <tr>\n",
       "      <th>min</th>\n",
       "      <td>0.000000</td>\n",
       "    </tr>\n",
       "    <tr>\n",
       "      <th>25%</th>\n",
       "      <td>90.000000</td>\n",
       "    </tr>\n",
       "    <tr>\n",
       "      <th>50%</th>\n",
       "      <td>90.000000</td>\n",
       "    </tr>\n",
       "    <tr>\n",
       "      <th>75%</th>\n",
       "      <td>100.000000</td>\n",
       "    </tr>\n",
       "    <tr>\n",
       "      <th>max</th>\n",
       "      <td>100.000000</td>\n",
       "    </tr>\n",
       "  </tbody>\n",
       "</table>\n",
       "</div>"
      ],
      "text/plain": [
       "             ratio\n",
       "count  1689.000000\n",
       "mean     90.558911\n",
       "std      11.628083\n",
       "min       0.000000\n",
       "25%      90.000000\n",
       "50%      90.000000\n",
       "75%     100.000000\n",
       "max     100.000000"
      ]
     },
     "execution_count": 19,
     "metadata": {},
     "output_type": "execute_result"
    }
   ],
   "source": [
    "JoinedD.describe()"
   ]
  },
  {
   "cell_type": "code",
   "execution_count": 22,
   "metadata": {
    "collapsed": true
   },
   "outputs": [],
   "source": [
    "JoinedD.to_csv(PARQA + 'data/Ontology/matched_unmattched2_b.csv' , encoding='utf8')"
   ]
  },
  {
   "cell_type": "markdown",
   "metadata": {
    "collapsed": true
   },
   "source": [
    "## Here is manual validation part\n",
    "done in Open Refine "
   ]
  },
  {
   "cell_type": "code",
   "execution_count": 23,
   "metadata": {
    "collapsed": false
   },
   "outputs": [
    {
     "data": {
      "text/html": [
       "<div>\n",
       "<table border=\"1\" class=\"dataframe\">\n",
       "  <thead>\n",
       "    <tr style=\"text-align: right;\">\n",
       "      <th></th>\n",
       "      <th>Park Facility Name</th>\n",
       "      <th>Borough</th>\n",
       "      <th>cleanName</th>\n",
       "      <th>code</th>\n",
       "      <th>SIGNNAME</th>\n",
       "      <th>BOROUGH</th>\n",
       "      <th>ratio</th>\n",
       "      <th>verified</th>\n",
       "    </tr>\n",
       "  </thead>\n",
       "  <tbody>\n",
       "    <tr>\n",
       "      <th>0</th>\n",
       "      <td>Alley Pond Park - Nature Center</td>\n",
       "      <td>Unspecified</td>\n",
       "      <td>alley pond park - nature center</td>\n",
       "      <td>?</td>\n",
       "      <td>???</td>\n",
       "      <td>NaN</td>\n",
       "      <td>0</td>\n",
       "      <td>False</td>\n",
       "    </tr>\n",
       "    <tr>\n",
       "      <th>1</th>\n",
       "      <td>Pool - PS 46 Playground</td>\n",
       "      <td>Unspecified</td>\n",
       "      <td>ps 46</td>\n",
       "      <td>?</td>\n",
       "      <td>???</td>\n",
       "      <td>NaN</td>\n",
       "      <td>0</td>\n",
       "      <td>False</td>\n",
       "    </tr>\n",
       "    <tr>\n",
       "      <th>2</th>\n",
       "      <td>Ten Mile River Playground</td>\n",
       "      <td>Unspecified</td>\n",
       "      <td>ten mile river</td>\n",
       "      <td>?</td>\n",
       "      <td>???</td>\n",
       "      <td>NaN</td>\n",
       "      <td>0</td>\n",
       "      <td>False</td>\n",
       "    </tr>\n",
       "    <tr>\n",
       "      <th>3</th>\n",
       "      <td>Playground 62 - PS 220</td>\n",
       "      <td>QUEENS</td>\n",
       "      <td>62 - ps 220</td>\n",
       "      <td>Q</td>\n",
       "      <td>225 street malls</td>\n",
       "      <td>NaN</td>\n",
       "      <td>38</td>\n",
       "      <td>False</td>\n",
       "    </tr>\n",
       "    <tr>\n",
       "      <th>4</th>\n",
       "      <td>Double Nickel Playground - PS 55</td>\n",
       "      <td>STATEN ISLAND</td>\n",
       "      <td>double nickel  - ps 55</td>\n",
       "      <td>R</td>\n",
       "      <td>bunker ponds park</td>\n",
       "      <td>NaN</td>\n",
       "      <td>41</td>\n",
       "      <td>False</td>\n",
       "    </tr>\n",
       "  </tbody>\n",
       "</table>\n",
       "</div>"
      ],
      "text/plain": [
       "                 Park Facility Name        Borough  \\\n",
       "0   Alley Pond Park - Nature Center    Unspecified   \n",
       "1           Pool - PS 46 Playground    Unspecified   \n",
       "2         Ten Mile River Playground    Unspecified   \n",
       "3            Playground 62 - PS 220         QUEENS   \n",
       "4  Double Nickel Playground - PS 55  STATEN ISLAND   \n",
       "\n",
       "                         cleanName code           SIGNNAME BOROUGH  ratio  \\\n",
       "0  alley pond park - nature center    ?                ???     NaN      0   \n",
       "1                            ps 46    ?                ???     NaN      0   \n",
       "2                   ten mile river    ?                ???     NaN      0   \n",
       "3                      62 - ps 220    Q   225 street malls     NaN     38   \n",
       "4           double nickel  - ps 55    R  bunker ponds park     NaN     41   \n",
       "\n",
       "  verified  \n",
       "0    False  \n",
       "1    False  \n",
       "2    False  \n",
       "3    False  \n",
       "4    False  "
      ]
     },
     "execution_count": 23,
     "metadata": {},
     "output_type": "execute_result"
    }
   ],
   "source": [
    "verified = pd.read_csv(PARQA + 'data/Ontology/matched_unmattched_verified.csv' , encoding='utf8')\n",
    "verified.head()"
   ]
  },
  {
   "cell_type": "code",
   "execution_count": 25,
   "metadata": {
    "collapsed": false
   },
   "outputs": [
    {
     "name": "stdout",
     "output_type": "stream",
     "text": [
      "ENTITIES\n",
      "Defined totally:  1362\n",
      "80.6394316163 %\n"
     ]
    }
   ],
   "source": [
    "defined = verified[verified.verified==True]\n",
    "\n",
    "print \"ENTITIES\"\n",
    "print 'Defined totally: ',len(defined) \n",
    "print 100.0*len(defined)/len(verified), '%'"
   ]
  },
  {
   "cell_type": "code",
   "execution_count": 46,
   "metadata": {
    "collapsed": false
   },
   "outputs": [],
   "source": [
    "callParksMatched = callP.merge(defined[['Park Facility Name','SIGNNAME']], how='left', on=['Park Facility Name'])"
   ]
  },
  {
   "cell_type": "code",
   "execution_count": 47,
   "metadata": {
    "collapsed": false
   },
   "outputs": [
    {
     "data": {
      "text/html": [
       "<div>\n",
       "<table border=\"1\" class=\"dataframe\">\n",
       "  <thead>\n",
       "    <tr style=\"text-align: right;\">\n",
       "      <th></th>\n",
       "      <th>Unnamed: 0</th>\n",
       "      <th>Unique Key</th>\n",
       "      <th>Created Date</th>\n",
       "      <th>Closed Date</th>\n",
       "      <th>Agency</th>\n",
       "      <th>Agency Name</th>\n",
       "      <th>Complaint Type</th>\n",
       "      <th>Descriptor</th>\n",
       "      <th>Location Type</th>\n",
       "      <th>Incident Zip</th>\n",
       "      <th>...</th>\n",
       "      <th>Road Ramp</th>\n",
       "      <th>Bridge Highway Segment</th>\n",
       "      <th>Garage Lot Name</th>\n",
       "      <th>Ferry Direction</th>\n",
       "      <th>Ferry Terminal Name</th>\n",
       "      <th>Latitude</th>\n",
       "      <th>Longitude</th>\n",
       "      <th>Location</th>\n",
       "      <th>year</th>\n",
       "      <th>SIGNNAME</th>\n",
       "    </tr>\n",
       "  </thead>\n",
       "  <tbody>\n",
       "    <tr>\n",
       "      <th>0</th>\n",
       "      <td>842</td>\n",
       "      <td>31705187</td>\n",
       "      <td>2015-10-07 20:39:09</td>\n",
       "      <td>NaN</td>\n",
       "      <td>DPR</td>\n",
       "      <td>Department of Parks and Recreation</td>\n",
       "      <td>Maintenance or Facility</td>\n",
       "      <td>Structure - Outdoors</td>\n",
       "      <td>Park</td>\n",
       "      <td>10128</td>\n",
       "      <td>...</td>\n",
       "      <td>NaN</td>\n",
       "      <td>NaN</td>\n",
       "      <td>NaN</td>\n",
       "      <td>NaN</td>\n",
       "      <td>NaN</td>\n",
       "      <td>NaN</td>\n",
       "      <td>NaN</td>\n",
       "      <td>NaN</td>\n",
       "      <td>2015</td>\n",
       "      <td>ruppert park</td>\n",
       "    </tr>\n",
       "    <tr>\n",
       "      <th>1</th>\n",
       "      <td>882</td>\n",
       "      <td>31704530</td>\n",
       "      <td>2015-10-07 20:23:33</td>\n",
       "      <td>NaN</td>\n",
       "      <td>DPR</td>\n",
       "      <td>Department of Parks and Recreation</td>\n",
       "      <td>Maintenance or Facility</td>\n",
       "      <td>Graffiti or Vandalism</td>\n",
       "      <td>Park</td>\n",
       "      <td>11215</td>\n",
       "      <td>...</td>\n",
       "      <td>NaN</td>\n",
       "      <td>NaN</td>\n",
       "      <td>NaN</td>\n",
       "      <td>NaN</td>\n",
       "      <td>NaN</td>\n",
       "      <td>NaN</td>\n",
       "      <td>NaN</td>\n",
       "      <td>NaN</td>\n",
       "      <td>2015</td>\n",
       "      <td>prospect park</td>\n",
       "    </tr>\n",
       "  </tbody>\n",
       "</table>\n",
       "<p>2 rows × 56 columns</p>\n",
       "</div>"
      ],
      "text/plain": [
       "   Unnamed: 0  Unique Key         Created Date Closed Date Agency  \\\n",
       "0         842    31705187  2015-10-07 20:39:09         NaN    DPR   \n",
       "1         882    31704530  2015-10-07 20:23:33         NaN    DPR   \n",
       "\n",
       "                          Agency Name           Complaint Type  \\\n",
       "0  Department of Parks and Recreation  Maintenance or Facility   \n",
       "1  Department of Parks and Recreation  Maintenance or Facility   \n",
       "\n",
       "              Descriptor Location Type  Incident Zip      ...       Road Ramp  \\\n",
       "0   Structure - Outdoors          Park         10128      ...             NaN   \n",
       "1  Graffiti or Vandalism          Park         11215      ...             NaN   \n",
       "\n",
       "  Bridge Highway Segment Garage Lot Name Ferry Direction Ferry Terminal Name  \\\n",
       "0                    NaN             NaN             NaN                 NaN   \n",
       "1                    NaN             NaN             NaN                 NaN   \n",
       "\n",
       "  Latitude Longitude Location  year       SIGNNAME  \n",
       "0      NaN       NaN      NaN  2015   ruppert park  \n",
       "1      NaN       NaN      NaN  2015  prospect park  \n",
       "\n",
       "[2 rows x 56 columns]"
      ]
     },
     "execution_count": 47,
     "metadata": {},
     "output_type": "execute_result"
    }
   ],
   "source": [
    "callParksMatched.head(2)"
   ]
  },
  {
   "cell_type": "code",
   "execution_count": 48,
   "metadata": {
    "collapsed": false
   },
   "outputs": [
    {
     "name": "stdout",
     "output_type": "stream",
     "text": [
      "CALLS\n",
      "Defined totally:  46786\n",
      "89.3442309896 %\n"
     ]
    }
   ],
   "source": [
    "print \"CALLS\"\n",
    "print 'Defined totally: ',len(callParksMatched[pd.notnull(callParksMatched.SIGNNAME)]) \n",
    "print 100.0*len(callParksMatched[pd.notnull(callParksMatched.SIGNNAME)]) /len(callParksMatched), '%'"
   ]
  },
  {
   "cell_type": "code",
   "execution_count": 56,
   "metadata": {
    "collapsed": false
   },
   "outputs": [
    {
     "data": {
      "text/html": [
       "<div>\n",
       "<table border=\"1\" class=\"dataframe\">\n",
       "  <thead>\n",
       "    <tr>\n",
       "      <th></th>\n",
       "      <th colspan=\"2\" halign=\"left\">SIGNNAME</th>\n",
       "    </tr>\n",
       "    <tr>\n",
       "      <th></th>\n",
       "      <th>&lt;lambda&gt;</th>\n",
       "      <th>size</th>\n",
       "    </tr>\n",
       "    <tr>\n",
       "      <th>Borough</th>\n",
       "      <th></th>\n",
       "      <th></th>\n",
       "    </tr>\n",
       "  </thead>\n",
       "  <tbody>\n",
       "    <tr>\n",
       "      <th>BRONX</th>\n",
       "      <td>455</td>\n",
       "      <td>7156</td>\n",
       "    </tr>\n",
       "    <tr>\n",
       "      <th>BROOKLYN</th>\n",
       "      <td>1896</td>\n",
       "      <td>14259</td>\n",
       "    </tr>\n",
       "    <tr>\n",
       "      <th>MANHATTAN</th>\n",
       "      <td>1417</td>\n",
       "      <td>17616</td>\n",
       "    </tr>\n",
       "    <tr>\n",
       "      <th>QUEENS</th>\n",
       "      <td>1378</td>\n",
       "      <td>10884</td>\n",
       "    </tr>\n",
       "    <tr>\n",
       "      <th>STATEN ISLAND</th>\n",
       "      <td>415</td>\n",
       "      <td>2432</td>\n",
       "    </tr>\n",
       "    <tr>\n",
       "      <th>Unspecified</th>\n",
       "      <td>19</td>\n",
       "      <td>19</td>\n",
       "    </tr>\n",
       "  </tbody>\n",
       "</table>\n",
       "</div>"
      ],
      "text/plain": [
       "              SIGNNAME       \n",
       "              <lambda>   size\n",
       "Borough                      \n",
       "BRONX              455   7156\n",
       "BROOKLYN          1896  14259\n",
       "MANHATTAN         1417  17616\n",
       "QUEENS            1378  10884\n",
       "STATEN ISLAND      415   2432\n",
       "Unspecified         19     19"
      ]
     },
     "execution_count": 56,
     "metadata": {},
     "output_type": "execute_result"
    }
   ],
   "source": [
    "callParksMatched.groupby('Borough').agg({'SIGNNAME': [lambda x: sum(pd.isnull(x)), size]})"
   ]
  },
  {
   "cell_type": "code",
   "execution_count": 66,
   "metadata": {
    "collapsed": false
   },
   "outputs": [
    {
     "data": {
      "image/png": "[encoded data removed]",
      "text/plain": [
       "<matplotlib.figure.Figure at 0x12381aa10>"
      ]
     },
     "metadata": {},
     "output_type": "display_data"
    }
   ],
   "source": [
    "callParksMatched.groupby('SIGNNAME').size().sort_values(ascending=0).head(30).plot(kind='barh', color='k', figsize=(12,12));"
   ]
  },
  {
   "cell_type": "code",
   "execution_count": null,
   "metadata": {
    "collapsed": true
   },
   "outputs": [],
   "source": [
    "defined.to_csv(PARQA + 'data/Ontology/defined.csv' , encoding='utf8')"
   ]
  },
  {
   "cell_type": "code",
   "execution_count": 57,
   "metadata": {
    "collapsed": false
   },
   "outputs": [
    {
     "name": "stdout",
     "output_type": "stream",
     "text": [
      "0            Alley Pond Park - Nature Center\n",
      "1                    Pool - PS 46 Playground\n",
      "2                  Ten Mile River Playground\n",
      "3                     Playground 62 - PS 220\n",
      "4           Double Nickel Playground - PS 55\n",
      "5                  Mount Playground - PS 174\n",
      "6                              35 Playground\n",
      "7                              Playground 70\n",
      "8          Francis Lewis Playground - PS 130\n",
      "9                          PS 149 Playground\n",
      "10                Jamaica Playground - PS 40\n",
      "11            Castlewood Playground - PS 186\n",
      "12                  Pool - PS 186 Playground\n",
      "13              Terrapin Playground - JHS 51\n",
      "14           100 Percent Playground - PS 242\n",
      "15                     Israel Putnam - PS 44\n",
      "16           100 Percent Playground - PS 242\n",
      "17                      Sandpiper Playground\n",
      "18                           Beach - Orchard\n",
      "19              Terrapin Playground - JHS 51\n",
      "20                        Kennedy Playground\n",
      "21             Sy Seplowe Playground - PS 94\n",
      "22                        Addabbo Playground\n",
      "23                        Catbird Playground\n",
      "24         Pool - PS 20 Playground (Adelphi)\n",
      "25                        Metcalf Playground\n",
      "26                        Kossuth Playground\n",
      "27      Corporal John A Seravalli Playground\n",
      "28               Elizabeth Stroud Playground\n",
      "29                          Brady Playground\n",
      "                       ...                  \n",
      "297              Brooklyn Civic Center Parks\n",
      "298               Yellowstone Municipal Park\n",
      "299                   Old Fort Number 4 Park\n",
      "300                       Baisley Park South\n",
      "301                          East River Park\n",
      "302          Blue Heron Park - Nature Center\n",
      "303                     Rainey Park - Queens\n",
      "304                           High Line Park\n",
      "305                   Frederick Johnson Park\n",
      "306     Shore Road Park - Vinland Playground\n",
      "307      Dyker Beach Park - Bay 8 Playground\n",
      "308                        Peter Minuit Park\n",
      "309              Parkside Playground - Bronx\n",
      "310       Cunningham Park - Upper Playground\n",
      "311              Alice Austen House and Park\n",
      "312                     Saratoga Square Park\n",
      "313              Pool - Sheltering Arms Park\n",
      "314           Parkside Playground - Brooklyn\n",
      "315      The Big Park - Grandview Playground\n",
      "316                             Kolbert Park\n",
      "317             Bradhurst Urban Renewal Park\n",
      "318           McCarren Park Ice Skating Rink\n",
      "319                        Harry Chapin Park\n",
      "320                            Rockaway Park\n",
      "321    Cunningham Park - 210th St Playground\n",
      "322          Recreation Center - Sunset Park\n",
      "323                             Maurice Park\n",
      "324                     Wayanda Park - PS 34\n",
      "325                        Lewis Simeon Park\n",
      "326            William E Kelly Memorial Park\n",
      "Name: Park Facility Name, dtype: object\n"
     ]
    }
   ],
   "source": [
    "undefined = verified[verified.verified==False].reset_index()\n",
    "print undefined['Park Facility Name']"
   ]
  },
  {
   "cell_type": "code",
   "execution_count": 196,
   "metadata": {
    "collapsed": true
   },
   "outputs": [],
   "source": [
    "undefined.to_csv(PARQA + 'data/Ontology/undefined.csv' , encoding='utf8')"
   ]
  },
  {
   "cell_type": "code",
   "execution_count": null,
   "metadata": {
    "collapsed": true
   },
   "outputs": [],
   "source": []
  }
 ],
 "metadata": {
  "kernelspec": {
   "display_name": "Python 2",
   "language": "python",
   "name": "python2"
  },
  "language_info": {
   "codemirror_mode": {
    "name": "ipython",
    "version": 2
   },
   "file_extension": ".py",
   "mimetype": "text/x-python",
   "name": "python",
   "nbconvert_exporter": "python",
   "pygments_lexer": "ipython2",
   "version": "2.7.10"
  }
 },
 "nbformat": 4,
 "nbformat_minor": 0
}
