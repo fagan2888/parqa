{
 "cells": [
  {
   "cell_type": "markdown",
   "metadata": {},
   "source": [
    "# Creating Ontology of 311 Park Names -> official park names"
   ]
  },
  {
   "cell_type": "markdown",
   "metadata": {},
   "source": [
    "This notebook creates a match dictionary between park names in 311 data and in NYC Parks official dataset. \n",
    "Using this dictionary we can match each park-related call to specific park or park District"
   ]
  },
  {
   "cell_type": "markdown",
   "metadata": {},
   "source": [
    "Here I am using [fuzzywuzzy module](https://github.com/seatgeek/fuzzywuzzy)"
   ]
  },
  {
   "cell_type": "code",
   "execution_count": 137,
   "metadata": {
    "collapsed": false
   },
   "outputs": [
    {
     "name": "stdout",
     "output_type": "stream",
     "text": [
      "Populating the interactive namespace from numpy and matplotlib\n"
     ]
    },
    {
     "name": "stderr",
     "output_type": "stream",
     "text": [
      "WARNING: pylab import has clobbered these variables: ['plt']\n",
      "`%matplotlib` prevents importing * from pylab and numpy\n"
     ]
    }
   ],
   "source": [
    "__author__ = \"Philipp Kats\"\n",
    "__date__ = \"2015_10_15\"\n",
    "\n",
    "import pandas as pd\n",
    "import geopandas as gp\n",
    "import pylab as plt\n",
    "import os\n",
    "from fuzzywuzzy import process  ## fuzzy string match in python\n",
    "\n",
    "# import json\n",
    "# import numpy as np\n",
    "\n",
    "# from geopandas.tools import sjoin\n",
    "# from shapely.geometry import Point\n",
    "\n",
    "import requests\n",
    "s = requests.get(\"https://raw.githubusercontent.com/Casyfill/CUSP_templates/master/Py/fbMatplotlibrc.json\").json()\n",
    "plt.rcParams.update(s)\n",
    "\n",
    "%pylab inline"
   ]
  },
  {
   "cell_type": "code",
   "execution_count": 138,
   "metadata": {
    "collapsed": true
   },
   "outputs": [],
   "source": [
    "PARQA = os.getenv('PARQA') #basic path"
   ]
  },
  {
   "cell_type": "markdown",
   "metadata": {},
   "source": [
    "## Getting Data: both 311 Calls names and Park official names to match"
   ]
  },
  {
   "cell_type": "code",
   "execution_count": 139,
   "metadata": {
    "collapsed": true
   },
   "outputs": [],
   "source": [
    "def clean(x):\n",
    "    return x.lower().replace('pool - ','').replace('playground','').strip()"
   ]
  },
  {
   "cell_type": "code",
   "execution_count": 140,
   "metadata": {
    "collapsed": false
   },
   "outputs": [],
   "source": [
    "calls = pd.DataFrame(pd.read_csv(PARQA + 'data/311/2015_10_9_311_parks.csv',encoding='utf8'))\n"
   ]
  },
  {
   "cell_type": "code",
   "execution_count": 141,
   "metadata": {
    "collapsed": false
   },
   "outputs": [
    {
     "name": "stdout",
     "output_type": "stream",
     "text": [
      "311_call_names total: 1672\n"
     ]
    }
   ],
   "source": [
    "callParks = calls[calls.Agency=='DPR'][['Park Facility Name',\n",
    "                                                     'Borough']].drop_duplicates()\n",
    "\n",
    "callParks['cleanName'] = callParks['Park Facility Name'].apply(clean)\n",
    "print '311_call_names total:', len(callParks['Park Facility Name'])\n",
    "# callParks.head(3)\n"
   ]
  },
  {
   "cell_type": "code",
   "execution_count": 142,
   "metadata": {
    "collapsed": false
   },
   "outputs": [
    {
     "data": {
      "text/html": [
       "<div>\n",
       "<table border=\"1\" class=\"dataframe\">\n",
       "  <thead>\n",
       "    <tr style=\"text-align: right;\">\n",
       "      <th></th>\n",
       "      <th>Park Facility Name</th>\n",
       "      <th>Borough</th>\n",
       "      <th>cleanName</th>\n",
       "      <th>code</th>\n",
       "    </tr>\n",
       "  </thead>\n",
       "  <tbody>\n",
       "    <tr>\n",
       "      <th>0</th>\n",
       "      <td>Ruppert Park</td>\n",
       "      <td>MANHATTAN</td>\n",
       "      <td>ruppert park</td>\n",
       "      <td>M</td>\n",
       "    </tr>\n",
       "    <tr>\n",
       "      <th>1</th>\n",
       "      <td>Prospect Park</td>\n",
       "      <td>BROOKLYN</td>\n",
       "      <td>prospect park</td>\n",
       "      <td>B</td>\n",
       "    </tr>\n",
       "    <tr>\n",
       "      <th>2</th>\n",
       "      <td>Tappen Park</td>\n",
       "      <td>STATEN ISLAND</td>\n",
       "      <td>tappen park</td>\n",
       "      <td>R</td>\n",
       "    </tr>\n",
       "  </tbody>\n",
       "</table>\n",
       "</div>"
      ],
      "text/plain": [
       "  Park Facility Name        Borough      cleanName code\n",
       "0       Ruppert Park      MANHATTAN   ruppert park    M\n",
       "1      Prospect Park       BROOKLYN  prospect park    B\n",
       "2        Tappen Park  STATEN ISLAND    tappen park    R"
      ]
     },
     "execution_count": 142,
     "metadata": {},
     "output_type": "execute_result"
    }
   ],
   "source": [
    "# rename Borough to BoroughCode\n",
    "\n",
    "borrowCode = pd.DataFrame({'Borough':['BROOKLYN',\n",
    "                                      'QUEENS',\n",
    "                                      'MANHATTAN',\n",
    "                                      'BRONX',\n",
    "                                      'STATEN ISLAND',\n",
    "                                      'Unspecified'],\n",
    "                           'code':['B',\n",
    "                                   'Q',\n",
    "                                   'M',\n",
    "                                   'X',\n",
    "                                   'R',\n",
    "                                   '?']})\n",
    "\n",
    "callParks = callParks.merge(borrowCode, how='left', on='Borough')\n",
    "callParks.head(3)"
   ]
  },
  {
   "cell_type": "markdown",
   "metadata": {},
   "source": [
    "## Official Park Names"
   ]
  },
  {
   "cell_type": "markdown",
   "metadata": {},
   "source": [
    "We will use official park names as a choicelist for each 311_name to choose from"
   ]
  },
  {
   "cell_type": "code",
   "execution_count": 182,
   "metadata": {
    "collapsed": false
   },
   "outputs": [
    {
     "data": {
      "text/plain": [
       "1787"
      ]
     },
     "execution_count": 182,
     "metadata": {},
     "output_type": "execute_result"
    }
   ],
   "source": [
    "## using geojson produced of OPEN DATA \n",
    "parkNames = gp.read_file(PARQA + 'data/parks_computed.geojson')[['SIGNNAME','BOROUGH']].drop_duplicates()\n",
    "parkNames['SIGNNAME'] = parkNames['SIGNNAME'].str.lower()\n",
    "len(parkNames['SIGNNAME'].drop_duplicates())"
   ]
  },
  {
   "cell_type": "code",
   "execution_count": 144,
   "metadata": {
    "collapsed": false
   },
   "outputs": [
    {
     "name": "stdout",
     "output_type": "stream",
     "text": [
      "[u'B', u'M', u'Q', u'R', u'X', '?']\n"
     ]
    }
   ],
   "source": [
    "#create a dictionary of parks for each borough \n",
    "#that will add accuracy and boost spead of search ( I hope)\n",
    "\n",
    "ofParks = {k:[unicode(x) for x in list(v)] for k,v in parkNames.groupby(\"BOROUGH\")[\"SIGNNAME\"]}\n",
    "ofParks['?'] = ['???'] ### to mark parks with unspecified Borough\n",
    "\n",
    "print ofParks.keys()"
   ]
  },
  {
   "cell_type": "markdown",
   "metadata": {},
   "source": [
    "## Matching "
   ]
  },
  {
   "cell_type": "markdown",
   "metadata": {},
   "source": [
    "As Fuzzy works quite slow, lets first match perfect ones with pd.merge function"
   ]
  },
  {
   "cell_type": "code",
   "execution_count": 179,
   "metadata": {
    "collapsed": false
   },
   "outputs": [],
   "source": [
    "callParksMatched = callParks.merge(parkNames, how='left', left_on = 'cleanName', right_on='SIGNNAME', copy=1)"
   ]
  },
  {
   "cell_type": "code",
   "execution_count": 180,
   "metadata": {
    "collapsed": false
   },
   "outputs": [],
   "source": [
    "#some manual improvisation, based on imirical experience\n",
    "\n",
    "def impiric(x):\n",
    "    'recognition, based on imirical experience'\n",
    "    general = {'flushing meadows':'flushing meadows and corona park',\n",
    "               'central park':'central park', \n",
    "               'prospect park':'prospect park',\n",
    "               'greenbelt': 'greenbelt native plant center',\n",
    "               'red hook park':'red hook recreation area',\n",
    "               'crotona park':'crotona park',\n",
    "               'marine park': 'marine park', \n",
    "               'van cortlandt':'van cortlandt park',\n",
    "               'seravalli': 'corporal john a. seravalli playground',\n",
    "               'inwood hill': 'inwood hill park',\n",
    "               'forest park':'forest park',\n",
    "               'pelham bay park':'pelham bay park',\n",
    "               'kissena park': 'kissena park',\n",
    "               'asser levy': 'asser levy park'\n",
    "\n",
    "                }\n",
    "    \n",
    "    for k in general.keys():\n",
    "        if k in x.cleanName:\n",
    "            return general[k]\n",
    "\n",
    "    return np.nan\n",
    "\n",
    "\n",
    "# Ugly solution - don't know how to update just part of the dataframe\n",
    "Unmatched = callParksMatched[pd.isnull(callParksMatched.SIGNNAME)]\n",
    "Matched = callParksMatched[pd.notnull(callParksMatched.SIGNNAME)]\n",
    "Unmatched.SIGNNAME = Unmatched.apply(impiric, 1)\n",
    "callParksMatched = pd.concat([Matched, Unmatched])"
   ]
  },
  {
   "cell_type": "code",
   "execution_count": 181,
   "metadata": {
    "collapsed": false
   },
   "outputs": [
    {
     "name": "stdout",
     "output_type": "stream",
     "text": [
      "Unmatched:  1087\n",
      "Matched:  602\n"
     ]
    }
   ],
   "source": [
    "Unmatched = callParksMatched[pd.isnull(callParksMatched.SIGNNAME)]\n",
    "Matched = callParksMatched[pd.notnull(callParksMatched.SIGNNAME)]\n",
    "\n",
    "print 'Unmatched: ', len(Unmatched)\n",
    "print 'Matched: ', len(Matched)"
   ]
  },
  {
   "cell_type": "code",
   "execution_count": 51,
   "metadata": {
    "collapsed": false
   },
   "outputs": [],
   "source": [
    "## function\n",
    "\n",
    "def getBest(x):\n",
    "    global ofParks\n",
    "    return process.extractOne(x.cleanName, ofParks[x.code])"
   ]
  },
  {
   "cell_type": "code",
   "execution_count": 52,
   "metadata": {
    "collapsed": false
   },
   "outputs": [
    {
     "name": "stderr",
     "output_type": "stream",
     "text": [
      "/Users/casy/anaconda/lib/python2.7/site-packages/ipykernel/__main__.py:5: SettingWithCopyWarning: \n",
      "A value is trying to be set on a copy of a slice from a DataFrame.\n",
      "Try using .loc[row_indexer,col_indexer] = value instead\n",
      "\n",
      "See the caveats in the documentation: http://pandas.pydata.org/pandas-docs/stable/indexing.html#indexing-view-versus-copy\n"
     ]
    }
   ],
   "source": [
    "##################### MATCNING PROCESS\n",
    "##################### ATTENTION !!!!!!\n",
    "##################### TAKES 10 MINUTES\n",
    "\n",
    "Unmatched['match'] = Unmatched.apply(getBest, 1)"
   ]
  },
  {
   "cell_type": "code",
   "execution_count": 53,
   "metadata": {
    "collapsed": false
   },
   "outputs": [
    {
     "name": "stderr",
     "output_type": "stream",
     "text": [
      "/Users/casy/anaconda/lib/python2.7/site-packages/ipykernel/__main__.py:1: SettingWithCopyWarning: \n",
      "A value is trying to be set on a copy of a slice from a DataFrame.\n",
      "Try using .loc[row_indexer,col_indexer] = value instead\n",
      "\n",
      "See the caveats in the documentation: http://pandas.pydata.org/pandas-docs/stable/indexing.html#indexing-view-versus-copy\n",
      "  if __name__ == '__main__':\n",
      "/Users/casy/anaconda/lib/python2.7/site-packages/ipykernel/__main__.py:2: SettingWithCopyWarning: \n",
      "A value is trying to be set on a copy of a slice from a DataFrame.\n",
      "Try using .loc[row_indexer,col_indexer] = value instead\n",
      "\n",
      "See the caveats in the documentation: http://pandas.pydata.org/pandas-docs/stable/indexing.html#indexing-view-versus-copy\n",
      "  from ipykernel import kernelapp as app\n"
     ]
    }
   ],
   "source": [
    "Unmatched['SIGNNAME'] = Unmatched['match'].apply(lambda x: x[0])\n",
    "Unmatched['ratio'] = Unmatched['match'].apply(lambda x: x[1])"
   ]
  },
  {
   "cell_type": "code",
   "execution_count": 54,
   "metadata": {
    "collapsed": false
   },
   "outputs": [
    {
     "name": "stdout",
     "output_type": "stream",
     "text": [
      "Average ratio: 85.9078233927\n",
      "ratio stD: 10.7555657481\n"
     ]
    },
    {
     "data": {
      "image/png": "[encoded data removed]",
      "text/plain": [
       "<matplotlib.figure.Figure at 0x112caf290>"
      ]
     },
     "metadata": {},
     "output_type": "display_data"
    }
   ],
   "source": [
    "print 'Average ratio:', Unmatched['ratio'].mean()\n",
    "print 'ratio stD:', Unmatched['ratio'].std()\n",
    "Unmatched.ratio.hist(color='k', bins=30);"
   ]
  },
  {
   "cell_type": "markdown",
   "metadata": {},
   "source": [
    "Yet the best option to be sure - check all candidates."
   ]
  },
  {
   "cell_type": "code",
   "execution_count": 55,
   "metadata": {
    "collapsed": false
   },
   "outputs": [
    {
     "data": {
      "text/html": [
       "<div>\n",
       "<table border=\"1\" class=\"dataframe\">\n",
       "  <thead>\n",
       "    <tr style=\"text-align: right;\">\n",
       "      <th></th>\n",
       "      <th>Park Facility Name</th>\n",
       "      <th>Borough</th>\n",
       "      <th>cleanName</th>\n",
       "      <th>code</th>\n",
       "      <th>SIGNNAME</th>\n",
       "      <th>BOROUGH</th>\n",
       "      <th>match</th>\n",
       "      <th>ratio</th>\n",
       "    </tr>\n",
       "  </thead>\n",
       "  <tbody>\n",
       "    <tr>\n",
       "      <th>560</th>\n",
       "      <td>Reeds Basket Willow's Swamp</td>\n",
       "      <td>STATEN ISLAND</td>\n",
       "      <td>reeds basket willow's swamp</td>\n",
       "      <td>R</td>\n",
       "      <td>reed's basket willow swamp park</td>\n",
       "      <td>NaN</td>\n",
       "      <td>(reed's basket willow swamp park, 86)</td>\n",
       "      <td>86</td>\n",
       "    </tr>\n",
       "    <tr>\n",
       "      <th>109</th>\n",
       "      <td>Kissena Corridor East</td>\n",
       "      <td>QUEENS</td>\n",
       "      <td>kissena corridor east</td>\n",
       "      <td>Q</td>\n",
       "      <td>kissena corridor park</td>\n",
       "      <td>NaN</td>\n",
       "      <td>(kissena corridor park, 86)</td>\n",
       "      <td>86</td>\n",
       "    </tr>\n",
       "    <tr>\n",
       "      <th>229</th>\n",
       "      <td>Ehrenreich-Austin St Playground</td>\n",
       "      <td>QUEENS</td>\n",
       "      <td>ehrenreich-austin st</td>\n",
       "      <td>Q</td>\n",
       "      <td>ehrenreich-austin playground</td>\n",
       "      <td>NaN</td>\n",
       "      <td>(ehrenreich-austin playground, 87)</td>\n",
       "      <td>87</td>\n",
       "    </tr>\n",
       "    <tr>\n",
       "      <th>1487</th>\n",
       "      <td>Asser Levy Recreation Center</td>\n",
       "      <td>MANHATTAN</td>\n",
       "      <td>asser levy recreation center</td>\n",
       "      <td>M</td>\n",
       "      <td>recreation center 54</td>\n",
       "      <td>NaN</td>\n",
       "      <td>(recreation center 54, 87)</td>\n",
       "      <td>87</td>\n",
       "    </tr>\n",
       "    <tr>\n",
       "      <th>1667</th>\n",
       "      <td>Highbridge Recreation Center</td>\n",
       "      <td>MANHATTAN</td>\n",
       "      <td>highbridge recreation center</td>\n",
       "      <td>M</td>\n",
       "      <td>recreation center 54</td>\n",
       "      <td>NaN</td>\n",
       "      <td>(recreation center 54, 87)</td>\n",
       "      <td>87</td>\n",
       "    </tr>\n",
       "    <tr>\n",
       "      <th>290</th>\n",
       "      <td>Bealin Square and Seth Low Playground</td>\n",
       "      <td>BROOKLYN</td>\n",
       "      <td>bealin square and seth low</td>\n",
       "      <td>B</td>\n",
       "      <td>seth low playground/ bealin square</td>\n",
       "      <td>NaN</td>\n",
       "      <td>(seth low playground/ bealin square, 87)</td>\n",
       "      <td>87</td>\n",
       "    </tr>\n",
       "    <tr>\n",
       "      <th>857</th>\n",
       "      <td>Floyd Patterson Field</td>\n",
       "      <td>BROOKLYN</td>\n",
       "      <td>floyd patterson field</td>\n",
       "      <td>B</td>\n",
       "      <td>floyd patterson ballfields</td>\n",
       "      <td>NaN</td>\n",
       "      <td>(floyd patterson ballfields, 89)</td>\n",
       "      <td>89</td>\n",
       "    </tr>\n",
       "    <tr>\n",
       "      <th>1493</th>\n",
       "      <td>Dr Ronald E McNair Playground</td>\n",
       "      <td>BROOKLYN</td>\n",
       "      <td>dr ronald e mcnair</td>\n",
       "      <td>B</td>\n",
       "      <td>dr. ronald mcnair park</td>\n",
       "      <td>NaN</td>\n",
       "      <td>(dr. ronald mcnair park, 89)</td>\n",
       "      <td>89</td>\n",
       "    </tr>\n",
       "    <tr>\n",
       "      <th>1059</th>\n",
       "      <td>Pool - MacArthur</td>\n",
       "      <td>STATEN ISLAND</td>\n",
       "      <td>macarthur</td>\n",
       "      <td>R</td>\n",
       "      <td>gen. douglas macarthur park</td>\n",
       "      <td>NaN</td>\n",
       "      <td>(gen. douglas macarthur park, 90)</td>\n",
       "      <td>90</td>\n",
       "    </tr>\n",
       "    <tr>\n",
       "      <th>1061</th>\n",
       "      <td>Aqueduct Walk - Waring Playground</td>\n",
       "      <td>BRONX</td>\n",
       "      <td>aqueduct walk - waring</td>\n",
       "      <td>X</td>\n",
       "      <td>aqueduct walk</td>\n",
       "      <td>NaN</td>\n",
       "      <td>(aqueduct walk, 90)</td>\n",
       "      <td>90</td>\n",
       "    </tr>\n",
       "  </tbody>\n",
       "</table>\n",
       "</div>"
      ],
      "text/plain": [
       "                         Park Facility Name        Borough  \\\n",
       "560             Reeds Basket Willow's Swamp  STATEN ISLAND   \n",
       "109                   Kissena Corridor East         QUEENS   \n",
       "229         Ehrenreich-Austin St Playground         QUEENS   \n",
       "1487           Asser Levy Recreation Center      MANHATTAN   \n",
       "1667           Highbridge Recreation Center      MANHATTAN   \n",
       "290   Bealin Square and Seth Low Playground       BROOKLYN   \n",
       "857                   Floyd Patterson Field       BROOKLYN   \n",
       "1493          Dr Ronald E McNair Playground       BROOKLYN   \n",
       "1059                       Pool - MacArthur  STATEN ISLAND   \n",
       "1061      Aqueduct Walk - Waring Playground          BRONX   \n",
       "\n",
       "                         cleanName code                            SIGNNAME  \\\n",
       "560    reeds basket willow's swamp    R     reed's basket willow swamp park   \n",
       "109          kissena corridor east    Q               kissena corridor park   \n",
       "229           ehrenreich-austin st    Q        ehrenreich-austin playground   \n",
       "1487  asser levy recreation center    M                recreation center 54   \n",
       "1667  highbridge recreation center    M                recreation center 54   \n",
       "290     bealin square and seth low    B  seth low playground/ bealin square   \n",
       "857          floyd patterson field    B          floyd patterson ballfields   \n",
       "1493            dr ronald e mcnair    B              dr. ronald mcnair park   \n",
       "1059                     macarthur    R         gen. douglas macarthur park   \n",
       "1061        aqueduct walk - waring    X                       aqueduct walk   \n",
       "\n",
       "     BOROUGH                                     match  ratio  \n",
       "560      NaN     (reed's basket willow swamp park, 86)     86  \n",
       "109      NaN               (kissena corridor park, 86)     86  \n",
       "229      NaN        (ehrenreich-austin playground, 87)     87  \n",
       "1487     NaN                (recreation center 54, 87)     87  \n",
       "1667     NaN                (recreation center 54, 87)     87  \n",
       "290      NaN  (seth low playground/ bealin square, 87)     87  \n",
       "857      NaN          (floyd patterson ballfields, 89)     89  \n",
       "1493     NaN              (dr. ronald mcnair park, 89)     89  \n",
       "1059     NaN         (gen. douglas macarthur park, 90)     90  \n",
       "1061     NaN                       (aqueduct walk, 90)     90  "
      ]
     },
     "execution_count": 55,
     "metadata": {},
     "output_type": "execute_result"
    }
   ],
   "source": [
    "Unmatched[Unmatched.ratio >85].sort_values(by='ratio').head(10)"
   ]
  },
  {
   "cell_type": "code",
   "execution_count": 60,
   "metadata": {
    "collapsed": false
   },
   "outputs": [
    {
     "name": "stderr",
     "output_type": "stream",
     "text": [
      "/Users/casy/anaconda/lib/python2.7/site-packages/ipykernel/__main__.py:1: SettingWithCopyWarning: \n",
      "A value is trying to be set on a copy of a slice from a DataFrame.\n",
      "Try using .loc[row_indexer,col_indexer] = value instead\n",
      "\n",
      "See the caveats in the documentation: http://pandas.pydata.org/pandas-docs/stable/indexing.html#indexing-view-versus-copy\n",
      "  if __name__ == '__main__':\n"
     ]
    }
   ],
   "source": [
    "Matched['ratio'] = 100\n",
    "JoinedD = pd.concat([Matched, Unmatched.drop('match', 1)]).sort_values(by='ratio')"
   ]
  },
  {
   "cell_type": "code",
   "execution_count": 61,
   "metadata": {
    "collapsed": false
   },
   "outputs": [
    {
     "data": {
      "text/html": [
       "<div>\n",
       "<table border=\"1\" class=\"dataframe\">\n",
       "  <thead>\n",
       "    <tr style=\"text-align: right;\">\n",
       "      <th></th>\n",
       "      <th>Park Facility Name</th>\n",
       "      <th>Borough</th>\n",
       "      <th>cleanName</th>\n",
       "      <th>code</th>\n",
       "      <th>SIGNNAME</th>\n",
       "      <th>BOROUGH</th>\n",
       "      <th>ratio</th>\n",
       "    </tr>\n",
       "  </thead>\n",
       "  <tbody>\n",
       "    <tr>\n",
       "      <th>1272</th>\n",
       "      <td>Alley Pond Park - Nature Center</td>\n",
       "      <td>Unspecified</td>\n",
       "      <td>alley pond park - nature center</td>\n",
       "      <td>?</td>\n",
       "      <td>???</td>\n",
       "      <td>NaN</td>\n",
       "      <td>0</td>\n",
       "    </tr>\n",
       "    <tr>\n",
       "      <th>1062</th>\n",
       "      <td>Pool - PS 46 Playground</td>\n",
       "      <td>Unspecified</td>\n",
       "      <td>ps 46</td>\n",
       "      <td>?</td>\n",
       "      <td>???</td>\n",
       "      <td>NaN</td>\n",
       "      <td>0</td>\n",
       "    </tr>\n",
       "    <tr>\n",
       "      <th>1021</th>\n",
       "      <td>Ten Mile River Playground</td>\n",
       "      <td>Unspecified</td>\n",
       "      <td>ten mile river</td>\n",
       "      <td>?</td>\n",
       "      <td>???</td>\n",
       "      <td>NaN</td>\n",
       "      <td>0</td>\n",
       "    </tr>\n",
       "    <tr>\n",
       "      <th>565</th>\n",
       "      <td>Playground 62 - PS 220</td>\n",
       "      <td>QUEENS</td>\n",
       "      <td>62 - ps 220</td>\n",
       "      <td>Q</td>\n",
       "      <td>225 street malls</td>\n",
       "      <td>NaN</td>\n",
       "      <td>38</td>\n",
       "    </tr>\n",
       "    <tr>\n",
       "      <th>1249</th>\n",
       "      <td>Double Nickel Playground - PS 55</td>\n",
       "      <td>STATEN ISLAND</td>\n",
       "      <td>double nickel  - ps 55</td>\n",
       "      <td>R</td>\n",
       "      <td>bunker ponds park</td>\n",
       "      <td>NaN</td>\n",
       "      <td>41</td>\n",
       "    </tr>\n",
       "  </tbody>\n",
       "</table>\n",
       "</div>"
      ],
      "text/plain": [
       "                    Park Facility Name        Borough  \\\n",
       "1272   Alley Pond Park - Nature Center    Unspecified   \n",
       "1062           Pool - PS 46 Playground    Unspecified   \n",
       "1021         Ten Mile River Playground    Unspecified   \n",
       "565             Playground 62 - PS 220         QUEENS   \n",
       "1249  Double Nickel Playground - PS 55  STATEN ISLAND   \n",
       "\n",
       "                            cleanName code           SIGNNAME BOROUGH  ratio  \n",
       "1272  alley pond park - nature center    ?                ???     NaN      0  \n",
       "1062                            ps 46    ?                ???     NaN      0  \n",
       "1021                   ten mile river    ?                ???     NaN      0  \n",
       "565                       62 - ps 220    Q   225 street malls     NaN     38  \n",
       "1249           double nickel  - ps 55    R  bunker ponds park     NaN     41  "
      ]
     },
     "execution_count": 61,
     "metadata": {},
     "output_type": "execute_result"
    }
   ],
   "source": [
    "JoinedD.head()"
   ]
  },
  {
   "cell_type": "code",
   "execution_count": 62,
   "metadata": {
    "collapsed": false
   },
   "outputs": [
    {
     "data": {
      "text/html": [
       "<div>\n",
       "<table border=\"1\" class=\"dataframe\">\n",
       "  <thead>\n",
       "    <tr style=\"text-align: right;\">\n",
       "      <th></th>\n",
       "      <th>ratio</th>\n",
       "    </tr>\n",
       "  </thead>\n",
       "  <tbody>\n",
       "    <tr>\n",
       "      <th>count</th>\n",
       "      <td>1689.000000</td>\n",
       "    </tr>\n",
       "    <tr>\n",
       "      <th>mean</th>\n",
       "      <td>89.228538</td>\n",
       "    </tr>\n",
       "    <tr>\n",
       "      <th>std</th>\n",
       "      <td>11.144351</td>\n",
       "    </tr>\n",
       "    <tr>\n",
       "      <th>min</th>\n",
       "      <td>0.000000</td>\n",
       "    </tr>\n",
       "    <tr>\n",
       "      <th>25%</th>\n",
       "      <td>90.000000</td>\n",
       "    </tr>\n",
       "    <tr>\n",
       "      <th>50%</th>\n",
       "      <td>90.000000</td>\n",
       "    </tr>\n",
       "    <tr>\n",
       "      <th>75%</th>\n",
       "      <td>97.000000</td>\n",
       "    </tr>\n",
       "    <tr>\n",
       "      <th>max</th>\n",
       "      <td>100.000000</td>\n",
       "    </tr>\n",
       "  </tbody>\n",
       "</table>\n",
       "</div>"
      ],
      "text/plain": [
       "             ratio\n",
       "count  1689.000000\n",
       "mean     89.228538\n",
       "std      11.144351\n",
       "min       0.000000\n",
       "25%      90.000000\n",
       "50%      90.000000\n",
       "75%      97.000000\n",
       "max     100.000000"
      ]
     },
     "execution_count": 62,
     "metadata": {},
     "output_type": "execute_result"
    }
   ],
   "source": [
    "JoinedD.describe()"
   ]
  },
  {
   "cell_type": "code",
   "execution_count": 63,
   "metadata": {
    "collapsed": true
   },
   "outputs": [],
   "source": [
    "JoinedD.to_csv(PARQA + 'data/matched_unmattched2_b.csv' , encoding='utf8')"
   ]
  },
  {
   "cell_type": "markdown",
   "metadata": {
    "collapsed": true
   },
   "source": [
    "## Here is manual validation part\n",
    "done in Open Refine "
   ]
  },
  {
   "cell_type": "code",
   "execution_count": 184,
   "metadata": {
    "collapsed": false
   },
   "outputs": [
    {
     "data": {
      "text/html": [
       "<div>\n",
       "<table border=\"1\" class=\"dataframe\">\n",
       "  <thead>\n",
       "    <tr style=\"text-align: right;\">\n",
       "      <th></th>\n",
       "      <th>Park Facility Name</th>\n",
       "      <th>Borough</th>\n",
       "      <th>cleanName</th>\n",
       "      <th>code</th>\n",
       "      <th>SIGNNAME</th>\n",
       "      <th>BOROUGH</th>\n",
       "      <th>ratio</th>\n",
       "      <th>verified</th>\n",
       "    </tr>\n",
       "  </thead>\n",
       "  <tbody>\n",
       "    <tr>\n",
       "      <th>0</th>\n",
       "      <td>Alley Pond Park - Nature Center</td>\n",
       "      <td>Unspecified</td>\n",
       "      <td>alley pond park - nature center</td>\n",
       "      <td>?</td>\n",
       "      <td>???</td>\n",
       "      <td>NaN</td>\n",
       "      <td>0</td>\n",
       "      <td>False</td>\n",
       "    </tr>\n",
       "    <tr>\n",
       "      <th>1</th>\n",
       "      <td>Pool - PS 46 Playground</td>\n",
       "      <td>Unspecified</td>\n",
       "      <td>ps 46</td>\n",
       "      <td>?</td>\n",
       "      <td>???</td>\n",
       "      <td>NaN</td>\n",
       "      <td>0</td>\n",
       "      <td>False</td>\n",
       "    </tr>\n",
       "    <tr>\n",
       "      <th>2</th>\n",
       "      <td>Ten Mile River Playground</td>\n",
       "      <td>Unspecified</td>\n",
       "      <td>ten mile river</td>\n",
       "      <td>?</td>\n",
       "      <td>???</td>\n",
       "      <td>NaN</td>\n",
       "      <td>0</td>\n",
       "      <td>False</td>\n",
       "    </tr>\n",
       "    <tr>\n",
       "      <th>3</th>\n",
       "      <td>Playground 62 - PS 220</td>\n",
       "      <td>QUEENS</td>\n",
       "      <td>62 - ps 220</td>\n",
       "      <td>Q</td>\n",
       "      <td>225 street malls</td>\n",
       "      <td>NaN</td>\n",
       "      <td>38</td>\n",
       "      <td>False</td>\n",
       "    </tr>\n",
       "    <tr>\n",
       "      <th>4</th>\n",
       "      <td>Double Nickel Playground - PS 55</td>\n",
       "      <td>STATEN ISLAND</td>\n",
       "      <td>double nickel  - ps 55</td>\n",
       "      <td>R</td>\n",
       "      <td>bunker ponds park</td>\n",
       "      <td>NaN</td>\n",
       "      <td>41</td>\n",
       "      <td>False</td>\n",
       "    </tr>\n",
       "  </tbody>\n",
       "</table>\n",
       "</div>"
      ],
      "text/plain": [
       "                 Park Facility Name        Borough  \\\n",
       "0   Alley Pond Park - Nature Center    Unspecified   \n",
       "1           Pool - PS 46 Playground    Unspecified   \n",
       "2         Ten Mile River Playground    Unspecified   \n",
       "3            Playground 62 - PS 220         QUEENS   \n",
       "4  Double Nickel Playground - PS 55  STATEN ISLAND   \n",
       "\n",
       "                         cleanName code           SIGNNAME BOROUGH  ratio  \\\n",
       "0  alley pond park - nature center    ?                ???     NaN      0   \n",
       "1                            ps 46    ?                ???     NaN      0   \n",
       "2                   ten mile river    ?                ???     NaN      0   \n",
       "3                      62 - ps 220    Q   225 street malls     NaN     38   \n",
       "4           double nickel  - ps 55    R  bunker ponds park     NaN     41   \n",
       "\n",
       "  verified  \n",
       "0    False  \n",
       "1    False  \n",
       "2    False  \n",
       "3    False  \n",
       "4    False  "
      ]
     },
     "execution_count": 184,
     "metadata": {},
     "output_type": "execute_result"
    }
   ],
   "source": [
    "verified = pd.read_csv(PARQA + 'data/matched_unmattched_verified.csv' , encoding='utf8')\n",
    "verified.head()"
   ]
  },
  {
   "cell_type": "code",
   "execution_count": 188,
   "metadata": {
    "collapsed": false
   },
   "outputs": [
    {
     "name": "stdout",
     "output_type": "stream",
     "text": [
      "Defined totally:  1362\n",
      "80.6394316163 %\n"
     ]
    }
   ],
   "source": [
    "defined = verified[verified.verified==True]\n",
    "print 'Defined totally: ',len(defined) \n",
    "print 100.0*len(defined)/len(verified), '%'"
   ]
  },
  {
   "cell_type": "code",
   "execution_count": 194,
   "metadata": {
    "collapsed": true
   },
   "outputs": [],
   "source": [
    "defined.to_csv(PARQA + 'data/Ontology/defined.csv' , encoding='utf8')"
   ]
  },
  {
   "cell_type": "code",
   "execution_count": 195,
   "metadata": {
    "collapsed": false
   },
   "outputs": [
    {
     "name": "stdout",
     "output_type": "stream",
     "text": [
      "0            Alley Pond Park - Nature Center\n",
      "1                    Pool - PS 46 Playground\n",
      "2                  Ten Mile River Playground\n",
      "3                     Playground 62 - PS 220\n",
      "4           Double Nickel Playground - PS 55\n",
      "5                  Mount Playground - PS 174\n",
      "6                              35 Playground\n",
      "7                              Playground 70\n",
      "8          Francis Lewis Playground - PS 130\n",
      "9                          PS 149 Playground\n",
      "10                Jamaica Playground - PS 40\n",
      "11            Castlewood Playground - PS 186\n",
      "12                  Pool - PS 186 Playground\n",
      "13              Terrapin Playground - JHS 51\n",
      "14           100 Percent Playground - PS 242\n",
      "15                     Israel Putnam - PS 44\n",
      "16           100 Percent Playground - PS 242\n",
      "17                      Sandpiper Playground\n",
      "18                           Beach - Orchard\n",
      "19              Terrapin Playground - JHS 51\n",
      "20                        Kennedy Playground\n",
      "21             Sy Seplowe Playground - PS 94\n",
      "22                        Addabbo Playground\n",
      "23                        Catbird Playground\n",
      "24         Pool - PS 20 Playground (Adelphi)\n",
      "25                        Metcalf Playground\n",
      "26                        Kossuth Playground\n",
      "27      Corporal John A Seravalli Playground\n",
      "28               Elizabeth Stroud Playground\n",
      "29                          Brady Playground\n",
      "                       ...                  \n",
      "297              Brooklyn Civic Center Parks\n",
      "298               Yellowstone Municipal Park\n",
      "299                   Old Fort Number 4 Park\n",
      "300                       Baisley Park South\n",
      "301                          East River Park\n",
      "302          Blue Heron Park - Nature Center\n",
      "303                     Rainey Park - Queens\n",
      "304                           High Line Park\n",
      "305                   Frederick Johnson Park\n",
      "306     Shore Road Park - Vinland Playground\n",
      "307      Dyker Beach Park - Bay 8 Playground\n",
      "308                        Peter Minuit Park\n",
      "309              Parkside Playground - Bronx\n",
      "310       Cunningham Park - Upper Playground\n",
      "311              Alice Austen House and Park\n",
      "312                     Saratoga Square Park\n",
      "313              Pool - Sheltering Arms Park\n",
      "314           Parkside Playground - Brooklyn\n",
      "315      The Big Park - Grandview Playground\n",
      "316                             Kolbert Park\n",
      "317             Bradhurst Urban Renewal Park\n",
      "318           McCarren Park Ice Skating Rink\n",
      "319                        Harry Chapin Park\n",
      "320                            Rockaway Park\n",
      "321    Cunningham Park - 210th St Playground\n",
      "322          Recreation Center - Sunset Park\n",
      "323                             Maurice Park\n",
      "324                     Wayanda Park - PS 34\n",
      "325                        Lewis Simeon Park\n",
      "326            William E Kelly Memorial Park\n",
      "Name: Park Facility Name, dtype: object\n"
     ]
    }
   ],
   "source": [
    "undefined = verified[verified.verified==False].reset_index()\n",
    "print undefined['Park Facility Name']"
   ]
  },
  {
   "cell_type": "code",
   "execution_count": 196,
   "metadata": {
    "collapsed": true
   },
   "outputs": [],
   "source": [
    "undefined.to_csv(PARQA + 'data/Ontology/undefined.csv' , encoding='utf8')"
   ]
  },
  {
   "cell_type": "code",
   "execution_count": null,
   "metadata": {
    "collapsed": true
   },
   "outputs": [],
   "source": []
  }
 ],
 "metadata": {
  "kernelspec": {
   "display_name": "Python 2",
   "language": "python",
   "name": "python2"
  },
  "language_info": {
   "codemirror_mode": {
    "name": "ipython",
    "version": 2
   },
   "file_extension": ".py",
   "mimetype": "text/x-python",
   "name": "python",
   "nbconvert_exporter": "python",
   "pygments_lexer": "ipython2",
   "version": "2.7.10"
  }
 },
 "nbformat": 4,
 "nbformat_minor": 0
}
