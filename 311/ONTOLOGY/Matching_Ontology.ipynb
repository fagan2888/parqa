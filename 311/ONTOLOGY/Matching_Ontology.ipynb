{
 "cells": [
  {
   "cell_type": "code",
   "execution_count": 8,
   "metadata": {
    "collapsed": true
   },
   "outputs": [],
   "source": [
    "%matplotlib inline\n",
    "import pandas as pd\n",
    "import geopandas as gp\n",
    "import numpy as np\n",
    "import os\n",
    "\n",
    "PARQA = os.getenv('PARQA')"
   ]
  },
  {
   "cell_type": "code",
   "execution_count": 6,
   "metadata": {
    "collapsed": false
   },
   "outputs": [],
   "source": [
    "ontology = pd.read_csv(PARQA + 'parqa/311/ONTOLOGY/ontology/Ontology_verified.csv')[['cleanName','SIGNNAME','Type']]"
   ]
  },
  {
   "cell_type": "code",
   "execution_count": 7,
   "metadata": {
    "collapsed": false
   },
   "outputs": [
    {
     "data": {
      "text/html": [
       "<div>\n",
       "<table border=\"1\" class=\"dataframe\">\n",
       "  <thead>\n",
       "    <tr style=\"text-align: right;\">\n",
       "      <th></th>\n",
       "      <th>cleanName</th>\n",
       "      <th>SIGNNAME</th>\n",
       "      <th>Type</th>\n",
       "    </tr>\n",
       "  </thead>\n",
       "  <tbody>\n",
       "    <tr>\n",
       "      <th>0</th>\n",
       "      <td>geo soilan park - battery park city</td>\n",
       "      <td>battery park city</td>\n",
       "      <td>other</td>\n",
       "    </tr>\n",
       "    <tr>\n",
       "      <th>1</th>\n",
       "      <td>brookville park</td>\n",
       "      <td>brookville park</td>\n",
       "      <td>park_direct</td>\n",
       "    </tr>\n",
       "  </tbody>\n",
       "</table>\n",
       "</div>"
      ],
      "text/plain": [
       "                             cleanName           SIGNNAME         Type\n",
       "0  geo soilan park - battery park city  battery park city        other\n",
       "1                      brookville park    brookville park  park_direct"
      ]
     },
     "execution_count": 7,
     "metadata": {},
     "output_type": "execute_result"
    }
   ],
   "source": [
    "ontology.head(2)"
   ]
  },
  {
   "cell_type": "markdown",
   "metadata": {},
   "source": [
    "## I. Ontology to DPR property data"
   ]
  },
  {
   "cell_type": "code",
   "execution_count": 9,
   "metadata": {
    "collapsed": true
   },
   "outputs": [],
   "source": [
    "ontology['pDistrict'] = np.nan"
   ]
  },
  {
   "cell_type": "code",
   "execution_count": 10,
   "metadata": {
    "collapsed": false
   },
   "outputs": [
    {
     "data": {
      "text/plain": [
       "park_direct    714\n",
       "pgs            373\n",
       "other          285\n",
       "empiric        209\n",
       "pool            60\n",
       "beach           12\n",
       "golf            12\n",
       "school           9\n",
       "recr             4\n",
       "Name: Type, dtype: int64"
      ]
     },
     "execution_count": 10,
     "metadata": {},
     "output_type": "execute_result"
    }
   ],
   "source": [
    "ontology.Type.value_counts()"
   ]
  },
  {
   "cell_type": "code",
   "execution_count": 18,
   "metadata": {
    "collapsed": false
   },
   "outputs": [],
   "source": [
    "## data for all types of keys in ontology\n",
    "dfs = {'park_direct': gp.read_file(PARQA + 'data/DPR_property/csv_ll_pD/' + 'parks_pd_ll.geojson' ),\n",
    "       'pgs': gp.read_file(PARQA + 'data/DPR_property/csv_ll_pD/' + 'playground_pd_ll.geojson' ),\n",
    "       'other': gp.read_file(PARQA + 'data/DPR_property/csv_ll_pD/' + 'parks_pd_ll.geojson' ),\n",
    "       'empiric': gp.read_file(PARQA + 'data/DPR_property/csv_ll_pD/' + 'parks_pd_ll.geojson' ),\n",
    "       'pool': gp.read_file(PARQA + 'data/DPR_property/csv_ll_pD/' + 'pools_pd_ll.geojson' ),\n",
    "       'beach': gp.read_file(PARQA + 'data/DPR_property/csv_ll_pD/' + 'beaches_pd_ll.geojson' ),\n",
    "       'golf': gp.read_file(PARQA + 'data/DPR_property/csv_ll_pD/' + 'golf_courses_pd_ll.geojson' ),\n",
    "       'school':gp.read_file(PARQA + 'data/DPR_property/csv_ll_pD/' + 'ps_pd_ll.geojson' ),\n",
    "       'recr': gp.read_file(PARQA + 'data/DPR_property/csv_ll_pD/' + 'recr_c_pd_ll.geojson' )}"
   ]
  },
  {
   "cell_type": "code",
   "execution_count": 19,
   "metadata": {
    "collapsed": false
   },
   "outputs": [
    {
     "name": "stdout",
     "output_type": "stream",
     "text": [
      "school 0\n",
      "other 40\n",
      "empiric 40\n",
      "pgs 0\n",
      "recr 0\n",
      "golf 0\n",
      "beach 0\n",
      "pool 1\n",
      "park_direct 40\n"
     ]
    }
   ],
   "source": [
    "for key in dfs:\n",
    "    print key, len(dfs[key][pd.isnull(dfs[key].parkDistrict)])"
   ]
  },
  {
   "cell_type": "code",
   "execution_count": 22,
   "metadata": {
    "collapsed": true
   },
   "outputs": [],
   "source": [
    "# rename all namincolumns to NAME\n",
    "dfs['school'] = dfs['school'].rename(columns={'PSID':'NAME'})\n",
    "dfs['other'] = dfs['other'].rename(columns={'SIGNNAME':'NAME'})\n",
    "dfs['empiric'] = dfs['empiric'].rename(columns={'SIGNNAME':'NAME'})\n",
    "dfs['pgs'] = dfs['school'].rename(columns={'Name':'NAME'})\n",
    "dfs['beach'] = dfs['beach'].rename(columns={'name':'NAME'})\n",
    "dfs['pool'] = dfs['pool'].rename(columns={'Name':'NAME'})\n",
    "dfs['park_direct'] = dfs['park_direct'].rename(columns={'SIGNNAME':'NAME'})\n",
    "\n",
    "for key in dfs:\n",
    "    if 'NAME'not in dfs[key].columns:\n",
    "        print key,ddfs[key].columns"
   ]
  },
  {
   "cell_type": "code",
   "execution_count": 26,
   "metadata": {
    "collapsed": true
   },
   "outputs": [],
   "source": [
    "for item in dfs.values():\n",
    "    item['NAME'] = item.NAME.str.lower()"
   ]
  },
  {
   "cell_type": "code",
   "execution_count": 25,
   "metadata": {
    "collapsed": false
   },
   "outputs": [
    {
     "data": {
      "text/html": [
       "<div>\n",
       "<table border=\"1\" class=\"dataframe\">\n",
       "  <thead>\n",
       "    <tr style=\"text-align: right;\">\n",
       "      <th></th>\n",
       "      <th>cleanName</th>\n",
       "      <th>SIGNNAME</th>\n",
       "      <th>Type</th>\n",
       "      <th>pDistrict</th>\n",
       "    </tr>\n",
       "  </thead>\n",
       "  <tbody>\n",
       "    <tr>\n",
       "      <th>9</th>\n",
       "      <td>col david marcus playground</td>\n",
       "      <td>Col David Marcus Mem Playground</td>\n",
       "      <td>pgs</td>\n",
       "      <td>NaN</td>\n",
       "    </tr>\n",
       "    <tr>\n",
       "      <th>13</th>\n",
       "      <td>mccarren park - vincent v abate playground</td>\n",
       "      <td>Vincent V Abate Playground</td>\n",
       "      <td>pgs</td>\n",
       "      <td>NaN</td>\n",
       "    </tr>\n",
       "    <tr>\n",
       "      <th>24</th>\n",
       "      <td>harold l ickes playground</td>\n",
       "      <td>Harold Ickes Playground</td>\n",
       "      <td>pgs</td>\n",
       "      <td>NaN</td>\n",
       "    </tr>\n",
       "    <tr>\n",
       "      <th>27</th>\n",
       "      <td>hoover manton playground</td>\n",
       "      <td>Manton Playground</td>\n",
       "      <td>pgs</td>\n",
       "      <td>NaN</td>\n",
       "    </tr>\n",
       "    <tr>\n",
       "      <th>33</th>\n",
       "      <td>emerald playground - ps 200</td>\n",
       "      <td>Emerald Playground</td>\n",
       "      <td>pgs</td>\n",
       "      <td>NaN</td>\n",
       "    </tr>\n",
       "  </tbody>\n",
       "</table>\n",
       "</div>"
      ],
      "text/plain": [
       "                                     cleanName  \\\n",
       "9                  col david marcus playground   \n",
       "13  mccarren park - vincent v abate playground   \n",
       "24                   harold l ickes playground   \n",
       "27                    hoover manton playground   \n",
       "33                 emerald playground - ps 200   \n",
       "\n",
       "                           SIGNNAME Type  pDistrict  \n",
       "9   Col David Marcus Mem Playground  pgs        NaN  \n",
       "13       Vincent V Abate Playground  pgs        NaN  \n",
       "24          Harold Ickes Playground  pgs        NaN  \n",
       "27                Manton Playground  pgs        NaN  \n",
       "33               Emerald Playground  pgs        NaN  "
      ]
     },
     "execution_count": 25,
     "metadata": {},
     "output_type": "execute_result"
    }
   ],
   "source": [
    "ontology.ix[ontology.Type=='pgs', :].merge( dfs['pgs'][['NAME'],''], how='left')"
   ]
  },
  {
   "cell_type": "code",
   "execution_count": null,
   "metadata": {
    "collapsed": true
   },
   "outputs": [],
   "source": []
  }
 ],
 "metadata": {
  "kernelspec": {
   "display_name": "Python 2",
   "language": "python",
   "name": "python2"
  },
  "language_info": {
   "codemirror_mode": {
    "name": "ipython",
    "version": 2
   },
   "file_extension": ".py",
   "mimetype": "text/x-python",
   "name": "python",
   "nbconvert_exporter": "python",
   "pygments_lexer": "ipython2",
   "version": "2.7.10"
  }
 },
 "nbformat": 4,
 "nbformat_minor": 0
}
