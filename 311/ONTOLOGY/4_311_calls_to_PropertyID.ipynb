{
 "cells": [
  {
   "cell_type": "markdown",
   "metadata": {},
   "source": [
    "## How it works:\n",
    "\n",
    "1. we read DPR calls\n",
    "2. we split them into geolocated and name-located\n",
    "3. for geolocated, we spatially join them with park property, and give them property name.\n",
    "4. after that, we join two groups back and create a list of unique names - **fuzzyNames**\n",
    "5. Now, we read database of properties, and for each record convert it's Proprty ID into list with one Property ID\n",
    "6. We also create empirically defined dataframe of large parks, containing more than one property. For each park, we pass list of properties instead of one. Now we join two dataframes together in **prop2**: each record have *type* attribute, showing if this was a record from original database of homebrewed one.\n",
    "7. At this point, we use ontology we did before (ontology for Districts). We load this ontology, and manually perform some aggregation and attach **fuzz** name to each property.\n",
    "8. Then we create a custom \"fuzzname cleaning\" function to pefrorm on calls.\n",
    "9. And we try to match unique call locations with our properties. To improve matching, we perform **fuzzywuzzy process.extractOne** on unmatched ones - this helps us to improve our cleaning function. \n",
    "10. However, here we fail to recognize as much as 350 fuzz names: most of them just are not in our Proprties database, or their name changed/differs officially.\n",
    "11. **As multiple calls named after large park, not specific zone, all calls choose random element in *property_id* list: most of the calls have only one in the list, therefore, they select it all the tyme.**\n",
    "12. Both ontology pairs and matched calls are saved as csv files "
   ]
  },
  {
   "cell_type": "code",
   "execution_count": 1,
   "metadata": {
    "collapsed": false
   },
   "outputs": [
    {
     "name": "stdout",
     "output_type": "stream",
     "text": [
      "Populating the interactive namespace from numpy and matplotlib\n"
     ]
    },
    {
     "name": "stderr",
     "output_type": "stream",
     "text": [
      "/Users/casy/anaconda/lib/python2.7/site-packages/matplotlib/__init__.py:855: UserWarning: svg.embed_char_paths is deprecated and replaced with svg.fonttype; please use the latter.\n",
      "  warnings.warn(self.msg_depr % (key, alt_key))\n"
     ]
    }
   ],
   "source": [
    "__author__ = \"me\"\n",
    "__date__ = \"2015_10_13\"\n",
    "\n",
    "%pylab inline\n",
    "import pandas as pd\n",
    "import geopandas as gp\n",
    "import numpy as np\n",
    "import random\n",
    "\n",
    "import pylab as plt\n",
    "import os\n",
    "\n",
    "from geopandas.tools import sjoin\n",
    "from shapely.geometry import Point\n",
    "\n",
    "from fuzzywuzzy import process\n",
    "\n",
    "import requests\n",
    "try:\n",
    "    s = requests.get(\"https://raw.githubusercontent.com/Casyfill/CUSP_templates/master/Py/fbMatplotlibrc.json\").json()\n",
    "    plt.rcParams.update(s)\n",
    "except:\n",
    "    pass\n",
    "\n",
    "\n",
    "numpy.random.seed(2015)\n",
    "\n",
    "PARQA = os.getenv('PARQA')"
   ]
  },
  {
   "cell_type": "markdown",
   "metadata": {},
   "source": [
    "## Split calls to named and geolocated"
   ]
  },
  {
   "cell_type": "code",
   "execution_count": 2,
   "metadata": {
    "collapsed": false
   },
   "outputs": [
    {
     "name": "stderr",
     "output_type": "stream",
     "text": [
      "/Users/casy/anaconda/lib/python2.7/site-packages/IPython/core/interactiveshell.py:2902: DtypeWarning: Columns (18) have mixed types. Specify dtype option on import or set low_memory=False.\n",
      "  interactivity=interactivity, compiler=compiler, result=result)\n"
     ]
    }
   ],
   "source": [
    "calls = pd.read_csv(PARQA + 'data/311/311DPR.csv', encoding='utf8', na_values='Unspecified')"
   ]
  },
  {
   "cell_type": "code",
   "execution_count": 3,
   "metadata": {
    "collapsed": false
   },
   "outputs": [
    {
     "name": "stderr",
     "output_type": "stream",
     "text": [
      "/Users/casy/anaconda/lib/python2.7/site-packages/ipykernel/__main__.py:2: SettingWithCopyWarning: \n",
      "A value is trying to be set on a copy of a slice from a DataFrame.\n",
      "Try using .loc[row_indexer,col_indexer] = value instead\n",
      "\n",
      "See the caveats in the documentation: http://pandas.pydata.org/pandas-docs/stable/indexing.html#indexing-view-versus-copy\n",
      "  from ipykernel import kernelapp as app\n"
     ]
    }
   ],
   "source": [
    "myCalls = calls[['Park Facility Name','Descriptor','Created Date','Closed Date','Longitude','Latitude','Location Type', 'Complaint Type']]\n",
    "myCalls['Park Facility Name'] = myCalls['Park Facility Name'].str.lower()\n",
    "myCalls['Park Facility Name'].head()\n",
    "\n",
    "\n",
    "namedCalls = myCalls[pd.notnull(myCalls['Park Facility Name'])]\n",
    "geoCalls = myCalls[(pd.isnull(myCalls['Park Facility Name'])) & (pd.notnull(myCalls.Latitude))]"
   ]
  },
  {
   "cell_type": "code",
   "execution_count": 4,
   "metadata": {
    "collapsed": false
   },
   "outputs": [
    {
     "data": {
      "text/html": [
       "<div>\n",
       "<table border=\"1\" class=\"dataframe\">\n",
       "  <thead>\n",
       "    <tr style=\"text-align: right;\">\n",
       "      <th></th>\n",
       "      <th>Park Facility Name</th>\n",
       "      <th>Descriptor</th>\n",
       "      <th>Created Date</th>\n",
       "      <th>Closed Date</th>\n",
       "      <th>Longitude</th>\n",
       "      <th>Latitude</th>\n",
       "      <th>Location Type</th>\n",
       "      <th>Complaint Type</th>\n",
       "    </tr>\n",
       "  </thead>\n",
       "  <tbody>\n",
       "    <tr>\n",
       "      <th>0</th>\n",
       "      <td>NaN</td>\n",
       "      <td>Snow or Ice</td>\n",
       "      <td>12/31/2010 09:04:48 PM</td>\n",
       "      <td>01/03/2011 12:03:59 PM</td>\n",
       "      <td>-73.931120</td>\n",
       "      <td>40.668798</td>\n",
       "      <td>Park</td>\n",
       "      <td>Maintenance or Facility</td>\n",
       "    </tr>\n",
       "    <tr>\n",
       "      <th>3</th>\n",
       "      <td>NaN</td>\n",
       "      <td>Snow or Ice</td>\n",
       "      <td>12/31/2010 03:36:37 PM</td>\n",
       "      <td>01/03/2011 09:41:24 AM</td>\n",
       "      <td>-73.962835</td>\n",
       "      <td>40.688556</td>\n",
       "      <td>Park</td>\n",
       "      <td>Maintenance or Facility</td>\n",
       "    </tr>\n",
       "    <tr>\n",
       "      <th>4</th>\n",
       "      <td>NaN</td>\n",
       "      <td>Snow or Ice</td>\n",
       "      <td>12/31/2010 03:03:16 PM</td>\n",
       "      <td>01/03/2011 12:15:38 PM</td>\n",
       "      <td>-73.999809</td>\n",
       "      <td>40.636935</td>\n",
       "      <td>Park</td>\n",
       "      <td>Maintenance or Facility</td>\n",
       "    </tr>\n",
       "    <tr>\n",
       "      <th>6</th>\n",
       "      <td>NaN</td>\n",
       "      <td>Snow or Ice</td>\n",
       "      <td>12/31/2010 12:59:59 PM</td>\n",
       "      <td>01/03/2011 12:23:04 PM</td>\n",
       "      <td>-73.999456</td>\n",
       "      <td>40.609951</td>\n",
       "      <td>Park</td>\n",
       "      <td>Maintenance or Facility</td>\n",
       "    </tr>\n",
       "    <tr>\n",
       "      <th>7</th>\n",
       "      <td>NaN</td>\n",
       "      <td>Snow or Ice</td>\n",
       "      <td>12/31/2010 12:12:02 PM</td>\n",
       "      <td>01/03/2011 12:19:51 PM</td>\n",
       "      <td>-73.977616</td>\n",
       "      <td>40.633153</td>\n",
       "      <td>Park</td>\n",
       "      <td>Maintenance or Facility</td>\n",
       "    </tr>\n",
       "  </tbody>\n",
       "</table>\n",
       "</div>"
      ],
      "text/plain": [
       "  Park Facility Name   Descriptor            Created Date  \\\n",
       "0                NaN  Snow or Ice  12/31/2010 09:04:48 PM   \n",
       "3                NaN  Snow or Ice  12/31/2010 03:36:37 PM   \n",
       "4                NaN  Snow or Ice  12/31/2010 03:03:16 PM   \n",
       "6                NaN  Snow or Ice  12/31/2010 12:59:59 PM   \n",
       "7                NaN  Snow or Ice  12/31/2010 12:12:02 PM   \n",
       "\n",
       "              Closed Date  Longitude   Latitude Location Type  \\\n",
       "0  01/03/2011 12:03:59 PM -73.931120  40.668798          Park   \n",
       "3  01/03/2011 09:41:24 AM -73.962835  40.688556          Park   \n",
       "4  01/03/2011 12:15:38 PM -73.999809  40.636935          Park   \n",
       "6  01/03/2011 12:23:04 PM -73.999456  40.609951          Park   \n",
       "7  01/03/2011 12:19:51 PM -73.977616  40.633153          Park   \n",
       "\n",
       "            Complaint Type  \n",
       "0  Maintenance or Facility  \n",
       "3  Maintenance or Facility  \n",
       "4  Maintenance or Facility  \n",
       "6  Maintenance or Facility  \n",
       "7  Maintenance or Facility  "
      ]
     },
     "execution_count": 4,
     "metadata": {},
     "output_type": "execute_result"
    }
   ],
   "source": [
    "geoCalls.head()"
   ]
  },
  {
   "cell_type": "markdown",
   "metadata": {},
   "source": [
    "## GeoCalls: spatial join with parks to get parkName"
   ]
  },
  {
   "cell_type": "code",
   "execution_count": 5,
   "metadata": {
    "collapsed": true
   },
   "outputs": [],
   "source": [
    "parks = gp.read_file(PARQA + 'data/SHP/DPR_ParksProperties_001/DPR_ParksProperties_001.shp')[['geometry','SIGNNAME']]"
   ]
  },
  {
   "cell_type": "code",
   "execution_count": 6,
   "metadata": {
    "collapsed": false
   },
   "outputs": [
    {
     "data": {
      "text/plain": [
       "Index([u'geometry', u'SIGNNAME'], dtype='object')"
      ]
     },
     "execution_count": 6,
     "metadata": {},
     "output_type": "execute_result"
    }
   ],
   "source": [
    "parks.columns"
   ]
  },
  {
   "cell_type": "code",
   "execution_count": 7,
   "metadata": {
    "collapsed": true
   },
   "outputs": [],
   "source": [
    "def toGeoDataFrame(df, lat='Latitude',lon='Longitude'):\n",
    "    '''dataframe to geodataframe'''\n",
    "    df['geometry'] = df.apply(lambda z: Point(z[lon], z[lat]), axis=1)\n",
    "    df = gp.GeoDataFrame(df)\n",
    "    df.crs = {'init': 'epsg:4326', 'no_defs': True}\n",
    "    return df "
   ]
  },
  {
   "cell_type": "code",
   "execution_count": 8,
   "metadata": {
    "collapsed": false
   },
   "outputs": [
    {
     "name": "stderr",
     "output_type": "stream",
     "text": [
      "/Users/casy/anaconda/lib/python2.7/site-packages/ipykernel/__main__.py:3: SettingWithCopyWarning: \n",
      "A value is trying to be set on a copy of a slice from a DataFrame.\n",
      "Try using .loc[row_indexer,col_indexer] = value instead\n",
      "\n",
      "See the caveats in the documentation: http://pandas.pydata.org/pandas-docs/stable/indexing.html#indexing-view-versus-copy\n",
      "  app.launch_new_instance()\n"
     ]
    }
   ],
   "source": [
    "geoCalls = toGeoDataFrame(geoCalls).to_crs(parks.crs)"
   ]
  },
  {
   "cell_type": "code",
   "execution_count": 9,
   "metadata": {
    "collapsed": false
   },
   "outputs": [],
   "source": [
    "geoCalls = sjoin(geoCalls, parks, how=\"left\").to_crs(epsg=4326)"
   ]
  },
  {
   "cell_type": "code",
   "execution_count": 10,
   "metadata": {
    "collapsed": false
   },
   "outputs": [],
   "source": [
    "geoCalls = geoCalls[pd.notnull(geoCalls.SIGNNAME)]\n",
    "geoCalls['Park Facility Name'] = geoCalls['SIGNNAME']\n",
    "geoCalls = geoCalls[['Park Facility Name','Descriptor','Created Date','Closed Date','Longitude','Latitude','Location Type', 'Complaint Type']]"
   ]
  },
  {
   "cell_type": "code",
   "execution_count": 11,
   "metadata": {
    "collapsed": false
   },
   "outputs": [],
   "source": [
    "calls2 = pd.concat([namedCalls, geoCalls])"
   ]
  },
  {
   "cell_type": "code",
   "execution_count": 12,
   "metadata": {
    "collapsed": false
   },
   "outputs": [
    {
     "data": {
      "text/html": [
       "<div>\n",
       "<table border=\"1\" class=\"dataframe\">\n",
       "  <thead>\n",
       "    <tr style=\"text-align: right;\">\n",
       "      <th></th>\n",
       "      <th>Park Facility Name</th>\n",
       "      <th>Descriptor</th>\n",
       "      <th>Created Date</th>\n",
       "      <th>Closed Date</th>\n",
       "      <th>Longitude</th>\n",
       "      <th>Latitude</th>\n",
       "      <th>Location Type</th>\n",
       "      <th>Complaint Type</th>\n",
       "    </tr>\n",
       "  </thead>\n",
       "  <tbody>\n",
       "    <tr>\n",
       "      <th>1</th>\n",
       "      <td>geo soilan park - battery park city</td>\n",
       "      <td>Graffiti or Vandalism</td>\n",
       "      <td>12/31/2010 04:31:52 PM</td>\n",
       "      <td>12/31/2010 05:36:58 PM</td>\n",
       "      <td>NaN</td>\n",
       "      <td>NaN</td>\n",
       "      <td>Park</td>\n",
       "      <td>Maintenance or Facility</td>\n",
       "    </tr>\n",
       "    <tr>\n",
       "      <th>2</th>\n",
       "      <td>brookville park</td>\n",
       "      <td>Snow or Ice</td>\n",
       "      <td>12/31/2010 04:17:22 PM</td>\n",
       "      <td>01/06/2011 08:58:30 AM</td>\n",
       "      <td>NaN</td>\n",
       "      <td>NaN</td>\n",
       "      <td>Park</td>\n",
       "      <td>Maintenance or Facility</td>\n",
       "    </tr>\n",
       "    <tr>\n",
       "      <th>5</th>\n",
       "      <td>highland park</td>\n",
       "      <td>Snow or Ice</td>\n",
       "      <td>12/31/2010 02:57:34 PM</td>\n",
       "      <td>01/03/2011 11:31:26 AM</td>\n",
       "      <td>NaN</td>\n",
       "      <td>NaN</td>\n",
       "      <td>Park</td>\n",
       "      <td>Maintenance or Facility</td>\n",
       "    </tr>\n",
       "    <tr>\n",
       "      <th>10</th>\n",
       "      <td>prospect park - east parade grounds</td>\n",
       "      <td>Dead Animal</td>\n",
       "      <td>12/31/2010 11:26:34 AM</td>\n",
       "      <td>01/03/2011 11:12:37 AM</td>\n",
       "      <td>NaN</td>\n",
       "      <td>NaN</td>\n",
       "      <td>Park</td>\n",
       "      <td>Animal in a Park</td>\n",
       "    </tr>\n",
       "    <tr>\n",
       "      <th>11</th>\n",
       "      <td>central park - east 96th street playground</td>\n",
       "      <td>Snow or Ice</td>\n",
       "      <td>12/31/2010 11:18:31 AM</td>\n",
       "      <td>01/04/2011 12:11:02 PM</td>\n",
       "      <td>NaN</td>\n",
       "      <td>NaN</td>\n",
       "      <td>Park</td>\n",
       "      <td>Maintenance or Facility</td>\n",
       "    </tr>\n",
       "  </tbody>\n",
       "</table>\n",
       "</div>"
      ],
      "text/plain": [
       "                            Park Facility Name             Descriptor  \\\n",
       "1          geo soilan park - battery park city  Graffiti or Vandalism   \n",
       "2                              brookville park            Snow or Ice   \n",
       "5                                highland park            Snow or Ice   \n",
       "10         prospect park - east parade grounds            Dead Animal   \n",
       "11  central park - east 96th street playground            Snow or Ice   \n",
       "\n",
       "              Created Date             Closed Date  Longitude  Latitude  \\\n",
       "1   12/31/2010 04:31:52 PM  12/31/2010 05:36:58 PM        NaN       NaN   \n",
       "2   12/31/2010 04:17:22 PM  01/06/2011 08:58:30 AM        NaN       NaN   \n",
       "5   12/31/2010 02:57:34 PM  01/03/2011 11:31:26 AM        NaN       NaN   \n",
       "10  12/31/2010 11:26:34 AM  01/03/2011 11:12:37 AM        NaN       NaN   \n",
       "11  12/31/2010 11:18:31 AM  01/04/2011 12:11:02 PM        NaN       NaN   \n",
       "\n",
       "   Location Type           Complaint Type  \n",
       "1           Park  Maintenance or Facility  \n",
       "2           Park  Maintenance or Facility  \n",
       "5           Park  Maintenance or Facility  \n",
       "10          Park         Animal in a Park  \n",
       "11          Park  Maintenance or Facility  "
      ]
     },
     "execution_count": 12,
     "metadata": {},
     "output_type": "execute_result"
    }
   ],
   "source": [
    "calls2.head()"
   ]
  },
  {
   "cell_type": "code",
   "execution_count": 13,
   "metadata": {
    "collapsed": false
   },
   "outputs": [
    {
     "data": {
      "text/plain": [
       "(55095, 8)"
      ]
     },
     "execution_count": 13,
     "metadata": {},
     "output_type": "execute_result"
    }
   ],
   "source": [
    "calls2.shape"
   ]
  },
  {
   "cell_type": "markdown",
   "metadata": {},
   "source": [
    "## Now match those names"
   ]
  },
  {
   "cell_type": "code",
   "execution_count": 77,
   "metadata": {
    "collapsed": false
   },
   "outputs": [],
   "source": [
    "calls2['Park Facility Name'] = calls2['Park Facility Name'].str.lower()"
   ]
  },
  {
   "cell_type": "code",
   "execution_count": 78,
   "metadata": {
    "collapsed": false
   },
   "outputs": [],
   "source": [
    "fuzzyNames = pd.DataFrame(calls2['Park Facility Name'].unique())\n",
    "\n",
    "fuzzyNames['try'] = 'try'\n",
    "fuzzyNames.rename(columns={0:'Park Facility Name'}, inplace=1)"
   ]
  },
  {
   "cell_type": "code",
   "execution_count": 99,
   "metadata": {
    "collapsed": false
   },
   "outputs": [],
   "source": [
    "# fuzzyNames[fuzzyNames['Park Facility Name'].str.contains('-')]"
   ]
  },
  {
   "cell_type": "markdown",
   "metadata": {},
   "source": [
    "## ParkID"
   ]
  },
  {
   "cell_type": "code",
   "execution_count": 647,
   "metadata": {
    "collapsed": true
   },
   "outputs": [],
   "source": [
    "prop = pd.read_excel(PARQA + 'data/Input/Parks_Data/CUSP_Adjusted_Spatial_Data.xlsx')[['ParkID','Name']]\n",
    "prop = prop.dropna()\n",
    "prop.Name = prop.Name.str.lower()\n",
    "prop['type']='pid'"
   ]
  },
  {
   "cell_type": "code",
   "execution_count": 648,
   "metadata": {
    "collapsed": true
   },
   "outputs": [],
   "source": [
    "def trySplit(x, spl='-'):\n",
    "    '''get rid of addons'''\n",
    "    if spl in x:\n",
    "        return x.split(spl)[0].strip()\n",
    "    else:\n",
    "        return x"
   ]
  },
  {
   "cell_type": "code",
   "execution_count": 649,
   "metadata": {
    "collapsed": false
   },
   "outputs": [
    {
     "data": {
      "text/html": [
       "<div>\n",
       "<table border=\"1\" class=\"dataframe\">\n",
       "  <thead>\n",
       "    <tr style=\"text-align: right;\">\n",
       "      <th></th>\n",
       "      <th>ParkID</th>\n",
       "      <th>Name</th>\n",
       "      <th>type</th>\n",
       "    </tr>\n",
       "  </thead>\n",
       "  <tbody>\n",
       "    <tr>\n",
       "      <th>2062</th>\n",
       "      <td>Q082</td>\n",
       "      <td>wayanda park</td>\n",
       "      <td>pid</td>\n",
       "    </tr>\n",
       "  </tbody>\n",
       "</table>\n",
       "</div>"
      ],
      "text/plain": [
       "     ParkID          Name type\n",
       "2062   Q082  wayanda park  pid"
      ]
     },
     "execution_count": 649,
     "metadata": {},
     "output_type": "execute_result"
    }
   ],
   "source": [
    "prop[prop.Name.str.contains('wayanda park')]"
   ]
  },
  {
   "cell_type": "code",
   "execution_count": 650,
   "metadata": {
    "collapsed": false
   },
   "outputs": [],
   "source": [
    "### empirical dictionary\n",
    "\n",
    "d = [\n",
    "    {'ParkID':'B073','type':'abstr','Name': 'prospect park'},\n",
    "    {'ParkID':'M010','type':'abstr','Name': 'central park'},\n",
    "    {'ParkID':'Q004','type':'abstr','Name': 'astoria park'},\n",
    "    {'ParkID':'X010','type':'abstr','Name': 'crotona park'},\n",
    "    {'ParkID':'Q162','type':'abstr', 'Name': 'rockaway beach boardwalk'},\n",
    "    {'ParkID':'M014','type':'abstr', 'Name': 'jackie robinson park'},\n",
    "    {'ParkID':'M028','type':'abstr', 'Name': 'fort washington park'},\n",
    "    {'ParkID':'M037','type':'abstr', 'Name': 'highbridge park'},\n",
    "    {'ParkID':'M098','type':'abstr', 'Name': 'washington square park'},\n",
    "    {'ParkID':'M105','type':'abstr', 'Name': 'sara d. roosevelt park'},\n",
    "    {'ParkID':'M107','type':'abstr', 'Name': \"hell's kitchen park\"},\n",
    "    {'ParkID':'M283','type':'abstr', 'Name': 'battery park city'},\n",
    "    {'ParkID':'Q001','type':'abstr', 'Name': 'alley pond park'},\n",
    "    {'ParkID':'Q005','type':'abstr', 'Name': 'baisley pond park'},\n",
    "    {'ParkID':'Q009','type':'abstr', 'Name': 'macneil park'},\n",
    "    {'ParkID':'Q012','type':'abstr', 'Name': 'crocheron park'},\n",
    "    {'ParkID':'Q020','type':'abstr', 'Name': 'highland park'},\n",
    "    {'ParkID':'Q021','type':'abstr', 'Name': 'cunningham park'},\n",
    "    {'ParkID':'Q024','type':'abstr', 'Name': 'kissena park'},\n",
    "    {'ParkID':'Q102','type':'abstr', 'Name': 'juniper valley park'},\n",
    "    {'ParkID':'R129','type':'abstr', 'Name': 'greenbelt native plant center'},\n",
    "    {'ParkID':'B058','type':'abstr', 'Name': 'mccarren park'},\n",
    "    {'ParkID':'M071','type':'abstr', 'Name': 'riverside park'},\n",
    "    {'ParkID':'M360','type':'abstr', 'Name': 'the high line'},\n",
    "    {'ParkID':'X001','type':'abstr', 'Name': 'aqueduct walk'},\n",
    "    {'ParkID':'X092','type':'abstr', 'Name': 'van cortlandt park'},\n",
    "    {'ParkID':'Q099','type':'abstr', 'Name': 'flushing meadows corona park'},\n",
    "    {'ParkID':'X039','type':'abstr', 'Name': 'pelham bay park'},\n",
    "    {'ParkID':'Q015','type':'abstr', 'Name': 'forest park'},\n",
    "    {'ParkID':'M042','type':'abstr', 'Name': 'inwood hill park'},\n",
    "    {'ParkID':'B057','type':'abstr', 'Name': 'marine park'},\n",
    "    {'ParkID':'B126','type':'abstr', 'Name': 'red hook park'},\n",
    "    {'ParkID':'Q300','type':'abstr', 'Name': 'kissena corridor park'},\n",
    "    {'ParkID':'X045','type':'abstr', 'Name': \"st mary's playground\"},\n",
    "    {'ParkID':'X002','type':'abstr', 'Name': \"bronx park\"},\n",
    "    {'ParkID':'M058','type':'abstr', 'Name': \"marcus garvey park\"},\n",
    "    {'ParkID':'B371','type':'abstr', 'Name': \"spring creek park\"},\n",
    "    {'ParkID':'B371','type':'abstr', 'Name': \"spring creek park\"},\n",
    "    {'ParkID':'X039','type':'abstr', 'Name': \"orchard beach and promenade\"},\n",
    "    {'ParkID':'M029','type':'abstr', 'Name': \"fort tryon park\"},\n",
    "    {'ParkID':'R005','type':'abstr', 'Name': \"clove lakes park\"},\n",
    "    {'ParkID':'X142','type':'abstr', 'Name': \"riverdale park\"},\n",
    "    {'ParkID':'B082','type':'abstr', 'Name': \"shore road park\"},\n",
    "    {'ParkID':'B431','type':'abstr', 'Name': \"brooklyn bridge park\"},\n",
    "    {'ParkID':'R065','type':'abstr', 'Name': \"willowbrook park\"},\n",
    "    {'ParkID':'B029','type':'abstr', 'Name': \"eastern parkway\"},\n",
    "    {'ParkID':'M037','type':'abstr', 'Name': \"highbridge park\"},\n",
    "    {'ParkID':'Q461','type':'abstr', 'Name': \"powell's cove\"},\n",
    "    {'ParkID':'X002','type':'abstr', 'Name': \"bronx river park\"},\n",
    "    {'ParkID':'X203','type':'abstr', 'Name': \"randall's island park\"},\n",
    "    {'ParkID':'M077','type':'abstr', 'Name': \"st nicholas park\"},\n",
    "    {'ParkID':'B018','type':'abstr', 'Name': \"canarsie park\"},\n",
    "    {'ParkID':'B028','type':'abstr', 'Name': \"dyker beach park\"},\n",
    "    {'ParkID':'B054','type':'abstr', 'Name': \"lincoln terrace park / arthur s. somers plgd\"}\n",
    "    \n",
    "    \n",
    "\n",
    "]\n",
    "\n",
    "abstr = pd.DataFrame(d)"
   ]
  },
  {
   "cell_type": "code",
   "execution_count": 651,
   "metadata": {
    "collapsed": false
   },
   "outputs": [],
   "source": [
    "def getIDList(ID):\n",
    "    '''get list of pID for this park'''\n",
    "    return prop.ParkID[prop.ParkID.str.startswith(ID)].tolist()"
   ]
  },
  {
   "cell_type": "code",
   "execution_count": 652,
   "metadata": {
    "collapsed": true
   },
   "outputs": [],
   "source": [
    "abstr.ParkID = abstr.ParkID.apply(getIDList)"
   ]
  },
  {
   "cell_type": "code",
   "execution_count": 653,
   "metadata": {
    "collapsed": false
   },
   "outputs": [],
   "source": [
    "prop.ParkID = prop.ParkID.apply(lambda x: [x])"
   ]
  },
  {
   "cell_type": "code",
   "execution_count": 654,
   "metadata": {
    "collapsed": false
   },
   "outputs": [],
   "source": [
    "prop2 = pd.concat([abstr, prop])"
   ]
  },
  {
   "cell_type": "code",
   "execution_count": 655,
   "metadata": {
    "collapsed": false
   },
   "outputs": [
    {
     "data": {
      "text/html": [
       "<div>\n",
       "<table border=\"1\" class=\"dataframe\">\n",
       "  <thead>\n",
       "    <tr style=\"text-align: right;\">\n",
       "      <th></th>\n",
       "      <th>Name</th>\n",
       "      <th>ParkID</th>\n",
       "      <th>type</th>\n",
       "    </tr>\n",
       "  </thead>\n",
       "  <tbody>\n",
       "    <tr>\n",
       "      <th>1954</th>\n",
       "      <td>marie curie park</td>\n",
       "      <td>[Q364]</td>\n",
       "      <td>pid</td>\n",
       "    </tr>\n",
       "  </tbody>\n",
       "</table>\n",
       "</div>"
      ],
      "text/plain": [
       "                  Name  ParkID type\n",
       "1954  marie curie park  [Q364]  pid"
      ]
     },
     "execution_count": 655,
     "metadata": {},
     "output_type": "execute_result"
    }
   ],
   "source": [
    "prop2[prop2.Name.str.contains('marie curie')]"
   ]
  },
  {
   "cell_type": "markdown",
   "metadata": {},
   "source": [
    "## Check how ontology works"
   ]
  },
  {
   "cell_type": "code",
   "execution_count": 663,
   "metadata": {
    "collapsed": false
   },
   "outputs": [
    {
     "data": {
      "text/html": [
       "<div>\n",
       "<table border=\"1\" class=\"dataframe\">\n",
       "  <thead>\n",
       "    <tr style=\"text-align: right;\">\n",
       "      <th></th>\n",
       "      <th>fuzz</th>\n",
       "      <th>Name</th>\n",
       "    </tr>\n",
       "  </thead>\n",
       "  <tbody>\n",
       "    <tr>\n",
       "      <th>0</th>\n",
       "      <td>geo soilan park - battery park city</td>\n",
       "      <td>battery park city</td>\n",
       "    </tr>\n",
       "    <tr>\n",
       "      <th>1</th>\n",
       "      <td>battery park city</td>\n",
       "      <td>battery park city</td>\n",
       "    </tr>\n",
       "  </tbody>\n",
       "</table>\n",
       "</div>"
      ],
      "text/plain": [
       "                                  fuzz               Name\n",
       "0  geo soilan park - battery park city  battery park city\n",
       "1                    battery park city  battery park city"
      ]
     },
     "execution_count": 663,
     "metadata": {},
     "output_type": "execute_result"
    }
   ],
   "source": [
    "ontoMask = pd.read_csv(PARQA + 'parqa/311/ONTOLOGY/Ontology_districts.csv')[['cleanName','NAME']]\n",
    "ontoMask.rename(columns={'NAME':'Name','cleanName':'fuzz'}, inplace=1)\n",
    "ontoMask.head(2)"
   ]
  },
  {
   "cell_type": "code",
   "execution_count": 664,
   "metadata": {
    "collapsed": false
   },
   "outputs": [],
   "source": [
    "onto2 = prop2.merge(ontoMask, on='Name', how='left')\n",
    "onto2.fuzz[pd.isnull(onto2.fuzz)] = onto2.Name[pd.isnull(onto2.fuzz)]"
   ]
  },
  {
   "cell_type": "code",
   "execution_count": 665,
   "metadata": {
    "collapsed": false
   },
   "outputs": [],
   "source": [
    "onto2.rename(inplace=1, columns={'newName':'Name'})"
   ]
  },
  {
   "cell_type": "code",
   "execution_count": 666,
   "metadata": {
    "collapsed": false
   },
   "outputs": [
    {
     "data": {
      "text/html": [
       "<div>\n",
       "<table border=\"1\" class=\"dataframe\">\n",
       "  <thead>\n",
       "    <tr style=\"text-align: right;\">\n",
       "      <th></th>\n",
       "      <th>Name</th>\n",
       "      <th>ParkID</th>\n",
       "      <th>type</th>\n",
       "      <th>fuzz</th>\n",
       "    </tr>\n",
       "  </thead>\n",
       "  <tbody>\n",
       "  </tbody>\n",
       "</table>\n",
       "</div>"
      ],
      "text/plain": [
       "Empty DataFrame\n",
       "Columns: [Name, ParkID, type, fuzz]\n",
       "Index: []"
      ]
     },
     "execution_count": 666,
     "metadata": {},
     "output_type": "execute_result"
    }
   ],
   "source": [
    "onto2[onto2['Name']=='long pond']"
   ]
  },
  {
   "cell_type": "code",
   "execution_count": 667,
   "metadata": {
    "collapsed": false
   },
   "outputs": [],
   "source": [
    "def cleanNames(series):\n",
    "    '''clean series of park names'''\n",
    "    series = series.str.lower().str.strip() #.str.replace(\"'\",\"\")\n",
    "    \n",
    "    ## to replace with loop\n",
    "    series[series.str.contains('mccarren park')] = 'mccarren park'\n",
    "    series[series.str.contains('hunt')] = 'hunts point riverside park'\n",
    "    series[series.str.contains('waring')] = 'waring plgd'\n",
    "    series[series.str.contains('red hook')] = 'red hook park'\n",
    "    series[series.str.contains('rockaway beach and boardwalk')] = 'rockaway beach boardwalk'\n",
    "    series[series.str.contains('fort tryon')] = 'fort tryon park'\n",
    "    series[series.str.contains('clove lakes')] = 'clove lakes park'\n",
    "    series[series.str.contains('riverdale park')] = 'riverdale park'\n",
    "    series[series.str.contains('battery park city')] = 'battery park city'\n",
    "    series[series.str.contains('riverside park')] = 'riverside park'\n",
    "    series[series.str.contains('shore road park')] = 'shore road park'\n",
    "    series[series.str.contains('brooklyn bridge park')] = 'brooklyn bridge park'\n",
    "    series[series.str.contains('allison')] = 'allison park'\n",
    "    series[series.str.contains('willowbrook')] = 'willowbrook park'\n",
    "    series[series.str.contains('marcus garvey park')] = 'marcus garvey park'\n",
    "    series[series.str.contains('marie curie')] = 'marie curie park'\n",
    "    series[series.str.contains('eastern parkway')] = 'eastern parkway malls'\n",
    "    series[series.str.contains('highbridge park')] = 'highbridge park'\n",
    "    series[series.str.contains(\"powell's cove\")] = \"powell's cove\"\n",
    "    series[series.str.contains(\"powells cove\")] = \"powell's cove\"\n",
    "    series[series.str.contains(\"randalls's island\")] = \"randalls's island park\"\n",
    "    series[series.str.contains(\"nicholas park\")] = \"st nicholas park\"\n",
    "    series[series.str.contains(\"clearview park\")] = \"clearview park\"\n",
    "    series[series.str.contains(\"dinapoly\")] = \"dinapoly plgd\"\n",
    "    series[series.str.contains(\"luna park\")] = \"luna park\"\n",
    "    series[series.str.contains(\"john jay\")] = \"john jay park\"\n",
    "    series[series.str.contains(\"cooper park\")] = \"cooper park\"\n",
    "    series[series.str.contains(\"joan of arc\")] = \"joan of arc island\"\n",
    "    series[series.str.contains(\"somers\")] = \"lincoln terrace park / arthur s. somers plgd\"\n",
    "    series[series.str.contains(\"lincoln ter\")] = \"lincoln terrace park / arthur s. somers plgd\"\n",
    "    series[series.str.contains(\"lindsay\")] = \"lindsay triangle\"\n",
    "    series[series.str.contains(\"saratoga square park\")] = \"saratoga park\"\n",
    "    series[series.str.contains(\"wayanda park\")] = \"wayanda park\"\n",
    "    series[series.str.contains(\"barrett\")] = \"barretto park\"\n",
    "    series[series.str.contains(\"baisley pond park\")] = \"baisley pond park\"\n",
    "    \n",
    "\n",
    "\n",
    "    series[series.str.contains('pool -')] = series[series.str.contains('pool -')].str.replace('pool -','').str.strip()\n",
    " \n",
    "    \n",
    "    return series\n"
   ]
  },
  {
   "cell_type": "code",
   "execution_count": 668,
   "metadata": {
    "collapsed": false
   },
   "outputs": [],
   "source": [
    "fuzzyNames['fuzz'] = cleanNames(fuzzyNames['Park Facility Name'])"
   ]
  },
  {
   "cell_type": "markdown",
   "metadata": {},
   "source": [
    "## Checking ontology"
   ]
  },
  {
   "cell_type": "code",
   "execution_count": 688,
   "metadata": {
    "collapsed": false
   },
   "outputs": [
    {
     "name": "stdout",
     "output_type": "stream",
     "text": [
      "60\n"
     ]
    },
    {
     "data": {
      "text/plain": [
       "350"
      ]
     },
     "execution_count": 688,
     "metadata": {},
     "output_type": "execute_result"
    }
   ],
   "source": [
    "x = fuzzyNames.merge(onto2, how='left', on='fuzz')\n",
    "\n",
    "print len(x[(pd.isnull(x.ParkID))&(x['Park Facility Name'].str.contains('park'))])\n",
    "z = x[(pd.isnull(x.ParkID))&(x['Park Facility Name'].str.contains('park'))].sort_values('fuzz')[['Park Facility Name','fuzz']]\n",
    "x[(pd.isnull(x.ParkID))].sort_values('fuzz')"
   ]
  },
  {
   "cell_type": "markdown",
   "metadata": {},
   "source": [
    "## Trying to Fuzzy_Match names"
   ]
  },
  {
   "cell_type": "code",
   "execution_count": 671,
   "metadata": {
    "collapsed": false
   },
   "outputs": [],
   "source": [
    "z['try'] = z.fuzz.apply(lambda x: process.extractOne(x, onto2.fuzz.tolist()))"
   ]
  },
  {
   "cell_type": "code",
   "execution_count": 672,
   "metadata": {
    "collapsed": false
   },
   "outputs": [
    {
     "data": {
      "text/html": [
       "<div>\n",
       "<table border=\"1\" class=\"dataframe\">\n",
       "  <thead>\n",
       "    <tr style=\"text-align: right;\">\n",
       "      <th></th>\n",
       "      <th>Park Facility Name</th>\n",
       "      <th>fuzz</th>\n",
       "      <th>try</th>\n",
       "      <th>ratio</th>\n",
       "      <th>name</th>\n",
       "    </tr>\n",
       "  </thead>\n",
       "  <tbody>\n",
       "    <tr>\n",
       "      <th>1951</th>\n",
       "      <td>wolfe's pond park</td>\n",
       "      <td>wolfe's pond park</td>\n",
       "      <td>(wolfes pond park, 97)</td>\n",
       "      <td>97</td>\n",
       "      <td>wolfes pond park</td>\n",
       "    </tr>\n",
       "    <tr>\n",
       "      <th>2008</th>\n",
       "      <td>j. hood wright park</td>\n",
       "      <td>j. hood wright park</td>\n",
       "      <td>(j hood wright park, 97)</td>\n",
       "      <td>97</td>\n",
       "      <td>j hood wright park</td>\n",
       "    </tr>\n",
       "    <tr>\n",
       "      <th>493</th>\n",
       "      <td>ferry point park</td>\n",
       "      <td>ferry point park</td>\n",
       "      <td>(ferry point park zone 1, 95)</td>\n",
       "      <td>95</td>\n",
       "      <td>ferry point park zone 1</td>\n",
       "    </tr>\n",
       "    <tr>\n",
       "      <th>794</th>\n",
       "      <td>richman echo park</td>\n",
       "      <td>richman echo park</td>\n",
       "      <td>(richman (echo) park upper, 95)</td>\n",
       "      <td>95</td>\n",
       "      <td>richman (echo) park upper</td>\n",
       "    </tr>\n",
       "    <tr>\n",
       "      <th>1931</th>\n",
       "      <td>paerdegat basin park</td>\n",
       "      <td>paerdegat basin park</td>\n",
       "      <td>(paerdegat park, 95)</td>\n",
       "      <td>95</td>\n",
       "      <td>paerdegat park</td>\n",
       "    </tr>\n",
       "    <tr>\n",
       "      <th>1324</th>\n",
       "      <td>ocean parkway malls</td>\n",
       "      <td>ocean parkway malls</td>\n",
       "      <td>(ocean parkway malls zone 1, 95)</td>\n",
       "      <td>95</td>\n",
       "      <td>ocean parkway malls zone 1</td>\n",
       "    </tr>\n",
       "    <tr>\n",
       "      <th>1989</th>\n",
       "      <td>mosholu parkway</td>\n",
       "      <td>mosholu parkway</td>\n",
       "      <td>(mosholu parkway zone 1, 95)</td>\n",
       "      <td>95</td>\n",
       "      <td>mosholu parkway zone 1</td>\n",
       "    </tr>\n",
       "    <tr>\n",
       "      <th>403</th>\n",
       "      <td>little bay park</td>\n",
       "      <td>little bay park</td>\n",
       "      <td>(little bay park zone 1, 95)</td>\n",
       "      <td>95</td>\n",
       "      <td>little bay park zone 1</td>\n",
       "    </tr>\n",
       "    <tr>\n",
       "      <th>1347</th>\n",
       "      <td>laurelton parkway</td>\n",
       "      <td>laurelton parkway</td>\n",
       "      <td>(laurelton parkway west, 95)</td>\n",
       "      <td>95</td>\n",
       "      <td>laurelton parkway west</td>\n",
       "    </tr>\n",
       "    <tr>\n",
       "      <th>786</th>\n",
       "      <td>pool - lasker in central park</td>\n",
       "      <td>lasker in central park</td>\n",
       "      <td>(pool - lasker in central park, 95)</td>\n",
       "      <td>95</td>\n",
       "      <td>pool - lasker in central park</td>\n",
       "    </tr>\n",
       "  </tbody>\n",
       "</table>\n",
       "</div>"
      ],
      "text/plain": [
       "                 Park Facility Name                    fuzz  \\\n",
       "1951              wolfe's pond park       wolfe's pond park   \n",
       "2008            j. hood wright park     j. hood wright park   \n",
       "493                ferry point park        ferry point park   \n",
       "794               richman echo park       richman echo park   \n",
       "1931           paerdegat basin park    paerdegat basin park   \n",
       "1324            ocean parkway malls     ocean parkway malls   \n",
       "1989                mosholu parkway         mosholu parkway   \n",
       "403                 little bay park         little bay park   \n",
       "1347              laurelton parkway       laurelton parkway   \n",
       "786   pool - lasker in central park  lasker in central park   \n",
       "\n",
       "                                      try  ratio  \\\n",
       "1951               (wolfes pond park, 97)     97   \n",
       "2008             (j hood wright park, 97)     97   \n",
       "493         (ferry point park zone 1, 95)     95   \n",
       "794       (richman (echo) park upper, 95)     95   \n",
       "1931                 (paerdegat park, 95)     95   \n",
       "1324     (ocean parkway malls zone 1, 95)     95   \n",
       "1989         (mosholu parkway zone 1, 95)     95   \n",
       "403          (little bay park zone 1, 95)     95   \n",
       "1347         (laurelton parkway west, 95)     95   \n",
       "786   (pool - lasker in central park, 95)     95   \n",
       "\n",
       "                               name  \n",
       "1951               wolfes pond park  \n",
       "2008             j hood wright park  \n",
       "493         ferry point park zone 1  \n",
       "794       richman (echo) park upper  \n",
       "1931                 paerdegat park  \n",
       "1324     ocean parkway malls zone 1  \n",
       "1989         mosholu parkway zone 1  \n",
       "403          little bay park zone 1  \n",
       "1347         laurelton parkway west  \n",
       "786   pool - lasker in central park  "
      ]
     },
     "execution_count": 672,
     "metadata": {},
     "output_type": "execute_result"
    }
   ],
   "source": [
    "z['ratio'] = z['try'].str.get(1)\n",
    "z['name'] = z['try'].str.get(0)\n",
    "z.sort_values('ratio',ascending=0).head(10)"
   ]
  },
  {
   "cell_type": "markdown",
   "metadata": {},
   "source": [
    "## creating Ontology File"
   ]
  },
  {
   "cell_type": "code",
   "execution_count": 674,
   "metadata": {
    "collapsed": false
   },
   "outputs": [],
   "source": [
    "ontology =  onto2.merge(fuzzyNames, how='left', on='fuzz')"
   ]
  },
  {
   "cell_type": "code",
   "execution_count": 678,
   "metadata": {
    "collapsed": false
   },
   "outputs": [
    {
     "data": {
      "text/html": [
       "<div>\n",
       "<table border=\"1\" class=\"dataframe\">\n",
       "  <thead>\n",
       "    <tr style=\"text-align: right;\">\n",
       "      <th></th>\n",
       "      <th>Name</th>\n",
       "      <th>ParkID</th>\n",
       "      <th>type</th>\n",
       "      <th>fuzz</th>\n",
       "    </tr>\n",
       "  </thead>\n",
       "  <tbody>\n",
       "    <tr>\n",
       "      <th>0</th>\n",
       "      <td>prospect park</td>\n",
       "      <td>[B073-02D, B073-02, B073-10, B073-20, B073-09,...</td>\n",
       "      <td>abstr</td>\n",
       "      <td>prospect park - east parade grounds</td>\n",
       "    </tr>\n",
       "    <tr>\n",
       "      <th>1</th>\n",
       "      <td>prospect park</td>\n",
       "      <td>[B073-02D, B073-02, B073-10, B073-20, B073-09,...</td>\n",
       "      <td>abstr</td>\n",
       "      <td>prospect park - grand army plaza</td>\n",
       "    </tr>\n",
       "    <tr>\n",
       "      <th>2</th>\n",
       "      <td>prospect park</td>\n",
       "      <td>[B073-02D, B073-02, B073-10, B073-20, B073-09,...</td>\n",
       "      <td>abstr</td>\n",
       "      <td>mt prospect park</td>\n",
       "    </tr>\n",
       "    <tr>\n",
       "      <th>3</th>\n",
       "      <td>prospect park</td>\n",
       "      <td>[B073-02D, B073-02, B073-10, B073-20, B073-09,...</td>\n",
       "      <td>abstr</td>\n",
       "      <td>prospect park</td>\n",
       "    </tr>\n",
       "    <tr>\n",
       "      <th>4</th>\n",
       "      <td>prospect park</td>\n",
       "      <td>[B073-02D, B073-02, B073-10, B073-20, B073-09,...</td>\n",
       "      <td>abstr</td>\n",
       "      <td>prospect park - harmony playground</td>\n",
       "    </tr>\n",
       "  </tbody>\n",
       "</table>\n",
       "</div>"
      ],
      "text/plain": [
       "            Name                                             ParkID   type  \\\n",
       "0  prospect park  [B073-02D, B073-02, B073-10, B073-20, B073-09,...  abstr   \n",
       "1  prospect park  [B073-02D, B073-02, B073-10, B073-20, B073-09,...  abstr   \n",
       "2  prospect park  [B073-02D, B073-02, B073-10, B073-20, B073-09,...  abstr   \n",
       "3  prospect park  [B073-02D, B073-02, B073-10, B073-20, B073-09,...  abstr   \n",
       "4  prospect park  [B073-02D, B073-02, B073-10, B073-20, B073-09,...  abstr   \n",
       "\n",
       "                                  fuzz  \n",
       "0  prospect park - east parade grounds  \n",
       "1     prospect park - grand army plaza  \n",
       "2                     mt prospect park  \n",
       "3                        prospect park  \n",
       "4   prospect park - harmony playground  "
      ]
     },
     "execution_count": 678,
     "metadata": {},
     "output_type": "execute_result"
    }
   ],
   "source": [
    "ontology.head()"
   ]
  },
  {
   "cell_type": "code",
   "execution_count": 677,
   "metadata": {
    "collapsed": false
   },
   "outputs": [],
   "source": [
    "ontology[['Name','ParkID','type','fuzz']].to_csv(PARQA + 'parqa/311/ONTOLOGY/ontology_districts.csv', encoding='utf8')"
   ]
  },
  {
   "cell_type": "code",
   "execution_count": 681,
   "metadata": {
    "collapsed": false
   },
   "outputs": [],
   "source": [
    "calls2['Park Facility Name']  = cleanNames(calls2['Park Facility Name'])\n",
    "calls3 = calls2.merge(onto2.rename(columns={'fuzz':'Park Facility Name'}), on='Park Facility Name',how='left')"
   ]
  },
  {
   "cell_type": "code",
   "execution_count": 683,
   "metadata": {
    "collapsed": false
   },
   "outputs": [
    {
     "name": "stdout",
     "output_type": "stream",
     "text": [
      "75212\n",
      "6841\n"
     ]
    }
   ],
   "source": [
    "print len(calls3)\n",
    "print len(calls3[pd.isnull(calls3.type)])"
   ]
  },
  {
   "cell_type": "code",
   "execution_count": 684,
   "metadata": {
    "collapsed": false
   },
   "outputs": [],
   "source": [
    "calls3[calls3.Descriptor == 'Garbage or Litter'].to_csv(PARQA + 'data/311/311_rPID_litter.csv')\n",
    "calls3.to_csv(PARQA + 'data/311/311_rPID_all.csv')"
   ]
  },
  {
   "cell_type": "code",
   "execution_count": null,
   "metadata": {
    "collapsed": true
   },
   "outputs": [],
   "source": []
  }
 ],
 "metadata": {
  "kernelspec": {
   "display_name": "Python 2",
   "language": "python",
   "name": "python2"
  },
  "language_info": {
   "codemirror_mode": {
    "name": "ipython",
    "version": 2
   },
   "file_extension": ".py",
   "mimetype": "text/x-python",
   "name": "python",
   "nbconvert_exporter": "python",
   "pygments_lexer": "ipython2",
   "version": "2.7.10"
  }
 },
 "nbformat": 4,
 "nbformat_minor": 0
}
