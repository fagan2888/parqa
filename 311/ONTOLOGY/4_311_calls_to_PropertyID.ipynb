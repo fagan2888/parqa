{
 "cells": [
  {
   "cell_type": "markdown",
   "metadata": {},
   "source": [
    "## How it works:\n",
    "\n",
    "1. we read DPR calls\n",
    "2. we split them into geolocated and name-located\n",
    "3. for geolocated, we spatially join them with park property, and give them property name.\n",
    "4. after that, we join two groups back and create a list of unique names - **fuzzyNames**\n",
    "5. Now, we read database of properties, and for each record convert it's Proprty ID into list with one Property ID\n",
    "6. We also create empirically defined dataframe of large parks, containing more than one property. For each park, we pass list of properties instead of one. Now we join two dataframes together in **prop2**: each record have *type* attribute, showing if this was a record from original database of homebrewed one\n",
    "7. At this point, we use ontology we did before (ontology for Districts). We load this ontology,  "
   ]
  },
  {
   "cell_type": "code",
   "execution_count": 108,
   "metadata": {
    "collapsed": false
   },
   "outputs": [
    {
     "name": "stdout",
     "output_type": "stream",
     "text": [
      "Populating the interactive namespace from numpy and matplotlib\n"
     ]
    },
    {
     "name": "stderr",
     "output_type": "stream",
     "text": [
      "WARNING: pylab import has clobbered these variables: ['plt', 'random']\n",
      "`%matplotlib` prevents importing * from pylab and numpy\n"
     ]
    }
   ],
   "source": [
    "__author__ = \"me\"\n",
    "__date__ = \"2015_10_13\"\n",
    "\n",
    "%pylab inline\n",
    "import pandas as pd\n",
    "import geopandas as gp\n",
    "import numpy as np\n",
    "import random\n",
    "\n",
    "import pylab as plt\n",
    "import os\n",
    "\n",
    "from geopandas.tools import sjoin\n",
    "from shapely.geometry import Point\n",
    "\n",
    "from fuzzywuzzy import process\n",
    "\n",
    "import requests\n",
    "try:\n",
    "    s = requests.get(\"https://raw.githubusercontent.com/Casyfill/CUSP_templates/master/Py/fbMatplotlibrc.json\").json()\n",
    "    plt.rcParams.update(s)\n",
    "except:\n",
    "    pass\n",
    "\n",
    "\n",
    "numpy.random.seed(2015)\n",
    "\n",
    "PARQA = os.getenv('PARQA')"
   ]
  },
  {
   "cell_type": "markdown",
   "metadata": {},
   "source": [
    "## Split calls to named and geolocated"
   ]
  },
  {
   "cell_type": "code",
   "execution_count": 109,
   "metadata": {
    "collapsed": false
   },
   "outputs": [],
   "source": [
    "calls = pd.read_csv(PARQA + 'data/311/311DPR.csv', encoding='utf8', na_values='Unspecified')"
   ]
  },
  {
   "cell_type": "code",
   "execution_count": 110,
   "metadata": {
    "collapsed": false
   },
   "outputs": [
    {
     "name": "stderr",
     "output_type": "stream",
     "text": [
      "/Users/casy/anaconda/lib/python2.7/site-packages/ipykernel/__main__.py:2: SettingWithCopyWarning: \n",
      "A value is trying to be set on a copy of a slice from a DataFrame.\n",
      "Try using .loc[row_indexer,col_indexer] = value instead\n",
      "\n",
      "See the caveats in the documentation: http://pandas.pydata.org/pandas-docs/stable/indexing.html#indexing-view-versus-copy\n",
      "  from ipykernel import kernelapp as app\n"
     ]
    }
   ],
   "source": [
    "myCalls = calls[['Park Facility Name','Descriptor','Created Date','Closed Date','Longitude','Latitude','Location Type', 'Complaint Type']]\n",
    "myCalls['Park Facility Name'] = myCalls['Park Facility Name'].str.lower()\n",
    "myCalls['Park Facility Name'].head()\n",
    "\n",
    "\n",
    "namedCalls = myCalls[pd.notnull(myCalls['Park Facility Name'])]\n",
    "geoCalls = myCalls[(pd.isnull(myCalls['Park Facility Name'])) & (pd.notnull(myCalls.Latitude))]"
   ]
  },
  {
   "cell_type": "code",
   "execution_count": 111,
   "metadata": {
    "collapsed": false
   },
   "outputs": [
    {
     "data": {
      "text/html": [
       "<div>\n",
       "<table border=\"1\" class=\"dataframe\">\n",
       "  <thead>\n",
       "    <tr style=\"text-align: right;\">\n",
       "      <th></th>\n",
       "      <th>Park Facility Name</th>\n",
       "      <th>Descriptor</th>\n",
       "      <th>Created Date</th>\n",
       "      <th>Closed Date</th>\n",
       "      <th>Longitude</th>\n",
       "      <th>Latitude</th>\n",
       "      <th>Location Type</th>\n",
       "      <th>Complaint Type</th>\n",
       "    </tr>\n",
       "  </thead>\n",
       "  <tbody>\n",
       "    <tr>\n",
       "      <th>0</th>\n",
       "      <td>NaN</td>\n",
       "      <td>Snow or Ice</td>\n",
       "      <td>12/31/2010 09:04:48 PM</td>\n",
       "      <td>01/03/2011 12:03:59 PM</td>\n",
       "      <td>-73.931120</td>\n",
       "      <td>40.668798</td>\n",
       "      <td>Park</td>\n",
       "      <td>Maintenance or Facility</td>\n",
       "    </tr>\n",
       "    <tr>\n",
       "      <th>3</th>\n",
       "      <td>NaN</td>\n",
       "      <td>Snow or Ice</td>\n",
       "      <td>12/31/2010 03:36:37 PM</td>\n",
       "      <td>01/03/2011 09:41:24 AM</td>\n",
       "      <td>-73.962835</td>\n",
       "      <td>40.688556</td>\n",
       "      <td>Park</td>\n",
       "      <td>Maintenance or Facility</td>\n",
       "    </tr>\n",
       "    <tr>\n",
       "      <th>4</th>\n",
       "      <td>NaN</td>\n",
       "      <td>Snow or Ice</td>\n",
       "      <td>12/31/2010 03:03:16 PM</td>\n",
       "      <td>01/03/2011 12:15:38 PM</td>\n",
       "      <td>-73.999809</td>\n",
       "      <td>40.636935</td>\n",
       "      <td>Park</td>\n",
       "      <td>Maintenance or Facility</td>\n",
       "    </tr>\n",
       "    <tr>\n",
       "      <th>6</th>\n",
       "      <td>NaN</td>\n",
       "      <td>Snow or Ice</td>\n",
       "      <td>12/31/2010 12:59:59 PM</td>\n",
       "      <td>01/03/2011 12:23:04 PM</td>\n",
       "      <td>-73.999456</td>\n",
       "      <td>40.609951</td>\n",
       "      <td>Park</td>\n",
       "      <td>Maintenance or Facility</td>\n",
       "    </tr>\n",
       "    <tr>\n",
       "      <th>7</th>\n",
       "      <td>NaN</td>\n",
       "      <td>Snow or Ice</td>\n",
       "      <td>12/31/2010 12:12:02 PM</td>\n",
       "      <td>01/03/2011 12:19:51 PM</td>\n",
       "      <td>-73.977616</td>\n",
       "      <td>40.633153</td>\n",
       "      <td>Park</td>\n",
       "      <td>Maintenance or Facility</td>\n",
       "    </tr>\n",
       "  </tbody>\n",
       "</table>\n",
       "</div>"
      ],
      "text/plain": [
       "  Park Facility Name   Descriptor            Created Date  \\\n",
       "0                NaN  Snow or Ice  12/31/2010 09:04:48 PM   \n",
       "3                NaN  Snow or Ice  12/31/2010 03:36:37 PM   \n",
       "4                NaN  Snow or Ice  12/31/2010 03:03:16 PM   \n",
       "6                NaN  Snow or Ice  12/31/2010 12:59:59 PM   \n",
       "7                NaN  Snow or Ice  12/31/2010 12:12:02 PM   \n",
       "\n",
       "              Closed Date  Longitude   Latitude Location Type  \\\n",
       "0  01/03/2011 12:03:59 PM -73.931120  40.668798          Park   \n",
       "3  01/03/2011 09:41:24 AM -73.962835  40.688556          Park   \n",
       "4  01/03/2011 12:15:38 PM -73.999809  40.636935          Park   \n",
       "6  01/03/2011 12:23:04 PM -73.999456  40.609951          Park   \n",
       "7  01/03/2011 12:19:51 PM -73.977616  40.633153          Park   \n",
       "\n",
       "            Complaint Type  \n",
       "0  Maintenance or Facility  \n",
       "3  Maintenance or Facility  \n",
       "4  Maintenance or Facility  \n",
       "6  Maintenance or Facility  \n",
       "7  Maintenance or Facility  "
      ]
     },
     "execution_count": 111,
     "metadata": {},
     "output_type": "execute_result"
    }
   ],
   "source": [
    "geoCalls.head()"
   ]
  },
  {
   "cell_type": "markdown",
   "metadata": {},
   "source": [
    "## GeoCalls: spatial join with parks to get parkName"
   ]
  },
  {
   "cell_type": "code",
   "execution_count": 112,
   "metadata": {
    "collapsed": true
   },
   "outputs": [],
   "source": [
    "parks = gp.read_file(PARQA + 'data/SHP/DPR_ParksProperties_001/DPR_ParksProperties_001.shp')[['geometry','SIGNNAME']]"
   ]
  },
  {
   "cell_type": "code",
   "execution_count": 6,
   "metadata": {
    "collapsed": false
   },
   "outputs": [
    {
     "data": {
      "text/plain": [
       "Index([u'geometry', u'SIGNNAME'], dtype='object')"
      ]
     },
     "execution_count": 6,
     "metadata": {},
     "output_type": "execute_result"
    }
   ],
   "source": [
    "parks.columns"
   ]
  },
  {
   "cell_type": "code",
   "execution_count": 7,
   "metadata": {
    "collapsed": true
   },
   "outputs": [],
   "source": [
    "def toGeoDataFrame(df, lat='Latitude',lon='Longitude'):\n",
    "    '''dataframe to geodataframe'''\n",
    "    df['geometry'] = df.apply(lambda z: Point(z[lon], z[lat]), axis=1)\n",
    "    df = gp.GeoDataFrame(df)\n",
    "    df.crs = {'init': 'epsg:4326', 'no_defs': True}\n",
    "    return df "
   ]
  },
  {
   "cell_type": "code",
   "execution_count": 8,
   "metadata": {
    "collapsed": false
   },
   "outputs": [
    {
     "name": "stderr",
     "output_type": "stream",
     "text": [
      "/Users/casy/anaconda/lib/python2.7/site-packages/ipykernel/__main__.py:3: SettingWithCopyWarning: \n",
      "A value is trying to be set on a copy of a slice from a DataFrame.\n",
      "Try using .loc[row_indexer,col_indexer] = value instead\n",
      "\n",
      "See the caveats in the documentation: http://pandas.pydata.org/pandas-docs/stable/indexing.html#indexing-view-versus-copy\n",
      "  app.launch_new_instance()\n"
     ]
    }
   ],
   "source": [
    "geoCalls = toGeoDataFrame(geoCalls).to_crs(parks.crs)"
   ]
  },
  {
   "cell_type": "code",
   "execution_count": 9,
   "metadata": {
    "collapsed": false
   },
   "outputs": [],
   "source": [
    "geoCalls = sjoin(geoCalls, parks, how=\"left\").to_crs(epsg=4326)"
   ]
  },
  {
   "cell_type": "code",
   "execution_count": 10,
   "metadata": {
    "collapsed": false
   },
   "outputs": [],
   "source": [
    "geoCalls = geoCalls[pd.notnull(geoCalls.SIGNNAME)]\n",
    "geoCalls['Park Facility Name'] = geoCalls['SIGNNAME']\n",
    "geoCalls = geoCalls[['Park Facility Name','Descriptor','Created Date','Closed Date','Longitude','Latitude','Location Type', 'Complaint Type']]"
   ]
  },
  {
   "cell_type": "code",
   "execution_count": 113,
   "metadata": {
    "collapsed": false
   },
   "outputs": [],
   "source": [
    "calls2 = pd.concat([namedCalls, geoCalls])"
   ]
  },
  {
   "cell_type": "code",
   "execution_count": 114,
   "metadata": {
    "collapsed": false
   },
   "outputs": [
    {
     "data": {
      "text/html": [
       "<div>\n",
       "<table border=\"1\" class=\"dataframe\">\n",
       "  <thead>\n",
       "    <tr style=\"text-align: right;\">\n",
       "      <th></th>\n",
       "      <th>Park Facility Name</th>\n",
       "      <th>Descriptor</th>\n",
       "      <th>Created Date</th>\n",
       "      <th>Closed Date</th>\n",
       "      <th>Longitude</th>\n",
       "      <th>Latitude</th>\n",
       "      <th>Location Type</th>\n",
       "      <th>Complaint Type</th>\n",
       "    </tr>\n",
       "  </thead>\n",
       "  <tbody>\n",
       "    <tr>\n",
       "      <th>1</th>\n",
       "      <td>geo soilan park - battery park city</td>\n",
       "      <td>Graffiti or Vandalism</td>\n",
       "      <td>12/31/2010 04:31:52 PM</td>\n",
       "      <td>12/31/2010 05:36:58 PM</td>\n",
       "      <td>NaN</td>\n",
       "      <td>NaN</td>\n",
       "      <td>Park</td>\n",
       "      <td>Maintenance or Facility</td>\n",
       "    </tr>\n",
       "    <tr>\n",
       "      <th>2</th>\n",
       "      <td>brookville park</td>\n",
       "      <td>Snow or Ice</td>\n",
       "      <td>12/31/2010 04:17:22 PM</td>\n",
       "      <td>01/06/2011 08:58:30 AM</td>\n",
       "      <td>NaN</td>\n",
       "      <td>NaN</td>\n",
       "      <td>Park</td>\n",
       "      <td>Maintenance or Facility</td>\n",
       "    </tr>\n",
       "    <tr>\n",
       "      <th>5</th>\n",
       "      <td>highland park</td>\n",
       "      <td>Snow or Ice</td>\n",
       "      <td>12/31/2010 02:57:34 PM</td>\n",
       "      <td>01/03/2011 11:31:26 AM</td>\n",
       "      <td>NaN</td>\n",
       "      <td>NaN</td>\n",
       "      <td>Park</td>\n",
       "      <td>Maintenance or Facility</td>\n",
       "    </tr>\n",
       "    <tr>\n",
       "      <th>10</th>\n",
       "      <td>prospect park - east parade grounds</td>\n",
       "      <td>Dead Animal</td>\n",
       "      <td>12/31/2010 11:26:34 AM</td>\n",
       "      <td>01/03/2011 11:12:37 AM</td>\n",
       "      <td>NaN</td>\n",
       "      <td>NaN</td>\n",
       "      <td>Park</td>\n",
       "      <td>Animal in a Park</td>\n",
       "    </tr>\n",
       "    <tr>\n",
       "      <th>11</th>\n",
       "      <td>central park - east 96th street playground</td>\n",
       "      <td>Snow or Ice</td>\n",
       "      <td>12/31/2010 11:18:31 AM</td>\n",
       "      <td>01/04/2011 12:11:02 PM</td>\n",
       "      <td>NaN</td>\n",
       "      <td>NaN</td>\n",
       "      <td>Park</td>\n",
       "      <td>Maintenance or Facility</td>\n",
       "    </tr>\n",
       "  </tbody>\n",
       "</table>\n",
       "</div>"
      ],
      "text/plain": [
       "                            Park Facility Name             Descriptor  \\\n",
       "1          geo soilan park - battery park city  Graffiti or Vandalism   \n",
       "2                              brookville park            Snow or Ice   \n",
       "5                                highland park            Snow or Ice   \n",
       "10         prospect park - east parade grounds            Dead Animal   \n",
       "11  central park - east 96th street playground            Snow or Ice   \n",
       "\n",
       "              Created Date             Closed Date  Longitude  Latitude  \\\n",
       "1   12/31/2010 04:31:52 PM  12/31/2010 05:36:58 PM        NaN       NaN   \n",
       "2   12/31/2010 04:17:22 PM  01/06/2011 08:58:30 AM        NaN       NaN   \n",
       "5   12/31/2010 02:57:34 PM  01/03/2011 11:31:26 AM        NaN       NaN   \n",
       "10  12/31/2010 11:26:34 AM  01/03/2011 11:12:37 AM        NaN       NaN   \n",
       "11  12/31/2010 11:18:31 AM  01/04/2011 12:11:02 PM        NaN       NaN   \n",
       "\n",
       "   Location Type           Complaint Type  \n",
       "1           Park  Maintenance or Facility  \n",
       "2           Park  Maintenance or Facility  \n",
       "5           Park  Maintenance or Facility  \n",
       "10          Park         Animal in a Park  \n",
       "11          Park  Maintenance or Facility  "
      ]
     },
     "execution_count": 114,
     "metadata": {},
     "output_type": "execute_result"
    }
   ],
   "source": [
    "calls2.head()"
   ]
  },
  {
   "cell_type": "code",
   "execution_count": 115,
   "metadata": {
    "collapsed": false
   },
   "outputs": [
    {
     "data": {
      "text/plain": [
       "(79058, 8)"
      ]
     },
     "execution_count": 115,
     "metadata": {},
     "output_type": "execute_result"
    }
   ],
   "source": [
    "calls2.shape"
   ]
  },
  {
   "cell_type": "markdown",
   "metadata": {},
   "source": [
    "## Now match those names"
   ]
  },
  {
   "cell_type": "code",
   "execution_count": 116,
   "metadata": {
    "collapsed": false
   },
   "outputs": [],
   "source": [
    "calls2['Park Facility Name'] = calls2['Park Facility Name'].str.lower()"
   ]
  },
  {
   "cell_type": "code",
   "execution_count": 149,
   "metadata": {
    "collapsed": false
   },
   "outputs": [],
   "source": [
    "fuzzyNames = pd.DataFrame(calls2['Park Facility Name'].unique())\n",
    "\n",
    "fuzzyNames['try'] = 'try'\n",
    "fuzzyNames.rename(columns={0:'Park Facility Name'}, inplace=1)"
   ]
  },
  {
   "cell_type": "markdown",
   "metadata": {},
   "source": [
    "## ParkID"
   ]
  },
  {
   "cell_type": "code",
   "execution_count": 118,
   "metadata": {
    "collapsed": true
   },
   "outputs": [],
   "source": [
    "prop = pd.read_excel(PARQA + 'data/Input/Parks_Data/CUSP_Adjusted_Spatial_Data.xlsx')[['ParkID','Name']]\n",
    "prop = prop.dropna()\n",
    "prop.Name = prop.Name.str.lower()\n",
    "prop['type']='pid'"
   ]
  },
  {
   "cell_type": "code",
   "execution_count": 119,
   "metadata": {
    "collapsed": true
   },
   "outputs": [],
   "source": [
    "def trySplit(x, spl='-'):\n",
    "    '''get rid of addons'''\n",
    "    if spl in x:\n",
    "        return x.split(spl)[0].strip()\n",
    "    else:\n",
    "        return x"
   ]
  },
  {
   "cell_type": "code",
   "execution_count": 171,
   "metadata": {
    "collapsed": false
   },
   "outputs": [
    {
     "data": {
      "text/html": [
       "<div>\n",
       "<table border=\"1\" class=\"dataframe\">\n",
       "  <thead>\n",
       "    <tr style=\"text-align: right;\">\n",
       "      <th></th>\n",
       "      <th>ParkID</th>\n",
       "      <th>Name</th>\n",
       "      <th>type</th>\n",
       "    </tr>\n",
       "  </thead>\n",
       "  <tbody>\n",
       "    <tr>\n",
       "      <th>457</th>\n",
       "      <td>[M029-ZN01]</td>\n",
       "      <td>fort tryon park zone 1</td>\n",
       "      <td>pid</td>\n",
       "    </tr>\n",
       "    <tr>\n",
       "      <th>458</th>\n",
       "      <td>[M029-ZN02]</td>\n",
       "      <td>fort tryon park zone 2</td>\n",
       "      <td>pid</td>\n",
       "    </tr>\n",
       "    <tr>\n",
       "      <th>459</th>\n",
       "      <td>[M029-ZN03]</td>\n",
       "      <td>fort tryon park zone 3</td>\n",
       "      <td>pid</td>\n",
       "    </tr>\n",
       "    <tr>\n",
       "      <th>460</th>\n",
       "      <td>[M029-ZN04]</td>\n",
       "      <td>fort tryon park zone 4</td>\n",
       "      <td>pid</td>\n",
       "    </tr>\n",
       "    <tr>\n",
       "      <th>461</th>\n",
       "      <td>[M029-ZN05]</td>\n",
       "      <td>fort tryon park zone 5</td>\n",
       "      <td>pid</td>\n",
       "    </tr>\n",
       "    <tr>\n",
       "      <th>462</th>\n",
       "      <td>[M029-ZN06]</td>\n",
       "      <td>fort tryon park zone 6</td>\n",
       "      <td>pid</td>\n",
       "    </tr>\n",
       "  </tbody>\n",
       "</table>\n",
       "</div>"
      ],
      "text/plain": [
       "          ParkID                    Name type\n",
       "457  [M029-ZN01]  fort tryon park zone 1  pid\n",
       "458  [M029-ZN02]  fort tryon park zone 2  pid\n",
       "459  [M029-ZN03]  fort tryon park zone 3  pid\n",
       "460  [M029-ZN04]  fort tryon park zone 4  pid\n",
       "461  [M029-ZN05]  fort tryon park zone 5  pid\n",
       "462  [M029-ZN06]  fort tryon park zone 6  pid"
      ]
     },
     "execution_count": 171,
     "metadata": {},
     "output_type": "execute_result"
    }
   ],
   "source": [
    "prop[prop.Name.str.contains('fort tryon park')]"
   ]
  },
  {
   "cell_type": "code",
   "execution_count": 120,
   "metadata": {
    "collapsed": false
   },
   "outputs": [],
   "source": [
    "### empirical dictionary\n",
    "\n",
    "d = [\n",
    "    {'ParkID':'B073','type':'abstr','Name': 'prospect park'},\n",
    "    {'ParkID':'M010','type':'abstr','Name': 'central park'},\n",
    "    {'ParkID':'Q004','type':'abstr','Name': 'astoria park'},\n",
    "    {'ParkID':'X010','type':'abstr','Name': 'crotona park'},\n",
    "    {'ParkID':'Q162','type':'abstr', 'Name': 'rockaway beach boardwalk'},\n",
    "    {'ParkID':'M014','type':'abstr', 'Name': 'jackie robinson park'},\n",
    "    {'ParkID':'M028','type':'abstr', 'Name': 'fort washington park'},\n",
    "    {'ParkID':'M037','type':'abstr', 'Name': 'highbridge park'},\n",
    "    {'ParkID':'M098','type':'abstr', 'Name': 'washington square park'},\n",
    "    {'ParkID':'M105','type':'abstr', 'Name': 'sara d. roosevelt park'},\n",
    "    {'ParkID':'M107','type':'abstr', 'Name': \"hell's kitchen park\"},\n",
    "    {'ParkID':'M283','type':'abstr', 'Name': 'battery park city'},\n",
    "    {'ParkID':'Q001','type':'abstr', 'Name': 'alley pond park'},\n",
    "    {'ParkID':'Q005','type':'abstr', 'Name': 'baisley pond park'},\n",
    "    {'ParkID':'Q009','type':'abstr', 'Name': 'macneil park'},\n",
    "    {'ParkID':'Q012','type':'abstr', 'Name': 'crocheron park'},\n",
    "    {'ParkID':'Q020','type':'abstr', 'Name': 'highland park'},\n",
    "    {'ParkID':'Q021','type':'abstr', 'Name': 'cunningham park'},\n",
    "    {'ParkID':'Q024','type':'abstr', 'Name': 'kissena park'},\n",
    "    {'ParkID':'Q102','type':'abstr', 'Name': 'juniper valley park'},\n",
    "    {'ParkID':'R129','type':'abstr', 'Name': 'greenbelt native plant center'},\n",
    "    {'ParkID':'B058','type':'abstr', 'Name': 'mccarren park'},\n",
    "    {'ParkID':'M071','type':'abstr', 'Name': 'riverside park'},\n",
    "    {'ParkID':'M360','type':'abstr', 'Name': 'the high line'},\n",
    "    {'ParkID':'X001','type':'abstr', 'Name': 'aqueduct walk'},\n",
    "    {'ParkID':'X092','type':'abstr', 'Name': 'van cortlandt park'},\n",
    "    {'ParkID':'Q099','type':'abstr', 'Name': 'flushing meadows corona park'},\n",
    "    {'ParkID':'X039','type':'abstr', 'Name': 'pelham bay park'},\n",
    "    {'ParkID':'Q015','type':'abstr', 'Name': 'forest park'},\n",
    "    {'ParkID':'M042','type':'abstr', 'Name': 'inwood hill park'},\n",
    "    {'ParkID':'B057','type':'abstr', 'Name': 'marine park'},\n",
    "    {'ParkID':'B126','type':'abstr', 'Name': 'red hook park'},\n",
    "    {'ParkID':'Q300','type':'abstr', 'Name': 'kissena corridor park'},\n",
    "    {'ParkID':'X045','type':'abstr', 'Name': \"st mary's playground\"},\n",
    "    {'ParkID':'X002','type':'abstr', 'Name': \"bronx park\"},\n",
    "    {'ParkID':'M058','type':'abstr', 'Name': \"marcus garvey park\"},\n",
    "    {'ParkID':'B371','type':'abstr', 'Name': \"spring creek park\"},\n",
    "    {'ParkID':'B371','type':'abstr', 'Name': \"spring creek park\"},\n",
    "    {'ParkID':'X039','type':'abstr', 'Name': \"orchard beach and promenade\"},\n",
    "    {'ParkID':'M029','type':'abstr', 'Name': \"fort tryon park\"}\n",
    "    \n",
    "] \n",
    "\n",
    "abstr = pd.DataFrame(d)"
   ]
  },
  {
   "cell_type": "code",
   "execution_count": 121,
   "metadata": {
    "collapsed": false
   },
   "outputs": [],
   "source": [
    "def getIDList(ID):\n",
    "    '''get list of pID for this park'''\n",
    "    return prop.ParkID[prop.ParkID.str.startswith(ID)].tolist()"
   ]
  },
  {
   "cell_type": "code",
   "execution_count": 122,
   "metadata": {
    "collapsed": true
   },
   "outputs": [],
   "source": [
    "abstr.ParkID = abstr.ParkID.apply(getIDList)"
   ]
  },
  {
   "cell_type": "code",
   "execution_count": 123,
   "metadata": {
    "collapsed": false
   },
   "outputs": [],
   "source": [
    "prop.ParkID = prop.ParkID.apply(lambda x: [x])"
   ]
  },
  {
   "cell_type": "code",
   "execution_count": 124,
   "metadata": {
    "collapsed": false
   },
   "outputs": [
    {
     "data": {
      "text/html": [
       "<div>\n",
       "<table border=\"1\" class=\"dataframe\">\n",
       "  <thead>\n",
       "    <tr style=\"text-align: right;\">\n",
       "      <th></th>\n",
       "      <th>ParkID</th>\n",
       "      <th>Name</th>\n",
       "      <th>type</th>\n",
       "    </tr>\n",
       "  </thead>\n",
       "  <tbody>\n",
       "    <tr>\n",
       "      <th>0</th>\n",
       "      <td>[M058-07]</td>\n",
       "      <td>marcus garvey memorial park</td>\n",
       "      <td>pid</td>\n",
       "    </tr>\n",
       "    <tr>\n",
       "      <th>1</th>\n",
       "      <td>[M058-06]</td>\n",
       "      <td>marcus garvey memorial park</td>\n",
       "      <td>pid</td>\n",
       "    </tr>\n",
       "    <tr>\n",
       "      <th>2</th>\n",
       "      <td>[M058-01]</td>\n",
       "      <td>mt. morris east</td>\n",
       "      <td>pid</td>\n",
       "    </tr>\n",
       "    <tr>\n",
       "      <th>3</th>\n",
       "      <td>[M047-03]</td>\n",
       "      <td>thomas jefferson park</td>\n",
       "      <td>pid</td>\n",
       "    </tr>\n",
       "    <tr>\n",
       "      <th>4</th>\n",
       "      <td>[M273-01]</td>\n",
       "      <td>othmar ammann playground</td>\n",
       "      <td>pid</td>\n",
       "    </tr>\n",
       "  </tbody>\n",
       "</table>\n",
       "</div>"
      ],
      "text/plain": [
       "      ParkID                         Name type\n",
       "0  [M058-07]  marcus garvey memorial park  pid\n",
       "1  [M058-06]  marcus garvey memorial park  pid\n",
       "2  [M058-01]              mt. morris east  pid\n",
       "3  [M047-03]        thomas jefferson park  pid\n",
       "4  [M273-01]     othmar ammann playground  pid"
      ]
     },
     "execution_count": 124,
     "metadata": {},
     "output_type": "execute_result"
    }
   ],
   "source": [
    "prop.head()"
   ]
  },
  {
   "cell_type": "code",
   "execution_count": 125,
   "metadata": {
    "collapsed": true
   },
   "outputs": [],
   "source": [
    "prop2 = pd.concat((prop, abstr))"
   ]
  },
  {
   "cell_type": "markdown",
   "metadata": {},
   "source": [
    "## Check how ontology works"
   ]
  },
  {
   "cell_type": "code",
   "execution_count": 155,
   "metadata": {
    "collapsed": false
   },
   "outputs": [
    {
     "data": {
      "text/html": [
       "<div>\n",
       "<table border=\"1\" class=\"dataframe\">\n",
       "  <thead>\n",
       "    <tr style=\"text-align: right;\">\n",
       "      <th></th>\n",
       "      <th>fuzname</th>\n",
       "      <th>Name</th>\n",
       "    </tr>\n",
       "  </thead>\n",
       "  <tbody>\n",
       "    <tr>\n",
       "      <th>0</th>\n",
       "      <td>geo soilan park - battery park city</td>\n",
       "      <td>battery park city</td>\n",
       "    </tr>\n",
       "    <tr>\n",
       "      <th>1</th>\n",
       "      <td>brookville park</td>\n",
       "      <td>brookville park</td>\n",
       "    </tr>\n",
       "  </tbody>\n",
       "</table>\n",
       "</div>"
      ],
      "text/plain": [
       "                               fuzname               Name\n",
       "0  geo soilan park - battery park city  battery park city\n",
       "1                      brookville park    brookville park"
      ]
     },
     "execution_count": 155,
     "metadata": {},
     "output_type": "execute_result"
    }
   ],
   "source": [
    "ontoMask = pd.read_csv(PARQA + 'parqa/311/ONTOLOGY/Ontology_districts.csv')[['cleanName','NAME']]\n",
    "ontoMask.rename(columns={'NAME':'Name','cleanName':'fuzname'}, inplace=1)\n",
    "ontoMask.head(2)"
   ]
  },
  {
   "cell_type": "code",
   "execution_count": 161,
   "metadata": {
    "collapsed": false
   },
   "outputs": [],
   "source": [
    "onto2 = prop2.merge(ontoMask, on='Name', how='left')\n",
    "onto2.fuzname[pd.isnull(onto2.fuzname)] = onto2.Name[pd.isnull(onto2.fuzname)]"
   ]
  },
  {
   "cell_type": "code",
   "execution_count": null,
   "metadata": {
    "collapsed": true
   },
   "outputs": [],
   "source": []
  },
  {
   "cell_type": "code",
   "execution_count": 162,
   "metadata": {
    "collapsed": false
   },
   "outputs": [],
   "source": [
    "### edit Onto\n",
    "onto2.fuzname[onto2.Name.str.contains('mccarren park')] = 'mccarren park'\n",
    "onto2.fuzname[onto2.fuzname.str.contains('hunt')] = 'hunts point riverside park'\n",
    "onto2.fuzname[onto2.fuzname.str.contains('waring')] = 'waring plgd'\n",
    "onto2.fuzname[onto2.fuzname.str.contains('red hook')] = 'red hook park'\n",
    "onto2.fuzname[onto2.fuzname.str.contains('rockaway beach and boardwalk')] = 'rockaway beach boardwalk'\n"
   ]
  },
  {
   "cell_type": "code",
   "execution_count": 163,
   "metadata": {
    "collapsed": false
   },
   "outputs": [
    {
     "data": {
      "text/html": [
       "<div>\n",
       "<table border=\"1\" class=\"dataframe\">\n",
       "  <thead>\n",
       "    <tr style=\"text-align: right;\">\n",
       "      <th></th>\n",
       "      <th>Name</th>\n",
       "      <th>ParkID</th>\n",
       "      <th>type</th>\n",
       "      <th>fuzname</th>\n",
       "    </tr>\n",
       "  </thead>\n",
       "  <tbody>\n",
       "    <tr>\n",
       "      <th>0</th>\n",
       "      <td>marcus garvey memorial park</td>\n",
       "      <td>[M058-07]</td>\n",
       "      <td>pid</td>\n",
       "      <td>marcus garvey playground</td>\n",
       "    </tr>\n",
       "    <tr>\n",
       "      <th>1</th>\n",
       "      <td>marcus garvey memorial park</td>\n",
       "      <td>[M058-06]</td>\n",
       "      <td>pid</td>\n",
       "      <td>marcus garvey playground</td>\n",
       "    </tr>\n",
       "    <tr>\n",
       "      <th>2</th>\n",
       "      <td>mt. morris east</td>\n",
       "      <td>[M058-01]</td>\n",
       "      <td>pid</td>\n",
       "      <td>mt. morris east</td>\n",
       "    </tr>\n",
       "    <tr>\n",
       "      <th>3</th>\n",
       "      <td>thomas jefferson park</td>\n",
       "      <td>[M047-03]</td>\n",
       "      <td>pid</td>\n",
       "      <td>thomas jefferson park</td>\n",
       "    </tr>\n",
       "    <tr>\n",
       "      <th>4</th>\n",
       "      <td>thomas jefferson park</td>\n",
       "      <td>[M047-03]</td>\n",
       "      <td>pid</td>\n",
       "      <td>recreation center - thomas jefferson</td>\n",
       "    </tr>\n",
       "  </tbody>\n",
       "</table>\n",
       "</div>"
      ],
      "text/plain": [
       "                          Name     ParkID type  \\\n",
       "0  marcus garvey memorial park  [M058-07]  pid   \n",
       "1  marcus garvey memorial park  [M058-06]  pid   \n",
       "2              mt. morris east  [M058-01]  pid   \n",
       "3        thomas jefferson park  [M047-03]  pid   \n",
       "4        thomas jefferson park  [M047-03]  pid   \n",
       "\n",
       "                                fuzname  \n",
       "0              marcus garvey playground  \n",
       "1              marcus garvey playground  \n",
       "2                       mt. morris east  \n",
       "3                 thomas jefferson park  \n",
       "4  recreation center - thomas jefferson  "
      ]
     },
     "execution_count": 163,
     "metadata": {},
     "output_type": "execute_result"
    }
   ],
   "source": [
    "onto2.head()"
   ]
  },
  {
   "cell_type": "code",
   "execution_count": 164,
   "metadata": {
    "collapsed": false
   },
   "outputs": [],
   "source": [
    "onto2.rename(inplace=1, columns={'fuzname':'Park Facility Name','newName':'Name'})"
   ]
  },
  {
   "cell_type": "markdown",
   "metadata": {},
   "source": [
    "## Checking ontology"
   ]
  },
  {
   "cell_type": "code",
   "execution_count": 169,
   "metadata": {
    "collapsed": false
   },
   "outputs": [
    {
     "data": {
      "text/html": [
       "<div>\n",
       "<table border=\"1\" class=\"dataframe\">\n",
       "  <thead>\n",
       "    <tr style=\"text-align: right;\">\n",
       "      <th></th>\n",
       "      <th>Park Facility Name</th>\n",
       "      <th>try</th>\n",
       "      <th>Name</th>\n",
       "      <th>ParkID</th>\n",
       "      <th>type</th>\n",
       "    </tr>\n",
       "  </thead>\n",
       "  <tbody>\n",
       "    <tr>\n",
       "      <th>1453</th>\n",
       "      <td>9th st community garden park</td>\n",
       "      <td>try</td>\n",
       "      <td>NaN</td>\n",
       "      <td>NaN</td>\n",
       "      <td>NaN</td>\n",
       "    </tr>\n",
       "    <tr>\n",
       "      <th>900</th>\n",
       "      <td>baisley pond park - 157th st playground</td>\n",
       "      <td>try</td>\n",
       "      <td>NaN</td>\n",
       "      <td>NaN</td>\n",
       "      <td>NaN</td>\n",
       "    </tr>\n",
       "    <tr>\n",
       "      <th>973</th>\n",
       "      <td>barrett park</td>\n",
       "      <td>try</td>\n",
       "      <td>NaN</td>\n",
       "      <td>NaN</td>\n",
       "      <td>NaN</td>\n",
       "    </tr>\n",
       "    <tr>\n",
       "      <th>994</th>\n",
       "      <td>bayview terrace park</td>\n",
       "      <td>try</td>\n",
       "      <td>NaN</td>\n",
       "      <td>NaN</td>\n",
       "      <td>NaN</td>\n",
       "    </tr>\n",
       "    <tr>\n",
       "      <th>302</th>\n",
       "      <td>bloomingdale park</td>\n",
       "      <td>try</td>\n",
       "      <td>NaN</td>\n",
       "      <td>NaN</td>\n",
       "      <td>NaN</td>\n",
       "    </tr>\n",
       "    <tr>\n",
       "      <th>965</th>\n",
       "      <td>bradhurst urban renewal park</td>\n",
       "      <td>try</td>\n",
       "      <td>NaN</td>\n",
       "      <td>NaN</td>\n",
       "      <td>NaN</td>\n",
       "    </tr>\n",
       "    <tr>\n",
       "      <th>416</th>\n",
       "      <td>bradys pond park</td>\n",
       "      <td>try</td>\n",
       "      <td>NaN</td>\n",
       "      <td>NaN</td>\n",
       "      <td>NaN</td>\n",
       "    </tr>\n",
       "    <tr>\n",
       "      <th>1310</th>\n",
       "      <td>breukelen park</td>\n",
       "      <td>try</td>\n",
       "      <td>NaN</td>\n",
       "      <td>NaN</td>\n",
       "      <td>NaN</td>\n",
       "    </tr>\n",
       "    <tr>\n",
       "      <th>241</th>\n",
       "      <td>bronx river park</td>\n",
       "      <td>try</td>\n",
       "      <td>NaN</td>\n",
       "      <td>NaN</td>\n",
       "      <td>NaN</td>\n",
       "    </tr>\n",
       "    <tr>\n",
       "      <th>1011</th>\n",
       "      <td>brooklyn bridge park</td>\n",
       "      <td>try</td>\n",
       "      <td>NaN</td>\n",
       "      <td>NaN</td>\n",
       "      <td>NaN</td>\n",
       "    </tr>\n",
       "    <tr>\n",
       "      <th>541</th>\n",
       "      <td>brooklyn bridge park - pier 1</td>\n",
       "      <td>try</td>\n",
       "      <td>NaN</td>\n",
       "      <td>NaN</td>\n",
       "      <td>NaN</td>\n",
       "    </tr>\n",
       "    <tr>\n",
       "      <th>1483</th>\n",
       "      <td>bunker ponds park</td>\n",
       "      <td>try</td>\n",
       "      <td>NaN</td>\n",
       "      <td>NaN</td>\n",
       "      <td>NaN</td>\n",
       "    </tr>\n",
       "    <tr>\n",
       "      <th>1307</th>\n",
       "      <td>cabbell park</td>\n",
       "      <td>try</td>\n",
       "      <td>NaN</td>\n",
       "      <td>NaN</td>\n",
       "      <td>NaN</td>\n",
       "    </tr>\n",
       "    <tr>\n",
       "      <th>1282</th>\n",
       "      <td>canarsie park - dinapoli playground</td>\n",
       "      <td>try</td>\n",
       "      <td>NaN</td>\n",
       "      <td>NaN</td>\n",
       "      <td>NaN</td>\n",
       "    </tr>\n",
       "    <tr>\n",
       "      <th>43</th>\n",
       "      <td>carl schurz park</td>\n",
       "      <td>try</td>\n",
       "      <td>NaN</td>\n",
       "      <td>NaN</td>\n",
       "      <td>NaN</td>\n",
       "    </tr>\n",
       "    <tr>\n",
       "      <th>1108</th>\n",
       "      <td>charles w cooke farm park</td>\n",
       "      <td>try</td>\n",
       "      <td>NaN</td>\n",
       "      <td>NaN</td>\n",
       "      <td>NaN</td>\n",
       "    </tr>\n",
       "    <tr>\n",
       "      <th>253</th>\n",
       "      <td>clearview park and golf course</td>\n",
       "      <td>try</td>\n",
       "      <td>NaN</td>\n",
       "      <td>NaN</td>\n",
       "      <td>NaN</td>\n",
       "    </tr>\n",
       "    <tr>\n",
       "      <th>398</th>\n",
       "      <td>clove lakes park</td>\n",
       "      <td>try</td>\n",
       "      <td>NaN</td>\n",
       "      <td>NaN</td>\n",
       "      <td>NaN</td>\n",
       "    </tr>\n",
       "    <tr>\n",
       "      <th>395</th>\n",
       "      <td>cloves lake park - wwii veterans war memorial ...</td>\n",
       "      <td>try</td>\n",
       "      <td>NaN</td>\n",
       "      <td>NaN</td>\n",
       "      <td>NaN</td>\n",
       "    </tr>\n",
       "    <tr>\n",
       "      <th>1548</th>\n",
       "      <td>collyer brothers park</td>\n",
       "      <td>try</td>\n",
       "      <td>NaN</td>\n",
       "      <td>NaN</td>\n",
       "      <td>NaN</td>\n",
       "    </tr>\n",
       "    <tr>\n",
       "      <th>975</th>\n",
       "      <td>cooper park - carnegie playground</td>\n",
       "      <td>try</td>\n",
       "      <td>NaN</td>\n",
       "      <td>NaN</td>\n",
       "      <td>NaN</td>\n",
       "    </tr>\n",
       "    <tr>\n",
       "      <th>1652</th>\n",
       "      <td>cozzens woods and long pond park</td>\n",
       "      <td>try</td>\n",
       "      <td>NaN</td>\n",
       "      <td>NaN</td>\n",
       "      <td>NaN</td>\n",
       "    </tr>\n",
       "    <tr>\n",
       "      <th>766</th>\n",
       "      <td>cunningham park - 210th st playground</td>\n",
       "      <td>try</td>\n",
       "      <td>NaN</td>\n",
       "      <td>NaN</td>\n",
       "      <td>NaN</td>\n",
       "    </tr>\n",
       "    <tr>\n",
       "      <th>1003</th>\n",
       "      <td>douglaston park</td>\n",
       "      <td>try</td>\n",
       "      <td>NaN</td>\n",
       "      <td>NaN</td>\n",
       "      <td>NaN</td>\n",
       "    </tr>\n",
       "    <tr>\n",
       "      <th>447</th>\n",
       "      <td>dyker beach park</td>\n",
       "      <td>try</td>\n",
       "      <td>NaN</td>\n",
       "      <td>NaN</td>\n",
       "      <td>NaN</td>\n",
       "    </tr>\n",
       "    <tr>\n",
       "      <th>1454</th>\n",
       "      <td>eastern parkway malls</td>\n",
       "      <td>try</td>\n",
       "      <td>NaN</td>\n",
       "      <td>NaN</td>\n",
       "      <td>NaN</td>\n",
       "    </tr>\n",
       "    <tr>\n",
       "      <th>494</th>\n",
       "      <td>ferry point park</td>\n",
       "      <td>try</td>\n",
       "      <td>NaN</td>\n",
       "      <td>NaN</td>\n",
       "      <td>NaN</td>\n",
       "    </tr>\n",
       "    <tr>\n",
       "      <th>125</th>\n",
       "      <td>fort tryon park</td>\n",
       "      <td>try</td>\n",
       "      <td>NaN</td>\n",
       "      <td>NaN</td>\n",
       "      <td>NaN</td>\n",
       "    </tr>\n",
       "    <tr>\n",
       "      <th>396</th>\n",
       "      <td>fort tryon park - anne loftus playground</td>\n",
       "      <td>try</td>\n",
       "      <td>NaN</td>\n",
       "      <td>NaN</td>\n",
       "      <td>NaN</td>\n",
       "    </tr>\n",
       "    <tr>\n",
       "      <th>665</th>\n",
       "      <td>fort tryon park - jacob javits playground</td>\n",
       "      <td>try</td>\n",
       "      <td>NaN</td>\n",
       "      <td>NaN</td>\n",
       "      <td>NaN</td>\n",
       "    </tr>\n",
       "    <tr>\n",
       "      <th>...</th>\n",
       "      <td>...</td>\n",
       "      <td>...</td>\n",
       "      <td>...</td>\n",
       "      <td>...</td>\n",
       "      <td>...</td>\n",
       "    </tr>\n",
       "    <tr>\n",
       "      <th>1156</th>\n",
       "      <td>pool - sunset park</td>\n",
       "      <td>try</td>\n",
       "      <td>NaN</td>\n",
       "      <td>NaN</td>\n",
       "      <td>NaN</td>\n",
       "    </tr>\n",
       "    <tr>\n",
       "      <th>1383</th>\n",
       "      <td>powell's cove park</td>\n",
       "      <td>try</td>\n",
       "      <td>NaN</td>\n",
       "      <td>NaN</td>\n",
       "      <td>NaN</td>\n",
       "    </tr>\n",
       "    <tr>\n",
       "      <th>434</th>\n",
       "      <td>powells cove park</td>\n",
       "      <td>try</td>\n",
       "      <td>NaN</td>\n",
       "      <td>NaN</td>\n",
       "      <td>NaN</td>\n",
       "    </tr>\n",
       "    <tr>\n",
       "      <th>1276</th>\n",
       "      <td>randall's island park</td>\n",
       "      <td>try</td>\n",
       "      <td>NaN</td>\n",
       "      <td>NaN</td>\n",
       "      <td>NaN</td>\n",
       "    </tr>\n",
       "    <tr>\n",
       "      <th>292</th>\n",
       "      <td>randalls island park</td>\n",
       "      <td>try</td>\n",
       "      <td>NaN</td>\n",
       "      <td>NaN</td>\n",
       "      <td>NaN</td>\n",
       "    </tr>\n",
       "    <tr>\n",
       "      <th>1689</th>\n",
       "      <td>recreation center - mccarren park</td>\n",
       "      <td>try</td>\n",
       "      <td>NaN</td>\n",
       "      <td>NaN</td>\n",
       "      <td>NaN</td>\n",
       "    </tr>\n",
       "    <tr>\n",
       "      <th>533</th>\n",
       "      <td>red hook park - bush clinton park playground</td>\n",
       "      <td>try</td>\n",
       "      <td>NaN</td>\n",
       "      <td>NaN</td>\n",
       "      <td>NaN</td>\n",
       "    </tr>\n",
       "    <tr>\n",
       "      <th>795</th>\n",
       "      <td>richman echo park</td>\n",
       "      <td>try</td>\n",
       "      <td>NaN</td>\n",
       "      <td>NaN</td>\n",
       "      <td>NaN</td>\n",
       "    </tr>\n",
       "    <tr>\n",
       "      <th>1845</th>\n",
       "      <td>risse st park</td>\n",
       "      <td>try</td>\n",
       "      <td>NaN</td>\n",
       "      <td>NaN</td>\n",
       "      <td>NaN</td>\n",
       "    </tr>\n",
       "    <tr>\n",
       "      <th>1796</th>\n",
       "      <td>riverbank state park</td>\n",
       "      <td>try</td>\n",
       "      <td>NaN</td>\n",
       "      <td>NaN</td>\n",
       "      <td>NaN</td>\n",
       "    </tr>\n",
       "    <tr>\n",
       "      <th>517</th>\n",
       "      <td>riverdale park</td>\n",
       "      <td>try</td>\n",
       "      <td>NaN</td>\n",
       "      <td>NaN</td>\n",
       "      <td>NaN</td>\n",
       "    </tr>\n",
       "    <tr>\n",
       "      <th>687</th>\n",
       "      <td>riverside park - classic playground</td>\n",
       "      <td>try</td>\n",
       "      <td>NaN</td>\n",
       "      <td>NaN</td>\n",
       "      <td>NaN</td>\n",
       "    </tr>\n",
       "    <tr>\n",
       "      <th>656</th>\n",
       "      <td>riverside park - dinosaur playground</td>\n",
       "      <td>try</td>\n",
       "      <td>NaN</td>\n",
       "      <td>NaN</td>\n",
       "      <td>NaN</td>\n",
       "    </tr>\n",
       "    <tr>\n",
       "      <th>503</th>\n",
       "      <td>riverside park - hippo playground</td>\n",
       "      <td>try</td>\n",
       "      <td>NaN</td>\n",
       "      <td>NaN</td>\n",
       "      <td>NaN</td>\n",
       "    </tr>\n",
       "    <tr>\n",
       "      <th>228</th>\n",
       "      <td>riverside park - river run playground</td>\n",
       "      <td>try</td>\n",
       "      <td>NaN</td>\n",
       "      <td>NaN</td>\n",
       "      <td>NaN</td>\n",
       "    </tr>\n",
       "    <tr>\n",
       "      <th>1039</th>\n",
       "      <td>saratoga square park</td>\n",
       "      <td>try</td>\n",
       "      <td>NaN</td>\n",
       "      <td>NaN</td>\n",
       "      <td>NaN</td>\n",
       "    </tr>\n",
       "    <tr>\n",
       "      <th>761</th>\n",
       "      <td>seton falls park - high rock playground</td>\n",
       "      <td>try</td>\n",
       "      <td>NaN</td>\n",
       "      <td>NaN</td>\n",
       "      <td>NaN</td>\n",
       "    </tr>\n",
       "    <tr>\n",
       "      <th>427</th>\n",
       "      <td>shore road park</td>\n",
       "      <td>try</td>\n",
       "      <td>NaN</td>\n",
       "      <td>NaN</td>\n",
       "      <td>NaN</td>\n",
       "    </tr>\n",
       "    <tr>\n",
       "      <th>599</th>\n",
       "      <td>shore road park - 79th street playground</td>\n",
       "      <td>try</td>\n",
       "      <td>NaN</td>\n",
       "      <td>NaN</td>\n",
       "      <td>NaN</td>\n",
       "    </tr>\n",
       "    <tr>\n",
       "      <th>818</th>\n",
       "      <td>shore road park - vinland playground</td>\n",
       "      <td>try</td>\n",
       "      <td>NaN</td>\n",
       "      <td>NaN</td>\n",
       "      <td>NaN</td>\n",
       "    </tr>\n",
       "    <tr>\n",
       "      <th>1728</th>\n",
       "      <td>st luke's park</td>\n",
       "      <td>try</td>\n",
       "      <td>NaN</td>\n",
       "      <td>NaN</td>\n",
       "      <td>NaN</td>\n",
       "    </tr>\n",
       "    <tr>\n",
       "      <th>305</th>\n",
       "      <td>st nicholas park</td>\n",
       "      <td>try</td>\n",
       "      <td>NaN</td>\n",
       "      <td>NaN</td>\n",
       "      <td>NaN</td>\n",
       "    </tr>\n",
       "    <tr>\n",
       "      <th>1866</th>\n",
       "      <td>staten island industrial park</td>\n",
       "      <td>try</td>\n",
       "      <td>NaN</td>\n",
       "      <td>NaN</td>\n",
       "      <td>NaN</td>\n",
       "    </tr>\n",
       "    <tr>\n",
       "      <th>1699</th>\n",
       "      <td>tenney park</td>\n",
       "      <td>try</td>\n",
       "      <td>NaN</td>\n",
       "      <td>NaN</td>\n",
       "      <td>NaN</td>\n",
       "    </tr>\n",
       "    <tr>\n",
       "      <th>1905</th>\n",
       "      <td>tlc sculpture park garden</td>\n",
       "      <td>try</td>\n",
       "      <td>NaN</td>\n",
       "      <td>NaN</td>\n",
       "      <td>NaN</td>\n",
       "    </tr>\n",
       "    <tr>\n",
       "      <th>1625</th>\n",
       "      <td>tottenville shore park</td>\n",
       "      <td>try</td>\n",
       "      <td>NaN</td>\n",
       "      <td>NaN</td>\n",
       "      <td>NaN</td>\n",
       "    </tr>\n",
       "    <tr>\n",
       "      <th>865</th>\n",
       "      <td>wards island park</td>\n",
       "      <td>try</td>\n",
       "      <td>NaN</td>\n",
       "      <td>NaN</td>\n",
       "      <td>NaN</td>\n",
       "    </tr>\n",
       "    <tr>\n",
       "      <th>1567</th>\n",
       "      <td>wayanda park - ps 34</td>\n",
       "      <td>try</td>\n",
       "      <td>NaN</td>\n",
       "      <td>NaN</td>\n",
       "      <td>NaN</td>\n",
       "    </tr>\n",
       "    <tr>\n",
       "      <th>625</th>\n",
       "      <td>willowbrook park</td>\n",
       "      <td>try</td>\n",
       "      <td>NaN</td>\n",
       "      <td>NaN</td>\n",
       "      <td>NaN</td>\n",
       "    </tr>\n",
       "    <tr>\n",
       "      <th>1854</th>\n",
       "      <td>willowbrook parkway</td>\n",
       "      <td>try</td>\n",
       "      <td>NaN</td>\n",
       "      <td>NaN</td>\n",
       "      <td>NaN</td>\n",
       "    </tr>\n",
       "  </tbody>\n",
       "</table>\n",
       "<p>105 rows × 5 columns</p>\n",
       "</div>"
      ],
      "text/plain": [
       "                                     Park Facility Name  try Name ParkID type\n",
       "1453                       9th st community garden park  try  NaN    NaN  NaN\n",
       "900             baisley pond park - 157th st playground  try  NaN    NaN  NaN\n",
       "973                                        barrett park  try  NaN    NaN  NaN\n",
       "994                                bayview terrace park  try  NaN    NaN  NaN\n",
       "302                                   bloomingdale park  try  NaN    NaN  NaN\n",
       "965                        bradhurst urban renewal park  try  NaN    NaN  NaN\n",
       "416                                    bradys pond park  try  NaN    NaN  NaN\n",
       "1310                                     breukelen park  try  NaN    NaN  NaN\n",
       "241                                    bronx river park  try  NaN    NaN  NaN\n",
       "1011                               brooklyn bridge park  try  NaN    NaN  NaN\n",
       "541                       brooklyn bridge park - pier 1  try  NaN    NaN  NaN\n",
       "1483                                  bunker ponds park  try  NaN    NaN  NaN\n",
       "1307                                       cabbell park  try  NaN    NaN  NaN\n",
       "1282                canarsie park - dinapoli playground  try  NaN    NaN  NaN\n",
       "43                                     carl schurz park  try  NaN    NaN  NaN\n",
       "1108                          charles w cooke farm park  try  NaN    NaN  NaN\n",
       "253                      clearview park and golf course  try  NaN    NaN  NaN\n",
       "398                                    clove lakes park  try  NaN    NaN  NaN\n",
       "395   cloves lake park - wwii veterans war memorial ...  try  NaN    NaN  NaN\n",
       "1548                              collyer brothers park  try  NaN    NaN  NaN\n",
       "975                   cooper park - carnegie playground  try  NaN    NaN  NaN\n",
       "1652                   cozzens woods and long pond park  try  NaN    NaN  NaN\n",
       "766               cunningham park - 210th st playground  try  NaN    NaN  NaN\n",
       "1003                                    douglaston park  try  NaN    NaN  NaN\n",
       "447                                    dyker beach park  try  NaN    NaN  NaN\n",
       "1454                              eastern parkway malls  try  NaN    NaN  NaN\n",
       "494                                    ferry point park  try  NaN    NaN  NaN\n",
       "125                                     fort tryon park  try  NaN    NaN  NaN\n",
       "396            fort tryon park - anne loftus playground  try  NaN    NaN  NaN\n",
       "665           fort tryon park - jacob javits playground  try  NaN    NaN  NaN\n",
       "...                                                 ...  ...  ...    ...  ...\n",
       "1156                                 pool - sunset park  try  NaN    NaN  NaN\n",
       "1383                                 powell's cove park  try  NaN    NaN  NaN\n",
       "434                                   powells cove park  try  NaN    NaN  NaN\n",
       "1276                              randall's island park  try  NaN    NaN  NaN\n",
       "292                                randalls island park  try  NaN    NaN  NaN\n",
       "1689                  recreation center - mccarren park  try  NaN    NaN  NaN\n",
       "533        red hook park - bush clinton park playground  try  NaN    NaN  NaN\n",
       "795                                   richman echo park  try  NaN    NaN  NaN\n",
       "1845                                      risse st park  try  NaN    NaN  NaN\n",
       "1796                               riverbank state park  try  NaN    NaN  NaN\n",
       "517                                      riverdale park  try  NaN    NaN  NaN\n",
       "687                 riverside park - classic playground  try  NaN    NaN  NaN\n",
       "656                riverside park - dinosaur playground  try  NaN    NaN  NaN\n",
       "503                   riverside park - hippo playground  try  NaN    NaN  NaN\n",
       "228               riverside park - river run playground  try  NaN    NaN  NaN\n",
       "1039                               saratoga square park  try  NaN    NaN  NaN\n",
       "761             seton falls park - high rock playground  try  NaN    NaN  NaN\n",
       "427                                     shore road park  try  NaN    NaN  NaN\n",
       "599            shore road park - 79th street playground  try  NaN    NaN  NaN\n",
       "818                shore road park - vinland playground  try  NaN    NaN  NaN\n",
       "1728                                     st luke's park  try  NaN    NaN  NaN\n",
       "305                                    st nicholas park  try  NaN    NaN  NaN\n",
       "1866                      staten island industrial park  try  NaN    NaN  NaN\n",
       "1699                                        tenney park  try  NaN    NaN  NaN\n",
       "1905                          tlc sculpture park garden  try  NaN    NaN  NaN\n",
       "1625                             tottenville shore park  try  NaN    NaN  NaN\n",
       "865                                   wards island park  try  NaN    NaN  NaN\n",
       "1567                               wayanda park - ps 34  try  NaN    NaN  NaN\n",
       "625                                    willowbrook park  try  NaN    NaN  NaN\n",
       "1854                                willowbrook parkway  try  NaN    NaN  NaN\n",
       "\n",
       "[105 rows x 5 columns]"
      ]
     },
     "execution_count": 169,
     "metadata": {},
     "output_type": "execute_result"
    }
   ],
   "source": [
    "x = fuzzyNames.merge(onto2, how='left', on='Park Facility Name')\n",
    "\n",
    "x[(pd.isnull(x.ParkID))&(x['Park Facility Name'].str.contains('park'))].sort_values('Park Facility Name')"
   ]
  },
  {
   "cell_type": "markdown",
   "metadata": {},
   "source": [
    "## get Pid for Calls"
   ]
  },
  {
   "cell_type": "code",
   "execution_count": 138,
   "metadata": {
    "collapsed": false
   },
   "outputs": [
    {
     "data": {
      "text/html": [
       "<div>\n",
       "<table border=\"1\" class=\"dataframe\">\n",
       "  <thead>\n",
       "    <tr style=\"text-align: right;\">\n",
       "      <th></th>\n",
       "      <th>Park Facility Name</th>\n",
       "      <th>ParkID</th>\n",
       "      <th>type</th>\n",
       "      <th>Name</th>\n",
       "    </tr>\n",
       "  </thead>\n",
       "  <tbody>\n",
       "    <tr>\n",
       "      <th>0</th>\n",
       "      <td>marcus garvey memorial park</td>\n",
       "      <td>[M058-07]</td>\n",
       "      <td>pid</td>\n",
       "      <td>marcus garvey memorial park</td>\n",
       "    </tr>\n",
       "    <tr>\n",
       "      <th>1</th>\n",
       "      <td>marcus garvey memorial park</td>\n",
       "      <td>[M058-06]</td>\n",
       "      <td>pid</td>\n",
       "      <td>marcus garvey memorial park</td>\n",
       "    </tr>\n",
       "    <tr>\n",
       "      <th>2</th>\n",
       "      <td>mt. morris east</td>\n",
       "      <td>[M058-01]</td>\n",
       "      <td>pid</td>\n",
       "      <td>mt. morris east</td>\n",
       "    </tr>\n",
       "    <tr>\n",
       "      <th>3</th>\n",
       "      <td>thomas jefferson park</td>\n",
       "      <td>[M047-03]</td>\n",
       "      <td>pid</td>\n",
       "      <td>thomas jefferson park</td>\n",
       "    </tr>\n",
       "    <tr>\n",
       "      <th>4</th>\n",
       "      <td>othmar ammann playground</td>\n",
       "      <td>[M273-01]</td>\n",
       "      <td>pid</td>\n",
       "      <td>othmar ammann playground</td>\n",
       "    </tr>\n",
       "  </tbody>\n",
       "</table>\n",
       "</div>"
      ],
      "text/plain": [
       "            Park Facility Name     ParkID type                         Name\n",
       "0  marcus garvey memorial park  [M058-07]  pid  marcus garvey memorial park\n",
       "1  marcus garvey memorial park  [M058-06]  pid  marcus garvey memorial park\n",
       "2              mt. morris east  [M058-01]  pid              mt. morris east\n",
       "3        thomas jefferson park  [M047-03]  pid        thomas jefferson park\n",
       "4     othmar ammann playground  [M273-01]  pid     othmar ammann playground"
      ]
     },
     "execution_count": 138,
     "metadata": {},
     "output_type": "execute_result"
    }
   ],
   "source": [
    "onto2.head()"
   ]
  },
  {
   "cell_type": "code",
   "execution_count": 141,
   "metadata": {
    "collapsed": false
   },
   "outputs": [],
   "source": [
    "calls3 = calls2.merge(onto2[['Park Facility Name','ParkID']], on='Park Facility Name', how='left')\n",
    "# calls3 = calls3[pd.notnull(calls3.ParkID)]"
   ]
  },
  {
   "cell_type": "code",
   "execution_count": 144,
   "metadata": {
    "collapsed": false
   },
   "outputs": [
    {
     "data": {
      "text/plain": [
       "43588"
      ]
     },
     "execution_count": 144,
     "metadata": {},
     "output_type": "execute_result"
    }
   ],
   "source": [
    "len(calls3[pd.notnull(calls3.ParkID)])"
   ]
  },
  {
   "cell_type": "code",
   "execution_count": 142,
   "metadata": {
    "collapsed": false
   },
   "outputs": [
    {
     "ename": "TypeError",
     "evalue": "object of type 'float' has no len()",
     "output_type": "error",
     "traceback": [
      "\u001b[0;31m---------------------------------------------------------------------------\u001b[0m",
      "\u001b[0;31mTypeError\u001b[0m                                 Traceback (most recent call last)",
      "\u001b[0;32m<ipython-input-142-6af89d82cc54>\u001b[0m in \u001b[0;36m<module>\u001b[0;34m()\u001b[0m\n\u001b[1;32m      1\u001b[0m \u001b[0;31m### randomly chosen ParkID in the list\u001b[0m\u001b[0;34m\u001b[0m\u001b[0;34m\u001b[0m\u001b[0m\n\u001b[1;32m      2\u001b[0m \u001b[0;34m\u001b[0m\u001b[0m\n\u001b[0;32m----> 3\u001b[0;31m \u001b[0mcalls3\u001b[0m\u001b[0;34m[\u001b[0m\u001b[0;34m'rParkID'\u001b[0m\u001b[0;34m]\u001b[0m \u001b[0;34m=\u001b[0m \u001b[0mcalls3\u001b[0m\u001b[0;34m[\u001b[0m\u001b[0;34m'ParkID'\u001b[0m\u001b[0;34m]\u001b[0m\u001b[0;34m.\u001b[0m\u001b[0mapply\u001b[0m\u001b[0;34m(\u001b[0m\u001b[0;32mlambda\u001b[0m \u001b[0mx\u001b[0m\u001b[0;34m:\u001b[0m \u001b[0mrandom\u001b[0m\u001b[0;34m.\u001b[0m\u001b[0mchoice\u001b[0m\u001b[0;34m(\u001b[0m\u001b[0mx\u001b[0m\u001b[0;34m)\u001b[0m\u001b[0;34m)\u001b[0m\u001b[0;34m\u001b[0m\u001b[0m\n\u001b[0m",
      "\u001b[0;32m/Users/casy/anaconda/lib/python2.7/site-packages/pandas/core/series.pyc\u001b[0m in \u001b[0;36mapply\u001b[0;34m(self, func, convert_dtype, args, **kwds)\u001b[0m\n\u001b[1;32m   2158\u001b[0m             \u001b[0mvalues\u001b[0m \u001b[0;34m=\u001b[0m \u001b[0mlib\u001b[0m\u001b[0;34m.\u001b[0m\u001b[0mmap_infer\u001b[0m\u001b[0;34m(\u001b[0m\u001b[0mvalues\u001b[0m\u001b[0;34m,\u001b[0m \u001b[0mlib\u001b[0m\u001b[0;34m.\u001b[0m\u001b[0mTimestamp\u001b[0m\u001b[0;34m)\u001b[0m\u001b[0;34m\u001b[0m\u001b[0m\n\u001b[1;32m   2159\u001b[0m \u001b[0;34m\u001b[0m\u001b[0m\n\u001b[0;32m-> 2160\u001b[0;31m         \u001b[0mmapped\u001b[0m \u001b[0;34m=\u001b[0m \u001b[0mlib\u001b[0m\u001b[0;34m.\u001b[0m\u001b[0mmap_infer\u001b[0m\u001b[0;34m(\u001b[0m\u001b[0mvalues\u001b[0m\u001b[0;34m,\u001b[0m \u001b[0mf\u001b[0m\u001b[0;34m,\u001b[0m \u001b[0mconvert\u001b[0m\u001b[0;34m=\u001b[0m\u001b[0mconvert_dtype\u001b[0m\u001b[0;34m)\u001b[0m\u001b[0;34m\u001b[0m\u001b[0m\n\u001b[0m\u001b[1;32m   2161\u001b[0m         \u001b[0;32mif\u001b[0m \u001b[0mlen\u001b[0m\u001b[0;34m(\u001b[0m\u001b[0mmapped\u001b[0m\u001b[0;34m)\u001b[0m \u001b[0;32mand\u001b[0m \u001b[0misinstance\u001b[0m\u001b[0;34m(\u001b[0m\u001b[0mmapped\u001b[0m\u001b[0;34m[\u001b[0m\u001b[0;36m0\u001b[0m\u001b[0;34m]\u001b[0m\u001b[0;34m,\u001b[0m \u001b[0mSeries\u001b[0m\u001b[0;34m)\u001b[0m\u001b[0;34m:\u001b[0m\u001b[0;34m\u001b[0m\u001b[0m\n\u001b[1;32m   2162\u001b[0m             \u001b[0;32mfrom\u001b[0m \u001b[0mpandas\u001b[0m\u001b[0;34m.\u001b[0m\u001b[0mcore\u001b[0m\u001b[0;34m.\u001b[0m\u001b[0mframe\u001b[0m \u001b[0;32mimport\u001b[0m \u001b[0mDataFrame\u001b[0m\u001b[0;34m\u001b[0m\u001b[0m\n",
      "\u001b[0;32mpandas/src/inference.pyx\u001b[0m in \u001b[0;36mpandas.lib.map_infer (pandas/lib.c:62187)\u001b[0;34m()\u001b[0m\n",
      "\u001b[0;32m<ipython-input-142-6af89d82cc54>\u001b[0m in \u001b[0;36m<lambda>\u001b[0;34m(x)\u001b[0m\n\u001b[1;32m      1\u001b[0m \u001b[0;31m### randomly chosen ParkID in the list\u001b[0m\u001b[0;34m\u001b[0m\u001b[0;34m\u001b[0m\u001b[0m\n\u001b[1;32m      2\u001b[0m \u001b[0;34m\u001b[0m\u001b[0m\n\u001b[0;32m----> 3\u001b[0;31m \u001b[0mcalls3\u001b[0m\u001b[0;34m[\u001b[0m\u001b[0;34m'rParkID'\u001b[0m\u001b[0;34m]\u001b[0m \u001b[0;34m=\u001b[0m \u001b[0mcalls3\u001b[0m\u001b[0;34m[\u001b[0m\u001b[0;34m'ParkID'\u001b[0m\u001b[0;34m]\u001b[0m\u001b[0;34m.\u001b[0m\u001b[0mapply\u001b[0m\u001b[0;34m(\u001b[0m\u001b[0;32mlambda\u001b[0m \u001b[0mx\u001b[0m\u001b[0;34m:\u001b[0m \u001b[0mrandom\u001b[0m\u001b[0;34m.\u001b[0m\u001b[0mchoice\u001b[0m\u001b[0;34m(\u001b[0m\u001b[0mx\u001b[0m\u001b[0;34m)\u001b[0m\u001b[0;34m)\u001b[0m\u001b[0;34m\u001b[0m\u001b[0m\n\u001b[0m",
      "\u001b[0;32m/Users/casy/anaconda/lib/python2.7/random.pyc\u001b[0m in \u001b[0;36mchoice\u001b[0;34m(self, seq)\u001b[0m\n\u001b[1;32m    273\u001b[0m     \u001b[0;32mdef\u001b[0m \u001b[0mchoice\u001b[0m\u001b[0;34m(\u001b[0m\u001b[0mself\u001b[0m\u001b[0;34m,\u001b[0m \u001b[0mseq\u001b[0m\u001b[0;34m)\u001b[0m\u001b[0;34m:\u001b[0m\u001b[0;34m\u001b[0m\u001b[0m\n\u001b[1;32m    274\u001b[0m         \u001b[0;34m\"\"\"Choose a random element from a non-empty sequence.\"\"\"\u001b[0m\u001b[0;34m\u001b[0m\u001b[0m\n\u001b[0;32m--> 275\u001b[0;31m         \u001b[0;32mreturn\u001b[0m \u001b[0mseq\u001b[0m\u001b[0;34m[\u001b[0m\u001b[0mint\u001b[0m\u001b[0;34m(\u001b[0m\u001b[0mself\u001b[0m\u001b[0;34m.\u001b[0m\u001b[0mrandom\u001b[0m\u001b[0;34m(\u001b[0m\u001b[0;34m)\u001b[0m \u001b[0;34m*\u001b[0m \u001b[0mlen\u001b[0m\u001b[0;34m(\u001b[0m\u001b[0mseq\u001b[0m\u001b[0;34m)\u001b[0m\u001b[0;34m)\u001b[0m\u001b[0;34m]\u001b[0m  \u001b[0;31m# raises IndexError if seq is empty\u001b[0m\u001b[0;34m\u001b[0m\u001b[0m\n\u001b[0m\u001b[1;32m    276\u001b[0m \u001b[0;34m\u001b[0m\u001b[0m\n\u001b[1;32m    277\u001b[0m     \u001b[0;32mdef\u001b[0m \u001b[0mshuffle\u001b[0m\u001b[0;34m(\u001b[0m\u001b[0mself\u001b[0m\u001b[0;34m,\u001b[0m \u001b[0mx\u001b[0m\u001b[0;34m,\u001b[0m \u001b[0mrandom\u001b[0m\u001b[0;34m=\u001b[0m\u001b[0mNone\u001b[0m\u001b[0;34m)\u001b[0m\u001b[0;34m:\u001b[0m\u001b[0;34m\u001b[0m\u001b[0m\n",
      "\u001b[0;31mTypeError\u001b[0m: object of type 'float' has no len()"
     ]
    }
   ],
   "source": [
    "### randomly chosen ParkID in the list\n",
    "\n",
    "calls3['rParkID'] = calls3['ParkID'].apply(lambda x: random.choice(x))"
   ]
  },
  {
   "cell_type": "code",
   "execution_count": 517,
   "metadata": {
    "collapsed": false
   },
   "outputs": [
    {
     "data": {
      "text/html": [
       "<div>\n",
       "<table border=\"1\" class=\"dataframe\">\n",
       "  <thead>\n",
       "    <tr style=\"text-align: right;\">\n",
       "      <th></th>\n",
       "      <th>Park Facility Name</th>\n",
       "      <th>Descriptor</th>\n",
       "      <th>Created Date</th>\n",
       "      <th>Closed Date</th>\n",
       "      <th>Longitude</th>\n",
       "      <th>Latitude</th>\n",
       "      <th>Location Type</th>\n",
       "      <th>Complaint Type</th>\n",
       "      <th>ParkID</th>\n",
       "      <th>rParkID</th>\n",
       "    </tr>\n",
       "  </thead>\n",
       "  <tbody>\n",
       "    <tr>\n",
       "      <th>0</th>\n",
       "      <td>geo soilan park - battery park city</td>\n",
       "      <td>Graffiti or Vandalism</td>\n",
       "      <td>12/31/2010 04:31:52 PM</td>\n",
       "      <td>12/31/2010 05:36:58 PM</td>\n",
       "      <td>NaN</td>\n",
       "      <td>NaN</td>\n",
       "      <td>Park</td>\n",
       "      <td>Maintenance or Facility</td>\n",
       "      <td>[M283A]</td>\n",
       "      <td>M283A</td>\n",
       "    </tr>\n",
       "    <tr>\n",
       "      <th>1</th>\n",
       "      <td>geo soilan park - battery park city</td>\n",
       "      <td>Graffiti or Vandalism</td>\n",
       "      <td>12/31/2010 04:31:52 PM</td>\n",
       "      <td>12/31/2010 05:36:58 PM</td>\n",
       "      <td>NaN</td>\n",
       "      <td>NaN</td>\n",
       "      <td>Park</td>\n",
       "      <td>Maintenance or Facility</td>\n",
       "      <td>[M283-03, M283-02, M283-01, M283-ZN01, M283A]</td>\n",
       "      <td>M283-ZN01</td>\n",
       "    </tr>\n",
       "    <tr>\n",
       "      <th>2</th>\n",
       "      <td>geo soilan park - battery park city</td>\n",
       "      <td>Graffiti or Vandalism</td>\n",
       "      <td>12/31/2010 04:31:52 PM</td>\n",
       "      <td>12/31/2010 05:36:58 PM</td>\n",
       "      <td>NaN</td>\n",
       "      <td>NaN</td>\n",
       "      <td>Park</td>\n",
       "      <td>Maintenance or Facility</td>\n",
       "      <td>[M283A]</td>\n",
       "      <td>M283A</td>\n",
       "    </tr>\n",
       "    <tr>\n",
       "      <th>3</th>\n",
       "      <td>geo soilan park - battery park city</td>\n",
       "      <td>Graffiti or Vandalism</td>\n",
       "      <td>12/31/2010 04:31:52 PM</td>\n",
       "      <td>12/31/2010 05:36:58 PM</td>\n",
       "      <td>NaN</td>\n",
       "      <td>NaN</td>\n",
       "      <td>Park</td>\n",
       "      <td>Maintenance or Facility</td>\n",
       "      <td>[M283-03, M283-02, M283-01, M283-ZN01, M283A]</td>\n",
       "      <td>M283-02</td>\n",
       "    </tr>\n",
       "    <tr>\n",
       "      <th>4</th>\n",
       "      <td>brookville park</td>\n",
       "      <td>Snow or Ice</td>\n",
       "      <td>12/31/2010 04:17:22 PM</td>\n",
       "      <td>01/06/2011 08:58:30 AM</td>\n",
       "      <td>NaN</td>\n",
       "      <td>NaN</td>\n",
       "      <td>Park</td>\n",
       "      <td>Maintenance or Facility</td>\n",
       "      <td>[Q008-02]</td>\n",
       "      <td>Q008-02</td>\n",
       "    </tr>\n",
       "  </tbody>\n",
       "</table>\n",
       "</div>"
      ],
      "text/plain": [
       "                    Park Facility Name             Descriptor  \\\n",
       "0  geo soilan park - battery park city  Graffiti or Vandalism   \n",
       "1  geo soilan park - battery park city  Graffiti or Vandalism   \n",
       "2  geo soilan park - battery park city  Graffiti or Vandalism   \n",
       "3  geo soilan park - battery park city  Graffiti or Vandalism   \n",
       "4                      brookville park            Snow or Ice   \n",
       "\n",
       "             Created Date             Closed Date  Longitude  Latitude  \\\n",
       "0  12/31/2010 04:31:52 PM  12/31/2010 05:36:58 PM        NaN       NaN   \n",
       "1  12/31/2010 04:31:52 PM  12/31/2010 05:36:58 PM        NaN       NaN   \n",
       "2  12/31/2010 04:31:52 PM  12/31/2010 05:36:58 PM        NaN       NaN   \n",
       "3  12/31/2010 04:31:52 PM  12/31/2010 05:36:58 PM        NaN       NaN   \n",
       "4  12/31/2010 04:17:22 PM  01/06/2011 08:58:30 AM        NaN       NaN   \n",
       "\n",
       "  Location Type           Complaint Type  \\\n",
       "0          Park  Maintenance or Facility   \n",
       "1          Park  Maintenance or Facility   \n",
       "2          Park  Maintenance or Facility   \n",
       "3          Park  Maintenance or Facility   \n",
       "4          Park  Maintenance or Facility   \n",
       "\n",
       "                                          ParkID    rParkID  \n",
       "0                                        [M283A]      M283A  \n",
       "1  [M283-03, M283-02, M283-01, M283-ZN01, M283A]  M283-ZN01  \n",
       "2                                        [M283A]      M283A  \n",
       "3  [M283-03, M283-02, M283-01, M283-ZN01, M283A]    M283-02  \n",
       "4                                      [Q008-02]    Q008-02  "
      ]
     },
     "execution_count": 517,
     "metadata": {},
     "output_type": "execute_result"
    }
   ],
   "source": [
    "calls3.head()"
   ]
  },
  {
   "cell_type": "code",
   "execution_count": 1,
   "metadata": {
    "collapsed": false
   },
   "outputs": [
    {
     "ename": "NameError",
     "evalue": "name 'calls3' is not defined",
     "output_type": "error",
     "traceback": [
      "\u001b[0;31m---------------------------------------------------------------------------\u001b[0m",
      "\u001b[0;31mNameError\u001b[0m                                 Traceback (most recent call last)",
      "\u001b[0;32m<ipython-input-1-c4072f961ef1>\u001b[0m in \u001b[0;36m<module>\u001b[0;34m()\u001b[0m\n\u001b[1;32m      1\u001b[0m \u001b[0;31m# calls3.Descriptor.value_counts()\u001b[0m\u001b[0;34m\u001b[0m\u001b[0;34m\u001b[0m\u001b[0m\n\u001b[0;32m----> 2\u001b[0;31m \u001b[0mcalls3\u001b[0m\u001b[0;34m[\u001b[0m\u001b[0;34m[\u001b[0m\u001b[0;34m'Created Date'\u001b[0m\u001b[0;34m,\u001b[0m\u001b[0;34m'rParkID'\u001b[0m\u001b[0;34m]\u001b[0m\u001b[0;34m]\u001b[0m\u001b[0;34m[\u001b[0m\u001b[0mcalls3\u001b[0m\u001b[0;34m.\u001b[0m\u001b[0mDescriptor\u001b[0m \u001b[0;34m==\u001b[0m \u001b[0;34m'Garbage or Litter'\u001b[0m\u001b[0;34m]\u001b[0m\u001b[0;34m.\u001b[0m\u001b[0mto_csv\u001b[0m\u001b[0;34m(\u001b[0m\u001b[0mPARQA\u001b[0m \u001b[0;34m+\u001b[0m \u001b[0;34m'data/311/311_rPID_litter.csv'\u001b[0m\u001b[0;34m)\u001b[0m\u001b[0;34m\u001b[0m\u001b[0m\n\u001b[0m\u001b[1;32m      3\u001b[0m \u001b[0mcalls3\u001b[0m\u001b[0;34m[\u001b[0m\u001b[0;34m[\u001b[0m\u001b[0;34m'Created Date'\u001b[0m\u001b[0;34m,\u001b[0m\u001b[0;34m'rParkID'\u001b[0m\u001b[0;34m]\u001b[0m\u001b[0;34m]\u001b[0m\u001b[0;34m.\u001b[0m\u001b[0mto_csv\u001b[0m\u001b[0;34m(\u001b[0m\u001b[0mPARQA\u001b[0m \u001b[0;34m+\u001b[0m \u001b[0;34m'data/311/311_rPID_all.csv'\u001b[0m\u001b[0;34m)\u001b[0m\u001b[0;34m\u001b[0m\u001b[0m\n",
      "\u001b[0;31mNameError\u001b[0m: name 'calls3' is not defined"
     ]
    }
   ],
   "source": [
    "# calls3.Descriptor.value_counts()\n",
    "calls3[['Created Date','rParkID']][calls3.Descriptor == 'Garbage or Litter'].to_csv(PARQA + 'data/311/311_rPID_litter.csv')\n",
    "calls3[['Created Date','rParkID']].to_csv(PARQA + 'data/311/311_rPID_all.csv')"
   ]
  },
  {
   "cell_type": "code",
   "execution_count": null,
   "metadata": {
    "collapsed": true
   },
   "outputs": [],
   "source": []
  }
 ],
 "metadata": {
  "kernelspec": {
   "display_name": "Python 2",
   "language": "python",
   "name": "python2"
  },
  "language_info": {
   "codemirror_mode": {
    "name": "ipython",
    "version": 2
   },
   "file_extension": ".py",
   "mimetype": "text/x-python",
   "name": "python",
   "nbconvert_exporter": "python",
   "pygments_lexer": "ipython2",
   "version": "2.7.10"
  }
 },
 "nbformat": 4,
 "nbformat_minor": 0
}
