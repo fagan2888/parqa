{
 "cells": [
  {
   "cell_type": "code",
   "execution_count": 26,
   "metadata": {
    "collapsed": true
   },
   "outputs": [],
   "source": [
    "import pandas as pd\n",
    "import geopandas as gp\n",
    "import os\n",
    "\n",
    "PARQA = os.getenv('PARQA')"
   ]
  },
  {
   "cell_type": "code",
   "execution_count": 27,
   "metadata": {
    "collapsed": true
   },
   "outputs": [],
   "source": [
    "# disctircs = "
   ]
  },
  {
   "cell_type": "code",
   "execution_count": 28,
   "metadata": {
    "collapsed": true
   },
   "outputs": [],
   "source": [
    "parks = gp.read_file(PARQA + 'data/parks_computed.geojson')\n",
    "parks['geometry'] = parks['geometry'].centroid"
   ]
  },
  {
   "cell_type": "code",
   "execution_count": 32,
   "metadata": {
    "collapsed": false
   },
   "outputs": [
    {
     "data": {
      "text/html": [
       "<div>\n",
       "<table border=\"1\" class=\"dataframe\">\n",
       "  <thead>\n",
       "    <tr style=\"text-align: right;\">\n",
       "      <th></th>\n",
       "      <th>BOROUGH</th>\n",
       "      <th>GISPROPNUM</th>\n",
       "      <th>LOCATION</th>\n",
       "      <th>NYS_ASSEMB</th>\n",
       "      <th>NYS_SENATE</th>\n",
       "      <th>SHAPE_STAr</th>\n",
       "      <th>SHAPE_STLe</th>\n",
       "      <th>SIGNNAME</th>\n",
       "      <th>TYPECATEGO</th>\n",
       "      <th>US_CONGRES</th>\n",
       "      <th>WATERFRONT</th>\n",
       "      <th>geometry</th>\n",
       "      <th>id</th>\n",
       "      <th>parkDistrict</th>\n",
       "      <th>park_area</th>\n",
       "      <th>lat</th>\n",
       "      <th>lon</th>\n",
       "    </tr>\n",
       "  </thead>\n",
       "  <tbody>\n",
       "    <tr>\n",
       "      <th>0</th>\n",
       "      <td>Q</td>\n",
       "      <td>Q104</td>\n",
       "      <td>Queensboro Bridge, 41 Rd., 40 Ave. bet. The Ea...</td>\n",
       "      <td>37</td>\n",
       "      <td>12</td>\n",
       "      <td>903579.125015</td>\n",
       "      <td>7376.271660</td>\n",
       "      <td>Queensbridge Park</td>\n",
       "      <td>Community Park</td>\n",
       "      <td>12</td>\n",
       "      <td>Yes</td>\n",
       "      <td>POINT (-73.94818564674387 40.75579531435741)</td>\n",
       "      <td>0</td>\n",
       "      <td>Q-01</td>\n",
       "      <td>903579.125068</td>\n",
       "      <td>-73.948186</td>\n",
       "      <td>40.755795</td>\n",
       "    </tr>\n",
       "    <tr>\n",
       "      <th>1</th>\n",
       "      <td>X</td>\n",
       "      <td>X253</td>\n",
       "      <td>City Island Ave bet. Centre St. and Winter St.</td>\n",
       "      <td>82</td>\n",
       "      <td>34</td>\n",
       "      <td>263831.264191</td>\n",
       "      <td>2635.610175</td>\n",
       "      <td>Ambrosini Field</td>\n",
       "      <td>Recreation Field/Courts</td>\n",
       "      <td>14</td>\n",
       "      <td>Yes</td>\n",
       "      <td>POINT (-73.78339295884908 40.84450088028149)</td>\n",
       "      <td>1</td>\n",
       "      <td>X-10</td>\n",
       "      <td>263831.264211</td>\n",
       "      <td>-73.783393</td>\n",
       "      <td>40.844501</td>\n",
       "    </tr>\n",
       "    <tr>\n",
       "      <th>2</th>\n",
       "      <td>Q</td>\n",
       "      <td>Q494</td>\n",
       "      <td>Beach 116 St.,  Ocean Promenade</td>\n",
       "      <td>23</td>\n",
       "      <td>15</td>\n",
       "      <td>6547.116425</td>\n",
       "      <td>403.979314</td>\n",
       "      <td>Flight 587 Memorial Park</td>\n",
       "      <td>Triangle/Plaza</td>\n",
       "      <td>5</td>\n",
       "      <td>Yes</td>\n",
       "      <td>POINT (-73.83616414376 40.57795355129842)</td>\n",
       "      <td>2</td>\n",
       "      <td>Q-14</td>\n",
       "      <td>6547.116439</td>\n",
       "      <td>-73.836164</td>\n",
       "      <td>40.577954</td>\n",
       "    </tr>\n",
       "    <tr>\n",
       "      <th>3</th>\n",
       "      <td>X</td>\n",
       "      <td>X245</td>\n",
       "      <td>E 180 St bet. the Bronx River and Devoe Av</td>\n",
       "      <td>87</td>\n",
       "      <td>33</td>\n",
       "      <td>20232.591873</td>\n",
       "      <td>582.832405</td>\n",
       "      <td>River Garden</td>\n",
       "      <td>Garden</td>\n",
       "      <td>15</td>\n",
       "      <td>Yes</td>\n",
       "      <td>POINT (-73.87663046479751 40.84195219284761)</td>\n",
       "      <td>3</td>\n",
       "      <td>X-06</td>\n",
       "      <td>20232.591860</td>\n",
       "      <td>-73.876630</td>\n",
       "      <td>40.841952</td>\n",
       "    </tr>\n",
       "    <tr>\n",
       "      <th>4</th>\n",
       "      <td>Q</td>\n",
       "      <td>Q465</td>\n",
       "      <td>Vernon Blvd. bet. Broadway and 30 Dr.</td>\n",
       "      <td>37</td>\n",
       "      <td>12</td>\n",
       "      <td>199700.239243</td>\n",
       "      <td>3014.558046</td>\n",
       "      <td>Socrates Sculpture Park</td>\n",
       "      <td>Neighborhood Park</td>\n",
       "      <td>12</td>\n",
       "      <td>Yes</td>\n",
       "      <td>POINT (-73.93643170932611 40.76892023597701)</td>\n",
       "      <td>4</td>\n",
       "      <td>Q-01</td>\n",
       "      <td>199700.239270</td>\n",
       "      <td>-73.936432</td>\n",
       "      <td>40.768920</td>\n",
       "    </tr>\n",
       "  </tbody>\n",
       "</table>\n",
       "</div>"
      ],
      "text/plain": [
       "  BOROUGH GISPROPNUM                                           LOCATION  \\\n",
       "0       Q       Q104  Queensboro Bridge, 41 Rd., 40 Ave. bet. The Ea...   \n",
       "1       X       X253     City Island Ave bet. Centre St. and Winter St.   \n",
       "2       Q       Q494                    Beach 116 St.,  Ocean Promenade   \n",
       "3       X       X245         E 180 St bet. the Bronx River and Devoe Av   \n",
       "4       Q       Q465              Vernon Blvd. bet. Broadway and 30 Dr.   \n",
       "\n",
       "  NYS_ASSEMB NYS_SENATE     SHAPE_STAr   SHAPE_STLe                  SIGNNAME  \\\n",
       "0         37         12  903579.125015  7376.271660         Queensbridge Park   \n",
       "1         82         34  263831.264191  2635.610175           Ambrosini Field   \n",
       "2         23         15    6547.116425   403.979314  Flight 587 Memorial Park   \n",
       "3         87         33   20232.591873   582.832405              River Garden   \n",
       "4         37         12  199700.239243  3014.558046   Socrates Sculpture Park   \n",
       "\n",
       "                TYPECATEGO US_CONGRES WATERFRONT  \\\n",
       "0           Community Park         12        Yes   \n",
       "1  Recreation Field/Courts         14        Yes   \n",
       "2           Triangle/Plaza          5        Yes   \n",
       "3                   Garden         15        Yes   \n",
       "4        Neighborhood Park         12        Yes   \n",
       "\n",
       "                                       geometry id parkDistrict  \\\n",
       "0  POINT (-73.94818564674387 40.75579531435741)  0         Q-01   \n",
       "1  POINT (-73.78339295884908 40.84450088028149)  1         X-10   \n",
       "2     POINT (-73.83616414376 40.57795355129842)  2         Q-14   \n",
       "3  POINT (-73.87663046479751 40.84195219284761)  3         X-06   \n",
       "4  POINT (-73.93643170932611 40.76892023597701)  4         Q-01   \n",
       "\n",
       "       park_area        lat        lon  \n",
       "0  903579.125068 -73.948186  40.755795  \n",
       "1  263831.264211 -73.783393  40.844501  \n",
       "2    6547.116439 -73.836164  40.577954  \n",
       "3   20232.591860 -73.876630  40.841952  \n",
       "4  199700.239270 -73.936432  40.768920  "
      ]
     },
     "execution_count": 32,
     "metadata": {},
     "output_type": "execute_result"
    }
   ],
   "source": [
    "p = parks\n",
    "p['lat'] = p.geometry.apply(lambda x: x.coords[0][0])\n",
    "p['lon'] = p.geometry.apply(lambda x: x.coords[0][1])\n",
    "p.head()"
   ]
  },
  {
   "cell_type": "code",
   "execution_count": 33,
   "metadata": {
    "collapsed": false
   },
   "outputs": [],
   "source": [
    "p.to_csv(PARQA + 'data/DPR_property/parks_pd_ll.csv', encoding='utf8')"
   ]
  },
  {
   "cell_type": "code",
   "execution_count": null,
   "metadata": {
    "collapsed": true
   },
   "outputs": [],
   "source": []
  }
 ],
 "metadata": {
  "kernelspec": {
   "display_name": "Python 2",
   "language": "python",
   "name": "python2"
  },
  "language_info": {
   "codemirror_mode": {
    "name": "ipython",
    "version": 2
   },
   "file_extension": ".py",
   "mimetype": "text/x-python",
   "name": "python",
   "nbconvert_exporter": "python",
   "pygments_lexer": "ipython2",
   "version": "2.7.10"
  }
 },
 "nbformat": 4,
 "nbformat_minor": 0
}
