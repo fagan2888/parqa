{
 "cells": [
  {
   "cell_type": "code",
   "execution_count": 5,
   "metadata": {
    "collapsed": true
   },
   "outputs": [],
   "source": [
    "import pandas as pd\n",
    "import geopandas as gp\n",
    "import os\n",
    "\n",
    "PARQA = os.getenv('PARQA') #basic path\n"
   ]
  },
  {
   "cell_type": "code",
   "execution_count": null,
   "metadata": {
    "collapsed": true
   },
   "outputs": [],
   "source": [
    "pd.re"
   ]
  },
  {
   "cell_type": "code",
   "execution_count": 6,
   "metadata": {
    "collapsed": true
   },
   "outputs": [],
   "source": [
    "parkNames = gp.read_file(PARQA + 'data/parks_computed.geojson')[['SIGNNAME','BOROUGH']].drop_duplicates()"
   ]
  },
  {
   "cell_type": "code",
   "execution_count": 7,
   "metadata": {
    "collapsed": true
   },
   "outputs": [],
   "source": [
    "files = ['data/RAW/shp/Playground.shp',\n",
    "'data/RAW/shp/PlayUnit.shp',\n",
    "'data/RAW/shp/ParkingLot.shp',\n",
    "'data/RAW/shp/GreenThumbGarden.shp',\n",
    "'data/RAW/shp/FunctionalParkland.shp',\n",
    "'data/RAW/shp/DogArea.shp',\n",
    "'data/RAW/shp/AthleticFacility.shp',\n",
    "'data/RAW/shp/Property.shp',\n",
    "'data/RAW/shp/SafteySurface.shp',\n",
    "'data/RAW/shp/Skatepark.shp',\n",
    "'data/RAW/shp/Zone.shp']"
   ]
  },
  {
   "cell_type": "code",
   "execution_count": 12,
   "metadata": {
    "collapsed": false
   },
   "outputs": [
    {
     "name": "stdout",
     "output_type": "stream",
     "text": [
      "------------------------------\n",
      "data/RAW/shp/Playground.shp\n",
      "------------------------------\n",
      "data/RAW/shp/PlayUnit.shp\n",
      "  ACRES AGEGROUP BOROUGH COMMUNITYB COUNCILDIS DEPARTMENT  \\\n",
      "0  None     None       B        301         33       B-01   \n",
      "1  None     None       X        208         11       X-08   \n",
      "2  None     None       X        208         11       X-08   \n",
      "3  None     None       X        208         11       X-08   \n",
      "4  None     None       X        208         11       X-08   \n",
      "\n",
      "                            DESCRIPTIO GISPROPNUM  \\\n",
      "0   Epiphany Playground-Adventure Unit       B405   \n",
      "1  Vinmont Veteran Park-Adventure Unit       X152   \n",
      "2     Vinmont Veteran Park-Swing Frame       X152   \n",
      "3  Vinmont Veteran Park-Adventure Unit       X152   \n",
      "4  Vinmont Veteran Park-Adventure Unit       X152   \n",
      "\n",
      "                                          LOCATION MANUFACTUR MATERIAL  \\\n",
      "0         Berry St. between S. 9 St. and S. 10 St.       None    Metal   \n",
      "1  W. 254 St. bet. Riverdale Ave. and Mosholu Ave.       None      RPL   \n",
      "2  W. 254 St. bet. Riverdale Ave. and Mosholu Ave.       None    Metal   \n",
      "3  W. 254 St. bet. Riverdale Ave. and Mosholu Ave.       None      RPL   \n",
      "4  W. 254 St. bet. Riverdale Ave. and Mosholu Ave.       None      RPL   \n",
      "\n",
      "  PARENTID      PLAYAREAAS PLAYAREAID PRECINCT      SAFETYSURF ZIPCODE  \\\n",
      "0     B405  Adventure Unit   B405PA01       90  Mitchell (New)   11211   \n",
      "1     X152  Adventure Unit   X152PA01       50  Mitchell (New)   10471   \n",
      "2     X152     Swing Frame   X152PA02       50  Mitchell (New)   10471   \n",
      "3     X152  Adventure Unit   X152PA03       50  Mitchell (New)   10471   \n",
      "4     X152  Adventure Unit   X152PA04       50  Mitchell (New)   10471   \n",
      "\n",
      "                                      geometry  \n",
      "0   POINT (993789.2063032985 197481.206137225)  \n",
      "1   POINT (1010563.866979644 267924.079686895)  \n",
      "2   POINT (1010487.89961189 267893.3074387312)  \n",
      "3  POINT (1010486.728354394 267947.6321332306)  \n",
      "4  POINT (1010607.536511719 267995.0355817229)  \n",
      "------------------------------\n",
      "data/RAW/shp/ParkingLot.shp\n",
      "  BOROUGH     COMMUNITYB COUNCILDIS DEPARTMENT GISPROPNUM PARENTID PRECINCT  \\\n",
      "0       X  206, 211, 212         15       X-11       X002     X002       49   \n",
      "1       X  206, 211, 212         11       X-11       X002     X002       52   \n",
      "2       M            111          8      M-11R       M104     M104       25   \n",
      "3       X  206, 211, 212         11       X-06       X002     X002       52   \n",
      "4       X       210, 212         13       X-15       X039     X039       45   \n",
      "\n",
      "     SHAPE_Area   SHAPE_Leng           SYSTEM  \\\n",
      "0  72835.692809  2545.675193  X002-PARKING-06   \n",
      "1   2730.916834   321.146268  X002-PARKING-25   \n",
      "2  28006.443284  1026.176725  M104-PARKING-09   \n",
      "3  20517.072895  1673.862531  X002-PARKING-11   \n",
      "4  13556.470732  1245.860405  X039-PARKING-12   \n",
      "\n",
      "                             ZIPCODE  \\\n",
      "0         10460, 10462, 10458, 10467   \n",
      "1         10460, 10462, 10458, 10467   \n",
      "2                              10035   \n",
      "3         10460, 10462, 10458, 10467   \n",
      "4  10475, 10464, 10469, 10465, 10461   \n",
      "\n",
      "                                            geometry  \n",
      "0  POLYGON ((1020193.149230227 247702.3868626505,...  \n",
      "1  POLYGON ((1017042.627316058 254839.918847397, ...  \n",
      "2  POLYGON ((1005134.500541806 230080.1268316507,...  \n",
      "3  POLYGON ((1016443.579957724 254218.7767169774,...  \n",
      "4  POLYGON ((1038875.022955641 252475.7824995667,...  "
     ]
    },
    {
     "name": "stderr",
     "output_type": "stream",
     "text": [
      "WARNING:Fiona:CPLE_AppDefined in organizePolygons() received an unexpected geometry.\n",
      "Either a polygon with interior rings, or a polygon with less than 4 points,\n",
      "or a non-Polygon geometry.  Return arguments as a collection.\n",
      "WARNING:Fiona:CPLE_AppDefined in Geometry of polygon of fid 1316 cannot be translated to Simple Geometry. All polygons will be contained in a multipolygon.\n",
      "\n",
      "WARNING:Fiona:CPLE_AppDefined in organizePolygons() received an unexpected geometry.\n",
      "Either a polygon with interior rings, or a polygon with less than 4 points,\n",
      "or a non-Polygon geometry.  Return arguments as a collection.\n",
      "WARNING:Fiona:CPLE_AppDefined in Geometry of polygon of fid 1685 cannot be translated to Simple Geometry. All polygons will be contained in a multipolygon.\n",
      "\n",
      "WARNING:Fiona:CPLE_AppDefined in organizePolygons() received an unexpected geometry.\n",
      "Either a polygon with interior rings, or a polygon with less than 4 points,\n",
      "or a non-Polygon geometry.  Return arguments as a collection.\n",
      "WARNING:Fiona:CPLE_AppDefined in Geometry of polygon of fid 1744 cannot be translated to Simple Geometry. All polygons will be contained in a multipolygon.\n",
      "\n"
     ]
    },
    {
     "name": "stdout",
     "output_type": "stream",
     "text": [
      "\n",
      "------------------------------\n",
      "data/RAW/shp/GreenThumbGarden.shp\n",
      "------------------------------\n",
      "data/RAW/shp/FunctionalParkland.shp\n",
      "  BOROUGH COMMUNITYB COUNCILDIS GISPROPNUM PRECINCT      SHAPE_Area  \\\n",
      "0       R        501         49       R019      120    65875.414974   \n",
      "1       R        501         49       R022      120  9226970.150052   \n",
      "2       R        501         49       R005      120  8612782.424315   \n",
      "3       R        503         51       R006      123  7079332.206343   \n",
      "4       R        501         49       R008      120   200382.905909   \n",
      "\n",
      "     SHAPE_Leng               SIGNNAME       ZIPCODE  \\\n",
      "0   1042.988757          Veterans Park         10302   \n",
      "1  16922.508941       Silver Lake Park         10301   \n",
      "2  21166.206638       Clove Lakes Park  10301, 10310   \n",
      "3  29861.060283  Conference House Park  10307, 10309   \n",
      "4   1800.234358    Faber Pool and Park         10302   \n",
      "\n",
      "                                            geometry  \n",
      "0  POLYGON ((947726.4608305544 171296.2017488033,...  \n",
      "1  POLYGON ((956427.9988736361 167042.350676477, ...  \n",
      "2  (POLYGON ((951696.2698200494 166395.1561047286...  \n",
      "3  (POLYGON ((922144.3499213904 122444.4297018945...  \n",
      "4  POLYGON ((946758.6245116442 172587.8910945654,...  "
     ]
    },
    {
     "name": "stderr",
     "output_type": "stream",
     "text": [
      "WARNING:Fiona:CPLE_AppDefined in organizePolygons() received an unexpected geometry.\n",
      "Either a polygon with interior rings, or a polygon with less than 4 points,\n",
      "or a non-Polygon geometry.  Return arguments as a collection.\n",
      "WARNING:Fiona:CPLE_AppDefined in Geometry of polygon of fid 0 cannot be translated to Simple Geometry. All polygons will be contained in a multipolygon.\n",
      "\n",
      "WARNING:Fiona:CPLE_AppDefined in organizePolygons() received an unexpected geometry.\n",
      "Either a polygon with interior rings, or a polygon with less than 4 points,\n",
      "or a non-Polygon geometry.  Return arguments as a collection.\n",
      "WARNING:Fiona:CPLE_AppDefined in Geometry of polygon of fid 1 cannot be translated to Simple Geometry. All polygons will be contained in a multipolygon.\n",
      "\n"
     ]
    },
    {
     "name": "stdout",
     "output_type": "stream",
     "text": [
      "\n",
      "------------------------------\n",
      "data/RAW/shp/DogArea.shp\n",
      "------------------------------\n",
      "data/RAW/shp/AthleticFacility.shp\n",
      "------------------------------\n",
      "data/RAW/shp/Property.shp\n",
      "   ACQUISITIO   ACRES                 ADDRESS BOROUGH  COMMISSION COMMUNITYB  \\\n",
      "0  1940-06-13  20.340  40-50 VERNON BOULEVARD       Q  2009-04-23   401, 402   \n",
      "1  1981-05-05   6.100      200 CITY ISLAND AV       X  2010-01-06        210   \n",
      "2  2006-07-24   0.159   11528 Ocean Promenade       Q  2010-01-06        414   \n",
      "3  1979-07-17   0.440    1086 EAST 180 STREET       X  2010-01-06        206   \n",
      "4  1993-10-18   4.893  31-30 VERNON BOULEVARD       Q  2009-04-23        401   \n",
      "\n",
      "  COUNCILDIS DEPARTMENT GISPROPNUM  \\\n",
      "0         26       Q-01       Q104   \n",
      "1         13       X-10       X253   \n",
      "2         32       Q-14       Q494   \n",
      "3         15       X-06       X245   \n",
      "4         26       Q-01       Q465   \n",
      "\n",
      "                                            LOCATION  \\\n",
      "0  Queensboro Bridge, 41 Rd., 40 Ave. bet. The Ea...   \n",
      "1     City Island Ave bet. Centre St. and Winter St.   \n",
      "2                    Beach 116 St.,  Ocean Promenade   \n",
      "3         E 180 St bet. the Bronx River and Devoe Av   \n",
      "4              Vernon Blvd. bet. Broadway and 30 Dr.   \n",
      "\n",
      "                         ...                             SHAPE_Area  \\\n",
      "0                        ...                          903579.125068   \n",
      "1                        ...                          263831.264211   \n",
      "2                        ...                            6547.116439   \n",
      "3                        ...                           20232.591860   \n",
      "4                        ...                          199700.239270   \n",
      "\n",
      "    SHAPE_Leng                  SIGNNAME                  SUBCATEGOR  \\\n",
      "0  7376.271660         Queensbridge Park                  Large Park   \n",
      "1  2635.610175           Ambrosini Field           Neighborhood Plgd   \n",
      "2   403.979314  Flight 587 Memorial Park  Sitting Area/Triangle/Mall   \n",
      "3   582.832405              River Garden           Neighborhood Park   \n",
      "4  3014.558046   Socrates Sculpture Park           Neighborhood Park   \n",
      "\n",
      "                TYPECATEGO                                     URL  \\\n",
      "0           Community Park  http://www.nycgovparks.org/parks/Q104/   \n",
      "1  Recreation Field/Courts  http://www.nycgovparks.org/parks/X253/   \n",
      "2           Triangle/Plaza  http://www.nycgovparks.org/parks/Q494/   \n",
      "3                   Garden  http://www.nycgovparks.org/parks/X245/   \n",
      "4        Neighborhood Park  http://www.nycgovparks.org/parks/Q465/   \n",
      "\n",
      "   US_CONGRES WATERFRONT ZIPCODE  \\\n",
      "0          12        Yes   11101   \n",
      "1          14        Yes   10464   \n",
      "2           5        Yes   11694   \n",
      "3          15        Yes   10460   \n",
      "4          12        Yes   11106   \n",
      "\n",
      "                                            geometry  \n",
      "0  (POLYGON ((998639.7287544757 214672.844326064,...  \n",
      "1  POLYGON ((1044445.201119721 246876.5331993997,...  \n",
      "2  POLYGON ((1029700.335596383 149921.5630677193,...  \n",
      "3  POLYGON ((1018493.260897726 246060.4564194828,...  \n",
      "4  (POLYGON ((1001911.54078038 219553.4448010623,...  \n",
      "\n",
      "[5 rows x 25 columns]\n",
      "------------------------------\n",
      "data/RAW/shp/SafteySurface.shp\n",
      "  BOROUGH COMMUNITYB COUNCILDIS DEPARTMENT                        DESCRIPTIO  \\\n",
      "0    None       None       None       M-10      Palisades Playground-SAFSURF   \n",
      "1    None       None       None       B-13         Babi Yar Triangle-SAFSURF   \n",
      "2    None       None       None       B-13         Babi Yar Triangle-SAFSURF   \n",
      "3    None       None       None       Q-14      Briarwood Playground-SAFSURF   \n",
      "4    None       None       None       Q-11  Beach Channel Playground-SAFSURF   \n",
      "\n",
      "  GISPROPNUM PARENTID PRECINCT   ParksGIS_D   SAFETYSURF       SAFETYSU_1  \\\n",
      "0       M072  M072-03     None  2431.008001  M072-03PA01         Kangaroo   \n",
      "1       BZ10  BZ10-01     None  1829.860680  BZ10-01PA01   Mitchell (New)   \n",
      "2       BZ10  BZ10-01     None  1891.203874  BZ10-01PA02   Mitchell (New)   \n",
      "3       Q379     Q379     None   981.163047     Q379PA02  Poured in Place   \n",
      "4       Q403     Q403     None   655.736806     Q403PA02             None   \n",
      "\n",
      "        SYSTEM   Shape_Area  Shape_Leng ZIPCODE  \\\n",
      "0  M072-03PA01  2429.274215  189.376175    None   \n",
      "1  BZ10-01PA01  1829.860680  176.882804    None   \n",
      "2  BZ10-01PA02  1891.203874  187.053707    None   \n",
      "3     Q379PA02   981.163047  118.279432    None   \n",
      "4     Q403PA02   655.736806  105.692679    None   \n",
      "\n",
      "                                            geometry  \n",
      "0  POLYGON ((997882.0698367208 241306.7625148147,...  \n",
      "1  POLYGON ((996848.0604218096 150326.17938447, 9...  \n",
      "2  POLYGON ((996899.2099258006 150328.910022065, ...  \n",
      "3  POLYGON ((1036738.283134639 198319.9892365634,...  \n",
      "4  POLYGON ((1038092.030427143 153984.3492334783,...  \n",
      "------------------------------\n",
      "data/RAW/shp/Skatepark.shp\n",
      "------------------------------\n",
      "data/RAW/shp/Zone.shp\n",
      "  ACCESSIBLE      ACRES BOROUGH COMMUNITYB COUNCILDIS DEPARTMENT  \\\n",
      "0       None  10.344772       Q        411         20       Q-11   \n",
      "1       None   6.192550       Q        411         20       Q-11   \n",
      "2       None  29.961577       Q        411         23       Q-11   \n",
      "3       None  79.022982       Q        411         23       Q-11   \n",
      "4       None  41.308318       Q        411         23       Q-11   \n",
      "\n",
      "                                          DESCRIPTIO GISPROPNUM  \\\n",
      "0  Kissena Corridor Park-Kissena Corridor East Zo...      Q300A   \n",
      "1  Kissena Corridor Park-Kissena Corridor East Zo...      Q300A   \n",
      "2                       Alley Pond Park-Oakland Lake       Q001   \n",
      "3             Alley Pond Park-Alley Pond Park Zone 6       Q001   \n",
      "4             Alley Pond Park-Alley Pond Park Zone 3       Q001   \n",
      "\n",
      "                                     LOCATION NYS_ASSEMB  \\\n",
      "0    Fresh Meadow Ln/underhill Av/188th St/pe         25   \n",
      "1    Underhill Av/58 Av/peck Av/ Hor Hard Exp         25   \n",
      "2   Springfield Bl/46th Av/garland Dr/56th Av         26   \n",
      "3  Cross Island Expy/W Alley Rd/233rd St/star         25   \n",
      "4                Springfield Bl/73 Av/76th Av     24, 25   \n",
      "\n",
      "                         ...                         RETIREDDAT  \\\n",
      "0                        ...                               None   \n",
      "1                        ...                               None   \n",
      "2                        ...                               None   \n",
      "3                        ...                               None   \n",
      "4                        ...                               None   \n",
      "\n",
      "       SHAPE_Area    SHAPE_Leng                      SITENAME  \\\n",
      "0   450618.264615   4365.852896  Kissena Corridor East Zone 1   \n",
      "1   269747.487009   2383.383564  Kissena Corridor East Zone 3   \n",
      "2  1305126.279087  12459.570752                  Oakland Lake   \n",
      "3  3442241.085873  11878.216729        Alley Pond Park Zone 6   \n",
      "4  1799390.343540   6002.240057        Alley Pond Park Zone 3   \n",
      "\n",
      "        SUBCATEGOR      SYSTEM  US_CONGRES ZIPCODE ZONEID  \\\n",
      "0  Large Park Zone  Q300A-ZN01           6   11365   None   \n",
      "1  Large Park Zone  Q300A-ZN03           6   11365   None   \n",
      "2  Large Park Zone   Q001-ZN07           6   11364   None   \n",
      "3  Large Park Zone   Q001-ZN06           6   11364   None   \n",
      "4  Large Park Zone   Q001-ZN03           6   11364   None   \n",
      "\n",
      "                                            geometry  \n",
      "0  (POLYGON ((1042558.315457806 211091.0903347284...  \n",
      "1  POLYGON ((1044065.353454217 210113.6316597313,...  \n",
      "2  POLYGON ((1051614.18514131 215678.8948073983, ...  \n",
      "3  POLYGON ((1055876.215659216 210471.688030228, ...  \n",
      "4  POLYGON ((1054049.111045718 209023.390073806, ...  \n",
      "\n",
      "[5 rows x 24 columns]\n"
     ]
    }
   ],
   "source": [
    "for f in files:\n",
    "    try:\n",
    "        print '------------------------------'\n",
    "        print f\n",
    "        print gp.read_file(PARQA + f).head(5)\n",
    "    except: pass"
   ]
  },
  {
   "cell_type": "code",
   "execution_count": 13,
   "metadata": {
    "collapsed": true
   },
   "outputs": [],
   "source": [
    "parkNames = gp.read_file(PARQA + 'data/parks_computed.geojson')[['SIGNNAME','BOROUGH']].drop_duplicates()\n",
    "P = gp.read_file(PARQA + 'data/RAW/shp/Property.shp').SIGNNAME.value_counts()"
   ]
  },
  {
   "cell_type": "code",
   "execution_count": 15,
   "metadata": {
    "collapsed": false
   },
   "outputs": [
    {
     "data": {
      "text/plain": [
       "1788"
      ]
     },
     "execution_count": 15,
     "metadata": {},
     "output_type": "execute_result"
    }
   ],
   "source": [
    "len(P)"
   ]
  },
  {
   "cell_type": "code",
   "execution_count": null,
   "metadata": {
    "collapsed": true
   },
   "outputs": [],
   "source": []
  }
 ],
 "metadata": {
  "kernelspec": {
   "display_name": "Python 2",
   "language": "python",
   "name": "python2"
  },
  "language_info": {
   "codemirror_mode": {
    "name": "ipython",
    "version": 2
   },
   "file_extension": ".py",
   "mimetype": "text/x-python",
   "name": "python",
   "nbconvert_exporter": "python",
   "pygments_lexer": "ipython2",
   "version": "2.7.10"
  }
 },
 "nbformat": 4,
 "nbformat_minor": 0
}
