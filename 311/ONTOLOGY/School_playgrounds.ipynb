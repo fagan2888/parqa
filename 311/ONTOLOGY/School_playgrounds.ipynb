{
 "cells": [
  {
   "cell_type": "code",
   "execution_count": 42,
   "metadata": {
    "collapsed": true
   },
   "outputs": [],
   "source": [
    "%matplotlib inline\n",
    "import pandas as pd\n",
    "import geopandas as gp\n",
    "import numpy as np\n",
    "import os\n",
    "import json\n",
    "\n",
    "PARQA = os.getenv('PARQA')"
   ]
  },
  {
   "cell_type": "code",
   "execution_count": 20,
   "metadata": {
    "collapsed": false
   },
   "outputs": [],
   "source": [
    "pg = gp.read_file(PARQA + 'data/DPR_SchoolyardsToPlaygrounds_001/DPR_SchoolyardsToPlaygrounds_001.shp')"
   ]
  },
  {
   "cell_type": "code",
   "execution_count": 21,
   "metadata": {
    "collapsed": false
   },
   "outputs": [
    {
     "name": "stderr",
     "output_type": "stream",
     "text": [
      "/Users/casy/anaconda/lib/python2.7/site-packages/ipykernel/__main__.py:2: SettingWithCopyWarning: \n",
      "A value is trying to be set on a copy of a slice from a DataFrame.\n",
      "Try using .loc[row_indexer,col_indexer] = value instead\n",
      "\n",
      "See the caveats in the documentation: http://pandas.pydata.org/pandas-docs/stable/indexing.html#indexing-view-versus-copy\n",
      "  from ipykernel import kernelapp as app\n"
     ]
    },
    {
     "data": {
      "image/png": "[encoded data removed]",
      "text/plain": [
       "<matplotlib.figure.Figure at 0x10c666b10>"
      ]
     },
     "metadata": {},
     "output_type": "display_data"
    }
   ],
   "source": [
    "pg2 = pg[['BOROUGH','LOCATION','EAPPLY','GISPROPNUM','geometry']]\n",
    "pg2['geometry'] = pg2.geometry.centroid\n",
    "pg2.plot(figsize=(12,12));"
   ]
  },
  {
   "cell_type": "code",
   "execution_count": 22,
   "metadata": {
    "collapsed": false
   },
   "outputs": [],
   "source": [
    "with open(PARQA + 'data/school_playgrounds.json', 'w') as rfile:\n",
    "    json.dump(pg2.to_json(), rfile)\n"
   ]
  },
  {
   "cell_type": "code",
   "execution_count": 44,
   "metadata": {
    "collapsed": false
   },
   "outputs": [],
   "source": [
    "pg2 = pg2.replace('Null', np.nan)"
   ]
  },
  {
   "cell_type": "code",
   "execution_count": 45,
   "metadata": {
    "collapsed": false
   },
   "outputs": [],
   "source": [
    "pg3 = pg2[pd.notnull(pg2['EAPPLY'])].rename(columns={'EAPPLY':'PSID'})\n",
    "pg3[['BOROUGH', 'LOCATION','PSID', 'GISPROPNUM']].to_csv(PARQA + 'data/sch_playground_names.csv')"
   ]
  },
  {
   "cell_type": "code",
   "execution_count": 46,
   "metadata": {
    "collapsed": false
   },
   "outputs": [
    {
     "data": {
      "text/html": [
       "<div>\n",
       "<table border=\"1\" class=\"dataframe\">\n",
       "  <thead>\n",
       "    <tr style=\"text-align: right;\">\n",
       "      <th></th>\n",
       "      <th>BOROUGH</th>\n",
       "      <th>LOCATION</th>\n",
       "      <th>PSID</th>\n",
       "      <th>GISPROPNUM</th>\n",
       "      <th>geometry</th>\n",
       "    </tr>\n",
       "  </thead>\n",
       "  <tbody>\n",
       "    <tr>\n",
       "      <th>196</th>\n",
       "      <td>Q</td>\n",
       "      <td>Christie Ave. bet.ween 99 St. and 98 St.</td>\n",
       "      <td>I.S. 61</td>\n",
       "      <td>QS35</td>\n",
       "      <td>POINT (1022203.511104972 209470.1627603647)</td>\n",
       "    </tr>\n",
       "    <tr>\n",
       "      <th>198</th>\n",
       "      <td>Q</td>\n",
       "      <td>50 St. bet. 31 Ave. and 30 Ave.</td>\n",
       "      <td>P.S. 151</td>\n",
       "      <td>QS55</td>\n",
       "      <td>POINT (1009796.152520242 215590.2895971173)</td>\n",
       "    </tr>\n",
       "    <tr>\n",
       "      <th>199</th>\n",
       "      <td>X</td>\n",
       "      <td>W. 177 St. bet.ween W. Tremont Ave. and Jerome...</td>\n",
       "      <td>P.S. 306</td>\n",
       "      <td>XS11</td>\n",
       "      <td>POINT (1008813.492330626 249220.1708982144)</td>\n",
       "    </tr>\n",
       "    <tr>\n",
       "      <th>200</th>\n",
       "      <td>Q</td>\n",
       "      <td>132 Ave., 132 Rd. bet. 218 St. and 220 St.</td>\n",
       "      <td>P.S. 132</td>\n",
       "      <td>QS56</td>\n",
       "      <td>POINT (1053852.933374721 187815.3046224349)</td>\n",
       "    </tr>\n",
       "    <tr>\n",
       "      <th>201</th>\n",
       "      <td>B</td>\n",
       "      <td>E. 23 St. bet.ween Campus Rd. and Glenwood Rd.</td>\n",
       "      <td>P.S. 152</td>\n",
       "      <td>BS43</td>\n",
       "      <td>POINT (997194.5755146353 169762.0696064254)</td>\n",
       "    </tr>\n",
       "  </tbody>\n",
       "</table>\n",
       "</div>"
      ],
      "text/plain": [
       "    BOROUGH                                           LOCATION      PSID  \\\n",
       "196       Q           Christie Ave. bet.ween 99 St. and 98 St.   I.S. 61   \n",
       "198       Q                    50 St. bet. 31 Ave. and 30 Ave.  P.S. 151   \n",
       "199       X  W. 177 St. bet.ween W. Tremont Ave. and Jerome...  P.S. 306   \n",
       "200       Q         132 Ave., 132 Rd. bet. 218 St. and 220 St.  P.S. 132   \n",
       "201       B     E. 23 St. bet.ween Campus Rd. and Glenwood Rd.  P.S. 152   \n",
       "\n",
       "    GISPROPNUM                                     geometry  \n",
       "196       QS35  POINT (1022203.511104972 209470.1627603647)  \n",
       "198       QS55  POINT (1009796.152520242 215590.2895971173)  \n",
       "199       XS11  POINT (1008813.492330626 249220.1708982144)  \n",
       "200       QS56  POINT (1053852.933374721 187815.3046224349)  \n",
       "201       BS43  POINT (997194.5755146353 169762.0696064254)  "
      ]
     },
     "execution_count": 46,
     "metadata": {},
     "output_type": "execute_result"
    }
   ],
   "source": [
    "pg3.tail()"
   ]
  },
  {
   "cell_type": "code",
   "execution_count": null,
   "metadata": {
    "collapsed": true
   },
   "outputs": [],
   "source": []
  }
 ],
 "metadata": {
  "kernelspec": {
   "display_name": "Python 2",
   "language": "python",
   "name": "python2"
  },
  "language_info": {
   "codemirror_mode": {
    "name": "ipython",
    "version": 2
   },
   "file_extension": ".py",
   "mimetype": "text/x-python",
   "name": "python",
   "nbconvert_exporter": "python",
   "pygments_lexer": "ipython2",
   "version": "2.7.10"
  }
 },
 "nbformat": 4,
 "nbformat_minor": 0
}
