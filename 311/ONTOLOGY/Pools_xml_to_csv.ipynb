{
 "cells": [
  {
   "cell_type": "code",
   "execution_count": 1,
   "metadata": {
    "collapsed": true
   },
   "outputs": [],
   "source": [
    "import pandas as pd\n",
    "import xmltodict\n",
    "# from xml.dom import minidom\n",
    "import os\n",
    "\n",
    "\n",
    "PARQA = os.getenv('PARQA') #basic path"
   ]
  },
  {
   "cell_type": "code",
   "execution_count": 2,
   "metadata": {
    "collapsed": false
   },
   "outputs": [],
   "source": [
    "with open(PARQA + 'data/RAW/DPR_Pools_001.xml', 'r') as xmlfile:\n",
    "    x = xmltodict.parse(xmlfile)['pools']['facility']\n",
    "    df = pd.DataFrame(x)"
   ]
  },
  {
   "cell_type": "code",
   "execution_count": 3,
   "metadata": {
    "collapsed": false
   },
   "outputs": [
    {
     "data": {
      "text/html": [
       "<div>\n",
       "<table border=\"1\" class=\"dataframe\">\n",
       "  <thead>\n",
       "    <tr style=\"text-align: right;\">\n",
       "      <th></th>\n",
       "      <th>Accessible</th>\n",
       "      <th>Location</th>\n",
       "      <th>Name</th>\n",
       "      <th>Phone</th>\n",
       "      <th>Pools_Type</th>\n",
       "      <th>Prop_ID</th>\n",
       "      <th>Setting</th>\n",
       "      <th>Size</th>\n",
       "      <th>lat</th>\n",
       "      <th>lon</th>\n",
       "      <th>rec_center_id</th>\n",
       "    </tr>\n",
       "  </thead>\n",
       "  <tbody>\n",
       "    <tr>\n",
       "      <th>91</th>\n",
       "      <td>None</td>\n",
       "      <td>338 Story Avenue</td>\n",
       "      <td>Fort Totten Wading Pool</td>\n",
       "      <td>(718) 224-4031</td>\n",
       "      <td>Wading</td>\n",
       "      <td>Q458</td>\n",
       "      <td>Outdoor</td>\n",
       "      <td>20' (round) x 1.5'</td>\n",
       "      <td>40.7924</td>\n",
       "      <td>-73.7746</td>\n",
       "      <td>Q458</td>\n",
       "    </tr>\n",
       "    <tr>\n",
       "      <th>92</th>\n",
       "      <td>N</td>\n",
       "      <td>99th Street and 32nd Avenue</td>\n",
       "      <td>Fisher Wading Pool</td>\n",
       "      <td>(718) 779-8356</td>\n",
       "      <td>Wading</td>\n",
       "      <td>Q441</td>\n",
       "      <td>Outdoor</td>\n",
       "      <td>20' x 20' x 1'</td>\n",
       "      <td>40.7589</td>\n",
       "      <td>-73.8693</td>\n",
       "      <td>None</td>\n",
       "    </tr>\n",
       "    <tr>\n",
       "      <th>93</th>\n",
       "      <td>Y</td>\n",
       "      <td>Tiffany Street &amp; Viele Avenue</td>\n",
       "      <td>Floating Pool</td>\n",
       "      <td>(718) 430-4601</td>\n",
       "      <td>Intermediate</td>\n",
       "      <td>X307</td>\n",
       "      <td>Outdoor</td>\n",
       "      <td>82' x 52' x 4'</td>\n",
       "      <td>40.8044</td>\n",
       "      <td>-73.8889</td>\n",
       "      <td>X307</td>\n",
       "    </tr>\n",
       "    <tr>\n",
       "      <th>94</th>\n",
       "      <td>Y</td>\n",
       "      <td>McCarren Park</td>\n",
       "      <td>McCarren Pool</td>\n",
       "      <td>(718) 218-2380</td>\n",
       "      <td>Olympic</td>\n",
       "      <td>B058</td>\n",
       "      <td>Outdoor</td>\n",
       "      <td>329' x 151' x 4.6'</td>\n",
       "      <td>40.7201</td>\n",
       "      <td>-73.9495</td>\n",
       "      <td>None</td>\n",
       "    </tr>\n",
       "    <tr>\n",
       "      <th>95</th>\n",
       "      <td>N</td>\n",
       "      <td>Brooklyn Bridge Park Pier 2</td>\n",
       "      <td>Brooklyn Bridge Park Pool</td>\n",
       "      <td>None</td>\n",
       "      <td>Mini</td>\n",
       "      <td>B431</td>\n",
       "      <td>Outdoor</td>\n",
       "      <td>50' x 30' x 3.5'</td>\n",
       "      <td>40.6995</td>\n",
       "      <td>-73.9986</td>\n",
       "      <td>None</td>\n",
       "    </tr>\n",
       "  </tbody>\n",
       "</table>\n",
       "</div>"
      ],
      "text/plain": [
       "   Accessible                       Location                       Name  \\\n",
       "91       None               338 Story Avenue    Fort Totten Wading Pool   \n",
       "92          N    99th Street and 32nd Avenue         Fisher Wading Pool   \n",
       "93          Y  Tiffany Street & Viele Avenue              Floating Pool   \n",
       "94          Y                  McCarren Park              McCarren Pool   \n",
       "95          N    Brooklyn Bridge Park Pier 2  Brooklyn Bridge Park Pool   \n",
       "\n",
       "             Phone    Pools_Type Prop_ID  Setting                Size  \\\n",
       "91  (718) 224-4031        Wading    Q458  Outdoor  20' (round) x 1.5'   \n",
       "92  (718) 779-8356        Wading    Q441  Outdoor      20' x 20' x 1'   \n",
       "93  (718) 430-4601  Intermediate    X307  Outdoor      82' x 52' x 4'   \n",
       "94  (718) 218-2380       Olympic    B058  Outdoor  329' x 151' x 4.6'   \n",
       "95            None          Mini    B431  Outdoor    50' x 30' x 3.5'   \n",
       "\n",
       "        lat       lon rec_center_id  \n",
       "91  40.7924  -73.7746          Q458  \n",
       "92  40.7589  -73.8693          None  \n",
       "93  40.8044  -73.8889          X307  \n",
       "94  40.7201  -73.9495          None  \n",
       "95  40.6995  -73.9986          None  "
      ]
     },
     "execution_count": 3,
     "metadata": {},
     "output_type": "execute_result"
    }
   ],
   "source": [
    "df.tail()"
   ]
  },
  {
   "cell_type": "code",
   "execution_count": 4,
   "metadata": {
    "collapsed": true
   },
   "outputs": [],
   "source": [
    "df.to_csv(PARQA + 'data/DPR_property/pools.csv', encoding='utf8')"
   ]
  },
  {
   "cell_type": "code",
   "execution_count": null,
   "metadata": {
    "collapsed": true
   },
   "outputs": [],
   "source": []
  }
 ],
 "metadata": {
  "kernelspec": {
   "display_name": "Python 2",
   "language": "python",
   "name": "python2"
  },
  "language_info": {
   "codemirror_mode": {
    "name": "ipython",
    "version": 2
   },
   "file_extension": ".py",
   "mimetype": "text/x-python",
   "name": "python",
   "nbconvert_exporter": "python",
   "pygments_lexer": "ipython2",
   "version": "2.7.10"
  }
 },
 "nbformat": 4,
 "nbformat_minor": 0
}
