{
 "cells": [
  {
   "cell_type": "code",
   "execution_count": 1,
   "metadata": {
    "collapsed": false
   },
   "outputs": [
    {
     "name": "stdout",
     "output_type": "stream",
     "text": [
      "Populating the interactive namespace from numpy and matplotlib\n"
     ]
    }
   ],
   "source": [
    "# __author__ = \"Philipp Kats\"\n",
    "# __date__ = \"2015_11_05\"\n",
    "%pylab inline\n",
    "import pandas as pd\n",
    "import geopandas as gp\n",
    "import numpy as np\n",
    "from geopandas.tools import sjoin\n",
    "\n",
    "import os\n",
    "\n",
    "\n",
    "PARQA = os.getenv('PARQA') #basic path"
   ]
  },
  {
   "cell_type": "code",
   "execution_count": 22,
   "metadata": {
    "collapsed": false
   },
   "outputs": [],
   "source": [
    "calls = pd.read_csv(PARQA + 'data/311/311DPR.csv', encoding='utf8', na_values='Unspecified')"
   ]
  },
  {
   "cell_type": "code",
   "execution_count": 23,
   "metadata": {
    "collapsed": false
   },
   "outputs": [
    {
     "data": {
      "text/plain": [
       "(82590, 54)"
      ]
     },
     "execution_count": 23,
     "metadata": {},
     "output_type": "execute_result"
    }
   ],
   "source": [
    "calls.shape"
   ]
  },
  {
   "cell_type": "code",
   "execution_count": 24,
   "metadata": {
    "collapsed": false
   },
   "outputs": [
    {
     "data": {
      "text/plain": [
       "Index([                    u'Unnamed: 0',                     u'Unique Key',\n",
       "                         u'Created Date',                    u'Closed Date',\n",
       "                               u'Agency',                    u'Agency Name',\n",
       "                       u'Complaint Type',                     u'Descriptor',\n",
       "                        u'Location Type',                   u'Incident Zip',\n",
       "                     u'Incident Address',                    u'Street Name',\n",
       "                       u'Cross Street 1',                 u'Cross Street 2',\n",
       "                u'Intersection Street 1',          u'Intersection Street 2',\n",
       "                         u'Address Type',                           u'City',\n",
       "                             u'Landmark',                  u'Facility Type',\n",
       "                               u'Status',                       u'Due Date',\n",
       "               u'Resolution Description', u'Resolution Action Updated Date',\n",
       "                      u'Community Board',                        u'Borough',\n",
       "           u'X Coordinate (State Plane)',     u'Y Coordinate (State Plane)',\n",
       "                   u'Park Facility Name',                   u'Park Borough',\n",
       "                          u'School Name',                  u'School Number',\n",
       "                        u'School Region',                    u'School Code',\n",
       "                  u'School Phone Number',                 u'School Address',\n",
       "                          u'School City',                   u'School State',\n",
       "                           u'School Zip',               u'School Not Found',\n",
       "         u'School or Citywide Complaint',                   u'Vehicle Type',\n",
       "                 u'Taxi Company Borough',          u'Taxi Pick Up Location',\n",
       "                  u'Bridge Highway Name',       u'Bridge Highway Direction',\n",
       "                            u'Road Ramp',         u'Bridge Highway Segment',\n",
       "                      u'Garage Lot Name',                u'Ferry Direction',\n",
       "                  u'Ferry Terminal Name',                       u'Latitude',\n",
       "                            u'Longitude',                       u'Location'],\n",
       "      dtype='object')"
      ]
     },
     "execution_count": 24,
     "metadata": {},
     "output_type": "execute_result"
    }
   ],
   "source": [
    "calls.columns"
   ]
  },
  {
   "cell_type": "code",
   "execution_count": 28,
   "metadata": {
    "collapsed": false
   },
   "outputs": [
    {
     "data": {
      "text/plain": [
       "0                                    NaN\n",
       "1    Geo Soilan Park - Battery Park City\n",
       "2                        Brookville Park\n",
       "3                                    NaN\n",
       "4                                    NaN\n",
       "Name: Park Facility Name, dtype: object"
      ]
     },
     "execution_count": 28,
     "metadata": {},
     "output_type": "execute_result"
    }
   ],
   "source": [
    "myCalls = calls[['Park Facility Name','Descriptor','Created Date','Closed Date','Longitude','Latitude','Location Type']]\n",
    "# myCalls['Park Facility Name'] = myCalls['Park Facility Name'].str.lower()\n",
    "myCalls['Park Facility Name'].head()"
   ]
  },
  {
   "cell_type": "code",
   "execution_count": 30,
   "metadata": {
    "collapsed": false
   },
   "outputs": [
    {
     "data": {
      "text/plain": [
       "Structure - Outdoors              6437\n",
       "Garbage or Litter                 3160\n",
       "Rodent Sighting                   1554\n",
       "New Tree Complaint                1368\n",
       "Grass/Weeds                       1085\n",
       "Structure - Indoors                975\n",
       "Tree Alive - in Poor Condition     962\n",
       "Unsecured Facility                 903\n",
       "Snow or Ice                        897\n",
       "Hours of Operation                 764\n",
       "Branch or Limb Has Fallen Down     726\n",
       "Dog Off Leash                      706\n",
       "BBQ Outside Authorized Area        556\n",
       "Dead Animal                        547\n",
       "Branches Damaged                   519\n",
       "Obstructing Public Use             515\n",
       "Graffiti or Vandalism              474\n",
       "Aided/Injury                       420\n",
       "Tree Leaning/Uprooted              415\n",
       "Branch Cracked and Will Fall       366\n",
       "Entire Tree Has Fallen Down        351\n",
       "Animal Waste                       296\n",
       "Trees and Sidewalks Brochure       284\n",
       "Injured Wildlife                   264\n",
       "Broken Glass                       254\n",
       "Unlicensed Vendors                 250\n",
       "Smoking                            247\n",
       "Dead/Dying Tree                    247\n",
       "Unsafe Use of Playground           247\n",
       "Roots Damaged                      231\n",
       "Trunk Damaged                      223\n",
       "Unauthorized Tree Removal          197\n",
       "Wildlife Sighting                  192\n",
       "Domestic Strays                    188\n",
       "Removing Wildlife                  145\n",
       "Hitting Building                   144\n",
       "Trees and Sidewalks Program        129\n",
       "Tree Trunk Split                   106\n",
       "Blocking Street                     72\n",
       "Biking/Rollerblading off Path       68\n",
       "Bicycle Chained to Tree             68\n",
       "Unauthorized Tree Pruning           66\n",
       "Dead Branches in Tree               66\n",
       "Hitting Power/Phone Lines           66\n",
       "Property                            44\n",
       "Unauthorized Posting of Signs       44\n",
       "Locker Break-in/Incident            37\n",
       "Sidewalk Consultation               27\n",
       "Lost/Missing Person                 21\n",
       "Clear Street Light                  16\n",
       "Removing Flowers/Plants             14\n",
       "Traffic Sign or Signal Blocked      10\n",
       "Affecting Sewer or Foundation       10\n",
       "Unauthorized Climbing                7\n",
       "Illegal Dumping                      6\n",
       "Unauthorized Film Shoot              6\n",
       "Use of Newly Seeded Lawn             4\n",
       "Beach/Pool Closure                   3\n",
       "Language Access Complaint            2\n",
       "Rodents/Mice                         1\n",
       "Name: Descriptor, dtype: int64"
      ]
     },
     "execution_count": 30,
     "metadata": {},
     "output_type": "execute_result"
    }
   ],
   "source": [
    "myCalls[pd.isnull(myCalls['Park Facility Name'])].Descriptor.value_counts()"
   ]
  },
  {
   "cell_type": "code",
   "execution_count": 33,
   "metadata": {
    "collapsed": false
   },
   "outputs": [
    {
     "name": "stdout",
     "output_type": "stream",
     "text": [
      "33.9060418937\n"
     ]
    }
   ],
   "source": [
    "## need to check the closest park and if distance is small, attach to it. \n",
    "##for now - using spatial joint to match to Disricts\n",
    "print 100.0*len(myCalls[pd.isnull(myCalls['Park Facility Name'])])/len(myCalls)"
   ]
  },
  {
   "cell_type": "code",
   "execution_count": 9,
   "metadata": {
    "collapsed": true
   },
   "outputs": [],
   "source": [
    "onto = pd.read_csv(PARQA + 'parqa/311/ONTOLOGY/ontology/Ontology_matched.csv', index_col=0)"
   ]
  },
  {
   "cell_type": "code",
   "execution_count": 10,
   "metadata": {
    "collapsed": false
   },
   "outputs": [
    {
     "data": {
      "text/html": [
       "<div>\n",
       "<table border=\"1\" class=\"dataframe\">\n",
       "  <thead>\n",
       "    <tr style=\"text-align: right;\">\n",
       "      <th></th>\n",
       "      <th>cleanName</th>\n",
       "      <th>NAME</th>\n",
       "      <th>Type</th>\n",
       "      <th>valid</th>\n",
       "      <th>parkDistrict</th>\n",
       "      <th>lat</th>\n",
       "      <th>lon</th>\n",
       "    </tr>\n",
       "  </thead>\n",
       "  <tbody>\n",
       "    <tr>\n",
       "      <th>0</th>\n",
       "      <td>geo soilan park - battery park city</td>\n",
       "      <td>battery park city</td>\n",
       "      <td>other</td>\n",
       "      <td>av</td>\n",
       "      <td>M-01</td>\n",
       "      <td>-74.016893</td>\n",
       "      <td>40.711882</td>\n",
       "    </tr>\n",
       "    <tr>\n",
       "      <th>1</th>\n",
       "      <td>geo soilan park - battery park city</td>\n",
       "      <td>battery park city</td>\n",
       "      <td>other</td>\n",
       "      <td>av</td>\n",
       "      <td>M-01</td>\n",
       "      <td>-74.016890</td>\n",
       "      <td>40.712719</td>\n",
       "    </tr>\n",
       "  </tbody>\n",
       "</table>\n",
       "</div>"
      ],
      "text/plain": [
       "                             cleanName               NAME   Type valid  \\\n",
       "0  geo soilan park - battery park city  battery park city  other    av   \n",
       "1  geo soilan park - battery park city  battery park city  other    av   \n",
       "\n",
       "  parkDistrict        lat        lon  \n",
       "0         M-01 -74.016893  40.711882  \n",
       "1         M-01 -74.016890  40.712719  "
      ]
     },
     "execution_count": 10,
     "metadata": {},
     "output_type": "execute_result"
    }
   ],
   "source": [
    "onto.head(2)"
   ]
  },
  {
   "cell_type": "code",
   "execution_count": null,
   "metadata": {
    "collapsed": true
   },
   "outputs": [],
   "source": []
  }
 ],
 "metadata": {
  "kernelspec": {
   "display_name": "Python 2",
   "language": "python",
   "name": "python2"
  },
  "language_info": {
   "codemirror_mode": {
    "name": "ipython",
    "version": 2
   },
   "file_extension": ".py",
   "mimetype": "text/x-python",
   "name": "python",
   "nbconvert_exporter": "python",
   "pygments_lexer": "ipython2",
   "version": "2.7.10"
  }
 },
 "nbformat": 4,
 "nbformat_minor": 0
}
