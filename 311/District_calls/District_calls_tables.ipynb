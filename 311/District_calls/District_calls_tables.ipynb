{
 "cells": [
  {
   "cell_type": "code",
   "execution_count": 6,
   "metadata": {
    "collapsed": false
   },
   "outputs": [
    {
     "name": "stdout",
     "output_type": "stream",
     "text": [
      "Populating the interactive namespace from numpy and matplotlib\n"
     ]
    }
   ],
   "source": [
    "# __author__ = \"Philipp Kats\"\n",
    "# __date__ = \"2015_11_09\"\n",
    "\n",
    "%pylab inline\n",
    "import pandas as pd\n",
    "import geopandas as gp\n",
    "import numpy as np\n",
    "\n",
    "from geopandas.tools import sjoin\n",
    "from shapely.geometry import Point\n",
    "\n",
    "import os\n",
    "\n",
    "\n",
    "PARQA = os.getenv('PARQA') #basic path"
   ]
  },
  {
   "cell_type": "code",
   "execution_count": 7,
   "metadata": {
    "collapsed": true
   },
   "outputs": [],
   "source": [
    "calls = pd.read_csv(PARQA + 'data/311/MatchedCalls.cav', index_col=0)"
   ]
  },
  {
   "cell_type": "code",
   "execution_count": 8,
   "metadata": {
    "collapsed": false
   },
   "outputs": [
    {
     "data": {
      "text/html": [
       "<div>\n",
       "<table border=\"1\" class=\"dataframe\">\n",
       "  <thead>\n",
       "    <tr style=\"text-align: right;\">\n",
       "      <th></th>\n",
       "      <th>Closed Date</th>\n",
       "      <th>Created Date</th>\n",
       "      <th>Location Type</th>\n",
       "      <th>NAME</th>\n",
       "      <th>Complaint Type</th>\n",
       "      <th>Descriptor</th>\n",
       "      <th>lat</th>\n",
       "      <th>lon</th>\n",
       "      <th>parkDistrict</th>\n",
       "    </tr>\n",
       "  </thead>\n",
       "  <tbody>\n",
       "    <tr>\n",
       "      <th>0</th>\n",
       "      <td>01/03/2011 12:03:59 PM</td>\n",
       "      <td>12/31/2010 09:04:48 PM</td>\n",
       "      <td>Park</td>\n",
       "      <td>NaN</td>\n",
       "      <td>Maintenance or Facility</td>\n",
       "      <td>Snow or Ice</td>\n",
       "      <td>-73.931120</td>\n",
       "      <td>40.668798</td>\n",
       "      <td>B-09</td>\n",
       "    </tr>\n",
       "    <tr>\n",
       "      <th>3</th>\n",
       "      <td>01/03/2011 09:41:24 AM</td>\n",
       "      <td>12/31/2010 03:36:37 PM</td>\n",
       "      <td>Park</td>\n",
       "      <td>NaN</td>\n",
       "      <td>Maintenance or Facility</td>\n",
       "      <td>Snow or Ice</td>\n",
       "      <td>-73.962835</td>\n",
       "      <td>40.688556</td>\n",
       "      <td>B-02</td>\n",
       "    </tr>\n",
       "  </tbody>\n",
       "</table>\n",
       "</div>"
      ],
      "text/plain": [
       "              Closed Date            Created Date Location Type NAME  \\\n",
       "0  01/03/2011 12:03:59 PM  12/31/2010 09:04:48 PM          Park  NaN   \n",
       "3  01/03/2011 09:41:24 AM  12/31/2010 03:36:37 PM          Park  NaN   \n",
       "\n",
       "            Complaint Type   Descriptor        lat        lon parkDistrict  \n",
       "0  Maintenance or Facility  Snow or Ice -73.931120  40.668798         B-09  \n",
       "3  Maintenance or Facility  Snow or Ice -73.962835  40.688556         B-02  "
      ]
     },
     "execution_count": 8,
     "metadata": {},
     "output_type": "execute_result"
    }
   ],
   "source": [
    "calls.head(2)"
   ]
  },
  {
   "cell_type": "code",
   "execution_count": 9,
   "metadata": {
    "collapsed": false
   },
   "outputs": [
    {
     "data": {
      "text/plain": [
       "M-13     3949\n",
       "M-14     3756\n",
       "M-03     3037\n",
       "M-12     2716\n",
       "B-01     2670\n",
       "B-02     2660\n",
       "Q-07     2300\n",
       "M-11     2261\n",
       "B-18     2259\n",
       "X-08     2112\n",
       "Q-01     2042\n",
       "Q-15     2016\n",
       "R-01     2015\n",
       "B-19     1991\n",
       "X-04     1930\n",
       "B-13     1774\n",
       "B-03     1724\n",
       "B-10     1685\n",
       "Q-12     1680\n",
       "Q-05     1574\n",
       "R-03     1552\n",
       "B-06     1500\n",
       "Q-14     1492\n",
       "Q-11     1455\n",
       "M-02     1373\n",
       "B-07     1342\n",
       "R-02     1342\n",
       "M-09     1329\n",
       "M-08     1291\n",
       "M-07     1250\n",
       "         ... \n",
       "Q-02      878\n",
       "Q-06      799\n",
       "X-13      798\n",
       "X-09      781\n",
       "Q-16      775\n",
       "X-01      755\n",
       "X-03      706\n",
       "Q-03      665\n",
       "M-05      657\n",
       "B-16      649\n",
       "X-05      642\n",
       "M-12A     631\n",
       "Q-10      627\n",
       "X-10      620\n",
       "B-12      616\n",
       "X-06      541\n",
       "B-14      524\n",
       "Q-04      510\n",
       "B-04      480\n",
       "Q-09      476\n",
       "X-02      438\n",
       "X-12      381\n",
       "B-09      353\n",
       "B-17      279\n",
       "M-11R     244\n",
       "X-15A     224\n",
       "X-14       90\n",
       "M-15       49\n",
       "X-15       41\n",
       "Q-7         4\n",
       "Name: parkDistrict, dtype: int64"
      ]
     },
     "execution_count": 9,
     "metadata": {},
     "output_type": "execute_result"
    }
   ],
   "source": [
    "calls.parkDistrict.value_counts()"
   ]
  },
  {
   "cell_type": "code",
   "execution_count": 11,
   "metadata": {
    "collapsed": false
   },
   "outputs": [],
   "source": [
    "districts = calls[['parkDistrict','Complaint Type','Descriptor']].groupby('parkDistrict')"
   ]
  },
  {
   "cell_type": "code",
   "execution_count": 27,
   "metadata": {
    "collapsed": false
   },
   "outputs": [
    {
     "name": "stdout",
     "output_type": "stream",
     "text": [
      "B-01\n",
      "B-02\n",
      "B-03\n",
      "B-04\n",
      "B-05\n",
      "B-06\n",
      "B-07\n",
      "B-08\n",
      "B-09\n",
      "B-10\n",
      "B-11\n",
      "B-12\n",
      "B-13\n",
      "B-14\n",
      "B-15\n",
      "B-16\n",
      "B-17\n",
      "B-18\n",
      "B-19\n",
      "M-01\n",
      "M-02\n",
      "M-03\n",
      "M-04\n",
      "M-05\n",
      "M-06\n",
      "M-07\n",
      "M-08\n",
      "M-09\n",
      "M-10\n",
      "M-11\n",
      "M-11R\n",
      "M-12\n",
      "M-12A\n",
      "M-13\n",
      "M-14\n",
      "M-15\n",
      "Q-01\n",
      "Q-02\n",
      "Q-03\n",
      "Q-04\n",
      "Q-05\n",
      "Q-06\n",
      "Q-07\n",
      "Q-08\n",
      "Q-09\n",
      "Q-10\n",
      "Q-11\n",
      "Q-12\n",
      "Q-13\n",
      "Q-14\n",
      "Q-15\n",
      "Q-16\n",
      "Q-7\n",
      "R-01\n",
      "R-02\n",
      "R-03\n",
      "X-01\n",
      "X-02\n",
      "X-03\n",
      "X-04\n",
      "X-05\n",
      "X-06\n",
      "X-07\n",
      "X-08\n",
      "X-09\n",
      "X-10\n",
      "X-11\n",
      "X-12\n",
      "X-13\n",
      "X-14\n",
      "X-15\n",
      "X-15A\n"
     ]
    }
   ],
   "source": [
    "for name, d in districts:\n",
    "    print name\n",
    "    boro = name.split('-')[0]\n",
    "    \n",
    "    t =  d.groupby(['Complaint Type', 'Descriptor']).size().reset_index().rename(columns={0:'calls'})\n",
    "    t = t.sort_values(['Complaint Type','calls'],ascending=(False, False))\n",
    "    t.to_csv(PARQA + '/parqa/311/district_complain_tables/%s/%s.csv' % (boro, name), index=0)"
   ]
  },
  {
   "cell_type": "code",
   "execution_count": null,
   "metadata": {
    "collapsed": true
   },
   "outputs": [],
   "source": []
  }
 ],
 "metadata": {
  "kernelspec": {
   "display_name": "Python 2",
   "language": "python",
   "name": "python2"
  },
  "language_info": {
   "codemirror_mode": {
    "name": "ipython",
    "version": 2
   },
   "file_extension": ".py",
   "mimetype": "text/x-python",
   "name": "python",
   "nbconvert_exporter": "python",
   "pygments_lexer": "ipython2",
   "version": "2.7.10"
  }
 },
 "nbformat": 4,
 "nbformat_minor": 0
}
